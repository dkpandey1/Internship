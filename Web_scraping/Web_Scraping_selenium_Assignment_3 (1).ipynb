{
 "cells": [
  {
   "cell_type": "markdown",
   "id": "07a06ccc",
   "metadata": {},
   "source": [
    "# Answer_1"
   ]
  },
  {
   "cell_type": "code",
   "execution_count": 1,
   "id": "c16fec0b",
   "metadata": {},
   "outputs": [],
   "source": [
    "#lets import all the required libraries \n",
    "import pandas as pd\n",
    "import numpy as np\n",
    "import selenium \n",
    "from selenium import webdriver\n",
    "import warnings\n",
    "warnings.filterwarnings('ignore')"
   ]
  },
  {
   "cell_type": "code",
   "execution_count": 2,
   "id": "8bed6548",
   "metadata": {},
   "outputs": [],
   "source": [
    "# let's first connect with web driver\n",
    "driver=webdriver.Chrome('chromedriver.exe')"
   ]
  },
  {
   "cell_type": "code",
   "execution_count": 3,
   "id": "3788f20e",
   "metadata": {},
   "outputs": [],
   "source": [
    "url='https://www.naukri.com/'\n",
    "driver.get(url)"
   ]
  },
  {
   "cell_type": "code",
   "execution_count": 4,
   "id": "f97ec3a9",
   "metadata": {},
   "outputs": [
    {
     "data": {
      "text/plain": [
       "<selenium.webdriver.remote.webelement.WebElement (session=\"254a4434da46f8036fa52d5ae207bb7c\", element=\"1876e7a0-d60b-48ba-8703-b365b9469b2d\")>"
      ]
     },
     "execution_count": 4,
     "metadata": {},
     "output_type": "execute_result"
    }
   ],
   "source": [
    "# finding web element for search job bar using id\n",
    "search_job = driver.find_element_by_class_name('suggestor-input ')\n",
    "search_job"
   ]
  },
  {
   "cell_type": "code",
   "execution_count": 5,
   "id": "3edfacb4",
   "metadata": {},
   "outputs": [],
   "source": [
    "# write in search bar\n",
    "search_job.send_keys(\"Data Analyst\")"
   ]
  },
  {
   "cell_type": "code",
   "execution_count": 6,
   "id": "62b1cb8e",
   "metadata": {},
   "outputs": [
    {
     "data": {
      "text/plain": [
       "<selenium.webdriver.remote.webelement.WebElement (session=\"254a4434da46f8036fa52d5ae207bb7c\", element=\"eb0d4799-38d7-4f5f-9fe3-ccbc1b1e3959\")>"
      ]
     },
     "execution_count": 6,
     "metadata": {},
     "output_type": "execute_result"
    }
   ],
   "source": [
    "# finding web element for search location bar using absolute xpath\n",
    "search_locn = driver.find_element_by_xpath('//*[@id=\"root\"]/div[2]/div[3]/div/div/div[3]/div/div/div/input')\n",
    "search_locn"
   ]
  },
  {
   "cell_type": "code",
   "execution_count": 7,
   "id": "b747e821",
   "metadata": {},
   "outputs": [],
   "source": [
    "# finding web elements for job location bar\n",
    "search_locn.send_keys('Bangalore')"
   ]
  },
  {
   "cell_type": "code",
   "execution_count": 8,
   "id": "433e0f53",
   "metadata": {},
   "outputs": [
    {
     "data": {
      "text/plain": [
       "<selenium.webdriver.remote.webelement.WebElement (session=\"254a4434da46f8036fa52d5ae207bb7c\", element=\"db9693f2-9c00-4118-a953-467118eb5df1\")>"
      ]
     },
     "execution_count": 8,
     "metadata": {},
     "output_type": "execute_result"
    }
   ],
   "source": [
    "# clicking using absolute xpath function\n",
    "search_btn= driver.find_element_by_xpath(\"/html/body/div/div[2]/div[3]/div/div/div[6]\")\n",
    "search_btn"
   ]
  },
  {
   "cell_type": "code",
   "execution_count": 9,
   "id": "a61db6f2",
   "metadata": {},
   "outputs": [],
   "source": [
    "# clicking on search button\n",
    "search_btn.click()"
   ]
  },
  {
   "cell_type": "markdown",
   "id": "726e8c4a",
   "metadata": {},
   "source": [
    "# Extracting job title"
   ]
  },
  {
   "cell_type": "code",
   "execution_count": 10,
   "id": "ca89bc62",
   "metadata": {},
   "outputs": [
    {
     "data": {
      "text/plain": [
       "[<selenium.webdriver.remote.webelement.WebElement (session=\"254a4434da46f8036fa52d5ae207bb7c\", element=\"d6e69935-e8c8-491f-b505-7141b35dc159\")>,\n",
       " <selenium.webdriver.remote.webelement.WebElement (session=\"254a4434da46f8036fa52d5ae207bb7c\", element=\"f1c35d46-d962-4eb6-892c-1dd9212e6a99\")>,\n",
       " <selenium.webdriver.remote.webelement.WebElement (session=\"254a4434da46f8036fa52d5ae207bb7c\", element=\"34912245-b268-4ceb-97a8-f104b6ff3d55\")>,\n",
       " <selenium.webdriver.remote.webelement.WebElement (session=\"254a4434da46f8036fa52d5ae207bb7c\", element=\"420bf259-c000-4e09-9e59-d4819bf36db0\")>,\n",
       " <selenium.webdriver.remote.webelement.WebElement (session=\"254a4434da46f8036fa52d5ae207bb7c\", element=\"41de8ba6-bff5-462d-9bc2-e375f327a064\")>,\n",
       " <selenium.webdriver.remote.webelement.WebElement (session=\"254a4434da46f8036fa52d5ae207bb7c\", element=\"b80818e4-d0e7-4408-94c3-82b7affc2953\")>,\n",
       " <selenium.webdriver.remote.webelement.WebElement (session=\"254a4434da46f8036fa52d5ae207bb7c\", element=\"33e6a22f-3fb0-49b3-8d49-46108730236d\")>,\n",
       " <selenium.webdriver.remote.webelement.WebElement (session=\"254a4434da46f8036fa52d5ae207bb7c\", element=\"b6d63710-43a2-4e8a-94b8-eac38bc27851\")>,\n",
       " <selenium.webdriver.remote.webelement.WebElement (session=\"254a4434da46f8036fa52d5ae207bb7c\", element=\"ab6cf0f0-f40d-4500-9807-8f1038f3b6ed\")>,\n",
       " <selenium.webdriver.remote.webelement.WebElement (session=\"254a4434da46f8036fa52d5ae207bb7c\", element=\"1cf7403b-527d-447b-8d52-2fbacbe6bc56\")>]"
      ]
     },
     "execution_count": 10,
     "metadata": {},
     "output_type": "execute_result"
    }
   ],
   "source": [
    "# let's extract all web elements having job titles \n",
    "job_tags = driver.find_elements_by_xpath('//a[@class=\"title fw500 ellipsis\"]')\n",
    "len(job_tags)\n",
    "job_tags[0:10]"
   ]
  },
  {
   "cell_type": "code",
   "execution_count": 11,
   "id": "43571362",
   "metadata": {},
   "outputs": [
    {
     "data": {
      "text/plain": [
       "['Data Analyst - Quantitative Support Team',\n",
       " 'Data Quality Analyst',\n",
       " 'Data Analyst - SaaS platform',\n",
       " 'Market Research Data Analyst',\n",
       " 'Recruiting System & Data Analyst',\n",
       " 'Senior Analyst - Murex Data Reporting - IT Consulting Firm',\n",
       " 'Data Analyst - SAS',\n",
       " 'Data Scientist predictive Analyst',\n",
       " 'Insights Data analyst',\n",
       " 'Data Analyst - Internal Audit']"
      ]
     },
     "execution_count": 11,
     "metadata": {},
     "output_type": "execute_result"
    }
   ],
   "source": [
    "job_titles=[]\n",
    "\n",
    "for i in job_tags:\n",
    "    job_titles.append(i.text)\n",
    "len(job_titles)\n",
    "job_titles[:10]"
   ]
  },
  {
   "cell_type": "markdown",
   "id": "efa3e8a5",
   "metadata": {},
   "source": [
    "# Extracting company names"
   ]
  },
  {
   "cell_type": "code",
   "execution_count": 12,
   "id": "4d1aa30e",
   "metadata": {},
   "outputs": [
    {
     "data": {
      "text/plain": [
       "[<selenium.webdriver.remote.webelement.WebElement (session=\"254a4434da46f8036fa52d5ae207bb7c\", element=\"df25ce3d-b360-4d58-aeb2-b29ca1600930\")>,\n",
       " <selenium.webdriver.remote.webelement.WebElement (session=\"254a4434da46f8036fa52d5ae207bb7c\", element=\"41b1cb58-71f5-439f-9739-b8f3d7750fe0\")>,\n",
       " <selenium.webdriver.remote.webelement.WebElement (session=\"254a4434da46f8036fa52d5ae207bb7c\", element=\"af096fb8-1da7-44ca-8f58-6e31145f24f6\")>,\n",
       " <selenium.webdriver.remote.webelement.WebElement (session=\"254a4434da46f8036fa52d5ae207bb7c\", element=\"2ebd893d-858e-4bf2-bff7-e6441dbb3cc3\")>,\n",
       " <selenium.webdriver.remote.webelement.WebElement (session=\"254a4434da46f8036fa52d5ae207bb7c\", element=\"ca203715-f79b-42dc-acff-93c9f150304b\")>,\n",
       " <selenium.webdriver.remote.webelement.WebElement (session=\"254a4434da46f8036fa52d5ae207bb7c\", element=\"39ce7424-9324-41df-9706-92ecb127f028\")>,\n",
       " <selenium.webdriver.remote.webelement.WebElement (session=\"254a4434da46f8036fa52d5ae207bb7c\", element=\"804b8bfa-0f97-4f36-b9b5-4088e3523ab8\")>,\n",
       " <selenium.webdriver.remote.webelement.WebElement (session=\"254a4434da46f8036fa52d5ae207bb7c\", element=\"933a7006-1fcf-4f65-9278-960e75a0b8ae\")>,\n",
       " <selenium.webdriver.remote.webelement.WebElement (session=\"254a4434da46f8036fa52d5ae207bb7c\", element=\"46113c39-51c2-42fa-8ecb-9bb19a476722\")>,\n",
       " <selenium.webdriver.remote.webelement.WebElement (session=\"254a4434da46f8036fa52d5ae207bb7c\", element=\"897aede7-affb-40ee-915c-de00679b3ca5\")>]"
      ]
     },
     "execution_count": 12,
     "metadata": {},
     "output_type": "execute_result"
    }
   ],
   "source": [
    "company_tags=driver.find_elements_by_xpath('//a[@class=\"subTitle ellipsis fleft\"]')\n",
    "company_tags[:10]"
   ]
  },
  {
   "cell_type": "code",
   "execution_count": 13,
   "id": "856f40ef",
   "metadata": {},
   "outputs": [
    {
     "data": {
      "text/plain": [
       "['TresVista Financial',\n",
       " 'Euromonitor',\n",
       " 'ACI Group',\n",
       " 'Robas Research',\n",
       " 'AirSeva',\n",
       " 'Megma Services',\n",
       " 'Idyllic Services Pvt Ltd',\n",
       " 'Mount Talent Consulting Private Limited',\n",
       " 'Tide Software',\n",
       " 'Uber']"
      ]
     },
     "execution_count": 13,
     "metadata": {},
     "output_type": "execute_result"
    }
   ],
   "source": [
    "company_name=[]\n",
    "\n",
    "for i in company_tags:\n",
    "    company_name.append(i.text)\n",
    "company_name[:10]"
   ]
  },
  {
   "cell_type": "markdown",
   "id": "9e5d05a5",
   "metadata": {},
   "source": [
    "# Extracting Experience"
   ]
  },
  {
   "cell_type": "code",
   "execution_count": 15,
   "id": "2711fc63",
   "metadata": {},
   "outputs": [
    {
     "data": {
      "text/plain": [
       "[<selenium.webdriver.remote.webelement.WebElement (session=\"254a4434da46f8036fa52d5ae207bb7c\", element=\"6e28c36d-1650-45cb-b31b-53cae38bbc67\")>,\n",
       " <selenium.webdriver.remote.webelement.WebElement (session=\"254a4434da46f8036fa52d5ae207bb7c\", element=\"5d0e62e1-97bf-407b-9f17-a31649fc38c9\")>,\n",
       " <selenium.webdriver.remote.webelement.WebElement (session=\"254a4434da46f8036fa52d5ae207bb7c\", element=\"1de4a2b9-6b1d-4a51-a1e9-8fa9a82ba74e\")>,\n",
       " <selenium.webdriver.remote.webelement.WebElement (session=\"254a4434da46f8036fa52d5ae207bb7c\", element=\"c52836cd-e6ef-4c2e-bf1f-74e36d2cf694\")>,\n",
       " <selenium.webdriver.remote.webelement.WebElement (session=\"254a4434da46f8036fa52d5ae207bb7c\", element=\"a5bb8632-663d-4cc7-80f7-bf5d77122f63\")>,\n",
       " <selenium.webdriver.remote.webelement.WebElement (session=\"254a4434da46f8036fa52d5ae207bb7c\", element=\"4c758bd2-40bb-4960-978a-ae552bd6e6df\")>,\n",
       " <selenium.webdriver.remote.webelement.WebElement (session=\"254a4434da46f8036fa52d5ae207bb7c\", element=\"622ecc97-29c6-4b2f-b2f3-1647e47576af\")>,\n",
       " <selenium.webdriver.remote.webelement.WebElement (session=\"254a4434da46f8036fa52d5ae207bb7c\", element=\"9ce547c8-2b78-41e3-ae33-8996cbf698d4\")>,\n",
       " <selenium.webdriver.remote.webelement.WebElement (session=\"254a4434da46f8036fa52d5ae207bb7c\", element=\"0530eee7-af3e-417f-9c3a-8d323b9ed632\")>,\n",
       " <selenium.webdriver.remote.webelement.WebElement (session=\"254a4434da46f8036fa52d5ae207bb7c\", element=\"dae8b117-fb2b-49b3-9507-f45496d6d116\")>]"
      ]
     },
     "execution_count": 15,
     "metadata": {},
     "output_type": "execute_result"
    }
   ],
   "source": [
    "exp_tags=driver.find_elements_by_xpath('//li[@class=\"fleft grey-text br2 placeHolderLi experience\"]')\n",
    "exp_tags[:10]"
   ]
  },
  {
   "cell_type": "code",
   "execution_count": 17,
   "id": "676b9d81",
   "metadata": {},
   "outputs": [
    {
     "data": {
      "text/plain": [
       "['0-1 Yrs',\n",
       " '2-5 Yrs',\n",
       " '3-8 Yrs',\n",
       " '2-5 Yrs',\n",
       " '8-10 Yrs',\n",
       " '10-15 Yrs',\n",
       " '8-13 Yrs',\n",
       " '2-4 Yrs',\n",
       " '0-4 Yrs',\n",
       " '1-3 Yrs']"
      ]
     },
     "execution_count": 17,
     "metadata": {},
     "output_type": "execute_result"
    }
   ],
   "source": [
    "experience=[]\n",
    "\n",
    "for i in exp_tags:\n",
    "    experience.append(i.text)\n",
    "experience[:10]"
   ]
  },
  {
   "cell_type": "markdown",
   "id": "d1f9fbab",
   "metadata": {},
   "source": [
    "# Extracting Location"
   ]
  },
  {
   "cell_type": "code",
   "execution_count": 18,
   "id": "de08ef10",
   "metadata": {},
   "outputs": [
    {
     "data": {
      "text/plain": [
       "[<selenium.webdriver.remote.webelement.WebElement (session=\"254a4434da46f8036fa52d5ae207bb7c\", element=\"c08228d2-85d0-48bb-8d3a-68715a02a22f\")>,\n",
       " <selenium.webdriver.remote.webelement.WebElement (session=\"254a4434da46f8036fa52d5ae207bb7c\", element=\"b89f0faa-0ed6-4838-a208-3fa505788fbd\")>,\n",
       " <selenium.webdriver.remote.webelement.WebElement (session=\"254a4434da46f8036fa52d5ae207bb7c\", element=\"f530e4b6-8374-45d8-8f50-d91730aeba7f\")>,\n",
       " <selenium.webdriver.remote.webelement.WebElement (session=\"254a4434da46f8036fa52d5ae207bb7c\", element=\"e349c3a9-623b-4dc8-acd8-48d0b4fd2d43\")>,\n",
       " <selenium.webdriver.remote.webelement.WebElement (session=\"254a4434da46f8036fa52d5ae207bb7c\", element=\"bec1ec60-11f5-4cf5-923a-33ba9d36660d\")>,\n",
       " <selenium.webdriver.remote.webelement.WebElement (session=\"254a4434da46f8036fa52d5ae207bb7c\", element=\"2451cd95-0e2e-4326-b32f-46f89cd97187\")>,\n",
       " <selenium.webdriver.remote.webelement.WebElement (session=\"254a4434da46f8036fa52d5ae207bb7c\", element=\"d53f3492-6575-4ac9-9352-b8cf525f006f\")>,\n",
       " <selenium.webdriver.remote.webelement.WebElement (session=\"254a4434da46f8036fa52d5ae207bb7c\", element=\"212d7084-f962-4815-80b9-b9d031ad5e22\")>,\n",
       " <selenium.webdriver.remote.webelement.WebElement (session=\"254a4434da46f8036fa52d5ae207bb7c\", element=\"7a35fcee-a21d-4d79-bead-3e371c970daa\")>,\n",
       " <selenium.webdriver.remote.webelement.WebElement (session=\"254a4434da46f8036fa52d5ae207bb7c\", element=\"8064ab4a-255f-4f2f-80f8-d7980fa19c7d\")>]"
      ]
     },
     "execution_count": 18,
     "metadata": {},
     "output_type": "execute_result"
    }
   ],
   "source": [
    "locn_tags=driver.find_elements_by_xpath('//li[@class=\"fleft grey-text br2 placeHolderLi location\"]')\n",
    "locn_tags[:10]"
   ]
  },
  {
   "cell_type": "code",
   "execution_count": 19,
   "id": "a04d3191",
   "metadata": {},
   "outputs": [
    {
     "data": {
      "text/plain": [
       "['Mumbai, Pune, Bangalore/Bengaluru',\n",
       " 'Bangalore/Bengaluru',\n",
       " 'United States (USA), Bangalore/Bengaluru',\n",
       " 'Bengaluru',\n",
       " 'Bangalore/Bengaluru',\n",
       " 'Mumbai, Gurgaon/Gurugram, Bangalore/Bengaluru',\n",
       " 'Pune, Chennai, Gurgaon/Gurugram, Bangalore/Bengaluru',\n",
       " 'Bangalore/Bengaluru, Delhi / NCR\\n(WFH during Covid)',\n",
       " 'Bangalore/Bengaluru',\n",
       " 'Bangalore/Bengaluru']"
      ]
     },
     "execution_count": 19,
     "metadata": {},
     "output_type": "execute_result"
    }
   ],
   "source": [
    "location=[]\n",
    "\n",
    "for i in locn_tags:\n",
    "    location.append(i.text)\n",
    "location[:10]"
   ]
  },
  {
   "cell_type": "code",
   "execution_count": 21,
   "id": "5cb31a10",
   "metadata": {},
   "outputs": [
    {
     "data": {
      "text/html": [
       "<div>\n",
       "<style scoped>\n",
       "    .dataframe tbody tr th:only-of-type {\n",
       "        vertical-align: middle;\n",
       "    }\n",
       "\n",
       "    .dataframe tbody tr th {\n",
       "        vertical-align: top;\n",
       "    }\n",
       "\n",
       "    .dataframe thead th {\n",
       "        text-align: right;\n",
       "    }\n",
       "</style>\n",
       "<table border=\"1\" class=\"dataframe\">\n",
       "  <thead>\n",
       "    <tr style=\"text-align: right;\">\n",
       "      <th></th>\n",
       "      <th>job_titles</th>\n",
       "      <th>Company_Names</th>\n",
       "      <th>Experience</th>\n",
       "      <th>Location</th>\n",
       "    </tr>\n",
       "  </thead>\n",
       "  <tbody>\n",
       "    <tr>\n",
       "      <th>0</th>\n",
       "      <td>Data Analyst - Quantitative Support Team</td>\n",
       "      <td>TresVista Financial</td>\n",
       "      <td>0-1 Yrs</td>\n",
       "      <td>Mumbai, Pune, Bangalore/Bengaluru</td>\n",
       "    </tr>\n",
       "    <tr>\n",
       "      <th>1</th>\n",
       "      <td>Data Quality Analyst</td>\n",
       "      <td>Euromonitor</td>\n",
       "      <td>2-5 Yrs</td>\n",
       "      <td>Bangalore/Bengaluru</td>\n",
       "    </tr>\n",
       "    <tr>\n",
       "      <th>2</th>\n",
       "      <td>Data Analyst - SaaS platform</td>\n",
       "      <td>ACI Group</td>\n",
       "      <td>3-8 Yrs</td>\n",
       "      <td>United States (USA), Bangalore/Bengaluru</td>\n",
       "    </tr>\n",
       "    <tr>\n",
       "      <th>3</th>\n",
       "      <td>Market Research Data Analyst</td>\n",
       "      <td>Robas Research</td>\n",
       "      <td>2-5 Yrs</td>\n",
       "      <td>Bengaluru</td>\n",
       "    </tr>\n",
       "    <tr>\n",
       "      <th>4</th>\n",
       "      <td>Recruiting System &amp; Data Analyst</td>\n",
       "      <td>AirSeva</td>\n",
       "      <td>8-10 Yrs</td>\n",
       "      <td>Bangalore/Bengaluru</td>\n",
       "    </tr>\n",
       "    <tr>\n",
       "      <th>5</th>\n",
       "      <td>Senior Analyst - Murex Data Reporting - IT Con...</td>\n",
       "      <td>Megma Services</td>\n",
       "      <td>10-15 Yrs</td>\n",
       "      <td>Mumbai, Gurgaon/Gurugram, Bangalore/Bengaluru</td>\n",
       "    </tr>\n",
       "    <tr>\n",
       "      <th>6</th>\n",
       "      <td>Data Analyst - SAS</td>\n",
       "      <td>Idyllic Services Pvt Ltd</td>\n",
       "      <td>8-13 Yrs</td>\n",
       "      <td>Pune, Chennai, Gurgaon/Gurugram, Bangalore/Ben...</td>\n",
       "    </tr>\n",
       "    <tr>\n",
       "      <th>7</th>\n",
       "      <td>Data Scientist predictive Analyst</td>\n",
       "      <td>Mount Talent Consulting Private Limited</td>\n",
       "      <td>2-4 Yrs</td>\n",
       "      <td>Bangalore/Bengaluru, Delhi / NCR\\n(WFH during ...</td>\n",
       "    </tr>\n",
       "    <tr>\n",
       "      <th>8</th>\n",
       "      <td>Insights Data analyst</td>\n",
       "      <td>Tide Software</td>\n",
       "      <td>0-4 Yrs</td>\n",
       "      <td>Bangalore/Bengaluru</td>\n",
       "    </tr>\n",
       "    <tr>\n",
       "      <th>9</th>\n",
       "      <td>Data Analyst - Internal Audit</td>\n",
       "      <td>Uber</td>\n",
       "      <td>1-3 Yrs</td>\n",
       "      <td>Bangalore/Bengaluru</td>\n",
       "    </tr>\n",
       "  </tbody>\n",
       "</table>\n",
       "</div>"
      ],
      "text/plain": [
       "                                          job_titles  \\\n",
       "0           Data Analyst - Quantitative Support Team   \n",
       "1                               Data Quality Analyst   \n",
       "2                       Data Analyst - SaaS platform   \n",
       "3                       Market Research Data Analyst   \n",
       "4                   Recruiting System & Data Analyst   \n",
       "5  Senior Analyst - Murex Data Reporting - IT Con...   \n",
       "6                                 Data Analyst - SAS   \n",
       "7                  Data Scientist predictive Analyst   \n",
       "8                              Insights Data analyst   \n",
       "9                      Data Analyst - Internal Audit   \n",
       "\n",
       "                             Company_Names Experience  \\\n",
       "0                      TresVista Financial    0-1 Yrs   \n",
       "1                              Euromonitor    2-5 Yrs   \n",
       "2                                ACI Group    3-8 Yrs   \n",
       "3                           Robas Research    2-5 Yrs   \n",
       "4                                  AirSeva   8-10 Yrs   \n",
       "5                           Megma Services  10-15 Yrs   \n",
       "6                 Idyllic Services Pvt Ltd   8-13 Yrs   \n",
       "7  Mount Talent Consulting Private Limited    2-4 Yrs   \n",
       "8                            Tide Software    0-4 Yrs   \n",
       "9                                     Uber    1-3 Yrs   \n",
       "\n",
       "                                            Location  \n",
       "0                  Mumbai, Pune, Bangalore/Bengaluru  \n",
       "1                                Bangalore/Bengaluru  \n",
       "2           United States (USA), Bangalore/Bengaluru  \n",
       "3                                          Bengaluru  \n",
       "4                                Bangalore/Bengaluru  \n",
       "5      Mumbai, Gurgaon/Gurugram, Bangalore/Bengaluru  \n",
       "6  Pune, Chennai, Gurgaon/Gurugram, Bangalore/Ben...  \n",
       "7  Bangalore/Bengaluru, Delhi / NCR\\n(WFH during ...  \n",
       "8                                Bangalore/Bengaluru  \n",
       "9                                Bangalore/Bengaluru  "
      ]
     },
     "execution_count": 21,
     "metadata": {},
     "output_type": "execute_result"
    }
   ],
   "source": [
    "jobs=pd.DataFrame()\n",
    "jobs['job_titles']= job_titles\n",
    "jobs['Company_Names']= company_name\n",
    "jobs['Experience']= experience\n",
    "jobs['Location']= location\n",
    "jobs[:10]"
   ]
  },
  {
   "cell_type": "markdown",
   "id": "86838c78",
   "metadata": {},
   "source": [
    "# Answer_2"
   ]
  },
  {
   "cell_type": "code",
   "execution_count": 22,
   "id": "da627d2f",
   "metadata": {},
   "outputs": [],
   "source": [
    "# let's first connect with web driver\n",
    "driver=webdriver.Chrome('chromedriver.exe')"
   ]
  },
  {
   "cell_type": "code",
   "execution_count": 23,
   "id": "46e7ce21",
   "metadata": {},
   "outputs": [],
   "source": [
    "url1='https://www.naukri.com/'\n",
    "driver.get(url1)"
   ]
  },
  {
   "cell_type": "code",
   "execution_count": 24,
   "id": "6681dfd1",
   "metadata": {},
   "outputs": [
    {
     "data": {
      "text/plain": [
       "<selenium.webdriver.remote.webelement.WebElement (session=\"c1dd4a36d14a7374f00437db323be85e\", element=\"46c2a096-1ad3-480e-aef3-973392662405\")>"
      ]
     },
     "execution_count": 24,
     "metadata": {},
     "output_type": "execute_result"
    }
   ],
   "source": [
    "# finding web element for search job bar using id\n",
    "search_job = driver.find_element_by_class_name('suggestor-input ')\n",
    "search_job"
   ]
  },
  {
   "cell_type": "code",
   "execution_count": 25,
   "id": "7d78e339",
   "metadata": {},
   "outputs": [],
   "source": [
    "# write a search bar\n",
    "search_job.send_keys(\"Data Scientist\")"
   ]
  },
  {
   "cell_type": "code",
   "execution_count": 26,
   "id": "1a051d44",
   "metadata": {},
   "outputs": [
    {
     "data": {
      "text/plain": [
       "<selenium.webdriver.remote.webelement.WebElement (session=\"c1dd4a36d14a7374f00437db323be85e\", element=\"57d05757-2b38-4e43-adb8-41b05b909037\")>"
      ]
     },
     "execution_count": 26,
     "metadata": {},
     "output_type": "execute_result"
    }
   ],
   "source": [
    "# finding web element for search location bar using absolute xpath\n",
    "search_locn = driver.find_element_by_xpath('//*[@id=\"root\"]/div[2]/div[3]/div/div/div[3]/div/div/div/input')\n",
    "search_locn"
   ]
  },
  {
   "cell_type": "code",
   "execution_count": 27,
   "id": "ab57d191",
   "metadata": {},
   "outputs": [],
   "source": [
    "# finding web elements for job location bar\n",
    "search_locn.send_keys('Bangalore')"
   ]
  },
  {
   "cell_type": "code",
   "execution_count": 28,
   "id": "21497f10",
   "metadata": {},
   "outputs": [
    {
     "data": {
      "text/plain": [
       "<selenium.webdriver.remote.webelement.WebElement (session=\"c1dd4a36d14a7374f00437db323be85e\", element=\"abb474d1-ee47-437d-8d6c-26c7afbfec9f\")>"
      ]
     },
     "execution_count": 28,
     "metadata": {},
     "output_type": "execute_result"
    }
   ],
   "source": [
    "# clicking using absolute xpath function\n",
    "search_btn= driver.find_element_by_xpath(\"/html/body/div/div[2]/div[3]/div/div/div[6]\")\n",
    "search_btn"
   ]
  },
  {
   "cell_type": "code",
   "execution_count": 29,
   "id": "3b6d0223",
   "metadata": {},
   "outputs": [],
   "source": [
    "search_btn.click()"
   ]
  },
  {
   "cell_type": "markdown",
   "id": "e977f239",
   "metadata": {},
   "source": [
    "# Extracting job title"
   ]
  },
  {
   "cell_type": "code",
   "execution_count": 31,
   "id": "893bdb26",
   "metadata": {},
   "outputs": [
    {
     "data": {
      "text/plain": [
       "[<selenium.webdriver.remote.webelement.WebElement (session=\"c1dd4a36d14a7374f00437db323be85e\", element=\"5b84ebef-e676-42aa-815c-8869703ef8b0\")>,\n",
       " <selenium.webdriver.remote.webelement.WebElement (session=\"c1dd4a36d14a7374f00437db323be85e\", element=\"9b2f820f-daed-4a51-adc8-bf66be4dcf38\")>,\n",
       " <selenium.webdriver.remote.webelement.WebElement (session=\"c1dd4a36d14a7374f00437db323be85e\", element=\"50be5d7a-1c0c-4f37-aa94-949d6667ead7\")>,\n",
       " <selenium.webdriver.remote.webelement.WebElement (session=\"c1dd4a36d14a7374f00437db323be85e\", element=\"b4e6c3fb-2c3d-404c-b143-042be1f23335\")>,\n",
       " <selenium.webdriver.remote.webelement.WebElement (session=\"c1dd4a36d14a7374f00437db323be85e\", element=\"ff89f681-4f78-4190-abd6-9e444dcbb08c\")>,\n",
       " <selenium.webdriver.remote.webelement.WebElement (session=\"c1dd4a36d14a7374f00437db323be85e\", element=\"17ba052b-7c7e-49fa-bd46-8a8fcb89db74\")>,\n",
       " <selenium.webdriver.remote.webelement.WebElement (session=\"c1dd4a36d14a7374f00437db323be85e\", element=\"3a312921-38cc-492c-a6f2-0275df1af5bc\")>,\n",
       " <selenium.webdriver.remote.webelement.WebElement (session=\"c1dd4a36d14a7374f00437db323be85e\", element=\"3989d08d-ca28-4ddd-bdae-5fb0f6824cd4\")>,\n",
       " <selenium.webdriver.remote.webelement.WebElement (session=\"c1dd4a36d14a7374f00437db323be85e\", element=\"0c806ab8-9e94-4811-84de-6e1f42c15f37\")>,\n",
       " <selenium.webdriver.remote.webelement.WebElement (session=\"c1dd4a36d14a7374f00437db323be85e\", element=\"7aef1eaf-7ffd-4527-a229-c6d71ae46879\")>]"
      ]
     },
     "execution_count": 31,
     "metadata": {},
     "output_type": "execute_result"
    }
   ],
   "source": [
    "# let's extract all web elements having job titles \n",
    "title_tags = driver.find_elements_by_xpath('//a[@class=\"title fw500 ellipsis\"]')\n",
    "len(title_tags)\n",
    "title_tags[:10]"
   ]
  },
  {
   "cell_type": "code",
   "execution_count": 32,
   "id": "4219c4c0",
   "metadata": {},
   "outputs": [
    {
     "data": {
      "text/plain": [
       "['Sr. Product Data Scientist',\n",
       " 'Sr. Data Scientist, Digital Services Analytics',\n",
       " 'Senior Data Scientist',\n",
       " 'HCL Tech Opening - Senior Data Scientist',\n",
       " 'Cognitive/AI Senior Data Scientist',\n",
       " 'Software Principal Engineer - Data Scientist',\n",
       " 'Lead - Data Analyst / Scientist ( R, Qlik, Power BI, Azure SQL',\n",
       " 'Data Scientist: Advanced Analytics',\n",
       " 'Data Scientist: Advanced Analytics',\n",
       " 'Data Scientist']"
      ]
     },
     "execution_count": 32,
     "metadata": {},
     "output_type": "execute_result"
    }
   ],
   "source": [
    "Job_titles=[]\n",
    "\n",
    "for i in title_tags:\n",
    "    Job_titles.append(i.text)\n",
    "len(Job_titles)\n",
    "Job_titles[:10]"
   ]
  },
  {
   "cell_type": "markdown",
   "id": "0332fcd1",
   "metadata": {},
   "source": [
    "# Extracting job location"
   ]
  },
  {
   "cell_type": "code",
   "execution_count": 34,
   "id": "50c326f6",
   "metadata": {},
   "outputs": [
    {
     "data": {
      "text/plain": [
       "[<selenium.webdriver.remote.webelement.WebElement (session=\"c1dd4a36d14a7374f00437db323be85e\", element=\"f1bacefa-0c18-4388-b0a5-b8fa701befec\")>,\n",
       " <selenium.webdriver.remote.webelement.WebElement (session=\"c1dd4a36d14a7374f00437db323be85e\", element=\"882b647c-2514-49a7-b254-a5e9f84b4239\")>,\n",
       " <selenium.webdriver.remote.webelement.WebElement (session=\"c1dd4a36d14a7374f00437db323be85e\", element=\"c22a7c15-645b-48da-bd48-0aec7cb6fd7f\")>,\n",
       " <selenium.webdriver.remote.webelement.WebElement (session=\"c1dd4a36d14a7374f00437db323be85e\", element=\"f830b790-e6d4-41d9-9686-381c3c97deca\")>,\n",
       " <selenium.webdriver.remote.webelement.WebElement (session=\"c1dd4a36d14a7374f00437db323be85e\", element=\"bcec0def-fa0f-4422-9b59-61518ab5d804\")>,\n",
       " <selenium.webdriver.remote.webelement.WebElement (session=\"c1dd4a36d14a7374f00437db323be85e\", element=\"87725e1c-8731-463e-a9ea-3b8734ee3279\")>,\n",
       " <selenium.webdriver.remote.webelement.WebElement (session=\"c1dd4a36d14a7374f00437db323be85e\", element=\"4547559f-cc8c-4072-ae72-c6c42d8a12c3\")>,\n",
       " <selenium.webdriver.remote.webelement.WebElement (session=\"c1dd4a36d14a7374f00437db323be85e\", element=\"b942698e-b295-40b5-beca-f79d0530bf8a\")>,\n",
       " <selenium.webdriver.remote.webelement.WebElement (session=\"c1dd4a36d14a7374f00437db323be85e\", element=\"e802564a-656d-4ecd-8097-02519d8386b6\")>,\n",
       " <selenium.webdriver.remote.webelement.WebElement (session=\"c1dd4a36d14a7374f00437db323be85e\", element=\"303c1962-a9c4-4c99-96f2-3b854068ec2e\")>]"
      ]
     },
     "execution_count": 34,
     "metadata": {},
     "output_type": "execute_result"
    }
   ],
   "source": [
    "locn_tags=driver.find_elements_by_xpath('//li[@class=\"fleft grey-text br2 placeHolderLi location\"]')\n",
    "locn_tags[:10]"
   ]
  },
  {
   "cell_type": "code",
   "execution_count": 35,
   "id": "36cc3a47",
   "metadata": {},
   "outputs": [
    {
     "data": {
      "text/plain": [
       "['Bangalore/Bengaluru',\n",
       " 'Bangalore/Bengaluru',\n",
       " 'Chennai, Bangalore/Bengaluru',\n",
       " 'Noida, Kolkata, Hyderabad/Secunderabad, Pune, Chennai, Bangalore/Bengaluru',\n",
       " 'Bangalore/Bengaluru',\n",
       " 'Bangalore/Bengaluru',\n",
       " 'Bangalore/Bengaluru',\n",
       " 'Bangalore/Bengaluru',\n",
       " 'Bangalore/Bengaluru',\n",
       " 'Bangalore/Bengaluru']"
      ]
     },
     "execution_count": 35,
     "metadata": {},
     "output_type": "execute_result"
    }
   ],
   "source": [
    "location=[]\n",
    "\n",
    "for i in locn_tags:\n",
    "    location.append(i.text)\n",
    "location[:10]"
   ]
  },
  {
   "cell_type": "markdown",
   "id": "b5b89eeb",
   "metadata": {},
   "source": [
    "# Extracting company name"
   ]
  },
  {
   "cell_type": "code",
   "execution_count": 37,
   "id": "b20898cf",
   "metadata": {},
   "outputs": [
    {
     "data": {
      "text/plain": [
       "[<selenium.webdriver.remote.webelement.WebElement (session=\"c1dd4a36d14a7374f00437db323be85e\", element=\"3beee9d2-d910-455a-aaa6-c6c28fb9c3fa\")>,\n",
       " <selenium.webdriver.remote.webelement.WebElement (session=\"c1dd4a36d14a7374f00437db323be85e\", element=\"f361788f-287d-44e6-b7fc-986c9c791c14\")>,\n",
       " <selenium.webdriver.remote.webelement.WebElement (session=\"c1dd4a36d14a7374f00437db323be85e\", element=\"e60b89fb-d6eb-4d34-a386-88ac072e661d\")>,\n",
       " <selenium.webdriver.remote.webelement.WebElement (session=\"c1dd4a36d14a7374f00437db323be85e\", element=\"7eadc811-007c-4055-897e-20bc5f55d2e7\")>,\n",
       " <selenium.webdriver.remote.webelement.WebElement (session=\"c1dd4a36d14a7374f00437db323be85e\", element=\"42efe07f-d280-4f80-8d57-540668ef769b\")>,\n",
       " <selenium.webdriver.remote.webelement.WebElement (session=\"c1dd4a36d14a7374f00437db323be85e\", element=\"0bc39c67-f44b-44d3-83c0-c0f3d0953591\")>,\n",
       " <selenium.webdriver.remote.webelement.WebElement (session=\"c1dd4a36d14a7374f00437db323be85e\", element=\"a9ec0f5d-2211-464d-baeb-8b0b4df09e4a\")>,\n",
       " <selenium.webdriver.remote.webelement.WebElement (session=\"c1dd4a36d14a7374f00437db323be85e\", element=\"17a6b2ad-6537-44b5-91a1-5b929d3ddadc\")>,\n",
       " <selenium.webdriver.remote.webelement.WebElement (session=\"c1dd4a36d14a7374f00437db323be85e\", element=\"775c26ab-e42b-485b-9c23-add2c10690f2\")>,\n",
       " <selenium.webdriver.remote.webelement.WebElement (session=\"c1dd4a36d14a7374f00437db323be85e\", element=\"ab11fe4e-72d7-4aa0-979e-0bcff469c646\")>]"
      ]
     },
     "execution_count": 37,
     "metadata": {},
     "output_type": "execute_result"
    }
   ],
   "source": [
    "company_tags=driver.find_elements_by_xpath('//a[@class=\"subTitle ellipsis fleft\"]')\n",
    "company_tags[:10]"
   ]
  },
  {
   "cell_type": "code",
   "execution_count": 38,
   "id": "a9b44fff",
   "metadata": {},
   "outputs": [
    {
     "data": {
      "text/plain": [
       "['Uber',\n",
       " 'Dell',\n",
       " 'Shell',\n",
       " 'HCL',\n",
       " 'IBM',\n",
       " 'Dell',\n",
       " 'Axim Technologies',\n",
       " 'IBM',\n",
       " 'IBM',\n",
       " 'Infosys']"
      ]
     },
     "execution_count": 38,
     "metadata": {},
     "output_type": "execute_result"
    }
   ],
   "source": [
    "company_names=[]\n",
    "\n",
    "for i in company_tags:\n",
    "    company_names.append(i.text)\n",
    "company_names[:10]"
   ]
  },
  {
   "cell_type": "code",
   "execution_count": 39,
   "id": "1c3786a6",
   "metadata": {},
   "outputs": [
    {
     "data": {
      "text/html": [
       "<div>\n",
       "<style scoped>\n",
       "    .dataframe tbody tr th:only-of-type {\n",
       "        vertical-align: middle;\n",
       "    }\n",
       "\n",
       "    .dataframe tbody tr th {\n",
       "        vertical-align: top;\n",
       "    }\n",
       "\n",
       "    .dataframe thead th {\n",
       "        text-align: right;\n",
       "    }\n",
       "</style>\n",
       "<table border=\"1\" class=\"dataframe\">\n",
       "  <thead>\n",
       "    <tr style=\"text-align: right;\">\n",
       "      <th></th>\n",
       "      <th>job_titles</th>\n",
       "      <th>Company_Names</th>\n",
       "      <th>Location</th>\n",
       "    </tr>\n",
       "  </thead>\n",
       "  <tbody>\n",
       "    <tr>\n",
       "      <th>0</th>\n",
       "      <td>Sr. Product Data Scientist</td>\n",
       "      <td>Uber</td>\n",
       "      <td>Bangalore/Bengaluru</td>\n",
       "    </tr>\n",
       "    <tr>\n",
       "      <th>1</th>\n",
       "      <td>Sr. Data Scientist, Digital Services Analytics</td>\n",
       "      <td>Dell</td>\n",
       "      <td>Bangalore/Bengaluru</td>\n",
       "    </tr>\n",
       "    <tr>\n",
       "      <th>2</th>\n",
       "      <td>Senior Data Scientist</td>\n",
       "      <td>Shell</td>\n",
       "      <td>Chennai, Bangalore/Bengaluru</td>\n",
       "    </tr>\n",
       "    <tr>\n",
       "      <th>3</th>\n",
       "      <td>HCL Tech Opening - Senior Data Scientist</td>\n",
       "      <td>HCL</td>\n",
       "      <td>Noida, Kolkata, Hyderabad/Secunderabad, Pune, ...</td>\n",
       "    </tr>\n",
       "    <tr>\n",
       "      <th>4</th>\n",
       "      <td>Cognitive/AI Senior Data Scientist</td>\n",
       "      <td>IBM</td>\n",
       "      <td>Bangalore/Bengaluru</td>\n",
       "    </tr>\n",
       "    <tr>\n",
       "      <th>5</th>\n",
       "      <td>Software Principal Engineer - Data Scientist</td>\n",
       "      <td>Dell</td>\n",
       "      <td>Bangalore/Bengaluru</td>\n",
       "    </tr>\n",
       "    <tr>\n",
       "      <th>6</th>\n",
       "      <td>Lead - Data Analyst / Scientist ( R, Qlik, Pow...</td>\n",
       "      <td>Axim Technologies</td>\n",
       "      <td>Bangalore/Bengaluru</td>\n",
       "    </tr>\n",
       "    <tr>\n",
       "      <th>7</th>\n",
       "      <td>Data Scientist: Advanced Analytics</td>\n",
       "      <td>IBM</td>\n",
       "      <td>Bangalore/Bengaluru</td>\n",
       "    </tr>\n",
       "    <tr>\n",
       "      <th>8</th>\n",
       "      <td>Data Scientist: Advanced Analytics</td>\n",
       "      <td>IBM</td>\n",
       "      <td>Bangalore/Bengaluru</td>\n",
       "    </tr>\n",
       "    <tr>\n",
       "      <th>9</th>\n",
       "      <td>Data Scientist</td>\n",
       "      <td>Infosys</td>\n",
       "      <td>Bangalore/Bengaluru</td>\n",
       "    </tr>\n",
       "  </tbody>\n",
       "</table>\n",
       "</div>"
      ],
      "text/plain": [
       "                                          job_titles      Company_Names  \\\n",
       "0                         Sr. Product Data Scientist               Uber   \n",
       "1     Sr. Data Scientist, Digital Services Analytics               Dell   \n",
       "2                              Senior Data Scientist              Shell   \n",
       "3           HCL Tech Opening - Senior Data Scientist                HCL   \n",
       "4                 Cognitive/AI Senior Data Scientist                IBM   \n",
       "5       Software Principal Engineer - Data Scientist               Dell   \n",
       "6  Lead - Data Analyst / Scientist ( R, Qlik, Pow...  Axim Technologies   \n",
       "7                 Data Scientist: Advanced Analytics                IBM   \n",
       "8                 Data Scientist: Advanced Analytics                IBM   \n",
       "9                                     Data Scientist            Infosys   \n",
       "\n",
       "                                            Location  \n",
       "0                                Bangalore/Bengaluru  \n",
       "1                                Bangalore/Bengaluru  \n",
       "2                       Chennai, Bangalore/Bengaluru  \n",
       "3  Noida, Kolkata, Hyderabad/Secunderabad, Pune, ...  \n",
       "4                                Bangalore/Bengaluru  \n",
       "5                                Bangalore/Bengaluru  \n",
       "6                                Bangalore/Bengaluru  \n",
       "7                                Bangalore/Bengaluru  \n",
       "8                                Bangalore/Bengaluru  \n",
       "9                                Bangalore/Bengaluru  "
      ]
     },
     "execution_count": 39,
     "metadata": {},
     "output_type": "execute_result"
    }
   ],
   "source": [
    "jobs=pd.DataFrame()\n",
    "jobs['job_titles']= Job_titles\n",
    "jobs['Company_Names']= company_names\n",
    "jobs['Location']= location\n",
    "jobs[:10]"
   ]
  },
  {
   "cell_type": "markdown",
   "id": "7a8daa14",
   "metadata": {},
   "source": [
    "# Answer_3"
   ]
  },
  {
   "cell_type": "code",
   "execution_count": 40,
   "id": "fde91895",
   "metadata": {},
   "outputs": [],
   "source": [
    "driver=webdriver.Chrome('chromedriver.exe')"
   ]
  },
  {
   "cell_type": "code",
   "execution_count": 41,
   "id": "77b11b82",
   "metadata": {},
   "outputs": [],
   "source": [
    "url2='https://www.naukri.com/'\n",
    "driver.get(url2)"
   ]
  },
  {
   "cell_type": "code",
   "execution_count": 42,
   "id": "c190c01e",
   "metadata": {},
   "outputs": [
    {
     "data": {
      "text/plain": [
       "<selenium.webdriver.remote.webelement.WebElement (session=\"62888bfea81abe8fe8a5676353c3cf8d\", element=\"dd7b42eb-8fc8-4cb6-b28a-6885d2e63f54\")>"
      ]
     },
     "execution_count": 42,
     "metadata": {},
     "output_type": "execute_result"
    }
   ],
   "source": [
    "# finding web element for search job bar using id\n",
    "search_job = driver.find_element_by_class_name('suggestor-input ')\n",
    "search_job"
   ]
  },
  {
   "cell_type": "code",
   "execution_count": 43,
   "id": "dde9bfac",
   "metadata": {},
   "outputs": [],
   "source": [
    "# write a search bar\n",
    "search_job.send_keys(\"Data Scientist\")"
   ]
  },
  {
   "cell_type": "code",
   "execution_count": 44,
   "id": "ef607ac5",
   "metadata": {},
   "outputs": [
    {
     "data": {
      "text/plain": [
       "<selenium.webdriver.remote.webelement.WebElement (session=\"62888bfea81abe8fe8a5676353c3cf8d\", element=\"a73a7ea2-378a-46a4-ab33-7e5b4be586c9\")>"
      ]
     },
     "execution_count": 44,
     "metadata": {},
     "output_type": "execute_result"
    }
   ],
   "source": [
    "# clicking using absolute xpath function\n",
    "search_btn= driver.find_element_by_xpath(\"/html/body/div/div[2]/div[3]/div/div/div[6]\")\n",
    "search_btn"
   ]
  },
  {
   "cell_type": "code",
   "execution_count": 45,
   "id": "e6e9cdfa",
   "metadata": {},
   "outputs": [],
   "source": [
    "search_btn.click()"
   ]
  },
  {
   "cell_type": "code",
   "execution_count": 46,
   "id": "3b05f8bb",
   "metadata": {},
   "outputs": [],
   "source": [
    "location_check = driver.find_element_by_xpath('/html/body/div[1]/div[3]/div[2]/section[1]/div[2]/div[3]/div[2]/div[3]/label/i')"
   ]
  },
  {
   "cell_type": "code",
   "execution_count": 47,
   "id": "77af3719",
   "metadata": {},
   "outputs": [],
   "source": [
    "location_check.click()"
   ]
  },
  {
   "cell_type": "code",
   "execution_count": 48,
   "id": "060c1bab",
   "metadata": {},
   "outputs": [],
   "source": [
    "salary_check = driver.find_element_by_xpath('/html/body/div[1]/div[3]/div[2]/section[1]/div[2]/div[4]/div[2]/div[2]/label/i')"
   ]
  },
  {
   "cell_type": "code",
   "execution_count": 49,
   "id": "85ec12bb",
   "metadata": {},
   "outputs": [],
   "source": [
    "salary_check.click()"
   ]
  },
  {
   "cell_type": "markdown",
   "id": "2c2ed566",
   "metadata": {},
   "source": [
    "# Extracting job title"
   ]
  },
  {
   "cell_type": "code",
   "execution_count": 50,
   "id": "0cc53431",
   "metadata": {},
   "outputs": [
    {
     "data": {
      "text/plain": [
       "[<selenium.webdriver.remote.webelement.WebElement (session=\"62888bfea81abe8fe8a5676353c3cf8d\", element=\"4e5461f4-0a47-4402-af50-9a07f8117b6f\")>,\n",
       " <selenium.webdriver.remote.webelement.WebElement (session=\"62888bfea81abe8fe8a5676353c3cf8d\", element=\"dc689d2a-4087-410f-babd-15a05a2215c8\")>,\n",
       " <selenium.webdriver.remote.webelement.WebElement (session=\"62888bfea81abe8fe8a5676353c3cf8d\", element=\"478a838c-531d-4750-83d3-fc2cdba7e905\")>,\n",
       " <selenium.webdriver.remote.webelement.WebElement (session=\"62888bfea81abe8fe8a5676353c3cf8d\", element=\"2d840d1e-ade7-4239-a2d0-edff8dcdf20e\")>,\n",
       " <selenium.webdriver.remote.webelement.WebElement (session=\"62888bfea81abe8fe8a5676353c3cf8d\", element=\"65dd127e-4e23-4c5b-b8b9-719797308f23\")>,\n",
       " <selenium.webdriver.remote.webelement.WebElement (session=\"62888bfea81abe8fe8a5676353c3cf8d\", element=\"cefb3bbd-8778-4e00-b58c-670fa3e26cdf\")>,\n",
       " <selenium.webdriver.remote.webelement.WebElement (session=\"62888bfea81abe8fe8a5676353c3cf8d\", element=\"9e94976b-3b76-44ad-a3fd-6c5abf0f81b8\")>,\n",
       " <selenium.webdriver.remote.webelement.WebElement (session=\"62888bfea81abe8fe8a5676353c3cf8d\", element=\"25261c42-c438-48e6-b893-fe2722f51886\")>,\n",
       " <selenium.webdriver.remote.webelement.WebElement (session=\"62888bfea81abe8fe8a5676353c3cf8d\", element=\"fdc5bbac-b03b-4a40-9986-167902fb3ec3\")>,\n",
       " <selenium.webdriver.remote.webelement.WebElement (session=\"62888bfea81abe8fe8a5676353c3cf8d\", element=\"4a46c429-08c7-4136-b11a-207c72f325e3\")>]"
      ]
     },
     "execution_count": 50,
     "metadata": {},
     "output_type": "execute_result"
    }
   ],
   "source": [
    "# let's extract all web elements having job titles \n",
    "title_tags = driver.find_elements_by_xpath('//a[@class=\"title fw500 ellipsis\"]')\n",
    "len(title_tags)\n",
    "title_tags[:10]"
   ]
  },
  {
   "cell_type": "code",
   "execution_count": 51,
   "id": "59bec9cd",
   "metadata": {},
   "outputs": [
    {
     "data": {
      "text/plain": [
       "['Junior Data Analyst/ Scientist- Fresher Position',\n",
       " 'Lead Data Scientist',\n",
       " 'Urgent Requirement || Data Scientist || Noida',\n",
       " 'Data Analyst / Data Scientist / Business Analytics / Fresher - MNC',\n",
       " 'Data Scientist - MIND Infotech',\n",
       " 'Data Scientist - MIND Infotech',\n",
       " 'Hiring For Data Scientist',\n",
       " 'Data Scientist/Senior Scientist - Python/Spark/Hadoop',\n",
       " 'Data Scientist',\n",
       " 'Open Project | IT Consulting | Data Scientist']"
      ]
     },
     "execution_count": 51,
     "metadata": {},
     "output_type": "execute_result"
    }
   ],
   "source": [
    "Job_titles=[]\n",
    "\n",
    "for i in title_tags:\n",
    "    Job_titles.append(i.text)\n",
    "len(Job_titles)\n",
    "Job_titles[:10]"
   ]
  },
  {
   "cell_type": "markdown",
   "id": "ba8b30f1",
   "metadata": {},
   "source": [
    "# Extracting job location"
   ]
  },
  {
   "cell_type": "code",
   "execution_count": 52,
   "id": "ad5ab803",
   "metadata": {},
   "outputs": [
    {
     "data": {
      "text/plain": [
       "[<selenium.webdriver.remote.webelement.WebElement (session=\"62888bfea81abe8fe8a5676353c3cf8d\", element=\"6f06e149-11b1-4e55-a853-43f3b2ab2b4a\")>,\n",
       " <selenium.webdriver.remote.webelement.WebElement (session=\"62888bfea81abe8fe8a5676353c3cf8d\", element=\"c11c1f6d-dc09-4ff3-9057-4923b1a9d979\")>,\n",
       " <selenium.webdriver.remote.webelement.WebElement (session=\"62888bfea81abe8fe8a5676353c3cf8d\", element=\"4ac155a3-2063-495d-8e94-08b32c9f9c75\")>,\n",
       " <selenium.webdriver.remote.webelement.WebElement (session=\"62888bfea81abe8fe8a5676353c3cf8d\", element=\"a3b16d6e-581e-4318-949b-f7dec4955201\")>,\n",
       " <selenium.webdriver.remote.webelement.WebElement (session=\"62888bfea81abe8fe8a5676353c3cf8d\", element=\"36eab7f8-342a-43e5-8e64-8a3c9da4b31b\")>,\n",
       " <selenium.webdriver.remote.webelement.WebElement (session=\"62888bfea81abe8fe8a5676353c3cf8d\", element=\"5ffa2052-5c10-496f-a8d1-7d99da0c2b0b\")>,\n",
       " <selenium.webdriver.remote.webelement.WebElement (session=\"62888bfea81abe8fe8a5676353c3cf8d\", element=\"7cce92d6-bb9a-464b-8685-e9ae9cbce2c6\")>,\n",
       " <selenium.webdriver.remote.webelement.WebElement (session=\"62888bfea81abe8fe8a5676353c3cf8d\", element=\"72a6853a-554b-4215-a376-c077f8c36fe7\")>,\n",
       " <selenium.webdriver.remote.webelement.WebElement (session=\"62888bfea81abe8fe8a5676353c3cf8d\", element=\"76710c54-c252-4580-a7cb-596b8358ad15\")>,\n",
       " <selenium.webdriver.remote.webelement.WebElement (session=\"62888bfea81abe8fe8a5676353c3cf8d\", element=\"e4538f8c-eaa8-44ef-8d3b-ade64ad63394\")>]"
      ]
     },
     "execution_count": 52,
     "metadata": {},
     "output_type": "execute_result"
    }
   ],
   "source": [
    "locn_tags=driver.find_elements_by_xpath('//li[@class=\"fleft grey-text br2 placeHolderLi location\"]')\n",
    "locn_tags[:10]"
   ]
  },
  {
   "cell_type": "code",
   "execution_count": 53,
   "id": "beeac136",
   "metadata": {},
   "outputs": [
    {
     "data": {
      "text/plain": [
       "['Kolkata, Hyderabad/Secunderabad, Pune, Ahmedabad, Chennai, Bangalore/Bengaluru, Delhi / NCR, Mumbai (All Areas)\\n(WFH during Covid)',\n",
       " 'Delhi / NCR\\n(WFH during Covid)',\n",
       " 'Noida, Delhi / NCR',\n",
       " 'Noida, New Delhi, Delhi / NCR',\n",
       " 'Noida',\n",
       " 'Noida',\n",
       " 'Noida, Pune, Mumbai (All Areas)',\n",
       " 'Gurgaon/Gurugram',\n",
       " 'Noida, Gurgaon/Gurugram',\n",
       " 'Noida, New Delhi, Bangalore Rural, Bangalore/Bengaluru, Delhi / NCR\\n(WFH during Covid)']"
      ]
     },
     "execution_count": 53,
     "metadata": {},
     "output_type": "execute_result"
    }
   ],
   "source": [
    "location=[]\n",
    "\n",
    "for i in locn_tags:\n",
    "    location.append(i.text)\n",
    "location[:10]"
   ]
  },
  {
   "cell_type": "markdown",
   "id": "d8d61b2c",
   "metadata": {},
   "source": [
    "# Extracting Company names"
   ]
  },
  {
   "cell_type": "code",
   "execution_count": 54,
   "id": "a90515b5",
   "metadata": {},
   "outputs": [
    {
     "data": {
      "text/plain": [
       "[<selenium.webdriver.remote.webelement.WebElement (session=\"62888bfea81abe8fe8a5676353c3cf8d\", element=\"2999d86a-d778-45be-9da9-d3cefc602efa\")>,\n",
       " <selenium.webdriver.remote.webelement.WebElement (session=\"62888bfea81abe8fe8a5676353c3cf8d\", element=\"d5a75448-1427-4b31-926a-439d8ad73b1d\")>,\n",
       " <selenium.webdriver.remote.webelement.WebElement (session=\"62888bfea81abe8fe8a5676353c3cf8d\", element=\"b885e192-7d70-487f-9351-7debbe0bd7e4\")>,\n",
       " <selenium.webdriver.remote.webelement.WebElement (session=\"62888bfea81abe8fe8a5676353c3cf8d\", element=\"cb1802fc-2664-44d6-afcb-8647550fd5a6\")>,\n",
       " <selenium.webdriver.remote.webelement.WebElement (session=\"62888bfea81abe8fe8a5676353c3cf8d\", element=\"2c7c29ec-a5e6-49f3-8c1f-ba0b51f7a4b0\")>,\n",
       " <selenium.webdriver.remote.webelement.WebElement (session=\"62888bfea81abe8fe8a5676353c3cf8d\", element=\"1d215514-17c1-4a2f-9e17-6a983d00492f\")>,\n",
       " <selenium.webdriver.remote.webelement.WebElement (session=\"62888bfea81abe8fe8a5676353c3cf8d\", element=\"15467a62-10e3-4307-afdc-82eacee8f53a\")>,\n",
       " <selenium.webdriver.remote.webelement.WebElement (session=\"62888bfea81abe8fe8a5676353c3cf8d\", element=\"f0abe18c-7655-4faf-bee0-9df0dfab8955\")>,\n",
       " <selenium.webdriver.remote.webelement.WebElement (session=\"62888bfea81abe8fe8a5676353c3cf8d\", element=\"9ccfe709-657c-4d59-938a-ac0182408f8a\")>,\n",
       " <selenium.webdriver.remote.webelement.WebElement (session=\"62888bfea81abe8fe8a5676353c3cf8d\", element=\"c6979d39-0028-46bd-b2d2-7af8b4ec4de2\")>]"
      ]
     },
     "execution_count": 54,
     "metadata": {},
     "output_type": "execute_result"
    }
   ],
   "source": [
    "company_tags=driver.find_elements_by_xpath('//a[@class=\"subTitle ellipsis fleft\"]')\n",
    "company_tags[:10]"
   ]
  },
  {
   "cell_type": "code",
   "execution_count": 55,
   "id": "daab1b69",
   "metadata": {},
   "outputs": [
    {
     "data": {
      "text/plain": [
       "['Sejal Consulting Hub',\n",
       " 'Indihire HR Consultants Private Limited',\n",
       " 'HCL',\n",
       " 'GABA Consultancy services',\n",
       " 'MOTHERSONSUMI INFOTECH & DESIGNS LIMITED',\n",
       " 'MOTHERSONSUMI INFOTECH & DESIGNS LIMITED',\n",
       " 'Lumiq.ai',\n",
       " 'Connexions',\n",
       " 'Optum',\n",
       " 'Virtuoso Staffing Solutions Pvt Ltd']"
      ]
     },
     "execution_count": 55,
     "metadata": {},
     "output_type": "execute_result"
    }
   ],
   "source": [
    "company_names=[]\n",
    "\n",
    "for i in company_tags:\n",
    "    company_names.append(i.text)\n",
    "company_names[:10]"
   ]
  },
  {
   "cell_type": "code",
   "execution_count": 57,
   "id": "52383749",
   "metadata": {},
   "outputs": [
    {
     "data": {
      "text/plain": [
       "[<selenium.webdriver.remote.webelement.WebElement (session=\"62888bfea81abe8fe8a5676353c3cf8d\", element=\"3a1047b5-f72e-404b-85d0-b51d19a85d98\")>,\n",
       " <selenium.webdriver.remote.webelement.WebElement (session=\"62888bfea81abe8fe8a5676353c3cf8d\", element=\"82d82b70-75c2-4cc0-9738-474d63252a6f\")>,\n",
       " <selenium.webdriver.remote.webelement.WebElement (session=\"62888bfea81abe8fe8a5676353c3cf8d\", element=\"4c9ae45f-3ebd-48b3-b094-c8b4e5f37959\")>,\n",
       " <selenium.webdriver.remote.webelement.WebElement (session=\"62888bfea81abe8fe8a5676353c3cf8d\", element=\"5529c80c-8e77-4266-b734-ba4581b0b153\")>,\n",
       " <selenium.webdriver.remote.webelement.WebElement (session=\"62888bfea81abe8fe8a5676353c3cf8d\", element=\"6135d059-6990-4a1a-8d47-de6bf6cfb6e4\")>,\n",
       " <selenium.webdriver.remote.webelement.WebElement (session=\"62888bfea81abe8fe8a5676353c3cf8d\", element=\"e0055560-2029-4c3f-8c99-e1f3994f426a\")>,\n",
       " <selenium.webdriver.remote.webelement.WebElement (session=\"62888bfea81abe8fe8a5676353c3cf8d\", element=\"eb295740-b5db-461f-b244-bfef22ef71c6\")>,\n",
       " <selenium.webdriver.remote.webelement.WebElement (session=\"62888bfea81abe8fe8a5676353c3cf8d\", element=\"575976a0-ce4f-49c9-ba01-d8072249bae6\")>,\n",
       " <selenium.webdriver.remote.webelement.WebElement (session=\"62888bfea81abe8fe8a5676353c3cf8d\", element=\"aeaa374d-9f5b-480d-ae1e-8eda90e279de\")>,\n",
       " <selenium.webdriver.remote.webelement.WebElement (session=\"62888bfea81abe8fe8a5676353c3cf8d\", element=\"13f7c4a4-ca13-4405-bd3c-f9979dd8327d\")>]"
      ]
     },
     "execution_count": 57,
     "metadata": {},
     "output_type": "execute_result"
    }
   ],
   "source": [
    "exp_tags=driver.find_elements_by_xpath('//li[@class=\"fleft grey-text br2 placeHolderLi experience\"]')\n",
    "exp_tags[:10]"
   ]
  },
  {
   "cell_type": "code",
   "execution_count": 58,
   "id": "4f55f4d7",
   "metadata": {},
   "outputs": [
    {
     "data": {
      "text/plain": [
       "['0-3 Yrs',\n",
       " '2-4 Yrs',\n",
       " '3-8 Yrs',\n",
       " '0-0 Yrs',\n",
       " '4-8 Yrs',\n",
       " '4-8 Yrs',\n",
       " '2-7 Yrs',\n",
       " '2-6 Yrs',\n",
       " '2-6 Yrs',\n",
       " '5-10 Yrs']"
      ]
     },
     "execution_count": 58,
     "metadata": {},
     "output_type": "execute_result"
    }
   ],
   "source": [
    "experience=[]\n",
    "\n",
    "for i in exp_tags:\n",
    "    experience.append(i.text)\n",
    "experience[:10]"
   ]
  },
  {
   "cell_type": "code",
   "execution_count": 59,
   "id": "8479ad60",
   "metadata": {},
   "outputs": [
    {
     "data": {
      "text/html": [
       "<div>\n",
       "<style scoped>\n",
       "    .dataframe tbody tr th:only-of-type {\n",
       "        vertical-align: middle;\n",
       "    }\n",
       "\n",
       "    .dataframe tbody tr th {\n",
       "        vertical-align: top;\n",
       "    }\n",
       "\n",
       "    .dataframe thead th {\n",
       "        text-align: right;\n",
       "    }\n",
       "</style>\n",
       "<table border=\"1\" class=\"dataframe\">\n",
       "  <thead>\n",
       "    <tr style=\"text-align: right;\">\n",
       "      <th></th>\n",
       "      <th>job_titles</th>\n",
       "      <th>Company_Names</th>\n",
       "      <th>Location</th>\n",
       "      <th>Experience</th>\n",
       "    </tr>\n",
       "  </thead>\n",
       "  <tbody>\n",
       "    <tr>\n",
       "      <th>0</th>\n",
       "      <td>Junior Data Analyst/ Scientist- Fresher Position</td>\n",
       "      <td>Sejal Consulting Hub</td>\n",
       "      <td>Kolkata, Hyderabad/Secunderabad, Pune, Ahmedab...</td>\n",
       "      <td>0-3 Yrs</td>\n",
       "    </tr>\n",
       "    <tr>\n",
       "      <th>1</th>\n",
       "      <td>Lead Data Scientist</td>\n",
       "      <td>Indihire HR Consultants Private Limited</td>\n",
       "      <td>Delhi / NCR\\n(WFH during Covid)</td>\n",
       "      <td>2-4 Yrs</td>\n",
       "    </tr>\n",
       "    <tr>\n",
       "      <th>2</th>\n",
       "      <td>Urgent Requirement || Data Scientist || Noida</td>\n",
       "      <td>HCL</td>\n",
       "      <td>Noida, Delhi / NCR</td>\n",
       "      <td>3-8 Yrs</td>\n",
       "    </tr>\n",
       "    <tr>\n",
       "      <th>3</th>\n",
       "      <td>Data Analyst / Data Scientist / Business Analy...</td>\n",
       "      <td>GABA Consultancy services</td>\n",
       "      <td>Noida, New Delhi, Delhi / NCR</td>\n",
       "      <td>0-0 Yrs</td>\n",
       "    </tr>\n",
       "    <tr>\n",
       "      <th>4</th>\n",
       "      <td>Data Scientist - MIND Infotech</td>\n",
       "      <td>MOTHERSONSUMI INFOTECH &amp; DESIGNS LIMITED</td>\n",
       "      <td>Noida</td>\n",
       "      <td>4-8 Yrs</td>\n",
       "    </tr>\n",
       "    <tr>\n",
       "      <th>5</th>\n",
       "      <td>Data Scientist - MIND Infotech</td>\n",
       "      <td>MOTHERSONSUMI INFOTECH &amp; DESIGNS LIMITED</td>\n",
       "      <td>Noida</td>\n",
       "      <td>4-8 Yrs</td>\n",
       "    </tr>\n",
       "    <tr>\n",
       "      <th>6</th>\n",
       "      <td>Hiring For Data Scientist</td>\n",
       "      <td>Lumiq.ai</td>\n",
       "      <td>Noida, Pune, Mumbai (All Areas)</td>\n",
       "      <td>2-7 Yrs</td>\n",
       "    </tr>\n",
       "    <tr>\n",
       "      <th>7</th>\n",
       "      <td>Data Scientist/Senior Scientist - Python/Spark...</td>\n",
       "      <td>Connexions</td>\n",
       "      <td>Gurgaon/Gurugram</td>\n",
       "      <td>2-6 Yrs</td>\n",
       "    </tr>\n",
       "    <tr>\n",
       "      <th>8</th>\n",
       "      <td>Data Scientist</td>\n",
       "      <td>Optum</td>\n",
       "      <td>Noida, Gurgaon/Gurugram</td>\n",
       "      <td>2-6 Yrs</td>\n",
       "    </tr>\n",
       "    <tr>\n",
       "      <th>9</th>\n",
       "      <td>Open Project | IT Consulting | Data Scientist</td>\n",
       "      <td>Virtuoso Staffing Solutions Pvt Ltd</td>\n",
       "      <td>Noida, New Delhi, Bangalore Rural, Bangalore/B...</td>\n",
       "      <td>5-10 Yrs</td>\n",
       "    </tr>\n",
       "  </tbody>\n",
       "</table>\n",
       "</div>"
      ],
      "text/plain": [
       "                                          job_titles  \\\n",
       "0   Junior Data Analyst/ Scientist- Fresher Position   \n",
       "1                                Lead Data Scientist   \n",
       "2      Urgent Requirement || Data Scientist || Noida   \n",
       "3  Data Analyst / Data Scientist / Business Analy...   \n",
       "4                     Data Scientist - MIND Infotech   \n",
       "5                     Data Scientist - MIND Infotech   \n",
       "6                          Hiring For Data Scientist   \n",
       "7  Data Scientist/Senior Scientist - Python/Spark...   \n",
       "8                                     Data Scientist   \n",
       "9      Open Project | IT Consulting | Data Scientist   \n",
       "\n",
       "                              Company_Names  \\\n",
       "0                      Sejal Consulting Hub   \n",
       "1   Indihire HR Consultants Private Limited   \n",
       "2                                       HCL   \n",
       "3                 GABA Consultancy services   \n",
       "4  MOTHERSONSUMI INFOTECH & DESIGNS LIMITED   \n",
       "5  MOTHERSONSUMI INFOTECH & DESIGNS LIMITED   \n",
       "6                                  Lumiq.ai   \n",
       "7                                Connexions   \n",
       "8                                     Optum   \n",
       "9       Virtuoso Staffing Solutions Pvt Ltd   \n",
       "\n",
       "                                            Location Experience  \n",
       "0  Kolkata, Hyderabad/Secunderabad, Pune, Ahmedab...    0-3 Yrs  \n",
       "1                    Delhi / NCR\\n(WFH during Covid)    2-4 Yrs  \n",
       "2                                 Noida, Delhi / NCR    3-8 Yrs  \n",
       "3                      Noida, New Delhi, Delhi / NCR    0-0 Yrs  \n",
       "4                                              Noida    4-8 Yrs  \n",
       "5                                              Noida    4-8 Yrs  \n",
       "6                    Noida, Pune, Mumbai (All Areas)    2-7 Yrs  \n",
       "7                                   Gurgaon/Gurugram    2-6 Yrs  \n",
       "8                            Noida, Gurgaon/Gurugram    2-6 Yrs  \n",
       "9  Noida, New Delhi, Bangalore Rural, Bangalore/B...   5-10 Yrs  "
      ]
     },
     "execution_count": 59,
     "metadata": {},
     "output_type": "execute_result"
    }
   ],
   "source": [
    "jobs=pd.DataFrame()\n",
    "jobs['job_titles']= Job_titles\n",
    "jobs['Company_Names']= company_names\n",
    "jobs['Location']= location\n",
    "jobs['Experience']=experience\n",
    "jobs[:10]"
   ]
  },
  {
   "cell_type": "markdown",
   "id": "76508336",
   "metadata": {},
   "source": [
    "# Answer_4"
   ]
  },
  {
   "cell_type": "code",
   "execution_count": 60,
   "id": "7c4c5610",
   "metadata": {},
   "outputs": [],
   "source": [
    "driver=webdriver.Chrome('chromedriver.exe')"
   ]
  },
  {
   "cell_type": "code",
   "execution_count": 62,
   "id": "4849ad1f",
   "metadata": {},
   "outputs": [],
   "source": [
    "url3='https://www.flipkart.com/'\n",
    "driver.get(url3)"
   ]
  },
  {
   "cell_type": "code",
   "execution_count": 63,
   "id": "4ce3c699",
   "metadata": {},
   "outputs": [
    {
     "data": {
      "text/plain": [
       "<selenium.webdriver.remote.webelement.WebElement (session=\"1c45ab4c3e35a99ca3df15d89b36f57b\", element=\"bf97d3f7-e9b4-441e-ab45-2568417e3c72\")>"
      ]
     },
     "execution_count": 63,
     "metadata": {},
     "output_type": "execute_result"
    }
   ],
   "source": [
    "# finding web element for search job bar using id\n",
    "search_bar = driver.find_element_by_class_name('_3704LK')\n",
    "search_bar"
   ]
  },
  {
   "cell_type": "code",
   "execution_count": 65,
   "id": "364d0e68",
   "metadata": {},
   "outputs": [],
   "source": [
    "# write a search bar\n",
    "search_bar.send_keys(\"sunglasses\")"
   ]
  },
  {
   "cell_type": "code",
   "execution_count": 66,
   "id": "cee5f908",
   "metadata": {},
   "outputs": [
    {
     "data": {
      "text/plain": [
       "<selenium.webdriver.remote.webelement.WebElement (session=\"1c45ab4c3e35a99ca3df15d89b36f57b\", element=\"d6009851-9b4d-4ff5-9df4-1d7a78309104\")>"
      ]
     },
     "execution_count": 66,
     "metadata": {},
     "output_type": "execute_result"
    }
   ],
   "source": [
    "# clicking using absolute xpath function\n",
    "search_btn= driver.find_element_by_xpath(\"/html/body/div[1]/div/div[1]/div[1]/div[2]/div[2]/form/div/button\")\n",
    "search_btn"
   ]
  },
  {
   "cell_type": "code",
   "execution_count": 67,
   "id": "cc4652b9",
   "metadata": {},
   "outputs": [],
   "source": [
    "search_btn.click()"
   ]
  },
  {
   "cell_type": "markdown",
   "id": "22eebfa2",
   "metadata": {},
   "source": [
    "# Extracting Brand Name"
   ]
  },
  {
   "cell_type": "code",
   "execution_count": 69,
   "id": "969bb544",
   "metadata": {},
   "outputs": [
    {
     "data": {
      "text/plain": [
       "[<selenium.webdriver.remote.webelement.WebElement (session=\"1c45ab4c3e35a99ca3df15d89b36f57b\", element=\"e230568a-40a1-4718-9c20-a7a9796f058c\")>,\n",
       " <selenium.webdriver.remote.webelement.WebElement (session=\"1c45ab4c3e35a99ca3df15d89b36f57b\", element=\"5467bf59-6ae9-4376-978d-504ed182c2a1\")>,\n",
       " <selenium.webdriver.remote.webelement.WebElement (session=\"1c45ab4c3e35a99ca3df15d89b36f57b\", element=\"0d513670-340b-4254-b332-07db1a37e5eb\")>,\n",
       " <selenium.webdriver.remote.webelement.WebElement (session=\"1c45ab4c3e35a99ca3df15d89b36f57b\", element=\"e04e6e34-efc8-451e-8aa9-6894e16eb252\")>,\n",
       " <selenium.webdriver.remote.webelement.WebElement (session=\"1c45ab4c3e35a99ca3df15d89b36f57b\", element=\"e5bb358f-bada-407a-94c0-c43848ccb3bd\")>,\n",
       " <selenium.webdriver.remote.webelement.WebElement (session=\"1c45ab4c3e35a99ca3df15d89b36f57b\", element=\"11b14c9c-0525-4b34-b20d-856e16c12e26\")>,\n",
       " <selenium.webdriver.remote.webelement.WebElement (session=\"1c45ab4c3e35a99ca3df15d89b36f57b\", element=\"022114c2-fe01-4fd0-8baf-dc892d99b4d7\")>,\n",
       " <selenium.webdriver.remote.webelement.WebElement (session=\"1c45ab4c3e35a99ca3df15d89b36f57b\", element=\"637df72a-ee8b-483f-be45-eb09b23c282a\")>,\n",
       " <selenium.webdriver.remote.webelement.WebElement (session=\"1c45ab4c3e35a99ca3df15d89b36f57b\", element=\"a3961b6a-1b92-452f-9017-2089770b213a\")>,\n",
       " <selenium.webdriver.remote.webelement.WebElement (session=\"1c45ab4c3e35a99ca3df15d89b36f57b\", element=\"0cbc819a-1310-4f14-8c52-242202035f5b\")>,\n",
       " <selenium.webdriver.remote.webelement.WebElement (session=\"1c45ab4c3e35a99ca3df15d89b36f57b\", element=\"3ba2511b-f2d1-4760-a343-0800242bc841\")>,\n",
       " <selenium.webdriver.remote.webelement.WebElement (session=\"1c45ab4c3e35a99ca3df15d89b36f57b\", element=\"4633d3a4-8ddc-4d12-b80e-fa928416b05e\")>,\n",
       " <selenium.webdriver.remote.webelement.WebElement (session=\"1c45ab4c3e35a99ca3df15d89b36f57b\", element=\"0aca89b0-f109-46fd-b1f8-ff5b560235ac\")>,\n",
       " <selenium.webdriver.remote.webelement.WebElement (session=\"1c45ab4c3e35a99ca3df15d89b36f57b\", element=\"e40b7765-4ff1-4cbd-96d2-8e1b40c5a868\")>,\n",
       " <selenium.webdriver.remote.webelement.WebElement (session=\"1c45ab4c3e35a99ca3df15d89b36f57b\", element=\"9358e6fb-909d-4e6e-8803-ec03ee947e82\")>,\n",
       " <selenium.webdriver.remote.webelement.WebElement (session=\"1c45ab4c3e35a99ca3df15d89b36f57b\", element=\"7fd9fa5b-4f64-4bef-8baf-080178791e15\")>,\n",
       " <selenium.webdriver.remote.webelement.WebElement (session=\"1c45ab4c3e35a99ca3df15d89b36f57b\", element=\"022f4c43-7c91-41f9-b8b2-cf53a46754cb\")>,\n",
       " <selenium.webdriver.remote.webelement.WebElement (session=\"1c45ab4c3e35a99ca3df15d89b36f57b\", element=\"f7ff78b1-4a6a-41d5-bbf8-79c8ccf0e481\")>,\n",
       " <selenium.webdriver.remote.webelement.WebElement (session=\"1c45ab4c3e35a99ca3df15d89b36f57b\", element=\"cf695295-a684-4a9f-807f-4b7dca92b43d\")>,\n",
       " <selenium.webdriver.remote.webelement.WebElement (session=\"1c45ab4c3e35a99ca3df15d89b36f57b\", element=\"63c97d1f-cffa-4aec-b7c4-cc6ce9489292\")>,\n",
       " <selenium.webdriver.remote.webelement.WebElement (session=\"1c45ab4c3e35a99ca3df15d89b36f57b\", element=\"90be2d0a-79da-4ac6-a013-8ca3c4f46405\")>,\n",
       " <selenium.webdriver.remote.webelement.WebElement (session=\"1c45ab4c3e35a99ca3df15d89b36f57b\", element=\"cdea9bd7-30de-4dcf-905c-3bc995084f84\")>,\n",
       " <selenium.webdriver.remote.webelement.WebElement (session=\"1c45ab4c3e35a99ca3df15d89b36f57b\", element=\"c732657f-79d5-4642-aa08-03829181488f\")>,\n",
       " <selenium.webdriver.remote.webelement.WebElement (session=\"1c45ab4c3e35a99ca3df15d89b36f57b\", element=\"3f09a88f-8b22-475d-956d-db44aa520860\")>,\n",
       " <selenium.webdriver.remote.webelement.WebElement (session=\"1c45ab4c3e35a99ca3df15d89b36f57b\", element=\"c67ccf5b-49b0-43f0-8da8-ff9ac8eab5d9\")>,\n",
       " <selenium.webdriver.remote.webelement.WebElement (session=\"1c45ab4c3e35a99ca3df15d89b36f57b\", element=\"db76fd1c-766b-44b5-bb5e-b2e3da48888e\")>,\n",
       " <selenium.webdriver.remote.webelement.WebElement (session=\"1c45ab4c3e35a99ca3df15d89b36f57b\", element=\"12333962-c523-475b-94d5-111cae77c1e0\")>,\n",
       " <selenium.webdriver.remote.webelement.WebElement (session=\"1c45ab4c3e35a99ca3df15d89b36f57b\", element=\"2bcd2783-15d0-497c-87bd-c2338a9ed32e\")>,\n",
       " <selenium.webdriver.remote.webelement.WebElement (session=\"1c45ab4c3e35a99ca3df15d89b36f57b\", element=\"3db2e209-f0db-4479-baab-7ba25ee42f1d\")>,\n",
       " <selenium.webdriver.remote.webelement.WebElement (session=\"1c45ab4c3e35a99ca3df15d89b36f57b\", element=\"eeee306e-b8f3-4cd2-8e60-2b746cfbdffc\")>,\n",
       " <selenium.webdriver.remote.webelement.WebElement (session=\"1c45ab4c3e35a99ca3df15d89b36f57b\", element=\"c20bef4e-f77d-4c0b-86a3-a5506490f04c\")>,\n",
       " <selenium.webdriver.remote.webelement.WebElement (session=\"1c45ab4c3e35a99ca3df15d89b36f57b\", element=\"a0f7975c-0fda-49f3-908e-837c01cca418\")>,\n",
       " <selenium.webdriver.remote.webelement.WebElement (session=\"1c45ab4c3e35a99ca3df15d89b36f57b\", element=\"72ef8fe1-58b1-458f-ad96-2191a220d6a6\")>,\n",
       " <selenium.webdriver.remote.webelement.WebElement (session=\"1c45ab4c3e35a99ca3df15d89b36f57b\", element=\"9f4dd501-0150-43d1-b028-9955bf776fe2\")>,\n",
       " <selenium.webdriver.remote.webelement.WebElement (session=\"1c45ab4c3e35a99ca3df15d89b36f57b\", element=\"dbf56af1-7f8c-4d31-be55-08b33ec678f8\")>,\n",
       " <selenium.webdriver.remote.webelement.WebElement (session=\"1c45ab4c3e35a99ca3df15d89b36f57b\", element=\"b3c1cac0-00fa-493a-a8fb-c2566c5d727d\")>,\n",
       " <selenium.webdriver.remote.webelement.WebElement (session=\"1c45ab4c3e35a99ca3df15d89b36f57b\", element=\"51293d99-3127-4e85-a126-32c78d47d7d8\")>,\n",
       " <selenium.webdriver.remote.webelement.WebElement (session=\"1c45ab4c3e35a99ca3df15d89b36f57b\", element=\"5278100a-43d7-49ac-8f25-16d451e822dc\")>,\n",
       " <selenium.webdriver.remote.webelement.WebElement (session=\"1c45ab4c3e35a99ca3df15d89b36f57b\", element=\"f2afa296-02d5-458f-b89d-318b1d8948c1\")>,\n",
       " <selenium.webdriver.remote.webelement.WebElement (session=\"1c45ab4c3e35a99ca3df15d89b36f57b\", element=\"fb603a80-77be-47ed-b892-a4e5a2f9dbb7\")>]"
      ]
     },
     "execution_count": 69,
     "metadata": {},
     "output_type": "execute_result"
    }
   ],
   "source": [
    "# let's extract all web elements having brand name \n",
    "brand_tags = driver.find_elements_by_xpath('//div[@class=\"_2WkVRV\"]')\n",
    "brand_tags"
   ]
  },
  {
   "cell_type": "code",
   "execution_count": 71,
   "id": "17be47e2",
   "metadata": {},
   "outputs": [
    {
     "data": {
      "text/plain": [
       "['Singco India',\n",
       " 'ROZZETTA CRAFT',\n",
       " 'SRPM',\n",
       " 'Fastrack',\n",
       " 'Fastrack',\n",
       " 'Fastrack',\n",
       " 'PIRASO',\n",
       " 'elegante',\n",
       " 'New Specs',\n",
       " 'Fastrack',\n",
       " 'SUNBEE',\n",
       " 'AISLIN',\n",
       " 'SHAAH COLLECTIONS',\n",
       " 'SRPM',\n",
       " 'Elligator',\n",
       " 'VILLAIN',\n",
       " 'New Specs',\n",
       " 'Lee Topper',\n",
       " 'DEIXELS',\n",
       " 'ROYAL SON',\n",
       " 'Silver Kartz',\n",
       " 'PIRASO',\n",
       " 'PHENOMENAL',\n",
       " 'povty',\n",
       " 'PIRASO',\n",
       " 'ROYAL SON',\n",
       " 'GANSTA',\n",
       " 'ROYAL SON',\n",
       " 'PIRASO',\n",
       " 'kingsunglasses',\n",
       " 'PIRASO',\n",
       " 'ROYAL SON',\n",
       " 'GANSTA',\n",
       " 'kingsunglasses',\n",
       " 'SRPM',\n",
       " 'ROYAL SON',\n",
       " 'PHENOMENAL',\n",
       " 'ROZZETTA CRAFT',\n",
       " 'SHAAH COLLECTIONS',\n",
       " 'AISLIN']"
      ]
     },
     "execution_count": 71,
     "metadata": {},
     "output_type": "execute_result"
    }
   ],
   "source": [
    "brand=[]\n",
    "\n",
    "for i in brand_tags:\n",
    "    brand.append(i.text)\n",
    "len(brand)\n",
    "brand"
   ]
  },
  {
   "cell_type": "markdown",
   "id": "a4496720",
   "metadata": {},
   "source": [
    "# Extracting Product Description"
   ]
  },
  {
   "cell_type": "code",
   "execution_count": 72,
   "id": "9a8f8a0d",
   "metadata": {},
   "outputs": [
    {
     "data": {
      "text/plain": [
       "[<selenium.webdriver.remote.webelement.WebElement (session=\"1c45ab4c3e35a99ca3df15d89b36f57b\", element=\"97ba058e-f5b3-4c3a-aa89-a16b1195dd4d\")>,\n",
       " <selenium.webdriver.remote.webelement.WebElement (session=\"1c45ab4c3e35a99ca3df15d89b36f57b\", element=\"2e89e4bc-2d44-4cef-aa4a-4c1887288c03\")>,\n",
       " <selenium.webdriver.remote.webelement.WebElement (session=\"1c45ab4c3e35a99ca3df15d89b36f57b\", element=\"9d4d4299-2a58-45d9-acbf-0e2b9bc6c364\")>,\n",
       " <selenium.webdriver.remote.webelement.WebElement (session=\"1c45ab4c3e35a99ca3df15d89b36f57b\", element=\"e405dfa4-53e1-4c12-b623-2f542a9db996\")>,\n",
       " <selenium.webdriver.remote.webelement.WebElement (session=\"1c45ab4c3e35a99ca3df15d89b36f57b\", element=\"b53420ca-9149-444b-9154-240ef3830cac\")>,\n",
       " <selenium.webdriver.remote.webelement.WebElement (session=\"1c45ab4c3e35a99ca3df15d89b36f57b\", element=\"1126f1cc-c981-404f-951d-35a5b668a272\")>,\n",
       " <selenium.webdriver.remote.webelement.WebElement (session=\"1c45ab4c3e35a99ca3df15d89b36f57b\", element=\"2b853acc-fe58-42b0-bab4-41121cfcc556\")>,\n",
       " <selenium.webdriver.remote.webelement.WebElement (session=\"1c45ab4c3e35a99ca3df15d89b36f57b\", element=\"c0a78002-6a35-4ed6-81a0-67eb189c5610\")>,\n",
       " <selenium.webdriver.remote.webelement.WebElement (session=\"1c45ab4c3e35a99ca3df15d89b36f57b\", element=\"8ed6533b-8f77-4274-af53-c9064ea61d29\")>,\n",
       " <selenium.webdriver.remote.webelement.WebElement (session=\"1c45ab4c3e35a99ca3df15d89b36f57b\", element=\"e6827ac6-60bd-4c6d-b47b-3b2e9f038946\")>,\n",
       " <selenium.webdriver.remote.webelement.WebElement (session=\"1c45ab4c3e35a99ca3df15d89b36f57b\", element=\"13ab6aab-5f56-4d15-8e66-106cf9dc6105\")>,\n",
       " <selenium.webdriver.remote.webelement.WebElement (session=\"1c45ab4c3e35a99ca3df15d89b36f57b\", element=\"2261fce5-948f-47d4-a3db-75daa8ccd65d\")>,\n",
       " <selenium.webdriver.remote.webelement.WebElement (session=\"1c45ab4c3e35a99ca3df15d89b36f57b\", element=\"f5ff0cdf-0145-4983-931c-47012dd8f4ae\")>,\n",
       " <selenium.webdriver.remote.webelement.WebElement (session=\"1c45ab4c3e35a99ca3df15d89b36f57b\", element=\"fb087d38-92e8-4beb-9614-0f48fe6ad009\")>,\n",
       " <selenium.webdriver.remote.webelement.WebElement (session=\"1c45ab4c3e35a99ca3df15d89b36f57b\", element=\"8921647d-da78-4d96-acc6-ace42cb2303c\")>,\n",
       " <selenium.webdriver.remote.webelement.WebElement (session=\"1c45ab4c3e35a99ca3df15d89b36f57b\", element=\"646dabad-67aa-47d5-868b-67f7a504629a\")>,\n",
       " <selenium.webdriver.remote.webelement.WebElement (session=\"1c45ab4c3e35a99ca3df15d89b36f57b\", element=\"59b02b30-9539-4374-8973-3af1f00589d2\")>,\n",
       " <selenium.webdriver.remote.webelement.WebElement (session=\"1c45ab4c3e35a99ca3df15d89b36f57b\", element=\"c716d23d-e7b6-4d40-9f37-7cf272d2ca1c\")>,\n",
       " <selenium.webdriver.remote.webelement.WebElement (session=\"1c45ab4c3e35a99ca3df15d89b36f57b\", element=\"0a136bbb-5404-40db-9ba9-9b858361fa70\")>,\n",
       " <selenium.webdriver.remote.webelement.WebElement (session=\"1c45ab4c3e35a99ca3df15d89b36f57b\", element=\"89f688cf-9e95-4c5e-88ad-4ebe8c892d4e\")>,\n",
       " <selenium.webdriver.remote.webelement.WebElement (session=\"1c45ab4c3e35a99ca3df15d89b36f57b\", element=\"1c1276c0-db9b-4f2d-ad32-599e674e76f1\")>,\n",
       " <selenium.webdriver.remote.webelement.WebElement (session=\"1c45ab4c3e35a99ca3df15d89b36f57b\", element=\"05ab5600-81f4-4fb0-9b50-062c6b4b96d2\")>,\n",
       " <selenium.webdriver.remote.webelement.WebElement (session=\"1c45ab4c3e35a99ca3df15d89b36f57b\", element=\"e0447c79-5bdc-469b-9c94-832252f98d6c\")>,\n",
       " <selenium.webdriver.remote.webelement.WebElement (session=\"1c45ab4c3e35a99ca3df15d89b36f57b\", element=\"7c469f76-dbd1-4a3c-9633-52ef406d062f\")>,\n",
       " <selenium.webdriver.remote.webelement.WebElement (session=\"1c45ab4c3e35a99ca3df15d89b36f57b\", element=\"45f3ab08-4546-480c-91ef-83ec2d95d20e\")>,\n",
       " <selenium.webdriver.remote.webelement.WebElement (session=\"1c45ab4c3e35a99ca3df15d89b36f57b\", element=\"0962ae6a-aa3f-44f6-af38-8088cc47ffe3\")>,\n",
       " <selenium.webdriver.remote.webelement.WebElement (session=\"1c45ab4c3e35a99ca3df15d89b36f57b\", element=\"fde5649f-7b38-4600-aa0e-5ba4bd16dcfa\")>,\n",
       " <selenium.webdriver.remote.webelement.WebElement (session=\"1c45ab4c3e35a99ca3df15d89b36f57b\", element=\"7bbe91cc-6063-43ef-aa5a-0e6cc63a519d\")>,\n",
       " <selenium.webdriver.remote.webelement.WebElement (session=\"1c45ab4c3e35a99ca3df15d89b36f57b\", element=\"ed4bc979-8bf2-4c60-9548-9b0e966c8277\")>,\n",
       " <selenium.webdriver.remote.webelement.WebElement (session=\"1c45ab4c3e35a99ca3df15d89b36f57b\", element=\"6d7afade-8957-4fb0-8cdd-a5c81089c4b3\")>,\n",
       " <selenium.webdriver.remote.webelement.WebElement (session=\"1c45ab4c3e35a99ca3df15d89b36f57b\", element=\"ac401162-9d9b-4db1-aec8-3c99c4eafc43\")>,\n",
       " <selenium.webdriver.remote.webelement.WebElement (session=\"1c45ab4c3e35a99ca3df15d89b36f57b\", element=\"b3c2e9b8-350e-4e50-b247-058368a362fe\")>,\n",
       " <selenium.webdriver.remote.webelement.WebElement (session=\"1c45ab4c3e35a99ca3df15d89b36f57b\", element=\"d24fe1fc-80f5-476f-ace8-16a7fcde8f5a\")>,\n",
       " <selenium.webdriver.remote.webelement.WebElement (session=\"1c45ab4c3e35a99ca3df15d89b36f57b\", element=\"4b772b9d-ddfd-4768-a45c-6e6acbc13ef7\")>,\n",
       " <selenium.webdriver.remote.webelement.WebElement (session=\"1c45ab4c3e35a99ca3df15d89b36f57b\", element=\"44bb0437-659d-4725-b0a7-b94a1ec60cc7\")>,\n",
       " <selenium.webdriver.remote.webelement.WebElement (session=\"1c45ab4c3e35a99ca3df15d89b36f57b\", element=\"f5d9f774-98b5-4004-984a-14ca25a5435c\")>,\n",
       " <selenium.webdriver.remote.webelement.WebElement (session=\"1c45ab4c3e35a99ca3df15d89b36f57b\", element=\"0419e303-101d-43e2-80ee-3df65286a9e1\")>,\n",
       " <selenium.webdriver.remote.webelement.WebElement (session=\"1c45ab4c3e35a99ca3df15d89b36f57b\", element=\"df0318b3-6eb5-41ff-8805-068484d9d248\")>,\n",
       " <selenium.webdriver.remote.webelement.WebElement (session=\"1c45ab4c3e35a99ca3df15d89b36f57b\", element=\"b78c854c-d7c5-456e-b919-82f5c345bc3d\")>]"
      ]
     },
     "execution_count": 72,
     "metadata": {},
     "output_type": "execute_result"
    }
   ],
   "source": [
    "description=driver.find_elements_by_xpath('//a[@class=\"IRpwTa\"]')\n",
    "description"
   ]
  },
  {
   "cell_type": "code",
   "execution_count": 74,
   "id": "1106c5a4",
   "metadata": {},
   "outputs": [
    {
     "data": {
      "text/plain": [
       "['UV Protection, Riding Glasses, Others Aviator, Wayfarer...',\n",
       " 'UV Protection, Gradient Retro Square Sunglasses (Free S...',\n",
       " 'UV Protection Wayfarer Sunglasses (50)',\n",
       " 'Gradient, UV Protection Wayfarer Sunglasses (Free Size)',\n",
       " 'UV Protection Wayfarer Sunglasses (Free Size)',\n",
       " 'UV Protection Wayfarer Sunglasses (Free Size)',\n",
       " 'UV Protection Aviator Sunglasses (54)',\n",
       " 'UV Protection Oval Sunglasses (Free Size)',\n",
       " 'UV Protection Rectangular Sunglasses (Free Size)',\n",
       " 'UV Protection Rectangular Sunglasses (Free Size)',\n",
       " 'UV Protection, Polarized, Mirrored Round Sunglasses (Fr...',\n",
       " 'UV Protection, Gradient Cat-eye Sunglasses (58)',\n",
       " 'UV Protection, Polarized, Mirrored Rectangular Sunglass...',\n",
       " 'Others Wayfarer, Retro Square Sunglasses (50)',\n",
       " 'UV Protection Round Sunglasses (53)',\n",
       " 'Others Retro Square Sunglasses (Free Size)',\n",
       " 'Mirrored, UV Protection, Riding Glasses, Others Round S...',\n",
       " 'Riding Glasses Wrap-around Sunglasses (Free Size)',\n",
       " 'UV Protection Aviator, Wayfarer Sunglasses (Free Size)',\n",
       " 'UV Protection Wayfarer Sunglasses (Free Size)',\n",
       " 'UV Protection Aviator Sunglasses (54)',\n",
       " 'UV Protection, Mirrored Retro Square Sunglasses (53)',\n",
       " 'UV Protection Retro Square Sunglasses (Free Size)',\n",
       " 'UV Protection Aviator Sunglasses (58)',\n",
       " 'Mirrored Aviator Sunglasses (55)',\n",
       " 'UV Protection, Riding Glasses Wayfarer Sunglasses (53)',\n",
       " 'UV Protection, Gradient Over-sized Sunglasses (56)',\n",
       " 'UV Protection Wayfarer Sunglasses (32)',\n",
       " 'UV Protection Round Sunglasses (Free Size)',\n",
       " 'UV Protection Aviator Sunglasses (54)',\n",
       " 'UV Protection, Gradient Over-sized Sunglasses (56)',\n",
       " 'UV Protection, Night Vision, Riding Glasses Aviator Sun...',\n",
       " 'UV Protection, Riding Glasses, Mirrored Wayfarer Sungla...',\n",
       " 'UV Protection Wayfarer Sunglasses (53)',\n",
       " 'UV Protection, Gradient Butterfly Sunglasses (52)',\n",
       " 'UV Protection Clubmaster Sunglasses (Free Size)',\n",
       " 'UV Protection, Gradient Rectangular Sunglasses (Free Si...',\n",
       " 'UV Protection, Polarized, Mirrored Rectangular Sunglass...',\n",
       " 'UV Protection, Gradient Oval Sunglasses (58)']"
      ]
     },
     "execution_count": 74,
     "metadata": {},
     "output_type": "execute_result"
    }
   ],
   "source": [
    "Description=[]\n",
    "\n",
    "for i in description:\n",
    "    Description.append(i.text)\n",
    "len(Description)\n",
    "Description"
   ]
  },
  {
   "cell_type": "markdown",
   "id": "dd8b36ff",
   "metadata": {},
   "source": [
    "# Extracting Price"
   ]
  },
  {
   "cell_type": "code",
   "execution_count": 75,
   "id": "208f970c",
   "metadata": {},
   "outputs": [
    {
     "data": {
      "text/plain": [
       "[<selenium.webdriver.remote.webelement.WebElement (session=\"1c45ab4c3e35a99ca3df15d89b36f57b\", element=\"0d45b616-abf6-4ec6-8e90-c81fc05ba49d\")>,\n",
       " <selenium.webdriver.remote.webelement.WebElement (session=\"1c45ab4c3e35a99ca3df15d89b36f57b\", element=\"a997a697-ed14-44f6-9850-4c96c1b51e75\")>,\n",
       " <selenium.webdriver.remote.webelement.WebElement (session=\"1c45ab4c3e35a99ca3df15d89b36f57b\", element=\"9b0d35aa-df98-44f3-bb46-1adb2c948bb6\")>,\n",
       " <selenium.webdriver.remote.webelement.WebElement (session=\"1c45ab4c3e35a99ca3df15d89b36f57b\", element=\"958953d2-2326-4a69-b0e2-847de684cce7\")>,\n",
       " <selenium.webdriver.remote.webelement.WebElement (session=\"1c45ab4c3e35a99ca3df15d89b36f57b\", element=\"9f79de67-9a19-4a7c-a36a-caf9c7e33a9c\")>,\n",
       " <selenium.webdriver.remote.webelement.WebElement (session=\"1c45ab4c3e35a99ca3df15d89b36f57b\", element=\"72d310b2-0e52-4fdc-bb39-b387fc48b9ad\")>,\n",
       " <selenium.webdriver.remote.webelement.WebElement (session=\"1c45ab4c3e35a99ca3df15d89b36f57b\", element=\"d0d1cd52-0a29-413c-b9d9-fd98b93c0ca1\")>,\n",
       " <selenium.webdriver.remote.webelement.WebElement (session=\"1c45ab4c3e35a99ca3df15d89b36f57b\", element=\"cd8bb17b-1220-42e4-886b-a43f40ef9ad6\")>,\n",
       " <selenium.webdriver.remote.webelement.WebElement (session=\"1c45ab4c3e35a99ca3df15d89b36f57b\", element=\"f285b37a-7ca5-42f9-9c33-682b87f12d32\")>,\n",
       " <selenium.webdriver.remote.webelement.WebElement (session=\"1c45ab4c3e35a99ca3df15d89b36f57b\", element=\"6849a5ef-76b5-4405-bbff-26d56853a25e\")>,\n",
       " <selenium.webdriver.remote.webelement.WebElement (session=\"1c45ab4c3e35a99ca3df15d89b36f57b\", element=\"3d552c12-6e5f-4a1e-859f-9af2978c7d11\")>,\n",
       " <selenium.webdriver.remote.webelement.WebElement (session=\"1c45ab4c3e35a99ca3df15d89b36f57b\", element=\"110f95f1-2334-458b-8b3e-a765a8e00b54\")>,\n",
       " <selenium.webdriver.remote.webelement.WebElement (session=\"1c45ab4c3e35a99ca3df15d89b36f57b\", element=\"30e01590-43a7-4ee3-883c-09d05c138438\")>,\n",
       " <selenium.webdriver.remote.webelement.WebElement (session=\"1c45ab4c3e35a99ca3df15d89b36f57b\", element=\"2d5cd0c0-1cf1-4cfd-b912-1f57a341ec56\")>,\n",
       " <selenium.webdriver.remote.webelement.WebElement (session=\"1c45ab4c3e35a99ca3df15d89b36f57b\", element=\"75ac1363-a6b4-4274-bd0b-fbd8ebf71781\")>,\n",
       " <selenium.webdriver.remote.webelement.WebElement (session=\"1c45ab4c3e35a99ca3df15d89b36f57b\", element=\"fbd0b258-837f-4630-b03b-845640db91cf\")>,\n",
       " <selenium.webdriver.remote.webelement.WebElement (session=\"1c45ab4c3e35a99ca3df15d89b36f57b\", element=\"b119bec8-472c-4437-b694-983fd77c806c\")>,\n",
       " <selenium.webdriver.remote.webelement.WebElement (session=\"1c45ab4c3e35a99ca3df15d89b36f57b\", element=\"af6dd9cc-417f-4f0b-acab-9712db1b6600\")>,\n",
       " <selenium.webdriver.remote.webelement.WebElement (session=\"1c45ab4c3e35a99ca3df15d89b36f57b\", element=\"3d020285-38b0-4239-8f72-7edead162e16\")>,\n",
       " <selenium.webdriver.remote.webelement.WebElement (session=\"1c45ab4c3e35a99ca3df15d89b36f57b\", element=\"c1756c41-4e6d-4983-9446-f689873d7f28\")>,\n",
       " <selenium.webdriver.remote.webelement.WebElement (session=\"1c45ab4c3e35a99ca3df15d89b36f57b\", element=\"553d1574-5666-4ca2-9871-5d215576c62f\")>,\n",
       " <selenium.webdriver.remote.webelement.WebElement (session=\"1c45ab4c3e35a99ca3df15d89b36f57b\", element=\"873aaa53-5ca5-41bf-bee0-9d329252343f\")>,\n",
       " <selenium.webdriver.remote.webelement.WebElement (session=\"1c45ab4c3e35a99ca3df15d89b36f57b\", element=\"0aa3ad2e-9533-476f-b526-d0bb6ac773ae\")>,\n",
       " <selenium.webdriver.remote.webelement.WebElement (session=\"1c45ab4c3e35a99ca3df15d89b36f57b\", element=\"14a6d6dc-3a4b-4b63-aab5-ace70b42595b\")>,\n",
       " <selenium.webdriver.remote.webelement.WebElement (session=\"1c45ab4c3e35a99ca3df15d89b36f57b\", element=\"7053a136-c5fa-4a67-a1b8-734dcd72f883\")>,\n",
       " <selenium.webdriver.remote.webelement.WebElement (session=\"1c45ab4c3e35a99ca3df15d89b36f57b\", element=\"caf6701a-0029-461f-89e4-bad17251693a\")>,\n",
       " <selenium.webdriver.remote.webelement.WebElement (session=\"1c45ab4c3e35a99ca3df15d89b36f57b\", element=\"4b87c1b6-8b32-4240-a2d0-f5c9516e3b1d\")>,\n",
       " <selenium.webdriver.remote.webelement.WebElement (session=\"1c45ab4c3e35a99ca3df15d89b36f57b\", element=\"4c775d8a-44bc-4743-9576-d7ded9b6f3e2\")>,\n",
       " <selenium.webdriver.remote.webelement.WebElement (session=\"1c45ab4c3e35a99ca3df15d89b36f57b\", element=\"778f8892-7e36-4f9c-8f22-b467b4122384\")>,\n",
       " <selenium.webdriver.remote.webelement.WebElement (session=\"1c45ab4c3e35a99ca3df15d89b36f57b\", element=\"f2a7e77f-0d8a-4965-a5bd-3f8189756605\")>,\n",
       " <selenium.webdriver.remote.webelement.WebElement (session=\"1c45ab4c3e35a99ca3df15d89b36f57b\", element=\"69e01266-ca66-4477-9a87-09b3df58d8d4\")>,\n",
       " <selenium.webdriver.remote.webelement.WebElement (session=\"1c45ab4c3e35a99ca3df15d89b36f57b\", element=\"71bbeaac-69ff-4b3e-9baf-fd97b67d23fe\")>,\n",
       " <selenium.webdriver.remote.webelement.WebElement (session=\"1c45ab4c3e35a99ca3df15d89b36f57b\", element=\"60bd5d5b-e681-43af-8ac9-f3d459175c21\")>,\n",
       " <selenium.webdriver.remote.webelement.WebElement (session=\"1c45ab4c3e35a99ca3df15d89b36f57b\", element=\"8afa6202-604e-4cfc-8bf4-2ca1c64a3269\")>,\n",
       " <selenium.webdriver.remote.webelement.WebElement (session=\"1c45ab4c3e35a99ca3df15d89b36f57b\", element=\"baae19ec-2f86-497c-bb00-222cd03edc50\")>,\n",
       " <selenium.webdriver.remote.webelement.WebElement (session=\"1c45ab4c3e35a99ca3df15d89b36f57b\", element=\"03689857-3909-4214-abe4-7ea582cda788\")>,\n",
       " <selenium.webdriver.remote.webelement.WebElement (session=\"1c45ab4c3e35a99ca3df15d89b36f57b\", element=\"fdf4a478-cf41-4ded-aa1d-be60d4cbf751\")>,\n",
       " <selenium.webdriver.remote.webelement.WebElement (session=\"1c45ab4c3e35a99ca3df15d89b36f57b\", element=\"da88108a-d5aa-4876-8530-f90094d5eaca\")>,\n",
       " <selenium.webdriver.remote.webelement.WebElement (session=\"1c45ab4c3e35a99ca3df15d89b36f57b\", element=\"28ca33fd-421d-4639-95a7-da58957fb19f\")>,\n",
       " <selenium.webdriver.remote.webelement.WebElement (session=\"1c45ab4c3e35a99ca3df15d89b36f57b\", element=\"6a06467c-6820-4ba1-bbcb-ffa5ec69427e\")>]"
      ]
     },
     "execution_count": 75,
     "metadata": {},
     "output_type": "execute_result"
    }
   ],
   "source": [
    "price_tag=driver.find_elements_by_xpath('//div[@class=\"_30jeq3\"]')\n",
    "price_tag"
   ]
  },
  {
   "cell_type": "code",
   "execution_count": 76,
   "id": "d4758ac7",
   "metadata": {},
   "outputs": [
    {
     "data": {
      "text/plain": [
       "['₹229',\n",
       " '₹349',\n",
       " '₹198',\n",
       " '₹474',\n",
       " '₹369',\n",
       " '₹721',\n",
       " '₹229',\n",
       " '₹389',\n",
       " '₹232',\n",
       " '₹607',\n",
       " '₹271',\n",
       " '₹459',\n",
       " '₹165',\n",
       " '₹169',\n",
       " '₹179',\n",
       " '₹549',\n",
       " '₹263',\n",
       " '₹275',\n",
       " '₹202',\n",
       " '₹664',\n",
       " '₹246',\n",
       " '₹250',\n",
       " '₹317',\n",
       " '₹299',\n",
       " '₹349',\n",
       " '₹379',\n",
       " '₹198',\n",
       " '₹664',\n",
       " '₹225',\n",
       " '₹289',\n",
       " '₹250',\n",
       " '₹664',\n",
       " '₹279',\n",
       " '₹184',\n",
       " '₹220',\n",
       " '₹664',\n",
       " '₹307',\n",
       " '₹399',\n",
       " '₹181',\n",
       " '₹446']"
      ]
     },
     "execution_count": 76,
     "metadata": {},
     "output_type": "execute_result"
    }
   ],
   "source": [
    "price=[]\n",
    "\n",
    "for i in price_tag:\n",
    "    price.append(i.text)\n",
    "len(price)\n",
    "price"
   ]
  },
  {
   "cell_type": "markdown",
   "id": "da0ec4ad",
   "metadata": {},
   "source": [
    "# Clicking on Next Button"
   ]
  },
  {
   "cell_type": "code",
   "execution_count": 77,
   "id": "d3ad8ec1",
   "metadata": {},
   "outputs": [
    {
     "data": {
      "text/plain": [
       "<selenium.webdriver.remote.webelement.WebElement (session=\"1c45ab4c3e35a99ca3df15d89b36f57b\", element=\"02bb9d10-df22-43f3-9b7f-ad7265159f07\")>"
      ]
     },
     "execution_count": 77,
     "metadata": {},
     "output_type": "execute_result"
    }
   ],
   "source": [
    "# clicking using absolute xpath function\n",
    "next_btn= driver.find_element_by_xpath(\"/html/body/div[1]/div/div[3]/div[1]/div[2]/div[12]/div/div/nav/a[11]\")\n",
    "next_btn"
   ]
  },
  {
   "cell_type": "code",
   "execution_count": 78,
   "id": "c221930e",
   "metadata": {},
   "outputs": [],
   "source": [
    "next_btn.click()"
   ]
  },
  {
   "cell_type": "markdown",
   "id": "05efe83e",
   "metadata": {},
   "source": [
    "# Extracting brand name for next page(41-80)"
   ]
  },
  {
   "cell_type": "code",
   "execution_count": 81,
   "id": "bebe78a7",
   "metadata": {},
   "outputs": [
    {
     "data": {
      "text/plain": [
       "[<selenium.webdriver.remote.webelement.WebElement (session=\"1c45ab4c3e35a99ca3df15d89b36f57b\", element=\"6c950fcf-e584-4a27-a001-c7e98c323ebf\")>,\n",
       " <selenium.webdriver.remote.webelement.WebElement (session=\"1c45ab4c3e35a99ca3df15d89b36f57b\", element=\"cd24aa20-e1ea-498f-b140-9db73de43b27\")>,\n",
       " <selenium.webdriver.remote.webelement.WebElement (session=\"1c45ab4c3e35a99ca3df15d89b36f57b\", element=\"ea4c1317-261c-4a76-8813-9a488311eaec\")>,\n",
       " <selenium.webdriver.remote.webelement.WebElement (session=\"1c45ab4c3e35a99ca3df15d89b36f57b\", element=\"611ab66b-5625-40a8-be82-73da3ce196d6\")>,\n",
       " <selenium.webdriver.remote.webelement.WebElement (session=\"1c45ab4c3e35a99ca3df15d89b36f57b\", element=\"3983f651-bf7c-4e23-94ff-44dce3acb41f\")>,\n",
       " <selenium.webdriver.remote.webelement.WebElement (session=\"1c45ab4c3e35a99ca3df15d89b36f57b\", element=\"07c10020-a9bc-419c-a474-fde0efe6646a\")>,\n",
       " <selenium.webdriver.remote.webelement.WebElement (session=\"1c45ab4c3e35a99ca3df15d89b36f57b\", element=\"ade61067-23f1-4c65-a73a-ba3a27a33f73\")>,\n",
       " <selenium.webdriver.remote.webelement.WebElement (session=\"1c45ab4c3e35a99ca3df15d89b36f57b\", element=\"25244eaa-3abd-4cb4-bf64-772d2c72915d\")>,\n",
       " <selenium.webdriver.remote.webelement.WebElement (session=\"1c45ab4c3e35a99ca3df15d89b36f57b\", element=\"a7e0de13-618e-489c-8b80-558b1895a077\")>,\n",
       " <selenium.webdriver.remote.webelement.WebElement (session=\"1c45ab4c3e35a99ca3df15d89b36f57b\", element=\"5f6ab454-008a-4d0b-a2cf-0c36e9252f3e\")>,\n",
       " <selenium.webdriver.remote.webelement.WebElement (session=\"1c45ab4c3e35a99ca3df15d89b36f57b\", element=\"f6012e6a-0f0b-4ac6-abf1-c569814e903c\")>,\n",
       " <selenium.webdriver.remote.webelement.WebElement (session=\"1c45ab4c3e35a99ca3df15d89b36f57b\", element=\"75635a8a-ad4b-4b8c-8719-8a89f151f611\")>,\n",
       " <selenium.webdriver.remote.webelement.WebElement (session=\"1c45ab4c3e35a99ca3df15d89b36f57b\", element=\"c5ea1c3f-a323-4e13-812a-9776e25e2ae4\")>,\n",
       " <selenium.webdriver.remote.webelement.WebElement (session=\"1c45ab4c3e35a99ca3df15d89b36f57b\", element=\"ac55338f-d61d-4772-bc8f-906af6caaa24\")>,\n",
       " <selenium.webdriver.remote.webelement.WebElement (session=\"1c45ab4c3e35a99ca3df15d89b36f57b\", element=\"08bd0fbc-b019-4ab9-b7c4-d226e1af4c74\")>,\n",
       " <selenium.webdriver.remote.webelement.WebElement (session=\"1c45ab4c3e35a99ca3df15d89b36f57b\", element=\"9054af25-aa66-47e9-8bdb-d16496bd6252\")>,\n",
       " <selenium.webdriver.remote.webelement.WebElement (session=\"1c45ab4c3e35a99ca3df15d89b36f57b\", element=\"020c7950-739c-49eb-8652-517ba459517c\")>,\n",
       " <selenium.webdriver.remote.webelement.WebElement (session=\"1c45ab4c3e35a99ca3df15d89b36f57b\", element=\"ddb5a86f-6a5c-4b06-bcfe-0e9ad51805e2\")>,\n",
       " <selenium.webdriver.remote.webelement.WebElement (session=\"1c45ab4c3e35a99ca3df15d89b36f57b\", element=\"8b124215-a9b7-4824-bb6f-3dbd960e088c\")>,\n",
       " <selenium.webdriver.remote.webelement.WebElement (session=\"1c45ab4c3e35a99ca3df15d89b36f57b\", element=\"9f918c41-fe49-4935-b9c0-9e2f83c67fad\")>,\n",
       " <selenium.webdriver.remote.webelement.WebElement (session=\"1c45ab4c3e35a99ca3df15d89b36f57b\", element=\"61ca9339-fcb5-4706-b505-6a20c27456ce\")>,\n",
       " <selenium.webdriver.remote.webelement.WebElement (session=\"1c45ab4c3e35a99ca3df15d89b36f57b\", element=\"781119f2-38f7-4237-9768-13a9ff612b56\")>,\n",
       " <selenium.webdriver.remote.webelement.WebElement (session=\"1c45ab4c3e35a99ca3df15d89b36f57b\", element=\"7f42cbf4-0a4f-4d96-b24d-993561b22466\")>,\n",
       " <selenium.webdriver.remote.webelement.WebElement (session=\"1c45ab4c3e35a99ca3df15d89b36f57b\", element=\"8124ca24-4d97-4d93-976f-d547bf90e0fd\")>,\n",
       " <selenium.webdriver.remote.webelement.WebElement (session=\"1c45ab4c3e35a99ca3df15d89b36f57b\", element=\"595072ec-46b7-4ee5-b14c-141fdc02182e\")>,\n",
       " <selenium.webdriver.remote.webelement.WebElement (session=\"1c45ab4c3e35a99ca3df15d89b36f57b\", element=\"2e977519-5d36-4b73-bd2c-c9e8efe65dd7\")>,\n",
       " <selenium.webdriver.remote.webelement.WebElement (session=\"1c45ab4c3e35a99ca3df15d89b36f57b\", element=\"b9a9b62a-9162-4f9e-9556-8b840fc1abf6\")>,\n",
       " <selenium.webdriver.remote.webelement.WebElement (session=\"1c45ab4c3e35a99ca3df15d89b36f57b\", element=\"22306fd1-3c52-473a-9db8-9d53d89592db\")>,\n",
       " <selenium.webdriver.remote.webelement.WebElement (session=\"1c45ab4c3e35a99ca3df15d89b36f57b\", element=\"8abc325d-eef9-4726-b9f6-132dc3c05d1b\")>,\n",
       " <selenium.webdriver.remote.webelement.WebElement (session=\"1c45ab4c3e35a99ca3df15d89b36f57b\", element=\"d4e4acc8-a697-496a-b5de-e4d25b313cb0\")>,\n",
       " <selenium.webdriver.remote.webelement.WebElement (session=\"1c45ab4c3e35a99ca3df15d89b36f57b\", element=\"9bb4fe8a-d6d4-45cf-ad3b-35c870574d17\")>,\n",
       " <selenium.webdriver.remote.webelement.WebElement (session=\"1c45ab4c3e35a99ca3df15d89b36f57b\", element=\"1e6085d8-3bc3-41e6-b67a-092e102348f8\")>,\n",
       " <selenium.webdriver.remote.webelement.WebElement (session=\"1c45ab4c3e35a99ca3df15d89b36f57b\", element=\"9c3c91d4-1e84-4aa5-82bd-e49450e02430\")>,\n",
       " <selenium.webdriver.remote.webelement.WebElement (session=\"1c45ab4c3e35a99ca3df15d89b36f57b\", element=\"4c086396-7ed8-4343-bee7-ec3c60bd716c\")>,\n",
       " <selenium.webdriver.remote.webelement.WebElement (session=\"1c45ab4c3e35a99ca3df15d89b36f57b\", element=\"7e985a29-197d-4a7a-9efc-0ab6e865325d\")>,\n",
       " <selenium.webdriver.remote.webelement.WebElement (session=\"1c45ab4c3e35a99ca3df15d89b36f57b\", element=\"7bf38a0b-4936-4dfa-ba7d-ad1fff2c0697\")>,\n",
       " <selenium.webdriver.remote.webelement.WebElement (session=\"1c45ab4c3e35a99ca3df15d89b36f57b\", element=\"055f30d9-09be-41cd-a58a-bb427df5d151\")>,\n",
       " <selenium.webdriver.remote.webelement.WebElement (session=\"1c45ab4c3e35a99ca3df15d89b36f57b\", element=\"c4efec3d-a2cd-437d-8f46-82d81587b975\")>,\n",
       " <selenium.webdriver.remote.webelement.WebElement (session=\"1c45ab4c3e35a99ca3df15d89b36f57b\", element=\"5159468a-0518-43c6-82fd-23e94e40128d\")>,\n",
       " <selenium.webdriver.remote.webelement.WebElement (session=\"1c45ab4c3e35a99ca3df15d89b36f57b\", element=\"9ba9181f-23ac-4e1e-b3ed-f4de35c69fd6\")>]"
      ]
     },
     "execution_count": 81,
     "metadata": {},
     "output_type": "execute_result"
    }
   ],
   "source": [
    "# let's extract all web elements having brand name \n",
    "brand_tags = driver.find_elements_by_xpath('//div[@class=\"_2WkVRV\"]')\n",
    "brand_tags"
   ]
  },
  {
   "cell_type": "code",
   "execution_count": 82,
   "id": "1db19eb9",
   "metadata": {},
   "outputs": [
    {
     "data": {
      "text/plain": [
       "['SRPM',\n",
       " 'PHENOMENAL',\n",
       " 'kingsunglasses',\n",
       " 'VILLAIN',\n",
       " 'PHENOMENAL',\n",
       " 'kingsunglasses',\n",
       " 'SHAAH COLLECTIONS',\n",
       " 'ROZZETTA CRAFT',\n",
       " 'New Specs',\n",
       " 'New Specs',\n",
       " 'Rich Club',\n",
       " 'elegante',\n",
       " 'kingsunglasses',\n",
       " 'Fastrack',\n",
       " 'kingsunglasses',\n",
       " 'NuVew',\n",
       " 'GANSTA',\n",
       " 'Singco India',\n",
       " 'PHENOMENAL',\n",
       " 'AISLIN',\n",
       " 'Fastrack',\n",
       " 'PHENOMENAL',\n",
       " 'Elligator',\n",
       " 'ROYAL SON',\n",
       " 'PIRASO',\n",
       " 'Elligator',\n",
       " 'Elligator',\n",
       " 'povty',\n",
       " 'Johaena',\n",
       " 'Silver Kartz',\n",
       " 'ROZZETTA CRAFT',\n",
       " 'SKYZA INDIA',\n",
       " 'kingsunglasses',\n",
       " 'Rich Club',\n",
       " 'Singco India',\n",
       " 'ROYAL SON',\n",
       " 'kingsunglasses',\n",
       " 'Lee Topper',\n",
       " 'SUNBEE',\n",
       " 'ROYAL SON']"
      ]
     },
     "execution_count": 82,
     "metadata": {},
     "output_type": "execute_result"
    }
   ],
   "source": [
    "brand=[]\n",
    "\n",
    "for i in brand_tags:\n",
    "    brand.append(i.text)\n",
    "len(brand)\n",
    "brand"
   ]
  },
  {
   "cell_type": "markdown",
   "id": "c3060960",
   "metadata": {},
   "source": [
    "# Extracting Product Description for next page(41-80)"
   ]
  },
  {
   "cell_type": "code",
   "execution_count": 83,
   "id": "fb981900",
   "metadata": {},
   "outputs": [
    {
     "data": {
      "text/plain": [
       "[<selenium.webdriver.remote.webelement.WebElement (session=\"1c45ab4c3e35a99ca3df15d89b36f57b\", element=\"0c26ccee-e89b-42b3-915e-004ed70a4922\")>,\n",
       " <selenium.webdriver.remote.webelement.WebElement (session=\"1c45ab4c3e35a99ca3df15d89b36f57b\", element=\"deb74236-32c4-4b43-99a7-6b870285baab\")>,\n",
       " <selenium.webdriver.remote.webelement.WebElement (session=\"1c45ab4c3e35a99ca3df15d89b36f57b\", element=\"61a5239e-3dc5-45c3-b774-0f749aa66225\")>,\n",
       " <selenium.webdriver.remote.webelement.WebElement (session=\"1c45ab4c3e35a99ca3df15d89b36f57b\", element=\"0180ce4f-9a13-436d-932b-bd0f80f4f214\")>,\n",
       " <selenium.webdriver.remote.webelement.WebElement (session=\"1c45ab4c3e35a99ca3df15d89b36f57b\", element=\"d511b47c-eb93-453a-8772-ec3b83d596c8\")>,\n",
       " <selenium.webdriver.remote.webelement.WebElement (session=\"1c45ab4c3e35a99ca3df15d89b36f57b\", element=\"a58ed455-f21d-4505-be87-c3ae5c5a69e8\")>,\n",
       " <selenium.webdriver.remote.webelement.WebElement (session=\"1c45ab4c3e35a99ca3df15d89b36f57b\", element=\"932d58c1-9bc3-4e11-af9e-0e1bbf2608ec\")>,\n",
       " <selenium.webdriver.remote.webelement.WebElement (session=\"1c45ab4c3e35a99ca3df15d89b36f57b\", element=\"6c8049fd-2abd-487a-989b-70d250dfa928\")>,\n",
       " <selenium.webdriver.remote.webelement.WebElement (session=\"1c45ab4c3e35a99ca3df15d89b36f57b\", element=\"f92657dd-37c0-4671-9ffe-ca3f0c2f303a\")>,\n",
       " <selenium.webdriver.remote.webelement.WebElement (session=\"1c45ab4c3e35a99ca3df15d89b36f57b\", element=\"c9b65b01-645c-492f-adef-9272cceea489\")>,\n",
       " <selenium.webdriver.remote.webelement.WebElement (session=\"1c45ab4c3e35a99ca3df15d89b36f57b\", element=\"17cab577-3a0c-4a6f-89f1-7d275128d886\")>,\n",
       " <selenium.webdriver.remote.webelement.WebElement (session=\"1c45ab4c3e35a99ca3df15d89b36f57b\", element=\"9c84a958-4dd7-4dec-962b-1f8c8dc44a34\")>,\n",
       " <selenium.webdriver.remote.webelement.WebElement (session=\"1c45ab4c3e35a99ca3df15d89b36f57b\", element=\"0562503f-daf9-43a4-ba03-525d9a3dbfd3\")>,\n",
       " <selenium.webdriver.remote.webelement.WebElement (session=\"1c45ab4c3e35a99ca3df15d89b36f57b\", element=\"e73cd515-3f59-499a-b099-c3d39bfc0bd3\")>,\n",
       " <selenium.webdriver.remote.webelement.WebElement (session=\"1c45ab4c3e35a99ca3df15d89b36f57b\", element=\"a980c90d-cb76-47f4-be78-cde5604b3c3b\")>,\n",
       " <selenium.webdriver.remote.webelement.WebElement (session=\"1c45ab4c3e35a99ca3df15d89b36f57b\", element=\"47f0abca-249d-4330-8b4b-17b7864e308c\")>,\n",
       " <selenium.webdriver.remote.webelement.WebElement (session=\"1c45ab4c3e35a99ca3df15d89b36f57b\", element=\"ab5cb44b-99a0-4c8d-87d9-b9e2ad6914a2\")>,\n",
       " <selenium.webdriver.remote.webelement.WebElement (session=\"1c45ab4c3e35a99ca3df15d89b36f57b\", element=\"60c13f10-c399-4aed-b0e7-1bc34d870b81\")>,\n",
       " <selenium.webdriver.remote.webelement.WebElement (session=\"1c45ab4c3e35a99ca3df15d89b36f57b\", element=\"8c1f25b4-55a6-48f3-a4ee-0d31b3afc1f6\")>,\n",
       " <selenium.webdriver.remote.webelement.WebElement (session=\"1c45ab4c3e35a99ca3df15d89b36f57b\", element=\"3bb87b16-2128-45cb-bc23-d412c75bc3b4\")>,\n",
       " <selenium.webdriver.remote.webelement.WebElement (session=\"1c45ab4c3e35a99ca3df15d89b36f57b\", element=\"ce122c11-0a1d-42e8-81cb-e47ef3849d6f\")>,\n",
       " <selenium.webdriver.remote.webelement.WebElement (session=\"1c45ab4c3e35a99ca3df15d89b36f57b\", element=\"11827783-8584-470c-bb2d-c8a810e51097\")>,\n",
       " <selenium.webdriver.remote.webelement.WebElement (session=\"1c45ab4c3e35a99ca3df15d89b36f57b\", element=\"ec38f3b9-b524-4988-8bd5-7280e535db41\")>,\n",
       " <selenium.webdriver.remote.webelement.WebElement (session=\"1c45ab4c3e35a99ca3df15d89b36f57b\", element=\"c8abe578-a68f-4596-9bbf-954719eb1aa2\")>,\n",
       " <selenium.webdriver.remote.webelement.WebElement (session=\"1c45ab4c3e35a99ca3df15d89b36f57b\", element=\"5a0d4d25-4991-4106-a637-00fa854b2ef8\")>,\n",
       " <selenium.webdriver.remote.webelement.WebElement (session=\"1c45ab4c3e35a99ca3df15d89b36f57b\", element=\"8cd11c91-7fab-4241-bffb-d01ee5910710\")>,\n",
       " <selenium.webdriver.remote.webelement.WebElement (session=\"1c45ab4c3e35a99ca3df15d89b36f57b\", element=\"6d8eb179-ce4a-4a4e-9e6f-6f789788ff8d\")>,\n",
       " <selenium.webdriver.remote.webelement.WebElement (session=\"1c45ab4c3e35a99ca3df15d89b36f57b\", element=\"2ba9828c-f751-4a6d-9e79-f652ca6dd7ee\")>,\n",
       " <selenium.webdriver.remote.webelement.WebElement (session=\"1c45ab4c3e35a99ca3df15d89b36f57b\", element=\"a55536d0-6c36-4dea-9e59-02511f8a9db7\")>,\n",
       " <selenium.webdriver.remote.webelement.WebElement (session=\"1c45ab4c3e35a99ca3df15d89b36f57b\", element=\"aa1074f2-3af0-4b46-96c4-e1088fc9c84b\")>,\n",
       " <selenium.webdriver.remote.webelement.WebElement (session=\"1c45ab4c3e35a99ca3df15d89b36f57b\", element=\"97f13022-f5fd-4115-b24a-9b6a77ba7385\")>,\n",
       " <selenium.webdriver.remote.webelement.WebElement (session=\"1c45ab4c3e35a99ca3df15d89b36f57b\", element=\"41e7884d-916c-4a61-ba02-6f5354512c59\")>,\n",
       " <selenium.webdriver.remote.webelement.WebElement (session=\"1c45ab4c3e35a99ca3df15d89b36f57b\", element=\"30dc3235-09f1-4e4f-bd00-e16b7185cd98\")>,\n",
       " <selenium.webdriver.remote.webelement.WebElement (session=\"1c45ab4c3e35a99ca3df15d89b36f57b\", element=\"5c9fa821-4db5-4558-ba2f-2978f5805f64\")>,\n",
       " <selenium.webdriver.remote.webelement.WebElement (session=\"1c45ab4c3e35a99ca3df15d89b36f57b\", element=\"ff85fc4f-c7e9-4849-9c4f-a1fed99950e0\")>,\n",
       " <selenium.webdriver.remote.webelement.WebElement (session=\"1c45ab4c3e35a99ca3df15d89b36f57b\", element=\"ac48253b-d8a0-43a8-ad3c-ba72eccb9641\")>,\n",
       " <selenium.webdriver.remote.webelement.WebElement (session=\"1c45ab4c3e35a99ca3df15d89b36f57b\", element=\"5181f65f-5c53-4617-9c8a-eae78275dc8d\")>,\n",
       " <selenium.webdriver.remote.webelement.WebElement (session=\"1c45ab4c3e35a99ca3df15d89b36f57b\", element=\"858230a4-8679-4967-935b-7aea9dfdd6ec\")>]"
      ]
     },
     "execution_count": 83,
     "metadata": {},
     "output_type": "execute_result"
    }
   ],
   "source": [
    "description=driver.find_elements_by_xpath('//a[@class=\"IRpwTa\"]')\n",
    "description"
   ]
  },
  {
   "cell_type": "code",
   "execution_count": 84,
   "id": "cfcafda5",
   "metadata": {},
   "outputs": [
    {
     "data": {
      "text/plain": [
       "['UV Protection Wayfarer Sunglasses (53)',\n",
       " 'UV Protection Clubmaster Sunglasses (Free Size)',\n",
       " 'UV Protection Round Sunglasses (54)',\n",
       " 'UV Protection Retro Square Sunglasses (Free Size)',\n",
       " 'Mirrored, UV Protection Wayfarer Sunglasses (Free Size)',\n",
       " 'UV Protection, Polarized, Mirrored Rectangular Sunglass...',\n",
       " 'UV Protection, Gradient Retro Square Sunglasses (Free S...',\n",
       " 'UV Protection Aviator Sunglasses (Free Size)',\n",
       " 'UV Protection, Mirrored Sports Sunglasses (Free Size)',\n",
       " 'Polarized Round Sunglasses (48)',\n",
       " 'UV Protection Oval Sunglasses (Free Size)',\n",
       " 'UV Protection, Night Vision Wayfarer Sunglasses (Free S...',\n",
       " 'Gradient, UV Protection Wayfarer Sunglasses (Free Size)',\n",
       " 'Mirrored, UV Protection Wayfarer, Rectangular Sunglasse...',\n",
       " 'UV Protection Retro Square, Wayfarer Sunglasses (58)',\n",
       " 'UV Protection Aviator Sunglasses (57)',\n",
       " 'Riding Glasses, UV Protection, Others Aviator Sunglasse...',\n",
       " 'UV Protection, Mirrored Clubmaster Sunglasses (Free Siz...',\n",
       " 'UV Protection, Gradient Cat-eye Sunglasses (58)',\n",
       " 'UV Protection Aviator Sunglasses (Free Size)',\n",
       " 'UV Protection, Mirrored Retro Square Sunglasses (53)',\n",
       " 'UV Protection Wayfarer Sunglasses (53)',\n",
       " 'UV Protection Aviator Sunglasses (Free Size)',\n",
       " 'UV Protection Round Sunglasses (50)',\n",
       " 'UV Protection, Gradient Aviator Sunglasses (50)',\n",
       " 'UV Protection Retro Square Sunglasses (Free Size)',\n",
       " 'Riding Glasses, UV Protection Oval Sunglasses (52)',\n",
       " 'UV Protection Aviator Sunglasses (88)',\n",
       " 'UV Protection Retro Square Sunglasses (Free Size)',\n",
       " 'Polarized, UV Protection Sports Sunglasses (Free Size)',\n",
       " 'Mirrored, UV Protection Aviator Sunglasses (56)',\n",
       " 'Polarized Round Sunglasses (48)',\n",
       " 'UV Protection, Riding Glasses, Others Aviator, Wayfarer...',\n",
       " 'UV Protection, Gradient Over-sized Sunglasses (56)',\n",
       " 'UV Protection, Others Round, Aviator Sunglasses (54)',\n",
       " 'UV Protection, Riding Glasses Retro Square, Spectacle ...',\n",
       " 'UV Protection, Polarized, Mirrored Retro Square Sunglas...',\n",
       " 'UV Protection, Gradient Over-sized Sunglasses (56)']"
      ]
     },
     "execution_count": 84,
     "metadata": {},
     "output_type": "execute_result"
    }
   ],
   "source": [
    "Description=[]\n",
    "\n",
    "for i in description:\n",
    "    Description.append(i.text)\n",
    "len(Description)\n",
    "Description"
   ]
  },
  {
   "cell_type": "markdown",
   "id": "036e37a0",
   "metadata": {},
   "source": [
    "# Extracting Price for next page(41-80)"
   ]
  },
  {
   "cell_type": "code",
   "execution_count": 85,
   "id": "d68f32e8",
   "metadata": {},
   "outputs": [
    {
     "data": {
      "text/plain": [
       "[<selenium.webdriver.remote.webelement.WebElement (session=\"1c45ab4c3e35a99ca3df15d89b36f57b\", element=\"fd3b87c7-ff4b-40b3-9389-12c234e75267\")>,\n",
       " <selenium.webdriver.remote.webelement.WebElement (session=\"1c45ab4c3e35a99ca3df15d89b36f57b\", element=\"58bf8cdb-9e1a-4282-811d-746967ac3f5b\")>,\n",
       " <selenium.webdriver.remote.webelement.WebElement (session=\"1c45ab4c3e35a99ca3df15d89b36f57b\", element=\"a5c6fa2f-5e9e-4d50-b2b7-f1cf3dcf6423\")>,\n",
       " <selenium.webdriver.remote.webelement.WebElement (session=\"1c45ab4c3e35a99ca3df15d89b36f57b\", element=\"47736ac4-008e-40a3-96a3-8d3cd79a4d31\")>,\n",
       " <selenium.webdriver.remote.webelement.WebElement (session=\"1c45ab4c3e35a99ca3df15d89b36f57b\", element=\"7cc60f46-eea3-4f9f-b897-06c3cdfef966\")>,\n",
       " <selenium.webdriver.remote.webelement.WebElement (session=\"1c45ab4c3e35a99ca3df15d89b36f57b\", element=\"5fae1022-e790-4736-a279-9ad79360519a\")>,\n",
       " <selenium.webdriver.remote.webelement.WebElement (session=\"1c45ab4c3e35a99ca3df15d89b36f57b\", element=\"bd8d6c11-fe43-42a0-ac0d-7b2b4e11b23e\")>,\n",
       " <selenium.webdriver.remote.webelement.WebElement (session=\"1c45ab4c3e35a99ca3df15d89b36f57b\", element=\"26adf030-72a7-42d0-a1d8-f68389914d1e\")>,\n",
       " <selenium.webdriver.remote.webelement.WebElement (session=\"1c45ab4c3e35a99ca3df15d89b36f57b\", element=\"3e70fc64-ff61-426f-a6fd-039bfdbe7699\")>,\n",
       " <selenium.webdriver.remote.webelement.WebElement (session=\"1c45ab4c3e35a99ca3df15d89b36f57b\", element=\"8c853086-2ecc-48a2-981a-4dd8b1acbde4\")>,\n",
       " <selenium.webdriver.remote.webelement.WebElement (session=\"1c45ab4c3e35a99ca3df15d89b36f57b\", element=\"b1fc33d6-e4c8-411f-9a27-aa8a5becf74b\")>,\n",
       " <selenium.webdriver.remote.webelement.WebElement (session=\"1c45ab4c3e35a99ca3df15d89b36f57b\", element=\"f9e07d50-3c5e-40a2-9469-99272e4b3f26\")>,\n",
       " <selenium.webdriver.remote.webelement.WebElement (session=\"1c45ab4c3e35a99ca3df15d89b36f57b\", element=\"baf0e060-b523-47b1-adfb-75c63d7bb033\")>,\n",
       " <selenium.webdriver.remote.webelement.WebElement (session=\"1c45ab4c3e35a99ca3df15d89b36f57b\", element=\"b38344dc-a145-47b9-9f3e-0685a516fc30\")>,\n",
       " <selenium.webdriver.remote.webelement.WebElement (session=\"1c45ab4c3e35a99ca3df15d89b36f57b\", element=\"8b2fb34b-b60c-4b5e-af40-f38db48b4b7e\")>,\n",
       " <selenium.webdriver.remote.webelement.WebElement (session=\"1c45ab4c3e35a99ca3df15d89b36f57b\", element=\"0e9627a3-84bc-4809-bfe6-a018db11d90f\")>,\n",
       " <selenium.webdriver.remote.webelement.WebElement (session=\"1c45ab4c3e35a99ca3df15d89b36f57b\", element=\"88c03a04-4f23-471b-babf-d3fbeb0dbee1\")>,\n",
       " <selenium.webdriver.remote.webelement.WebElement (session=\"1c45ab4c3e35a99ca3df15d89b36f57b\", element=\"8d43ee9f-e766-4319-ac1f-0eacb329043e\")>,\n",
       " <selenium.webdriver.remote.webelement.WebElement (session=\"1c45ab4c3e35a99ca3df15d89b36f57b\", element=\"9ec3e9d6-328c-4448-9751-b1cf8968c5ae\")>,\n",
       " <selenium.webdriver.remote.webelement.WebElement (session=\"1c45ab4c3e35a99ca3df15d89b36f57b\", element=\"e0040c94-6fff-4e8c-b6dc-2c3b20032607\")>,\n",
       " <selenium.webdriver.remote.webelement.WebElement (session=\"1c45ab4c3e35a99ca3df15d89b36f57b\", element=\"389caec9-f30e-4604-923c-5ae3c77954be\")>,\n",
       " <selenium.webdriver.remote.webelement.WebElement (session=\"1c45ab4c3e35a99ca3df15d89b36f57b\", element=\"1962ab98-c97b-4874-9fa6-a9a690d72718\")>,\n",
       " <selenium.webdriver.remote.webelement.WebElement (session=\"1c45ab4c3e35a99ca3df15d89b36f57b\", element=\"b91b937a-2601-4670-bda3-f14dd527854a\")>,\n",
       " <selenium.webdriver.remote.webelement.WebElement (session=\"1c45ab4c3e35a99ca3df15d89b36f57b\", element=\"7ce8ac8a-bb23-4af7-a262-a2a1320f1d84\")>,\n",
       " <selenium.webdriver.remote.webelement.WebElement (session=\"1c45ab4c3e35a99ca3df15d89b36f57b\", element=\"963f82c2-681f-4183-9d2f-694b3cde3e6d\")>,\n",
       " <selenium.webdriver.remote.webelement.WebElement (session=\"1c45ab4c3e35a99ca3df15d89b36f57b\", element=\"7fe85fae-2bfc-4398-bfc2-da7ff40f6188\")>,\n",
       " <selenium.webdriver.remote.webelement.WebElement (session=\"1c45ab4c3e35a99ca3df15d89b36f57b\", element=\"408d6e08-1c87-40c1-9246-13132b1461b0\")>,\n",
       " <selenium.webdriver.remote.webelement.WebElement (session=\"1c45ab4c3e35a99ca3df15d89b36f57b\", element=\"17f87d75-72d5-46c3-b628-47fffa25b52b\")>,\n",
       " <selenium.webdriver.remote.webelement.WebElement (session=\"1c45ab4c3e35a99ca3df15d89b36f57b\", element=\"41370400-d86f-4408-a753-3115669579a9\")>,\n",
       " <selenium.webdriver.remote.webelement.WebElement (session=\"1c45ab4c3e35a99ca3df15d89b36f57b\", element=\"bbb7427a-4863-41fb-929c-d9fc0c5b8604\")>,\n",
       " <selenium.webdriver.remote.webelement.WebElement (session=\"1c45ab4c3e35a99ca3df15d89b36f57b\", element=\"505b0298-c230-4c27-a643-e2cba2eb5713\")>,\n",
       " <selenium.webdriver.remote.webelement.WebElement (session=\"1c45ab4c3e35a99ca3df15d89b36f57b\", element=\"b624b96d-9cbc-4056-85e6-cd7a9d6bbc07\")>,\n",
       " <selenium.webdriver.remote.webelement.WebElement (session=\"1c45ab4c3e35a99ca3df15d89b36f57b\", element=\"29c6651b-b3d6-4df8-9cd0-bf5073ccbb28\")>,\n",
       " <selenium.webdriver.remote.webelement.WebElement (session=\"1c45ab4c3e35a99ca3df15d89b36f57b\", element=\"b6f1a9c3-a32c-44a6-8a66-8544caacc761\")>,\n",
       " <selenium.webdriver.remote.webelement.WebElement (session=\"1c45ab4c3e35a99ca3df15d89b36f57b\", element=\"969c3cb8-ccc0-430b-870e-dd18fd88074e\")>,\n",
       " <selenium.webdriver.remote.webelement.WebElement (session=\"1c45ab4c3e35a99ca3df15d89b36f57b\", element=\"bdb39b29-b921-4983-ab84-1401d105606b\")>,\n",
       " <selenium.webdriver.remote.webelement.WebElement (session=\"1c45ab4c3e35a99ca3df15d89b36f57b\", element=\"9c38d889-0f77-4925-8fb3-ccfc721ce847\")>,\n",
       " <selenium.webdriver.remote.webelement.WebElement (session=\"1c45ab4c3e35a99ca3df15d89b36f57b\", element=\"12dccfdc-b98c-4b17-bdb9-c6d9df24c16a\")>,\n",
       " <selenium.webdriver.remote.webelement.WebElement (session=\"1c45ab4c3e35a99ca3df15d89b36f57b\", element=\"59b54622-c6d6-4756-9cd7-c672f74b543f\")>,\n",
       " <selenium.webdriver.remote.webelement.WebElement (session=\"1c45ab4c3e35a99ca3df15d89b36f57b\", element=\"141b44b6-1bbc-4e6a-a4b3-a3cc67fdf32c\")>]"
      ]
     },
     "execution_count": 85,
     "metadata": {},
     "output_type": "execute_result"
    }
   ],
   "source": [
    "price_tag=driver.find_elements_by_xpath('//div[@class=\"_30jeq3\"]')\n",
    "price_tag"
   ]
  },
  {
   "cell_type": "code",
   "execution_count": 86,
   "id": "6fd8bdfc",
   "metadata": {},
   "outputs": [
    {
     "data": {
      "text/plain": [
       "['₹220',\n",
       " '₹307',\n",
       " '₹186',\n",
       " '₹1,099',\n",
       " '₹328',\n",
       " '₹231',\n",
       " '₹181',\n",
       " '₹349',\n",
       " '₹183',\n",
       " '₹149',\n",
       " '₹175',\n",
       " '₹389',\n",
       " '₹248',\n",
       " '₹739',\n",
       " '₹250',\n",
       " '₹185',\n",
       " '₹284',\n",
       " '₹219',\n",
       " '₹307',\n",
       " '₹459',\n",
       " '₹671',\n",
       " '₹317',\n",
       " '₹202',\n",
       " '₹664',\n",
       " '₹299',\n",
       " '₹225',\n",
       " '₹269',\n",
       " '₹299',\n",
       " '₹171',\n",
       " '₹255',\n",
       " '₹499',\n",
       " '₹459',\n",
       " '₹219',\n",
       " '₹165',\n",
       " '₹229',\n",
       " '₹664',\n",
       " '₹179',\n",
       " '₹375',\n",
       " '₹233',\n",
       " '₹664']"
      ]
     },
     "execution_count": 86,
     "metadata": {},
     "output_type": "execute_result"
    }
   ],
   "source": [
    "price=[]\n",
    "\n",
    "for i in price_tag:\n",
    "    price.append(i.text)\n",
    "len(price)\n",
    "price"
   ]
  },
  {
   "cell_type": "markdown",
   "id": "58e8b6ad",
   "metadata": {},
   "source": [
    "# clicking on next button"
   ]
  },
  {
   "cell_type": "code",
   "execution_count": 89,
   "id": "44e4488f",
   "metadata": {},
   "outputs": [
    {
     "data": {
      "text/plain": [
       "<selenium.webdriver.remote.webelement.WebElement (session=\"1c45ab4c3e35a99ca3df15d89b36f57b\", element=\"02bb9d10-df22-43f3-9b7f-ad7265159f07\")>"
      ]
     },
     "execution_count": 89,
     "metadata": {},
     "output_type": "execute_result"
    }
   ],
   "source": [
    "# clicking using absolute xpath function\n",
    "next_btn= driver.find_element_by_xpath(\"/html/body/div[1]/div/div[3]/div[1]/div[2]/div[12]/div/div/nav/a[12]\")\n",
    "next_btn"
   ]
  },
  {
   "cell_type": "code",
   "execution_count": 90,
   "id": "0ccf8b0e",
   "metadata": {},
   "outputs": [],
   "source": [
    "next_btn.click()"
   ]
  },
  {
   "cell_type": "markdown",
   "id": "f3a3f145",
   "metadata": {},
   "source": [
    "# Extracting brand name for next page(81-100)"
   ]
  },
  {
   "cell_type": "code",
   "execution_count": 93,
   "id": "aac7b339",
   "metadata": {},
   "outputs": [
    {
     "data": {
      "text/plain": [
       "[<selenium.webdriver.remote.webelement.WebElement (session=\"1c45ab4c3e35a99ca3df15d89b36f57b\", element=\"b6c0b08f-e38f-477e-8a96-b5abf48206dd\")>,\n",
       " <selenium.webdriver.remote.webelement.WebElement (session=\"1c45ab4c3e35a99ca3df15d89b36f57b\", element=\"3ab73acd-395a-4fb4-ab0a-c09d66dd4e7d\")>,\n",
       " <selenium.webdriver.remote.webelement.WebElement (session=\"1c45ab4c3e35a99ca3df15d89b36f57b\", element=\"1a0014d9-fe51-4677-9588-4df7d556d4dd\")>,\n",
       " <selenium.webdriver.remote.webelement.WebElement (session=\"1c45ab4c3e35a99ca3df15d89b36f57b\", element=\"053e239c-c61a-4e7b-8064-c7eab29418f6\")>,\n",
       " <selenium.webdriver.remote.webelement.WebElement (session=\"1c45ab4c3e35a99ca3df15d89b36f57b\", element=\"f032aa21-b8bb-4975-a992-86f8e553c055\")>,\n",
       " <selenium.webdriver.remote.webelement.WebElement (session=\"1c45ab4c3e35a99ca3df15d89b36f57b\", element=\"28bfc195-58a6-46b2-a732-49b2b7ae775e\")>,\n",
       " <selenium.webdriver.remote.webelement.WebElement (session=\"1c45ab4c3e35a99ca3df15d89b36f57b\", element=\"b77d120e-987a-4b0b-845b-a5a6ababbef2\")>,\n",
       " <selenium.webdriver.remote.webelement.WebElement (session=\"1c45ab4c3e35a99ca3df15d89b36f57b\", element=\"aff58242-7ef3-4c25-8f6d-7c5cce7e10b3\")>,\n",
       " <selenium.webdriver.remote.webelement.WebElement (session=\"1c45ab4c3e35a99ca3df15d89b36f57b\", element=\"c6424188-b6f2-4098-a1d9-91fed2e67639\")>,\n",
       " <selenium.webdriver.remote.webelement.WebElement (session=\"1c45ab4c3e35a99ca3df15d89b36f57b\", element=\"e65a3c23-bce3-44fb-8f68-4e41be6f10a6\")>,\n",
       " <selenium.webdriver.remote.webelement.WebElement (session=\"1c45ab4c3e35a99ca3df15d89b36f57b\", element=\"e8dbcdce-1a8b-423f-aed3-4371e0d86213\")>,\n",
       " <selenium.webdriver.remote.webelement.WebElement (session=\"1c45ab4c3e35a99ca3df15d89b36f57b\", element=\"3a36fe31-4232-4b58-b31f-ab141aa869b3\")>,\n",
       " <selenium.webdriver.remote.webelement.WebElement (session=\"1c45ab4c3e35a99ca3df15d89b36f57b\", element=\"2adc8680-d8a2-4a7e-93d0-794cee4bc440\")>,\n",
       " <selenium.webdriver.remote.webelement.WebElement (session=\"1c45ab4c3e35a99ca3df15d89b36f57b\", element=\"55010d68-8be8-4225-84ba-6afd876a1c12\")>,\n",
       " <selenium.webdriver.remote.webelement.WebElement (session=\"1c45ab4c3e35a99ca3df15d89b36f57b\", element=\"75306be6-2bc6-4ef7-9695-becd8af26041\")>,\n",
       " <selenium.webdriver.remote.webelement.WebElement (session=\"1c45ab4c3e35a99ca3df15d89b36f57b\", element=\"226ffdf4-ef95-46d0-aa61-79f90c714d28\")>,\n",
       " <selenium.webdriver.remote.webelement.WebElement (session=\"1c45ab4c3e35a99ca3df15d89b36f57b\", element=\"4ff76381-aec2-4ffb-aff0-cc423f268f7a\")>,\n",
       " <selenium.webdriver.remote.webelement.WebElement (session=\"1c45ab4c3e35a99ca3df15d89b36f57b\", element=\"8ba4c251-2172-4bf0-9257-d4f2705350b8\")>,\n",
       " <selenium.webdriver.remote.webelement.WebElement (session=\"1c45ab4c3e35a99ca3df15d89b36f57b\", element=\"1f2fe6ef-c3e5-4862-ac61-9e1dc17ecef6\")>,\n",
       " <selenium.webdriver.remote.webelement.WebElement (session=\"1c45ab4c3e35a99ca3df15d89b36f57b\", element=\"a7ecf1ff-6e11-4142-8415-ee7eddcd287e\")>,\n",
       " <selenium.webdriver.remote.webelement.WebElement (session=\"1c45ab4c3e35a99ca3df15d89b36f57b\", element=\"1a8383fd-b6ec-4651-930d-facda7c5ec73\")>,\n",
       " <selenium.webdriver.remote.webelement.WebElement (session=\"1c45ab4c3e35a99ca3df15d89b36f57b\", element=\"3dad8141-f128-4f97-a226-26339d363d16\")>,\n",
       " <selenium.webdriver.remote.webelement.WebElement (session=\"1c45ab4c3e35a99ca3df15d89b36f57b\", element=\"3178dc84-12a7-4a0f-81f8-597504712d2a\")>,\n",
       " <selenium.webdriver.remote.webelement.WebElement (session=\"1c45ab4c3e35a99ca3df15d89b36f57b\", element=\"cb12e8f0-e0f7-4f35-a4b9-e12ad1021681\")>,\n",
       " <selenium.webdriver.remote.webelement.WebElement (session=\"1c45ab4c3e35a99ca3df15d89b36f57b\", element=\"9e899f22-4c48-458a-82f9-bcef1949745c\")>,\n",
       " <selenium.webdriver.remote.webelement.WebElement (session=\"1c45ab4c3e35a99ca3df15d89b36f57b\", element=\"4be2d7c8-031e-4de3-ab50-21848482b127\")>,\n",
       " <selenium.webdriver.remote.webelement.WebElement (session=\"1c45ab4c3e35a99ca3df15d89b36f57b\", element=\"494ecb5f-bdf8-4fc1-84ef-8579a12d683c\")>,\n",
       " <selenium.webdriver.remote.webelement.WebElement (session=\"1c45ab4c3e35a99ca3df15d89b36f57b\", element=\"bb71040e-7feb-4426-b61d-c800defad4cc\")>,\n",
       " <selenium.webdriver.remote.webelement.WebElement (session=\"1c45ab4c3e35a99ca3df15d89b36f57b\", element=\"beea8e09-3bf6-4740-9423-fe06d04c1854\")>,\n",
       " <selenium.webdriver.remote.webelement.WebElement (session=\"1c45ab4c3e35a99ca3df15d89b36f57b\", element=\"53ad8667-7f03-4e26-a523-d0baebe73cf2\")>,\n",
       " <selenium.webdriver.remote.webelement.WebElement (session=\"1c45ab4c3e35a99ca3df15d89b36f57b\", element=\"8d40c823-9bf5-4b01-a19d-42b09d1221e1\")>,\n",
       " <selenium.webdriver.remote.webelement.WebElement (session=\"1c45ab4c3e35a99ca3df15d89b36f57b\", element=\"40f124be-24fc-4ebd-90d4-d86d6767c5b1\")>,\n",
       " <selenium.webdriver.remote.webelement.WebElement (session=\"1c45ab4c3e35a99ca3df15d89b36f57b\", element=\"72010944-dcfc-4263-b01b-e4427e5f9185\")>,\n",
       " <selenium.webdriver.remote.webelement.WebElement (session=\"1c45ab4c3e35a99ca3df15d89b36f57b\", element=\"4e5d3f48-33cb-4ad6-91aa-10fdac36ea50\")>,\n",
       " <selenium.webdriver.remote.webelement.WebElement (session=\"1c45ab4c3e35a99ca3df15d89b36f57b\", element=\"51384c89-2505-44ee-b535-599a6b423f0a\")>,\n",
       " <selenium.webdriver.remote.webelement.WebElement (session=\"1c45ab4c3e35a99ca3df15d89b36f57b\", element=\"03bbf863-02b5-47ec-951e-277a9f8fc28f\")>,\n",
       " <selenium.webdriver.remote.webelement.WebElement (session=\"1c45ab4c3e35a99ca3df15d89b36f57b\", element=\"f5f9b539-1037-4854-ac40-436f1e6e3b91\")>,\n",
       " <selenium.webdriver.remote.webelement.WebElement (session=\"1c45ab4c3e35a99ca3df15d89b36f57b\", element=\"0ce02641-c40e-493f-8c8b-45bb33e4da8a\")>,\n",
       " <selenium.webdriver.remote.webelement.WebElement (session=\"1c45ab4c3e35a99ca3df15d89b36f57b\", element=\"084c4013-eeab-4bee-ab9b-4c5bb1d5f091\")>,\n",
       " <selenium.webdriver.remote.webelement.WebElement (session=\"1c45ab4c3e35a99ca3df15d89b36f57b\", element=\"31b3ed07-c96b-423e-a813-6b21e959d0fc\")>]"
      ]
     },
     "execution_count": 93,
     "metadata": {},
     "output_type": "execute_result"
    }
   ],
   "source": [
    "# let's extract all web elements having brand name \n",
    "brand_tags = driver.find_elements_by_xpath('//div[@class=\"_2WkVRV\"]')\n",
    "brand_tags[:100]"
   ]
  },
  {
   "cell_type": "code",
   "execution_count": 96,
   "id": "b46f65e4",
   "metadata": {},
   "outputs": [
    {
     "data": {
      "text/plain": [
       "['ROYAL SON',\n",
       " 'hipe',\n",
       " 'Rich Club',\n",
       " 'EYEWEARLABS',\n",
       " 'Elligator',\n",
       " 'Silver Kartz',\n",
       " 'Elligator',\n",
       " 'AISLIN',\n",
       " 'Fastrack',\n",
       " 'GANSTA',\n",
       " 'Rich Club',\n",
       " 'AISLIN',\n",
       " 'kingsunglasses',\n",
       " 'New Specs',\n",
       " 'ROZZETTA CRAFT',\n",
       " 'NuVew',\n",
       " 'ROYAL SON',\n",
       " 'New Specs',\n",
       " 'Singco India',\n",
       " 'NuVew',\n",
       " 'Elligator',\n",
       " 'Fastrack',\n",
       " 'Elligator',\n",
       " 'NuVew',\n",
       " 'hipe',\n",
       " 'hipe',\n",
       " 'kingsunglasses',\n",
       " 'ROYAL SON',\n",
       " 'agera',\n",
       " 'DEIXELS',\n",
       " 'NuVew',\n",
       " 'NuVew',\n",
       " 'ROZZETTA CRAFT',\n",
       " 'SUNBEE',\n",
       " 'DEIXELS',\n",
       " 'AISLIN',\n",
       " 'ROZZETTA CRAFT',\n",
       " 'povty',\n",
       " 'AISLIN',\n",
       " 'AISLIN']"
      ]
     },
     "execution_count": 96,
     "metadata": {},
     "output_type": "execute_result"
    }
   ],
   "source": [
    "brand=[]\n",
    "\n",
    "for i in brand_tags:\n",
    "    brand.append(i.text)\n",
    "len(brand)\n",
    "brand"
   ]
  },
  {
   "cell_type": "markdown",
   "id": "e983268b",
   "metadata": {},
   "source": [
    "# Extracting Product Description for next page(81-100)"
   ]
  },
  {
   "cell_type": "code",
   "execution_count": 97,
   "id": "a7679e61",
   "metadata": {},
   "outputs": [
    {
     "data": {
      "text/plain": [
       "[<selenium.webdriver.remote.webelement.WebElement (session=\"1c45ab4c3e35a99ca3df15d89b36f57b\", element=\"fc05d841-433b-47eb-a5dc-f119187fa1bc\")>,\n",
       " <selenium.webdriver.remote.webelement.WebElement (session=\"1c45ab4c3e35a99ca3df15d89b36f57b\", element=\"e1a8a6eb-fbf4-4a05-b8ec-0fc67f7ce0de\")>,\n",
       " <selenium.webdriver.remote.webelement.WebElement (session=\"1c45ab4c3e35a99ca3df15d89b36f57b\", element=\"9a9a7b83-42a6-437f-8da6-44556bbde9cb\")>,\n",
       " <selenium.webdriver.remote.webelement.WebElement (session=\"1c45ab4c3e35a99ca3df15d89b36f57b\", element=\"aa0c2801-24c7-41c2-8f25-3ac3e14f1df8\")>,\n",
       " <selenium.webdriver.remote.webelement.WebElement (session=\"1c45ab4c3e35a99ca3df15d89b36f57b\", element=\"346cda35-11fa-4119-beb0-570adb042fe9\")>,\n",
       " <selenium.webdriver.remote.webelement.WebElement (session=\"1c45ab4c3e35a99ca3df15d89b36f57b\", element=\"fa2abb96-06c0-42b2-aebb-8d3e40cf8415\")>,\n",
       " <selenium.webdriver.remote.webelement.WebElement (session=\"1c45ab4c3e35a99ca3df15d89b36f57b\", element=\"68fe2067-a837-41c8-8e70-84d37568cd04\")>,\n",
       " <selenium.webdriver.remote.webelement.WebElement (session=\"1c45ab4c3e35a99ca3df15d89b36f57b\", element=\"47a3f535-8ba9-4957-8ad0-06f0c51d011b\")>,\n",
       " <selenium.webdriver.remote.webelement.WebElement (session=\"1c45ab4c3e35a99ca3df15d89b36f57b\", element=\"055cbc8a-42ec-4fea-914e-796316d0bf62\")>,\n",
       " <selenium.webdriver.remote.webelement.WebElement (session=\"1c45ab4c3e35a99ca3df15d89b36f57b\", element=\"e28f2356-7099-4103-ae79-df39aee26f7b\")>,\n",
       " <selenium.webdriver.remote.webelement.WebElement (session=\"1c45ab4c3e35a99ca3df15d89b36f57b\", element=\"1e4b45e0-0e24-49d3-a35c-416d2a2a02d5\")>,\n",
       " <selenium.webdriver.remote.webelement.WebElement (session=\"1c45ab4c3e35a99ca3df15d89b36f57b\", element=\"b9e54441-185b-4e26-a06b-06d9738e5c29\")>,\n",
       " <selenium.webdriver.remote.webelement.WebElement (session=\"1c45ab4c3e35a99ca3df15d89b36f57b\", element=\"bfc6b553-f1e7-461d-bf59-dc4254e1f325\")>,\n",
       " <selenium.webdriver.remote.webelement.WebElement (session=\"1c45ab4c3e35a99ca3df15d89b36f57b\", element=\"e02e6102-ed2f-49f0-a456-601673670232\")>,\n",
       " <selenium.webdriver.remote.webelement.WebElement (session=\"1c45ab4c3e35a99ca3df15d89b36f57b\", element=\"109ee657-3e89-4117-a5a9-ea0cc236fc65\")>,\n",
       " <selenium.webdriver.remote.webelement.WebElement (session=\"1c45ab4c3e35a99ca3df15d89b36f57b\", element=\"f80f62fb-01f3-43d8-92ee-aa7fdf086691\")>,\n",
       " <selenium.webdriver.remote.webelement.WebElement (session=\"1c45ab4c3e35a99ca3df15d89b36f57b\", element=\"06f2748b-84d3-4ec7-bbbe-736431786490\")>,\n",
       " <selenium.webdriver.remote.webelement.WebElement (session=\"1c45ab4c3e35a99ca3df15d89b36f57b\", element=\"da7072dc-b662-4a4d-a536-69116dff6455\")>,\n",
       " <selenium.webdriver.remote.webelement.WebElement (session=\"1c45ab4c3e35a99ca3df15d89b36f57b\", element=\"4ef22311-e594-4b83-8e1e-84e290e02d3a\")>,\n",
       " <selenium.webdriver.remote.webelement.WebElement (session=\"1c45ab4c3e35a99ca3df15d89b36f57b\", element=\"1120dadd-9995-4aff-8b83-8b43ed3ddcf1\")>,\n",
       " <selenium.webdriver.remote.webelement.WebElement (session=\"1c45ab4c3e35a99ca3df15d89b36f57b\", element=\"b58d216a-ffc7-4bd9-9827-ef3f4ec589a8\")>,\n",
       " <selenium.webdriver.remote.webelement.WebElement (session=\"1c45ab4c3e35a99ca3df15d89b36f57b\", element=\"52dec803-c464-4f27-ac0e-7a1dee529778\")>,\n",
       " <selenium.webdriver.remote.webelement.WebElement (session=\"1c45ab4c3e35a99ca3df15d89b36f57b\", element=\"ad5f482e-4556-4d7c-95cd-5321aba279bb\")>,\n",
       " <selenium.webdriver.remote.webelement.WebElement (session=\"1c45ab4c3e35a99ca3df15d89b36f57b\", element=\"f0a8a9ea-13f8-49fa-95dd-cd83d46fdc54\")>,\n",
       " <selenium.webdriver.remote.webelement.WebElement (session=\"1c45ab4c3e35a99ca3df15d89b36f57b\", element=\"e9faae6e-98f6-4d18-b209-a362fcea3bd4\")>,\n",
       " <selenium.webdriver.remote.webelement.WebElement (session=\"1c45ab4c3e35a99ca3df15d89b36f57b\", element=\"c1c66e05-f754-443f-b176-d4b23d95970a\")>,\n",
       " <selenium.webdriver.remote.webelement.WebElement (session=\"1c45ab4c3e35a99ca3df15d89b36f57b\", element=\"3c24ae7d-76b4-4409-adc1-4b186d991666\")>,\n",
       " <selenium.webdriver.remote.webelement.WebElement (session=\"1c45ab4c3e35a99ca3df15d89b36f57b\", element=\"bb0ec154-7fff-409b-83fb-1bbc14d85cb6\")>,\n",
       " <selenium.webdriver.remote.webelement.WebElement (session=\"1c45ab4c3e35a99ca3df15d89b36f57b\", element=\"a2386aca-ce56-4abc-b880-73d416d9eacc\")>,\n",
       " <selenium.webdriver.remote.webelement.WebElement (session=\"1c45ab4c3e35a99ca3df15d89b36f57b\", element=\"d0978715-b737-4520-974a-9f90ee3f86df\")>,\n",
       " <selenium.webdriver.remote.webelement.WebElement (session=\"1c45ab4c3e35a99ca3df15d89b36f57b\", element=\"a22a50f5-1650-41f0-8c88-63241eec111e\")>,\n",
       " <selenium.webdriver.remote.webelement.WebElement (session=\"1c45ab4c3e35a99ca3df15d89b36f57b\", element=\"67ba5238-789d-4072-b85b-2d04a677ab59\")>,\n",
       " <selenium.webdriver.remote.webelement.WebElement (session=\"1c45ab4c3e35a99ca3df15d89b36f57b\", element=\"a909a557-a2e6-49c0-8f39-156efd843749\")>,\n",
       " <selenium.webdriver.remote.webelement.WebElement (session=\"1c45ab4c3e35a99ca3df15d89b36f57b\", element=\"5cd4f169-c72c-48f1-8f50-d8311e7decd4\")>,\n",
       " <selenium.webdriver.remote.webelement.WebElement (session=\"1c45ab4c3e35a99ca3df15d89b36f57b\", element=\"c092d146-3152-4885-9b51-0b813e26b82f\")>,\n",
       " <selenium.webdriver.remote.webelement.WebElement (session=\"1c45ab4c3e35a99ca3df15d89b36f57b\", element=\"643e6a05-bc01-435b-96d8-dd3d471258b9\")>,\n",
       " <selenium.webdriver.remote.webelement.WebElement (session=\"1c45ab4c3e35a99ca3df15d89b36f57b\", element=\"704686b3-fc74-495b-8950-284e521588f7\")>,\n",
       " <selenium.webdriver.remote.webelement.WebElement (session=\"1c45ab4c3e35a99ca3df15d89b36f57b\", element=\"15d0c108-c56e-4b3e-87ab-520588448cb3\")>,\n",
       " <selenium.webdriver.remote.webelement.WebElement (session=\"1c45ab4c3e35a99ca3df15d89b36f57b\", element=\"a75dc97a-f02b-471b-854f-7651b9e3722b\")>]"
      ]
     },
     "execution_count": 97,
     "metadata": {},
     "output_type": "execute_result"
    }
   ],
   "source": [
    "description=driver.find_elements_by_xpath('//a[@class=\"IRpwTa\"]')\n",
    "description"
   ]
  },
  {
   "cell_type": "code",
   "execution_count": 98,
   "id": "7a36d1c2",
   "metadata": {},
   "outputs": [
    {
     "data": {
      "text/plain": [
       "['Mirrored Aviator Sunglasses (55)',\n",
       " 'UV Protection Sports Sunglasses (Free Size)',\n",
       " 'UV Protection Round Sunglasses (48)',\n",
       " 'UV Protection Round, Oval Sunglasses (54)',\n",
       " 'UV Protection Oval Sunglasses (56)',\n",
       " 'UV Protection Wayfarer Sunglasses (53)',\n",
       " 'Polarized, UV Protection, Gradient Aviator Sunglasses (...',\n",
       " 'Polarized Retro Square Sunglasses (Free Size)',\n",
       " 'Night Vision, Riding Glasses Wayfarer Sunglasses (53)',\n",
       " 'UV Protection, Polarized Oval, Retro Square Sunglasses ...',\n",
       " 'UV Protection, Mirrored Aviator Sunglasses (60)',\n",
       " 'Mirrored, UV Protection Wayfarer Sunglasses (53)',\n",
       " 'UV Protection Wayfarer Sunglasses (Free Size)',\n",
       " 'UV Protection, Gradient Round Sunglasses (Free Size)',\n",
       " 'UV Protection, Gradient, Night Vision, Mirrored Aviator...',\n",
       " 'Mirrored Aviator Sunglasses (Free Size)',\n",
       " 'UV Protection Rectangular Sunglasses (Free Size)',\n",
       " 'Gradient, Toughened Glass Lens, UV Protection Retro Squ...',\n",
       " 'UV Protection, Mirrored, Gradient Cat-eye Sunglasses (6...',\n",
       " 'Mirrored Wayfarer Sunglasses (50)',\n",
       " 'UV Protection Aviator Sunglasses (58)',\n",
       " 'UV Protection Retro Square, Aviator Sunglasses (54)',\n",
       " 'UV Protection Sports Sunglasses (73)',\n",
       " 'Mirrored, Gradient, Riding Glasses Round Sunglasses (55...',\n",
       " 'UV Protection, Gradient, Mirrored, Riding Glasses Aviat...',\n",
       " 'UV Protection, Mirrored Round Sunglasses (Free Size)',\n",
       " 'UV Protection, Gradient Butterfly Sunglasses (55)',\n",
       " 'UV Protection, Gradient Aviator Sunglasses (55)',\n",
       " 'Polarized, UV Protection, Riding Glasses Wayfarer Sungl...',\n",
       " 'UV Protection Sports Sunglasses (62)',\n",
       " 'UV Protection Cat-eye Sunglasses (60)',\n",
       " 'UV Protection, Gradient Retro Square Sunglasses (Free S...',\n",
       " 'UV Protection, Polarized, Mirrored Wayfarer Sunglasses ...',\n",
       " 'UV Protection Rectangular Sunglasses (Free Size)',\n",
       " 'UV Protection, Gradient Butterfly, Wayfarer Sunglasses ...',\n",
       " 'UV Protection, Gradient Rectangular Sunglasses (Free Si...',\n",
       " 'UV Protection Retro Square Sunglasses (Free Size)',\n",
       " 'UV Protection Wayfarer Sunglasses (58)',\n",
       " 'UV Protection Oval Sunglasses (60)']"
      ]
     },
     "execution_count": 98,
     "metadata": {},
     "output_type": "execute_result"
    }
   ],
   "source": [
    "Description=[]\n",
    "\n",
    "for i in description:\n",
    "    Description.append(i.text)\n",
    "len(Description)\n",
    "Description"
   ]
  },
  {
   "cell_type": "markdown",
   "id": "4c08fcaf",
   "metadata": {},
   "source": [
    "# Exracting price for next page (81-100)"
   ]
  },
  {
   "cell_type": "code",
   "execution_count": 99,
   "id": "bcf8fb2c",
   "metadata": {},
   "outputs": [
    {
     "data": {
      "text/plain": [
       "[<selenium.webdriver.remote.webelement.WebElement (session=\"1c45ab4c3e35a99ca3df15d89b36f57b\", element=\"8a04a5c2-f84c-4f9d-95ed-692437b729df\")>,\n",
       " <selenium.webdriver.remote.webelement.WebElement (session=\"1c45ab4c3e35a99ca3df15d89b36f57b\", element=\"0a9ce5c2-fd52-452e-a1cb-397660cb34eb\")>,\n",
       " <selenium.webdriver.remote.webelement.WebElement (session=\"1c45ab4c3e35a99ca3df15d89b36f57b\", element=\"d62762ab-c35b-430d-91db-240e29a3e28c\")>,\n",
       " <selenium.webdriver.remote.webelement.WebElement (session=\"1c45ab4c3e35a99ca3df15d89b36f57b\", element=\"d592ec48-e3cb-47cc-820c-334f080955b3\")>,\n",
       " <selenium.webdriver.remote.webelement.WebElement (session=\"1c45ab4c3e35a99ca3df15d89b36f57b\", element=\"17bf4950-0ad6-44ea-be3d-2f23788256d5\")>,\n",
       " <selenium.webdriver.remote.webelement.WebElement (session=\"1c45ab4c3e35a99ca3df15d89b36f57b\", element=\"2d215134-7add-4da7-bf12-65f1e3f0cac7\")>,\n",
       " <selenium.webdriver.remote.webelement.WebElement (session=\"1c45ab4c3e35a99ca3df15d89b36f57b\", element=\"bdc011ff-3209-4a3e-a908-09e8ae267f04\")>,\n",
       " <selenium.webdriver.remote.webelement.WebElement (session=\"1c45ab4c3e35a99ca3df15d89b36f57b\", element=\"92794e84-c621-433b-a07a-73adcaea2cad\")>,\n",
       " <selenium.webdriver.remote.webelement.WebElement (session=\"1c45ab4c3e35a99ca3df15d89b36f57b\", element=\"950ec74b-29f7-481e-a4cc-1ebb6f7419ce\")>,\n",
       " <selenium.webdriver.remote.webelement.WebElement (session=\"1c45ab4c3e35a99ca3df15d89b36f57b\", element=\"e7e4fcd5-6847-440c-8009-53a6e09423bd\")>,\n",
       " <selenium.webdriver.remote.webelement.WebElement (session=\"1c45ab4c3e35a99ca3df15d89b36f57b\", element=\"fa3e957a-308e-4d0b-9728-18f1840c4fb2\")>,\n",
       " <selenium.webdriver.remote.webelement.WebElement (session=\"1c45ab4c3e35a99ca3df15d89b36f57b\", element=\"a829e43e-3487-4f82-9db0-d43966ad7493\")>,\n",
       " <selenium.webdriver.remote.webelement.WebElement (session=\"1c45ab4c3e35a99ca3df15d89b36f57b\", element=\"0ef3a972-024d-42d8-9bc9-0e0e9a020a7e\")>,\n",
       " <selenium.webdriver.remote.webelement.WebElement (session=\"1c45ab4c3e35a99ca3df15d89b36f57b\", element=\"80049ddc-5f5e-42ec-9fef-58da491a475c\")>,\n",
       " <selenium.webdriver.remote.webelement.WebElement (session=\"1c45ab4c3e35a99ca3df15d89b36f57b\", element=\"fc629e20-eab7-4d75-bf32-9457ef1cf478\")>,\n",
       " <selenium.webdriver.remote.webelement.WebElement (session=\"1c45ab4c3e35a99ca3df15d89b36f57b\", element=\"daba7c74-8914-4663-96e1-94f88d6f2f92\")>,\n",
       " <selenium.webdriver.remote.webelement.WebElement (session=\"1c45ab4c3e35a99ca3df15d89b36f57b\", element=\"8cad367a-e52d-4a5a-8011-95979780edb6\")>,\n",
       " <selenium.webdriver.remote.webelement.WebElement (session=\"1c45ab4c3e35a99ca3df15d89b36f57b\", element=\"944ad2aa-eb3e-4c1c-bf15-9939746c8848\")>,\n",
       " <selenium.webdriver.remote.webelement.WebElement (session=\"1c45ab4c3e35a99ca3df15d89b36f57b\", element=\"f6d2985f-32f7-47a2-83a3-81987fece9fe\")>,\n",
       " <selenium.webdriver.remote.webelement.WebElement (session=\"1c45ab4c3e35a99ca3df15d89b36f57b\", element=\"76841656-7523-43fa-9591-053a946ab3ea\")>,\n",
       " <selenium.webdriver.remote.webelement.WebElement (session=\"1c45ab4c3e35a99ca3df15d89b36f57b\", element=\"64ecff98-6f5c-46cf-bc54-18a40dd75873\")>,\n",
       " <selenium.webdriver.remote.webelement.WebElement (session=\"1c45ab4c3e35a99ca3df15d89b36f57b\", element=\"1075dc6b-629e-461f-aa25-4789e5585151\")>,\n",
       " <selenium.webdriver.remote.webelement.WebElement (session=\"1c45ab4c3e35a99ca3df15d89b36f57b\", element=\"7e418d42-c951-4ca4-a720-dc8f8b9bc02c\")>,\n",
       " <selenium.webdriver.remote.webelement.WebElement (session=\"1c45ab4c3e35a99ca3df15d89b36f57b\", element=\"68243694-c6ac-480c-9781-00a9c86ecb80\")>,\n",
       " <selenium.webdriver.remote.webelement.WebElement (session=\"1c45ab4c3e35a99ca3df15d89b36f57b\", element=\"f4d96ae1-720e-449e-befc-f79debee5a64\")>,\n",
       " <selenium.webdriver.remote.webelement.WebElement (session=\"1c45ab4c3e35a99ca3df15d89b36f57b\", element=\"16fe18f0-54fb-41a4-a00e-63cf06387bbd\")>,\n",
       " <selenium.webdriver.remote.webelement.WebElement (session=\"1c45ab4c3e35a99ca3df15d89b36f57b\", element=\"91e9c481-ff49-4ed1-85fd-93ee8c215f17\")>,\n",
       " <selenium.webdriver.remote.webelement.WebElement (session=\"1c45ab4c3e35a99ca3df15d89b36f57b\", element=\"b6679ada-7acb-4e44-b040-c46fdd32fc14\")>,\n",
       " <selenium.webdriver.remote.webelement.WebElement (session=\"1c45ab4c3e35a99ca3df15d89b36f57b\", element=\"9d8649b4-d5cb-43dd-b021-f940d6ba2faa\")>,\n",
       " <selenium.webdriver.remote.webelement.WebElement (session=\"1c45ab4c3e35a99ca3df15d89b36f57b\", element=\"c6522fce-cd4e-4743-8945-29325c914a62\")>,\n",
       " <selenium.webdriver.remote.webelement.WebElement (session=\"1c45ab4c3e35a99ca3df15d89b36f57b\", element=\"39db025d-ef7b-4307-8020-145591111b65\")>,\n",
       " <selenium.webdriver.remote.webelement.WebElement (session=\"1c45ab4c3e35a99ca3df15d89b36f57b\", element=\"ccb3a1aa-063a-42c5-9049-3de1b3d5a96e\")>,\n",
       " <selenium.webdriver.remote.webelement.WebElement (session=\"1c45ab4c3e35a99ca3df15d89b36f57b\", element=\"7caf4489-b687-476b-a110-329e090460c1\")>,\n",
       " <selenium.webdriver.remote.webelement.WebElement (session=\"1c45ab4c3e35a99ca3df15d89b36f57b\", element=\"216c55c8-1e0c-46ab-bced-8bc95336ca98\")>,\n",
       " <selenium.webdriver.remote.webelement.WebElement (session=\"1c45ab4c3e35a99ca3df15d89b36f57b\", element=\"a801812f-f96a-48dc-83df-7ee92dbc0028\")>,\n",
       " <selenium.webdriver.remote.webelement.WebElement (session=\"1c45ab4c3e35a99ca3df15d89b36f57b\", element=\"b7f2c892-549e-4660-926e-bb0e6715867f\")>,\n",
       " <selenium.webdriver.remote.webelement.WebElement (session=\"1c45ab4c3e35a99ca3df15d89b36f57b\", element=\"e91a6d6f-fac1-4c74-9c63-2411fd0a4a7d\")>,\n",
       " <selenium.webdriver.remote.webelement.WebElement (session=\"1c45ab4c3e35a99ca3df15d89b36f57b\", element=\"9c785bb8-3bb5-4a98-83f5-eac287f5d3d6\")>,\n",
       " <selenium.webdriver.remote.webelement.WebElement (session=\"1c45ab4c3e35a99ca3df15d89b36f57b\", element=\"99ea58d5-b2b4-4a9a-81e0-8fa8244d5572\")>,\n",
       " <selenium.webdriver.remote.webelement.WebElement (session=\"1c45ab4c3e35a99ca3df15d89b36f57b\", element=\"0009859f-bcfa-47b3-90a6-6f5ac92bf8a4\")>]"
      ]
     },
     "execution_count": 99,
     "metadata": {},
     "output_type": "execute_result"
    }
   ],
   "source": [
    "price_tag=driver.find_elements_by_xpath('//div[@class=\"_30jeq3\"]')\n",
    "price_tag"
   ]
  },
  {
   "cell_type": "code",
   "execution_count": 100,
   "id": "77f23a61",
   "metadata": {},
   "outputs": [
    {
     "data": {
      "text/plain": [
       "['₹379',\n",
       " '₹287',\n",
       " '₹260',\n",
       " '₹1,598',\n",
       " '₹260',\n",
       " '₹284',\n",
       " '₹182',\n",
       " '₹1,185',\n",
       " '₹607',\n",
       " '₹198',\n",
       " '₹179',\n",
       " '₹816',\n",
       " '₹249',\n",
       " '₹189',\n",
       " '₹360',\n",
       " '₹374',\n",
       " '₹379',\n",
       " '₹162',\n",
       " '₹664',\n",
       " '₹262',\n",
       " '₹243',\n",
       " '₹1,299',\n",
       " '₹246',\n",
       " '₹364',\n",
       " '₹189',\n",
       " '₹209',\n",
       " '₹229',\n",
       " '₹664',\n",
       " '₹229',\n",
       " '₹236',\n",
       " '₹327',\n",
       " '₹395',\n",
       " '₹349',\n",
       " '₹243',\n",
       " '₹199',\n",
       " '₹446',\n",
       " '₹348',\n",
       " '₹299',\n",
       " '₹441',\n",
       " '₹687']"
      ]
     },
     "execution_count": 100,
     "metadata": {},
     "output_type": "execute_result"
    }
   ],
   "source": [
    "price=[]\n",
    "\n",
    "for i in price_tag:\n",
    "    price.append(i.text)\n",
    "len(price)\n",
    "price"
   ]
  },
  {
   "cell_type": "markdown",
   "id": "b1c57730",
   "metadata": {},
   "source": [
    "# Answer_5"
   ]
  },
  {
   "cell_type": "code",
   "execution_count": 108,
   "id": "84af6619",
   "metadata": {},
   "outputs": [],
   "source": [
    "driver=webdriver.Chrome('chromedriver.exe')"
   ]
  },
  {
   "cell_type": "code",
   "execution_count": 109,
   "id": "723d3557",
   "metadata": {},
   "outputs": [],
   "source": [
    "url4='https://www.flipkart.com/apple-iphone-11-black-64-gb-includes-earpods-power-adapter/product-reviews/itm0f37c2240b217?pid=MOBFKCTSVZAXUHGR&lid=LSTMOBFKCTSVZAXUHGR3IXQLM&marketplace=FLIPKART'\n",
    "driver.get(url4)"
   ]
  },
  {
   "cell_type": "markdown",
   "id": "fbb338b6",
   "metadata": {},
   "source": [
    "# Extracting rating(0-10)"
   ]
  },
  {
   "cell_type": "code",
   "execution_count": 110,
   "id": "1ab2864c",
   "metadata": {},
   "outputs": [
    {
     "data": {
      "text/plain": [
       "[<selenium.webdriver.remote.webelement.WebElement (session=\"c755c4d0ae7b0975a9711fc22cab5e52\", element=\"ae89283c-5444-4caf-a455-00dc6e897251\")>,\n",
       " <selenium.webdriver.remote.webelement.WebElement (session=\"c755c4d0ae7b0975a9711fc22cab5e52\", element=\"b8dab6b0-1dfe-4c6b-a255-675fac7d11f3\")>,\n",
       " <selenium.webdriver.remote.webelement.WebElement (session=\"c755c4d0ae7b0975a9711fc22cab5e52\", element=\"0d68a763-d8cd-441f-9309-6527ff7cd641\")>,\n",
       " <selenium.webdriver.remote.webelement.WebElement (session=\"c755c4d0ae7b0975a9711fc22cab5e52\", element=\"929a4264-4392-4495-b392-9fb39528f49a\")>,\n",
       " <selenium.webdriver.remote.webelement.WebElement (session=\"c755c4d0ae7b0975a9711fc22cab5e52\", element=\"8a21828f-0bbf-4ab1-928a-a055ebfc509a\")>,\n",
       " <selenium.webdriver.remote.webelement.WebElement (session=\"c755c4d0ae7b0975a9711fc22cab5e52\", element=\"ac992943-e1f5-43c5-8c8e-16487aec1011\")>,\n",
       " <selenium.webdriver.remote.webelement.WebElement (session=\"c755c4d0ae7b0975a9711fc22cab5e52\", element=\"9f6c02ff-a5f9-4efc-a0b0-a708b64b4992\")>,\n",
       " <selenium.webdriver.remote.webelement.WebElement (session=\"c755c4d0ae7b0975a9711fc22cab5e52\", element=\"6590d7ca-f761-47be-92c8-fe9739ba844d\")>,\n",
       " <selenium.webdriver.remote.webelement.WebElement (session=\"c755c4d0ae7b0975a9711fc22cab5e52\", element=\"7ba6fb04-b31a-4d12-8a51-c39e3347d15e\")>,\n",
       " <selenium.webdriver.remote.webelement.WebElement (session=\"c755c4d0ae7b0975a9711fc22cab5e52\", element=\"3259251c-2cd6-43d2-9e17-df09997abf12\")>]"
      ]
     },
     "execution_count": 110,
     "metadata": {},
     "output_type": "execute_result"
    }
   ],
   "source": [
    "rating = driver.find_elements_by_xpath('//div[@class=\"_3LWZlK _1BLPMq\"]')\n",
    "rating"
   ]
  },
  {
   "cell_type": "code",
   "execution_count": 111,
   "id": "7b7395ab",
   "metadata": {},
   "outputs": [
    {
     "data": {
      "text/plain": [
       "['5', '5', '5', '5', '5', '5', '5', '5', '4', '5']"
      ]
     },
     "execution_count": 111,
     "metadata": {},
     "output_type": "execute_result"
    }
   ],
   "source": [
    "ratings=[]\n",
    "\n",
    "for i in rating:\n",
    "    ratings.append(i.text)\n",
    "len(ratings)\n",
    "ratings"
   ]
  },
  {
   "cell_type": "markdown",
   "id": "bff474c6",
   "metadata": {},
   "source": [
    "# Extracting Review summary(0-10)"
   ]
  },
  {
   "cell_type": "code",
   "execution_count": 115,
   "id": "8b17a310",
   "metadata": {},
   "outputs": [
    {
     "data": {
      "text/plain": [
       "[<selenium.webdriver.remote.webelement.WebElement (session=\"c755c4d0ae7b0975a9711fc22cab5e52\", element=\"bf135b69-204d-4b4b-8e2f-9786db079167\")>,\n",
       " <selenium.webdriver.remote.webelement.WebElement (session=\"c755c4d0ae7b0975a9711fc22cab5e52\", element=\"43723134-915e-4f5b-8da0-7c171a6af1b0\")>,\n",
       " <selenium.webdriver.remote.webelement.WebElement (session=\"c755c4d0ae7b0975a9711fc22cab5e52\", element=\"0bd365d6-b0c1-4a58-8a72-bbdef643f849\")>,\n",
       " <selenium.webdriver.remote.webelement.WebElement (session=\"c755c4d0ae7b0975a9711fc22cab5e52\", element=\"c5c2ae5f-bf9c-4406-a501-dff5dcd4692e\")>,\n",
       " <selenium.webdriver.remote.webelement.WebElement (session=\"c755c4d0ae7b0975a9711fc22cab5e52\", element=\"784652c2-1d81-41d5-bdf0-aa5115d4ecbf\")>,\n",
       " <selenium.webdriver.remote.webelement.WebElement (session=\"c755c4d0ae7b0975a9711fc22cab5e52\", element=\"ed38b015-5f7f-4876-b33b-502c8c6283b8\")>,\n",
       " <selenium.webdriver.remote.webelement.WebElement (session=\"c755c4d0ae7b0975a9711fc22cab5e52\", element=\"df11ff5b-a321-4e6b-99ac-2518e55d9dec\")>,\n",
       " <selenium.webdriver.remote.webelement.WebElement (session=\"c755c4d0ae7b0975a9711fc22cab5e52\", element=\"a905aae8-1b41-4f3e-a25a-0d03deb3a94c\")>,\n",
       " <selenium.webdriver.remote.webelement.WebElement (session=\"c755c4d0ae7b0975a9711fc22cab5e52\", element=\"d5d5633c-38cd-45f6-846f-219616b5d573\")>,\n",
       " <selenium.webdriver.remote.webelement.WebElement (session=\"c755c4d0ae7b0975a9711fc22cab5e52\", element=\"6a71e5ce-4c5b-4d7b-8858-6bca975b415f\")>]"
      ]
     },
     "execution_count": 115,
     "metadata": {},
     "output_type": "execute_result"
    }
   ],
   "source": [
    "review_summary = driver.find_elements_by_xpath('//p[@class=\"_2-N8zT\"]')\n",
    "review_summary"
   ]
  },
  {
   "cell_type": "code",
   "execution_count": 116,
   "id": "69159df1",
   "metadata": {},
   "outputs": [
    {
     "data": {
      "text/plain": [
       "['Brilliant',\n",
       " 'Simply awesome',\n",
       " 'Best in the market!',\n",
       " 'Perfect product!',\n",
       " 'Fabulous!',\n",
       " 'Worth every penny',\n",
       " 'Great product',\n",
       " 'Highly recommended',\n",
       " 'Good choice',\n",
       " 'Worth every penny']"
      ]
     },
     "execution_count": 116,
     "metadata": {},
     "output_type": "execute_result"
    }
   ],
   "source": [
    "Review_summary=[]\n",
    "\n",
    "for i in review_summary:\n",
    "    Review_summary.append(i.text)\n",
    "len(Review_summary)\n",
    "Review_summary"
   ]
  },
  {
   "cell_type": "markdown",
   "id": "aeb06e61",
   "metadata": {},
   "source": [
    "# Extracting Full review(0-10)"
   ]
  },
  {
   "cell_type": "code",
   "execution_count": 120,
   "id": "ef9a2650",
   "metadata": {},
   "outputs": [
    {
     "data": {
      "text/plain": [
       "[<selenium.webdriver.remote.webelement.WebElement (session=\"c755c4d0ae7b0975a9711fc22cab5e52\", element=\"8e781609-e752-4f2f-8222-e3e1a0c472ad\")>,\n",
       " <selenium.webdriver.remote.webelement.WebElement (session=\"c755c4d0ae7b0975a9711fc22cab5e52\", element=\"4364b4fd-c8e9-440c-9250-1f4f7e32bdc4\")>,\n",
       " <selenium.webdriver.remote.webelement.WebElement (session=\"c755c4d0ae7b0975a9711fc22cab5e52\", element=\"411c942a-5e28-4dc1-b07b-8a9667a5bb9e\")>,\n",
       " <selenium.webdriver.remote.webelement.WebElement (session=\"c755c4d0ae7b0975a9711fc22cab5e52\", element=\"75fb4876-3945-4b5f-9005-febcaf2c6c02\")>,\n",
       " <selenium.webdriver.remote.webelement.WebElement (session=\"c755c4d0ae7b0975a9711fc22cab5e52\", element=\"50e06ef1-281b-4a12-abaf-335e3840d040\")>,\n",
       " <selenium.webdriver.remote.webelement.WebElement (session=\"c755c4d0ae7b0975a9711fc22cab5e52\", element=\"f3fef240-e094-4bd2-b63c-3050dff537a0\")>,\n",
       " <selenium.webdriver.remote.webelement.WebElement (session=\"c755c4d0ae7b0975a9711fc22cab5e52\", element=\"592a1fe2-0ca9-4e82-9210-0608bdab0f44\")>,\n",
       " <selenium.webdriver.remote.webelement.WebElement (session=\"c755c4d0ae7b0975a9711fc22cab5e52\", element=\"adbd6149-9ad9-403c-89b6-09496bddc65e\")>,\n",
       " <selenium.webdriver.remote.webelement.WebElement (session=\"c755c4d0ae7b0975a9711fc22cab5e52\", element=\"6df226b6-a97f-4c2f-9fd1-419f03e15eb8\")>,\n",
       " <selenium.webdriver.remote.webelement.WebElement (session=\"c755c4d0ae7b0975a9711fc22cab5e52\", element=\"47202046-344e-4313-bf76-948115b71c6c\")>]"
      ]
     },
     "execution_count": 120,
     "metadata": {},
     "output_type": "execute_result"
    }
   ],
   "source": [
    "full_review = driver.find_elements_by_xpath('//div[@class=\"t-ZTKy\"]')\n",
    "full_review"
   ]
  },
  {
   "cell_type": "code",
   "execution_count": 121,
   "id": "a3a8e580",
   "metadata": {},
   "outputs": [
    {
     "data": {
      "text/plain": [
       "['The Best Phone for the Money\\n\\nThe iPhone 11 offers superb cameras, a more durable design and excellent battery life for an affordable price.\\n\\nCompelling ultra-wide camera\\nNew Night mode is excellent\\nLong battery life',\n",
       " 'Really satisfied with the Product I received... It’s totally genuine and the packaging was also really good so if ur planning to buy just go for it.',\n",
       " 'Great iPhone very snappy experience as apple kind. Upgraded from iPhone 7.\\nPros\\n-Camera top class\\n- Battery top performed\\n-Chipset no need to say as apple kind\\n-Security as you expect from apple\\n- Display super bright industry leading colour\\naccuracy and super responsive\\n-Build quality as expect from apple sturdy\\npremium durable beautiful stylish.\\n-Os most stable os in smartphone industry\\n\\nCons\\n-No 5G\\n-Display is not based on OLED technology\\n-Charger headphones and 1 apple stic...\\nREAD MORE',\n",
       " 'Amazing phone with great cameras and better battery which gives you the best performance. I just love the camera .',\n",
       " 'This is my first iOS phone. I am very happy with this product. Very much satisfied with this. I love this phone.',\n",
       " 'Previously I was using one plus 3t it was a great phone\\nAnd then I decided to upgrade I am stuck between Samsung s10 plus or iPhone 11\\nI have seen the specs and everything were good except the display it’s somewhere between 720-1080 and it’s not even an amoled it’s an LCD display\\nBut I decided to go with iPhone because I have never used an IOS device I have Been an android user from the past 9 years I ordered IPhone 11 (128gb) product red\\nMy experience after using 3 weeks\\n1. The delivery ...\\nREAD MORE',\n",
       " 'Amazing Powerful and Durable Gadget.\\n\\nI’m am very happy with the camera picture quality, Amazing face id unlocked in dark room, Strong battery with perfect screen size as you can carry easily in pocket. This is my third iPhone.\\n\\nI shifted from android Samsung Note series to iPhone because of the strong build quality and peace of mind for next 3-4 years.\\n\\nDon’t think to much just go for it and I suggest you to go for minimum 128gb variant or more 256gb.\\n\\nI’ve attached my puppy pics and no fi...\\nREAD MORE',\n",
       " 'What a camera .....just awesome ..you can feel this iPhone just awesome . Good for gaming also ...try pubg in hd it’s just wow',\n",
       " 'So far it’s been an AMAZING experience coming back to iOS after nearly a decade but it’s not as versatile as android though phone is sturdy dropped it accidentally a couple of times and nothing happened fortunately camera is awesome',\n",
       " 'i11 is worthy to buy, too much happy with the product. Thank u flipkart I received the item on time..loved it..']"
      ]
     },
     "execution_count": 121,
     "metadata": {},
     "output_type": "execute_result"
    }
   ],
   "source": [
    "Full_review=[]\n",
    "\n",
    "for i in full_review:\n",
    "    Full_review.append(i.text)\n",
    "len(Full_review)\n",
    "Full_review"
   ]
  },
  {
   "cell_type": "markdown",
   "id": "6c010696",
   "metadata": {},
   "source": [
    "# clicking on next button"
   ]
  },
  {
   "cell_type": "code",
   "execution_count": 122,
   "id": "a977a618",
   "metadata": {},
   "outputs": [
    {
     "data": {
      "text/plain": [
       "<selenium.webdriver.remote.webelement.WebElement (session=\"c755c4d0ae7b0975a9711fc22cab5e52\", element=\"8bf99ce9-ec4e-479e-aabf-dd18ab6d1023\")>"
      ]
     },
     "execution_count": 122,
     "metadata": {},
     "output_type": "execute_result"
    }
   ],
   "source": [
    "# clicking using absolute xpath function\n",
    "next_btn= driver.find_element_by_xpath(\"/html/body/div/div/div[3]/div/div/div[2]/div[13]/div/div/nav/a[11]\")\n",
    "next_btn"
   ]
  },
  {
   "cell_type": "code",
   "execution_count": 123,
   "id": "40937c81",
   "metadata": {},
   "outputs": [],
   "source": [
    "next_btn.click()"
   ]
  },
  {
   "cell_type": "markdown",
   "id": "685576bf",
   "metadata": {},
   "source": [
    "# Extracting rating for 2nd page"
   ]
  },
  {
   "cell_type": "code",
   "execution_count": 124,
   "id": "c353564f",
   "metadata": {},
   "outputs": [
    {
     "data": {
      "text/plain": [
       "[<selenium.webdriver.remote.webelement.WebElement (session=\"c755c4d0ae7b0975a9711fc22cab5e52\", element=\"8b13e59c-4cd4-409e-b0ff-4c17ef814ff8\")>,\n",
       " <selenium.webdriver.remote.webelement.WebElement (session=\"c755c4d0ae7b0975a9711fc22cab5e52\", element=\"c427753c-aaee-48e9-9fa9-af22a274d8c2\")>,\n",
       " <selenium.webdriver.remote.webelement.WebElement (session=\"c755c4d0ae7b0975a9711fc22cab5e52\", element=\"8d0ea384-becf-4180-b949-cb55a21d6376\")>,\n",
       " <selenium.webdriver.remote.webelement.WebElement (session=\"c755c4d0ae7b0975a9711fc22cab5e52\", element=\"f01b330d-c53b-4554-bd9d-21844b48d576\")>,\n",
       " <selenium.webdriver.remote.webelement.WebElement (session=\"c755c4d0ae7b0975a9711fc22cab5e52\", element=\"1ba1a031-1896-488b-82e8-03ad680ccec8\")>,\n",
       " <selenium.webdriver.remote.webelement.WebElement (session=\"c755c4d0ae7b0975a9711fc22cab5e52\", element=\"5f43823c-3a00-4540-ae1b-b288039c7d80\")>,\n",
       " <selenium.webdriver.remote.webelement.WebElement (session=\"c755c4d0ae7b0975a9711fc22cab5e52\", element=\"8ac1fd95-8728-45c8-96db-8120dd611138\")>,\n",
       " <selenium.webdriver.remote.webelement.WebElement (session=\"c755c4d0ae7b0975a9711fc22cab5e52\", element=\"ef25f2d1-e76b-448f-a041-b146badaabcc\")>,\n",
       " <selenium.webdriver.remote.webelement.WebElement (session=\"c755c4d0ae7b0975a9711fc22cab5e52\", element=\"b8f2d77c-aef0-4e37-b3e5-7cf5a2486156\")>,\n",
       " <selenium.webdriver.remote.webelement.WebElement (session=\"c755c4d0ae7b0975a9711fc22cab5e52\", element=\"581fca26-b1bb-42c6-8554-920fd0fe9cf8\")>]"
      ]
     },
     "execution_count": 124,
     "metadata": {},
     "output_type": "execute_result"
    }
   ],
   "source": [
    "rating1 = driver.find_elements_by_xpath('//div[@class=\"_3LWZlK _1BLPMq\"]')\n",
    "rating1"
   ]
  },
  {
   "cell_type": "code",
   "execution_count": 125,
   "id": "fe70cddf",
   "metadata": {},
   "outputs": [
    {
     "data": {
      "text/plain": [
       "['5', '5', '5', '5', '5', '5', '5', '5', '4', '5']"
      ]
     },
     "execution_count": 125,
     "metadata": {},
     "output_type": "execute_result"
    }
   ],
   "source": [
    "ratings_1=[]\n",
    "\n",
    "for i in rating1:\n",
    "    ratings_1.append(i.text)\n",
    "len(ratings_1)\n",
    "ratings_1"
   ]
  },
  {
   "cell_type": "markdown",
   "id": "9a00b4ee",
   "metadata": {},
   "source": [
    "# Extracting Review summary for 2nd page"
   ]
  },
  {
   "cell_type": "code",
   "execution_count": 126,
   "id": "dd1b27d9",
   "metadata": {},
   "outputs": [
    {
     "data": {
      "text/plain": [
       "[<selenium.webdriver.remote.webelement.WebElement (session=\"c755c4d0ae7b0975a9711fc22cab5e52\", element=\"ce0362fa-eaea-483c-bcbc-15a4ced1d67b\")>,\n",
       " <selenium.webdriver.remote.webelement.WebElement (session=\"c755c4d0ae7b0975a9711fc22cab5e52\", element=\"a71bd371-50c9-4e0a-bca3-ab7b0c71b2ed\")>,\n",
       " <selenium.webdriver.remote.webelement.WebElement (session=\"c755c4d0ae7b0975a9711fc22cab5e52\", element=\"c5ec19c6-cbd0-4370-be54-9705d9568c60\")>,\n",
       " <selenium.webdriver.remote.webelement.WebElement (session=\"c755c4d0ae7b0975a9711fc22cab5e52\", element=\"291ccb15-4b89-40cf-9018-d8db4822e125\")>,\n",
       " <selenium.webdriver.remote.webelement.WebElement (session=\"c755c4d0ae7b0975a9711fc22cab5e52\", element=\"92dd3f7c-4032-4606-b604-d3793a4eea07\")>,\n",
       " <selenium.webdriver.remote.webelement.WebElement (session=\"c755c4d0ae7b0975a9711fc22cab5e52\", element=\"2155704c-cf54-4510-ba81-a0190e4ec41e\")>,\n",
       " <selenium.webdriver.remote.webelement.WebElement (session=\"c755c4d0ae7b0975a9711fc22cab5e52\", element=\"e4ba879b-56c5-4434-9e71-8af3999641d3\")>,\n",
       " <selenium.webdriver.remote.webelement.WebElement (session=\"c755c4d0ae7b0975a9711fc22cab5e52\", element=\"ac4e5efc-b100-4823-868e-7d74722f000e\")>,\n",
       " <selenium.webdriver.remote.webelement.WebElement (session=\"c755c4d0ae7b0975a9711fc22cab5e52\", element=\"342ce6a4-3128-4c4c-ad6d-0381ce3a382d\")>,\n",
       " <selenium.webdriver.remote.webelement.WebElement (session=\"c755c4d0ae7b0975a9711fc22cab5e52\", element=\"88159c82-928e-44d0-9d6b-08b4a4d0f7fe\")>]"
      ]
     },
     "execution_count": 126,
     "metadata": {},
     "output_type": "execute_result"
    }
   ],
   "source": [
    "review_summary1 = driver.find_elements_by_xpath('//p[@class=\"_2-N8zT\"]')\n",
    "review_summary1"
   ]
  },
  {
   "cell_type": "code",
   "execution_count": 127,
   "id": "d4abb220",
   "metadata": {},
   "outputs": [
    {
     "data": {
      "text/plain": [
       "['Perfect product!',\n",
       " 'Highly recommended',\n",
       " 'Perfect product!',\n",
       " 'Worth every penny',\n",
       " 'Classy product',\n",
       " 'Worth every penny',\n",
       " 'Terrific',\n",
       " 'Worth every penny',\n",
       " 'Nice product',\n",
       " 'Perfect product!']"
      ]
     },
     "execution_count": 127,
     "metadata": {},
     "output_type": "execute_result"
    }
   ],
   "source": [
    "Review_summary_1=[]\n",
    "\n",
    "for i in review_summary1:\n",
    "    Review_summary_1.append(i.text)\n",
    "len(Review_summary_1)\n",
    "Review_summary_1"
   ]
  },
  {
   "cell_type": "markdown",
   "id": "ccbe7252",
   "metadata": {},
   "source": [
    "# Extracting Full review for 2nd page"
   ]
  },
  {
   "cell_type": "code",
   "execution_count": 128,
   "id": "06d32961",
   "metadata": {},
   "outputs": [
    {
     "data": {
      "text/plain": [
       "[<selenium.webdriver.remote.webelement.WebElement (session=\"c755c4d0ae7b0975a9711fc22cab5e52\", element=\"0492c3ae-1393-488e-ae99-6ae886ee3f4c\")>,\n",
       " <selenium.webdriver.remote.webelement.WebElement (session=\"c755c4d0ae7b0975a9711fc22cab5e52\", element=\"e0ab4404-961f-479a-990e-af3aa8df43e2\")>,\n",
       " <selenium.webdriver.remote.webelement.WebElement (session=\"c755c4d0ae7b0975a9711fc22cab5e52\", element=\"9048a942-3a0f-40ee-a9a6-f6dcded9a50e\")>,\n",
       " <selenium.webdriver.remote.webelement.WebElement (session=\"c755c4d0ae7b0975a9711fc22cab5e52\", element=\"f924325b-91a4-4e09-aec1-966f0e1e49bb\")>,\n",
       " <selenium.webdriver.remote.webelement.WebElement (session=\"c755c4d0ae7b0975a9711fc22cab5e52\", element=\"79127485-d1ac-4237-a775-c9a95c018685\")>,\n",
       " <selenium.webdriver.remote.webelement.WebElement (session=\"c755c4d0ae7b0975a9711fc22cab5e52\", element=\"3b1034ac-46b0-4494-8e8e-9f18e6ce9115\")>,\n",
       " <selenium.webdriver.remote.webelement.WebElement (session=\"c755c4d0ae7b0975a9711fc22cab5e52\", element=\"62cc65db-3456-4c34-b1ad-4c9993bb2483\")>,\n",
       " <selenium.webdriver.remote.webelement.WebElement (session=\"c755c4d0ae7b0975a9711fc22cab5e52\", element=\"88dfb7a5-d4f7-41b0-a036-6c68842ea88f\")>,\n",
       " <selenium.webdriver.remote.webelement.WebElement (session=\"c755c4d0ae7b0975a9711fc22cab5e52\", element=\"3ecf07a6-7266-427a-8cfd-d64ed22cc47b\")>,\n",
       " <selenium.webdriver.remote.webelement.WebElement (session=\"c755c4d0ae7b0975a9711fc22cab5e52\", element=\"6dec79a4-5693-4dc0-bec8-80ca5550444b\")>]"
      ]
     },
     "execution_count": 128,
     "metadata": {},
     "output_type": "execute_result"
    }
   ],
   "source": [
    "full_review1 = driver.find_elements_by_xpath('//div[@class=\"t-ZTKy\"]')\n",
    "full_review1"
   ]
  },
  {
   "cell_type": "code",
   "execution_count": 129,
   "id": "5d34d3c4",
   "metadata": {},
   "outputs": [
    {
     "data": {
      "text/plain": [
       "['Value for money❤️❤️\\nIts awesome mobile phone in the world ...\\nDisplay was very good and bright ..\\nTrust me freinds you r never regret after Buying..\\nJust go for it....\\nI love this phone and i switch to iphone x to 11',\n",
       " \"It's my first time to use iOS phone and I am loving my upgradation 😍😍 I love the color, I love the assebility of the phone....I need to learn more about its functionality, but as far as I have seen, it's quite easy and it has a lot of functions to work on, specially if you are a content writer or a blogger you get a lot of content creation platforms and they are really amazing.\\n\\nThis phone not only for good quality photography but a lot of other task too.😍💯\",\n",
       " \"Iphone is just awesome.. battery backup is very very nice.. continuously for 10 hours we can use it.camera is just awesome.. display is just fab.i love it alot..i had to wait 15 days for it as i pre ordered it..overalll it's worth the price..these all images are clicked by my iPhone..and i love it.\",\n",
       " 'Best budget Iphone till date ❤️ go for it guys without second thought. Let me explain you guys about Camera, Display, battery, and performance.\\n\\nCamera: at this price range there is no comparison of camera, you’ll love the picture quality as well as video quality. I am a Vlogger I wanted an iPhone with 4k video by front camera and I got this phone and I am more than happy 😃\\n\\nBattery: I use this phone roughly as I am active social media person and I have a youtube channel. so the battery ba...\\nREAD MORE',\n",
       " 'Totally in love with this ❤ the camera quality is amazing just love it 😘😘😘 itsss dammnnnnnn amazing... Must buy iPhone 11 this is my best experience ever ☀👌👌🧡🧡🧡🧡🧡 thanku apple ❤',\n",
       " 'It’s been almost a month since I have been using this phone. I upgraded from an iPhone 8. The main issue with my 8 was battery and this phone is just awesome when it comes to battery. It lasts a day and a half for me with my regular use , internet connected always with 4g\\nCan’t move forward without saying this. Battery of this phone is a life saver when I am traveling or at work when I don’t get the option to charge\\nCamera is superb. Front cam selfies and back cam photos are just awesome.\\n...\\nREAD MORE',\n",
       " 'Really worth of money. i just love it. It is the best phone ever.',\n",
       " 'Smooth like butter, camera like fantabulous, sound is crystal clear & its red color is damn attractive, i am just loving it. Must buy if you love photography.\\n\\nLucky to get it in sale, thank you Flipkart.',\n",
       " 'Awesome Phone. Slightly high price but worth. Better than iPhone XR.\\nCamera is superb and wide angle camera is very clear.\\n12MP selfie camera is also very good.\\nA13 Chip gives a very good and smooth performance.',\n",
       " 'Battery backup is extraordinary, camera is decent & performance offered by A13 bionic is awsome. The display is good in practical usage like the visibility of display is very good in direct sun light compare to pro models. Iam extremely satisfied for the money I spent.']"
      ]
     },
     "execution_count": 129,
     "metadata": {},
     "output_type": "execute_result"
    }
   ],
   "source": [
    "Full_review_1=[]\n",
    "\n",
    "for i in full_review1:\n",
    "    Full_review_1.append(i.text)\n",
    "len(Full_review_1)\n",
    "Full_review_1"
   ]
  },
  {
   "cell_type": "markdown",
   "id": "1ec18c31",
   "metadata": {},
   "source": [
    "# Clicking on next button"
   ]
  },
  {
   "cell_type": "code",
   "execution_count": 130,
   "id": "1398358a",
   "metadata": {},
   "outputs": [
    {
     "data": {
      "text/plain": [
       "<selenium.webdriver.remote.webelement.WebElement (session=\"c755c4d0ae7b0975a9711fc22cab5e52\", element=\"e54713fa-7235-4aca-a1ce-db3f792d402d\")>"
      ]
     },
     "execution_count": 130,
     "metadata": {},
     "output_type": "execute_result"
    }
   ],
   "source": [
    "# clicking using absolute xpath function\n",
    "next_btn= driver.find_element_by_xpath(\"/html/body/div/div/div[3]/div/div/div[2]/div[13]/div/div/nav/a[12]\")\n",
    "next_btn"
   ]
  },
  {
   "cell_type": "code",
   "execution_count": 131,
   "id": "1a2de4da",
   "metadata": {},
   "outputs": [],
   "source": [
    "next_btn.click()"
   ]
  },
  {
   "cell_type": "markdown",
   "id": "af18ad77",
   "metadata": {},
   "source": [
    "# Extracting ratings for 3rd page"
   ]
  },
  {
   "cell_type": "code",
   "execution_count": 133,
   "id": "4dab4c4e",
   "metadata": {},
   "outputs": [
    {
     "data": {
      "text/plain": [
       "[<selenium.webdriver.remote.webelement.WebElement (session=\"c755c4d0ae7b0975a9711fc22cab5e52\", element=\"f8884f46-b21d-44e4-8a86-e04a33463cdc\")>,\n",
       " <selenium.webdriver.remote.webelement.WebElement (session=\"c755c4d0ae7b0975a9711fc22cab5e52\", element=\"5b5e6388-ef2b-46f0-a4e7-4eb6d8aa8b23\")>,\n",
       " <selenium.webdriver.remote.webelement.WebElement (session=\"c755c4d0ae7b0975a9711fc22cab5e52\", element=\"252b9662-8b6e-4f36-b8f1-24f4b69e9f53\")>,\n",
       " <selenium.webdriver.remote.webelement.WebElement (session=\"c755c4d0ae7b0975a9711fc22cab5e52\", element=\"948d497b-6f7d-488f-816a-a946e4f1160f\")>,\n",
       " <selenium.webdriver.remote.webelement.WebElement (session=\"c755c4d0ae7b0975a9711fc22cab5e52\", element=\"dcbc4ab4-1db7-4083-8796-ef75819c5845\")>,\n",
       " <selenium.webdriver.remote.webelement.WebElement (session=\"c755c4d0ae7b0975a9711fc22cab5e52\", element=\"6792fc94-7a93-4916-902f-3985217af1bf\")>,\n",
       " <selenium.webdriver.remote.webelement.WebElement (session=\"c755c4d0ae7b0975a9711fc22cab5e52\", element=\"b87ed018-ce56-40cb-aa5a-37fc4fa5b476\")>,\n",
       " <selenium.webdriver.remote.webelement.WebElement (session=\"c755c4d0ae7b0975a9711fc22cab5e52\", element=\"6d467b92-099b-427b-9d7b-a565650e2a7c\")>,\n",
       " <selenium.webdriver.remote.webelement.WebElement (session=\"c755c4d0ae7b0975a9711fc22cab5e52\", element=\"813daafa-5b86-4e3d-b7e6-2a3bc9cbbf8c\")>]"
      ]
     },
     "execution_count": 133,
     "metadata": {},
     "output_type": "execute_result"
    }
   ],
   "source": [
    "rating2 = driver.find_elements_by_xpath('//div[@class=\"_3LWZlK _1BLPMq\"]')\n",
    "rating2"
   ]
  },
  {
   "cell_type": "code",
   "execution_count": 134,
   "id": "fea32674",
   "metadata": {},
   "outputs": [
    {
     "data": {
      "text/plain": [
       "['5', '5', '4', '5', '5', '5', '5', '5', '4']"
      ]
     },
     "execution_count": 134,
     "metadata": {},
     "output_type": "execute_result"
    }
   ],
   "source": [
    "ratings_2=[]\n",
    "\n",
    "for i in rating2:\n",
    "    ratings_2.append(i.text)\n",
    "len(ratings_2)\n",
    "ratings_2"
   ]
  },
  {
   "cell_type": "markdown",
   "id": "7771cc33",
   "metadata": {},
   "source": [
    "# Extracting Review summary for 3rd page"
   ]
  },
  {
   "cell_type": "code",
   "execution_count": 135,
   "id": "f9c0b4e7",
   "metadata": {},
   "outputs": [
    {
     "data": {
      "text/plain": [
       "[<selenium.webdriver.remote.webelement.WebElement (session=\"c755c4d0ae7b0975a9711fc22cab5e52\", element=\"81d8eb63-0571-41c6-a9cb-d55bdf01b242\")>,\n",
       " <selenium.webdriver.remote.webelement.WebElement (session=\"c755c4d0ae7b0975a9711fc22cab5e52\", element=\"0206482f-be83-4585-aa52-54e6b6854d75\")>,\n",
       " <selenium.webdriver.remote.webelement.WebElement (session=\"c755c4d0ae7b0975a9711fc22cab5e52\", element=\"a6662103-0e78-4b42-a09d-fb3ebfb164e3\")>,\n",
       " <selenium.webdriver.remote.webelement.WebElement (session=\"c755c4d0ae7b0975a9711fc22cab5e52\", element=\"2ae916e7-5e7d-4b92-9a43-9c1cff60b816\")>,\n",
       " <selenium.webdriver.remote.webelement.WebElement (session=\"c755c4d0ae7b0975a9711fc22cab5e52\", element=\"6db620eb-af97-4408-af85-a2d5d0586e77\")>,\n",
       " <selenium.webdriver.remote.webelement.WebElement (session=\"c755c4d0ae7b0975a9711fc22cab5e52\", element=\"1e1de9a0-3e15-4651-9ae5-ebd21d21c1b3\")>,\n",
       " <selenium.webdriver.remote.webelement.WebElement (session=\"c755c4d0ae7b0975a9711fc22cab5e52\", element=\"91323a62-f58e-4c3e-a6d4-9636035dd250\")>,\n",
       " <selenium.webdriver.remote.webelement.WebElement (session=\"c755c4d0ae7b0975a9711fc22cab5e52\", element=\"2a131280-a746-42be-aef8-7f348e6bab58\")>,\n",
       " <selenium.webdriver.remote.webelement.WebElement (session=\"c755c4d0ae7b0975a9711fc22cab5e52\", element=\"bd199f32-3c7c-4261-82a7-16d04545cf50\")>,\n",
       " <selenium.webdriver.remote.webelement.WebElement (session=\"c755c4d0ae7b0975a9711fc22cab5e52\", element=\"41bf3cfc-65de-4553-8b82-d3d0d6dfe7a0\")>]"
      ]
     },
     "execution_count": 135,
     "metadata": {},
     "output_type": "execute_result"
    }
   ],
   "source": [
    "review_summary2 = driver.find_elements_by_xpath('//p[@class=\"_2-N8zT\"]')\n",
    "review_summary2"
   ]
  },
  {
   "cell_type": "code",
   "execution_count": 136,
   "id": "ddb446a0",
   "metadata": {},
   "outputs": [
    {
     "data": {
      "text/plain": [
       "['Classy product',\n",
       " 'Brilliant',\n",
       " 'Good choice',\n",
       " 'Wonderful',\n",
       " 'Perfect product!',\n",
       " 'Terrific purchase',\n",
       " 'Terrific purchase',\n",
       " 'Simply awesome',\n",
       " 'Good quality product',\n",
       " 'Very poor']"
      ]
     },
     "execution_count": 136,
     "metadata": {},
     "output_type": "execute_result"
    }
   ],
   "source": [
    "Review_summary_2=[]\n",
    "\n",
    "for i in review_summary2:\n",
    "    Review_summary_2.append(i.text)\n",
    "len(Review_summary_2)\n",
    "Review_summary_2"
   ]
  },
  {
   "cell_type": "markdown",
   "id": "ac884233",
   "metadata": {},
   "source": [
    "# Extracting full review for 3rd page"
   ]
  },
  {
   "cell_type": "code",
   "execution_count": 137,
   "id": "91359ac8",
   "metadata": {},
   "outputs": [
    {
     "data": {
      "text/plain": [
       "[<selenium.webdriver.remote.webelement.WebElement (session=\"c755c4d0ae7b0975a9711fc22cab5e52\", element=\"254e2a65-217b-4b2e-80e8-979737e5084e\")>,\n",
       " <selenium.webdriver.remote.webelement.WebElement (session=\"c755c4d0ae7b0975a9711fc22cab5e52\", element=\"15755913-bed7-4edf-b791-fd3fe552f9a5\")>,\n",
       " <selenium.webdriver.remote.webelement.WebElement (session=\"c755c4d0ae7b0975a9711fc22cab5e52\", element=\"602489cb-ebd3-4fb6-a539-643c6e150cd1\")>,\n",
       " <selenium.webdriver.remote.webelement.WebElement (session=\"c755c4d0ae7b0975a9711fc22cab5e52\", element=\"8f137572-8337-4fd3-816e-c781bc1bb8af\")>,\n",
       " <selenium.webdriver.remote.webelement.WebElement (session=\"c755c4d0ae7b0975a9711fc22cab5e52\", element=\"370ec38c-e61a-4097-a9d9-c5fdf960ffe3\")>,\n",
       " <selenium.webdriver.remote.webelement.WebElement (session=\"c755c4d0ae7b0975a9711fc22cab5e52\", element=\"6f109ceb-ca53-445c-a3c8-591605165e0b\")>,\n",
       " <selenium.webdriver.remote.webelement.WebElement (session=\"c755c4d0ae7b0975a9711fc22cab5e52\", element=\"fee81f23-fec9-4999-a256-2bfe681a3e54\")>,\n",
       " <selenium.webdriver.remote.webelement.WebElement (session=\"c755c4d0ae7b0975a9711fc22cab5e52\", element=\"e0bdff73-ba96-4628-a4e3-1375b4e29f0a\")>,\n",
       " <selenium.webdriver.remote.webelement.WebElement (session=\"c755c4d0ae7b0975a9711fc22cab5e52\", element=\"bd07da48-8cce-4701-9edd-f981ab8aefef\")>,\n",
       " <selenium.webdriver.remote.webelement.WebElement (session=\"c755c4d0ae7b0975a9711fc22cab5e52\", element=\"05ff4ba2-e437-461f-b4e1-4ef66aaee19d\")>]"
      ]
     },
     "execution_count": 137,
     "metadata": {},
     "output_type": "execute_result"
    }
   ],
   "source": [
    "full_review2 = driver.find_elements_by_xpath('//div[@class=\"t-ZTKy\"]')\n",
    "full_review2"
   ]
  },
  {
   "cell_type": "code",
   "execution_count": 138,
   "id": "ce4f0a19",
   "metadata": {},
   "outputs": [
    {
     "data": {
      "text/plain": [
       "['Superb Product !!!\\nA big and worthy upgrade from mi 3S to iphone 11 .\\nTotally loved it !',\n",
       " 'I have migrated from OP 7pro... and trust me, iPhone 11 is totally worth it.. following are the reasons:-\\n1)there is ABSOLUTELY NO ISSUE WITH THE DISPLAY... its crisp, sharp and I found it to be much much better than OP7 pro. Netflix, Prime video all run crisply... you won’t miss a thing. True Tone works flawlessly...the display brightness is perfect. OP have not calibrated their screens properly.\\n2) iPhone 11 series have really good cameras... others have spoken in depth about them.\\n3) bat...\\nREAD MORE',\n",
       " 'Looking so good 👍 😍 super 👌 stylish 😎 phone\\nClean box 📦 good 👍 delivery 👌 fast delivery\\nOriginal box Original iphone 📱 👌 😍😍😍',\n",
       " 'I just directly switch from iphone 6s to iphone 11 .The best premium smartphone I recommend to everyone. Excellent quality and colors the iphone have in 11 series.\\nCamera quality is just awesome and the major feel when we hold in our hands. The sound quality and volume is also higher then the previous models.\\nI will recommend to buy iphone 11 instead of pro models , there is nothing much difference as this model contains everything which fulfill our needs.\\n\\nOnly one thing that I dislike abo...\\nREAD MORE',\n",
       " 'After 1 month use I found camera quality best compared to my previous Samsung note 10+.Display not good as note 10 also charging too slow.Apple should add fast charger like 11 plus and pro.Best phone for daily use',\n",
       " 'Upgraded from iphone 6 to 11 best phone for iphone users battery is much better than other iphones camera is awesome love to use it.camera is so clear in night.',\n",
       " 'The built quality is not very premium.\\nThe battery back is great .\\nThe LCD panel is not so sharp but the brightness level is very High .\\nCamera is super duper awesome.\\nThe red colour which people think is bright is actually very soothing and excellent colour to choose from .\\nThe A13 Bionic chip is really a flagship processor and can beat any phone which even has 12 gb ram .\\nCamera module is very great and looks very stylish.',\n",
       " 'Really good actually this is my first apple product am using its really awesome performance wise excellent. Am really happy with this iphone11',\n",
       " 'it is very good at performance. Camera is best like before and very smooth response even in water. Don’t buy 12 mini buy iPhone 11 , it is far better than 12 mini believe me ! Have a nice day \\uf8ff ☺️',\n",
       " 'Reviewing again after 5 months. At the beginning the battery and performance was good but it degraded soon. Also I was facing heating issues. The mobile will heat up like a stove sometimes. You cannot even play Pubg even in low settings properly, performance is not a problem but heating is. Also if you play that game for 10 mins the brightness will be automatically down due to over heating even when the auto brightness is set to off. This will not be solved even if u manually increase the bri...\\nREAD MORE']"
      ]
     },
     "execution_count": 138,
     "metadata": {},
     "output_type": "execute_result"
    }
   ],
   "source": [
    "Full_review_2=[]\n",
    "\n",
    "for i in full_review2:\n",
    "    Full_review_2.append(i.text)\n",
    "len(Full_review_2)\n",
    "Full_review_2"
   ]
  },
  {
   "cell_type": "markdown",
   "id": "b9b3b18d",
   "metadata": {},
   "source": [
    "we will repeate this process 7 times more to get 100 reviews"
   ]
  },
  {
   "cell_type": "markdown",
   "id": "9b18042d",
   "metadata": {},
   "source": [
    "# Answer_6"
   ]
  },
  {
   "cell_type": "code",
   "execution_count": 2,
   "id": "1cd4e588",
   "metadata": {},
   "outputs": [],
   "source": [
    "driver=webdriver.Chrome('chromedriver.exe')"
   ]
  },
  {
   "cell_type": "code",
   "execution_count": 4,
   "id": "ca33722f",
   "metadata": {},
   "outputs": [],
   "source": [
    "url5='https://www.flipkart.com/'\n",
    "driver.get(url5)"
   ]
  },
  {
   "cell_type": "code",
   "execution_count": 5,
   "id": "3267152c",
   "metadata": {},
   "outputs": [
    {
     "data": {
      "text/plain": [
       "<selenium.webdriver.remote.webelement.WebElement (session=\"ed7bab2cec06cfb26e80f8f0409ae5af\", element=\"b3d2c7a4-0792-49c9-99c7-e6046b6892a4\")>"
      ]
     },
     "execution_count": 5,
     "metadata": {},
     "output_type": "execute_result"
    }
   ],
   "source": [
    "search_bar = driver.find_element_by_class_name('_3704LK')\n",
    "search_bar"
   ]
  },
  {
   "cell_type": "code",
   "execution_count": 6,
   "id": "f84c948d",
   "metadata": {},
   "outputs": [],
   "source": [
    "# write a search bar\n",
    "search_bar.send_keys(\"sneakers\")"
   ]
  },
  {
   "cell_type": "code",
   "execution_count": 8,
   "id": "98ca55bd",
   "metadata": {},
   "outputs": [
    {
     "data": {
      "text/plain": [
       "<selenium.webdriver.remote.webelement.WebElement (session=\"ed7bab2cec06cfb26e80f8f0409ae5af\", element=\"d6046378-6933-48af-8a70-d3bfcbc81b03\")>"
      ]
     },
     "execution_count": 8,
     "metadata": {},
     "output_type": "execute_result"
    }
   ],
   "source": [
    "# clicking using absolute xpath function\n",
    "search_btn= driver.find_element_by_xpath(\"/html/body/div[1]/div/div[1]/div[1]/div[2]/div[2]/form/div/button\")\n",
    "search_btn"
   ]
  },
  {
   "cell_type": "code",
   "execution_count": 9,
   "id": "73ed6940",
   "metadata": {},
   "outputs": [],
   "source": [
    "search_btn.click()"
   ]
  },
  {
   "cell_type": "markdown",
   "id": "75212e69",
   "metadata": {},
   "source": [
    "# Extracting Brand name "
   ]
  },
  {
   "cell_type": "code",
   "execution_count": 10,
   "id": "e39a6701",
   "metadata": {},
   "outputs": [
    {
     "data": {
      "text/plain": [
       "[<selenium.webdriver.remote.webelement.WebElement (session=\"ed7bab2cec06cfb26e80f8f0409ae5af\", element=\"818b20f1-9245-4be4-87e6-a0e1aca2a8a9\")>,\n",
       " <selenium.webdriver.remote.webelement.WebElement (session=\"ed7bab2cec06cfb26e80f8f0409ae5af\", element=\"ac8d77fd-176f-40e1-86ca-cedf31658db7\")>,\n",
       " <selenium.webdriver.remote.webelement.WebElement (session=\"ed7bab2cec06cfb26e80f8f0409ae5af\", element=\"58f7d949-4952-4ae8-9e68-8b678be6223e\")>,\n",
       " <selenium.webdriver.remote.webelement.WebElement (session=\"ed7bab2cec06cfb26e80f8f0409ae5af\", element=\"2b00c4e1-ec9b-400a-90ca-7ac511f2fc1f\")>,\n",
       " <selenium.webdriver.remote.webelement.WebElement (session=\"ed7bab2cec06cfb26e80f8f0409ae5af\", element=\"387d746b-7bb6-43b9-b8e7-1958815ce776\")>,\n",
       " <selenium.webdriver.remote.webelement.WebElement (session=\"ed7bab2cec06cfb26e80f8f0409ae5af\", element=\"2aa2c069-a427-46aa-bfb4-1d54fa66dab8\")>,\n",
       " <selenium.webdriver.remote.webelement.WebElement (session=\"ed7bab2cec06cfb26e80f8f0409ae5af\", element=\"af3167f4-94d8-4c34-8815-4029b0f612f6\")>,\n",
       " <selenium.webdriver.remote.webelement.WebElement (session=\"ed7bab2cec06cfb26e80f8f0409ae5af\", element=\"63d27924-46c3-40f2-890c-6596666d92ac\")>,\n",
       " <selenium.webdriver.remote.webelement.WebElement (session=\"ed7bab2cec06cfb26e80f8f0409ae5af\", element=\"626c9bf7-14a9-498f-9674-5cb2c8a543c3\")>,\n",
       " <selenium.webdriver.remote.webelement.WebElement (session=\"ed7bab2cec06cfb26e80f8f0409ae5af\", element=\"38137956-f599-43e1-979c-630a75878c0a\")>,\n",
       " <selenium.webdriver.remote.webelement.WebElement (session=\"ed7bab2cec06cfb26e80f8f0409ae5af\", element=\"135e9402-e548-457e-b9bf-36dd64d8cec4\")>,\n",
       " <selenium.webdriver.remote.webelement.WebElement (session=\"ed7bab2cec06cfb26e80f8f0409ae5af\", element=\"8671f8a5-f466-4aca-99e7-0259d85365e9\")>,\n",
       " <selenium.webdriver.remote.webelement.WebElement (session=\"ed7bab2cec06cfb26e80f8f0409ae5af\", element=\"7c5daa26-e43b-4428-a42d-efd630f103b6\")>,\n",
       " <selenium.webdriver.remote.webelement.WebElement (session=\"ed7bab2cec06cfb26e80f8f0409ae5af\", element=\"c63b9cf1-a614-41ce-8017-73f1a2987f4d\")>,\n",
       " <selenium.webdriver.remote.webelement.WebElement (session=\"ed7bab2cec06cfb26e80f8f0409ae5af\", element=\"a34f4ca5-2cf0-4c2c-a91a-f574018fe34e\")>,\n",
       " <selenium.webdriver.remote.webelement.WebElement (session=\"ed7bab2cec06cfb26e80f8f0409ae5af\", element=\"b5b5d030-ffb3-494d-8d85-a0cd61711af1\")>,\n",
       " <selenium.webdriver.remote.webelement.WebElement (session=\"ed7bab2cec06cfb26e80f8f0409ae5af\", element=\"b622fa28-119f-40f2-b895-5423bcc64b1d\")>,\n",
       " <selenium.webdriver.remote.webelement.WebElement (session=\"ed7bab2cec06cfb26e80f8f0409ae5af\", element=\"c3f4e99f-fcb0-40a8-bc8a-88d8bad5e6b1\")>,\n",
       " <selenium.webdriver.remote.webelement.WebElement (session=\"ed7bab2cec06cfb26e80f8f0409ae5af\", element=\"6e0bcd63-debd-482a-afe0-c2a568f90b26\")>,\n",
       " <selenium.webdriver.remote.webelement.WebElement (session=\"ed7bab2cec06cfb26e80f8f0409ae5af\", element=\"4b24ab8b-85a0-4629-b990-cf97659b5cab\")>,\n",
       " <selenium.webdriver.remote.webelement.WebElement (session=\"ed7bab2cec06cfb26e80f8f0409ae5af\", element=\"77f8e6a5-0389-4e82-ab52-69683b5e2262\")>,\n",
       " <selenium.webdriver.remote.webelement.WebElement (session=\"ed7bab2cec06cfb26e80f8f0409ae5af\", element=\"826b2952-5b5c-4dce-afb5-453d1b100a73\")>,\n",
       " <selenium.webdriver.remote.webelement.WebElement (session=\"ed7bab2cec06cfb26e80f8f0409ae5af\", element=\"630d0710-7663-478a-b27b-70b2701802c5\")>,\n",
       " <selenium.webdriver.remote.webelement.WebElement (session=\"ed7bab2cec06cfb26e80f8f0409ae5af\", element=\"54f64128-873e-4cd9-8d26-83df4f8bd7b4\")>,\n",
       " <selenium.webdriver.remote.webelement.WebElement (session=\"ed7bab2cec06cfb26e80f8f0409ae5af\", element=\"fd01e868-f8f4-404f-a33b-4d96c1ae6c38\")>,\n",
       " <selenium.webdriver.remote.webelement.WebElement (session=\"ed7bab2cec06cfb26e80f8f0409ae5af\", element=\"f99afad3-f273-4bfe-a386-fcce03dcf091\")>,\n",
       " <selenium.webdriver.remote.webelement.WebElement (session=\"ed7bab2cec06cfb26e80f8f0409ae5af\", element=\"ac473ce1-245d-475a-8211-c4d2e9b617d8\")>,\n",
       " <selenium.webdriver.remote.webelement.WebElement (session=\"ed7bab2cec06cfb26e80f8f0409ae5af\", element=\"d1e01ddc-7d06-444e-bb93-a7a60e642306\")>,\n",
       " <selenium.webdriver.remote.webelement.WebElement (session=\"ed7bab2cec06cfb26e80f8f0409ae5af\", element=\"d5f3fadf-f12c-4b96-b448-28975a99ffd1\")>,\n",
       " <selenium.webdriver.remote.webelement.WebElement (session=\"ed7bab2cec06cfb26e80f8f0409ae5af\", element=\"860f61dd-8322-43ca-b67d-97ae1a1226e8\")>,\n",
       " <selenium.webdriver.remote.webelement.WebElement (session=\"ed7bab2cec06cfb26e80f8f0409ae5af\", element=\"f26e32f4-ea80-4cc3-9d76-22b2a42f9e5f\")>,\n",
       " <selenium.webdriver.remote.webelement.WebElement (session=\"ed7bab2cec06cfb26e80f8f0409ae5af\", element=\"b4c7b0df-8798-45cf-9060-1b5a16a1c963\")>,\n",
       " <selenium.webdriver.remote.webelement.WebElement (session=\"ed7bab2cec06cfb26e80f8f0409ae5af\", element=\"eb395d18-a75c-478f-ba0f-bbc4d5521d44\")>,\n",
       " <selenium.webdriver.remote.webelement.WebElement (session=\"ed7bab2cec06cfb26e80f8f0409ae5af\", element=\"5cdd3dfd-aaea-4a42-b505-9c09bf1c11b6\")>,\n",
       " <selenium.webdriver.remote.webelement.WebElement (session=\"ed7bab2cec06cfb26e80f8f0409ae5af\", element=\"89ceb171-12b7-48f2-adc1-43ac791c42b8\")>,\n",
       " <selenium.webdriver.remote.webelement.WebElement (session=\"ed7bab2cec06cfb26e80f8f0409ae5af\", element=\"29ff8006-703f-4510-bbf7-03923d191eda\")>,\n",
       " <selenium.webdriver.remote.webelement.WebElement (session=\"ed7bab2cec06cfb26e80f8f0409ae5af\", element=\"a97d9425-8a56-49bc-a537-22d4f0dbd6e0\")>,\n",
       " <selenium.webdriver.remote.webelement.WebElement (session=\"ed7bab2cec06cfb26e80f8f0409ae5af\", element=\"0ce9b0a8-f3df-4a7d-9aa3-ac8bc8fa0fb6\")>,\n",
       " <selenium.webdriver.remote.webelement.WebElement (session=\"ed7bab2cec06cfb26e80f8f0409ae5af\", element=\"06f4328d-ce81-4e84-b826-5a434be37217\")>,\n",
       " <selenium.webdriver.remote.webelement.WebElement (session=\"ed7bab2cec06cfb26e80f8f0409ae5af\", element=\"b9e6f402-df9e-4412-82c2-70d8fc01a07b\")>]"
      ]
     },
     "execution_count": 10,
     "metadata": {},
     "output_type": "execute_result"
    }
   ],
   "source": [
    "# let's extract all web elements having brand name \n",
    "brand_tags = driver.find_elements_by_xpath('//div[@class=\"_2WkVRV\"]')\n",
    "brand_tags"
   ]
  },
  {
   "cell_type": "code",
   "execution_count": 11,
   "id": "211909ee",
   "metadata": {},
   "outputs": [
    {
     "data": {
      "text/plain": [
       "['Magnolia',\n",
       " 'Chevit',\n",
       " 'TR',\n",
       " 'World Wear Footwear',\n",
       " 'DUNKASTON',\n",
       " 'Magnolia',\n",
       " 'BRUTON',\n",
       " 'Kraasa',\n",
       " 'KWIK FIT',\n",
       " 'D-SNEAKERZ',\n",
       " 'World Wear Footwear',\n",
       " 'URBANBOX',\n",
       " 'corsac',\n",
       " 'BRUTON',\n",
       " 'luxury fashion',\n",
       " 'BRUTON',\n",
       " 'aadi',\n",
       " 'Shoes Bank',\n",
       " 'Kzaara',\n",
       " 'Numenzo',\n",
       " 'Rzisbo',\n",
       " 'Labbin',\n",
       " 'Kraasa',\n",
       " 'RapidBox',\n",
       " 'BRUTON',\n",
       " 'BRUTON',\n",
       " 'Echor',\n",
       " 'Magnolia',\n",
       " 'India hub',\n",
       " 'Stefano Rads',\n",
       " 'SCATCHITE',\n",
       " 'PUMA',\n",
       " 'RAFTAR FASHION',\n",
       " 'India hub',\n",
       " 'CLYMB',\n",
       " 'Zsyto',\n",
       " 'BRUTON',\n",
       " 'BRUTON',\n",
       " 'World Wear Footwear',\n",
       " 'Chevit']"
      ]
     },
     "execution_count": 11,
     "metadata": {},
     "output_type": "execute_result"
    }
   ],
   "source": [
    "brand=[]\n",
    "\n",
    "for i in brand_tags:\n",
    "    brand.append(i.text)\n",
    "len(brand)\n",
    "brand"
   ]
  },
  {
   "cell_type": "markdown",
   "id": "cf5d7d5c",
   "metadata": {},
   "source": [
    "# Extracting Product Description"
   ]
  },
  {
   "cell_type": "code",
   "execution_count": 12,
   "id": "8d311ebd",
   "metadata": {},
   "outputs": [
    {
     "data": {
      "text/plain": [
       "[<selenium.webdriver.remote.webelement.WebElement (session=\"ed7bab2cec06cfb26e80f8f0409ae5af\", element=\"6ef45b69-5ff3-4254-a67d-f1ee4c16365e\")>,\n",
       " <selenium.webdriver.remote.webelement.WebElement (session=\"ed7bab2cec06cfb26e80f8f0409ae5af\", element=\"feb1c939-1b9c-4100-9150-b4547314afdd\")>,\n",
       " <selenium.webdriver.remote.webelement.WebElement (session=\"ed7bab2cec06cfb26e80f8f0409ae5af\", element=\"609038aa-f3e5-41ac-9660-bb3b8ac2633c\")>,\n",
       " <selenium.webdriver.remote.webelement.WebElement (session=\"ed7bab2cec06cfb26e80f8f0409ae5af\", element=\"40a4d60f-7575-4249-943f-f9d0c1007fa8\")>,\n",
       " <selenium.webdriver.remote.webelement.WebElement (session=\"ed7bab2cec06cfb26e80f8f0409ae5af\", element=\"d2af01d5-db23-4c79-bbc7-8f96a38df0ca\")>,\n",
       " <selenium.webdriver.remote.webelement.WebElement (session=\"ed7bab2cec06cfb26e80f8f0409ae5af\", element=\"c10b72f4-0f9d-40ba-89b4-cf78d3d5ba63\")>,\n",
       " <selenium.webdriver.remote.webelement.WebElement (session=\"ed7bab2cec06cfb26e80f8f0409ae5af\", element=\"24bed21c-d787-4f71-a277-43fe14f7c443\")>,\n",
       " <selenium.webdriver.remote.webelement.WebElement (session=\"ed7bab2cec06cfb26e80f8f0409ae5af\", element=\"839c21f8-0d46-4bd9-bd44-d8092fa40a06\")>,\n",
       " <selenium.webdriver.remote.webelement.WebElement (session=\"ed7bab2cec06cfb26e80f8f0409ae5af\", element=\"9562e489-0e99-4890-8b35-39047b4ea8a2\")>,\n",
       " <selenium.webdriver.remote.webelement.WebElement (session=\"ed7bab2cec06cfb26e80f8f0409ae5af\", element=\"3b421a04-175b-4e4a-815d-6dee24829d1b\")>,\n",
       " <selenium.webdriver.remote.webelement.WebElement (session=\"ed7bab2cec06cfb26e80f8f0409ae5af\", element=\"d23e952f-9e7e-4c67-90be-18d5dade4140\")>,\n",
       " <selenium.webdriver.remote.webelement.WebElement (session=\"ed7bab2cec06cfb26e80f8f0409ae5af\", element=\"37f88c89-8ea4-48ce-892f-41e5fe5b3509\")>,\n",
       " <selenium.webdriver.remote.webelement.WebElement (session=\"ed7bab2cec06cfb26e80f8f0409ae5af\", element=\"8458d86e-c2f1-43b9-901b-3aa792ed8ac1\")>,\n",
       " <selenium.webdriver.remote.webelement.WebElement (session=\"ed7bab2cec06cfb26e80f8f0409ae5af\", element=\"b62db57f-c8a0-4ef5-b585-888de4112b6e\")>,\n",
       " <selenium.webdriver.remote.webelement.WebElement (session=\"ed7bab2cec06cfb26e80f8f0409ae5af\", element=\"cc24d402-4cdf-4f91-aca6-c2986b4ed7e1\")>,\n",
       " <selenium.webdriver.remote.webelement.WebElement (session=\"ed7bab2cec06cfb26e80f8f0409ae5af\", element=\"ac5d80d4-0d92-4470-86f3-111a73e3b808\")>,\n",
       " <selenium.webdriver.remote.webelement.WebElement (session=\"ed7bab2cec06cfb26e80f8f0409ae5af\", element=\"1e99dfc7-5bb1-43c8-939d-d22c79df9a06\")>,\n",
       " <selenium.webdriver.remote.webelement.WebElement (session=\"ed7bab2cec06cfb26e80f8f0409ae5af\", element=\"3125fb75-fc22-42fc-b675-fc593b8d8550\")>,\n",
       " <selenium.webdriver.remote.webelement.WebElement (session=\"ed7bab2cec06cfb26e80f8f0409ae5af\", element=\"fdaf1b5d-3103-4f1a-b510-88952c73acc6\")>,\n",
       " <selenium.webdriver.remote.webelement.WebElement (session=\"ed7bab2cec06cfb26e80f8f0409ae5af\", element=\"85b2d258-e552-4b6f-9630-0db3f8c2aaa9\")>,\n",
       " <selenium.webdriver.remote.webelement.WebElement (session=\"ed7bab2cec06cfb26e80f8f0409ae5af\", element=\"bbdc9735-8701-4a35-92b5-32c3ecd4ae4d\")>,\n",
       " <selenium.webdriver.remote.webelement.WebElement (session=\"ed7bab2cec06cfb26e80f8f0409ae5af\", element=\"f7187c1a-f199-4c95-80d3-8462346a80cc\")>,\n",
       " <selenium.webdriver.remote.webelement.WebElement (session=\"ed7bab2cec06cfb26e80f8f0409ae5af\", element=\"68bde351-43b8-4d11-a8da-7a7247885d15\")>,\n",
       " <selenium.webdriver.remote.webelement.WebElement (session=\"ed7bab2cec06cfb26e80f8f0409ae5af\", element=\"f66a9ec9-7c98-4abc-99f4-5822b0092785\")>,\n",
       " <selenium.webdriver.remote.webelement.WebElement (session=\"ed7bab2cec06cfb26e80f8f0409ae5af\", element=\"db89058c-b32f-49fd-b26d-2966fa503500\")>,\n",
       " <selenium.webdriver.remote.webelement.WebElement (session=\"ed7bab2cec06cfb26e80f8f0409ae5af\", element=\"43145be9-cf39-4db8-b20e-22f542ada826\")>,\n",
       " <selenium.webdriver.remote.webelement.WebElement (session=\"ed7bab2cec06cfb26e80f8f0409ae5af\", element=\"26055601-4250-4288-8053-6e45559a8323\")>,\n",
       " <selenium.webdriver.remote.webelement.WebElement (session=\"ed7bab2cec06cfb26e80f8f0409ae5af\", element=\"b1e8ec30-a918-4b9f-8926-d4aa634d6432\")>,\n",
       " <selenium.webdriver.remote.webelement.WebElement (session=\"ed7bab2cec06cfb26e80f8f0409ae5af\", element=\"ef385377-9f52-4153-b670-aa01bde1b6b1\")>,\n",
       " <selenium.webdriver.remote.webelement.WebElement (session=\"ed7bab2cec06cfb26e80f8f0409ae5af\", element=\"578e7ad6-8417-4798-940d-41e88b5e335d\")>,\n",
       " <selenium.webdriver.remote.webelement.WebElement (session=\"ed7bab2cec06cfb26e80f8f0409ae5af\", element=\"dc50216d-f0c7-4cc0-9003-bda9cc27aed5\")>,\n",
       " <selenium.webdriver.remote.webelement.WebElement (session=\"ed7bab2cec06cfb26e80f8f0409ae5af\", element=\"c416757c-d125-467b-8abc-927eaff2dd10\")>,\n",
       " <selenium.webdriver.remote.webelement.WebElement (session=\"ed7bab2cec06cfb26e80f8f0409ae5af\", element=\"61f53c2b-0ffe-42f0-a18d-46388784fb20\")>,\n",
       " <selenium.webdriver.remote.webelement.WebElement (session=\"ed7bab2cec06cfb26e80f8f0409ae5af\", element=\"b32cf53b-aa64-42d5-92be-3327ab415f0a\")>,\n",
       " <selenium.webdriver.remote.webelement.WebElement (session=\"ed7bab2cec06cfb26e80f8f0409ae5af\", element=\"a66f237b-c36c-411a-905d-de37f7af660e\")>,\n",
       " <selenium.webdriver.remote.webelement.WebElement (session=\"ed7bab2cec06cfb26e80f8f0409ae5af\", element=\"04bdc024-07e6-475b-a924-142adadf93d1\")>]"
      ]
     },
     "execution_count": 12,
     "metadata": {},
     "output_type": "execute_result"
    }
   ],
   "source": [
    "description=driver.find_elements_by_xpath('//a[@class=\"IRpwTa\"]')\n",
    "description"
   ]
  },
  {
   "cell_type": "code",
   "execution_count": 13,
   "id": "85e9c116",
   "metadata": {},
   "outputs": [
    {
     "data": {
      "text/plain": [
       "['Sneakers For Men',\n",
       " 'Super Stylish & Trendy Combo Pack of 02 Pairs Sneakers ...',\n",
       " 'Sneakers For Men',\n",
       " 'Sneakers For Men',\n",
       " 'Sneakers For Men',\n",
       " 'Sneakers For Men',\n",
       " 'Modern Trendy Sneakers Shoes Sneakers For Men',\n",
       " 'Series 7 Sneakers For Men',\n",
       " 'Kwik FIT casual sneaker shoes and partywear shoes Casua...',\n",
       " \"Casual , Partywear Sneakers Shoes For Men's And Boys Wh...\",\n",
       " '5011-Latest Collection Stylish Casual Loafer Sneakers S...',\n",
       " 'STYLISH MENS BLACK AND WHITE SNEAKER Sneakers For Men',\n",
       " 'Sneaker Sneakers For Men',\n",
       " 'Luxury Fashionable casual sneaker shoes Sneakers For Me...',\n",
       " 'Combo Pack Of 4 Casual Shoes Loafer Shoes Sneakers For ...',\n",
       " 'Sneakers For Men',\n",
       " \"White Sneaker For Men's/Boy's Sneakers For Men\",\n",
       " 'Sneakers For Men',\n",
       " 'Sneakers For Men',\n",
       " 'Sneakers For Men',\n",
       " 'Sneakers For Men',\n",
       " 'Shark-41 Sneakers For Men',\n",
       " 'Combo Pack Of 2 Latest Stylish Casual Shoes for Men Lac...',\n",
       " 'Modern & Trendy Collection Combo Pack of 02 Shoes for M...',\n",
       " \"Men's Sneakers Fashion Lightweight Running Shoes Tennis...\",\n",
       " 'Sneakers For Men',\n",
       " 'Luxury Fashionable casual sneaker shoes Sneakers For Me...',\n",
       " 'Sneakers For Men',\n",
       " 'RS-X WINTERIZED Sneakers For Men',\n",
       " 'Sneakers For Men',\n",
       " 'casual sneaker shoes for men kardam&sons Sneakers For M...',\n",
       " 'Sneakers For Men',\n",
       " 'Lattest Sneakers Shoe Sneakers For Men',\n",
       " 'Modern & Trendy Collection Combo Pack of 02 Shoes for M...',\n",
       " 'Latest Collection-1227 Stylish Casual Sports Sneakers F...',\n",
       " '516 Trendy Star Perfect Sneakers For Men']"
      ]
     },
     "execution_count": 13,
     "metadata": {},
     "output_type": "execute_result"
    }
   ],
   "source": [
    "Description=[]\n",
    "\n",
    "for i in description:\n",
    "    Description.append(i.text)\n",
    "len(Description)\n",
    "Description"
   ]
  },
  {
   "cell_type": "markdown",
   "id": "817d8bf8",
   "metadata": {},
   "source": [
    "# Extracting Price"
   ]
  },
  {
   "cell_type": "code",
   "execution_count": 14,
   "id": "3ec10b1a",
   "metadata": {},
   "outputs": [
    {
     "data": {
      "text/plain": [
       "[<selenium.webdriver.remote.webelement.WebElement (session=\"ed7bab2cec06cfb26e80f8f0409ae5af\", element=\"5b295d41-59d5-4416-90ec-8aa0e7ee6e9e\")>,\n",
       " <selenium.webdriver.remote.webelement.WebElement (session=\"ed7bab2cec06cfb26e80f8f0409ae5af\", element=\"f0d1140a-aafa-423e-8dee-dae20ea12810\")>,\n",
       " <selenium.webdriver.remote.webelement.WebElement (session=\"ed7bab2cec06cfb26e80f8f0409ae5af\", element=\"a72f2cfe-032c-4f0f-aceb-50a2c028fab4\")>,\n",
       " <selenium.webdriver.remote.webelement.WebElement (session=\"ed7bab2cec06cfb26e80f8f0409ae5af\", element=\"3f3f59d6-5b12-42dc-9566-13bd6a2d6330\")>,\n",
       " <selenium.webdriver.remote.webelement.WebElement (session=\"ed7bab2cec06cfb26e80f8f0409ae5af\", element=\"a94e959b-02f6-455c-b48a-ebf2dce16c9e\")>,\n",
       " <selenium.webdriver.remote.webelement.WebElement (session=\"ed7bab2cec06cfb26e80f8f0409ae5af\", element=\"3975dab6-5f17-4b48-a06b-8eaa95cfaba5\")>,\n",
       " <selenium.webdriver.remote.webelement.WebElement (session=\"ed7bab2cec06cfb26e80f8f0409ae5af\", element=\"d1d297a6-bd76-44dd-94db-d2b2d06f07c7\")>,\n",
       " <selenium.webdriver.remote.webelement.WebElement (session=\"ed7bab2cec06cfb26e80f8f0409ae5af\", element=\"3cae3f01-0731-40ee-a93f-b8bf43190725\")>,\n",
       " <selenium.webdriver.remote.webelement.WebElement (session=\"ed7bab2cec06cfb26e80f8f0409ae5af\", element=\"fa79826c-755d-4c9e-8c3f-cea62d7e6836\")>,\n",
       " <selenium.webdriver.remote.webelement.WebElement (session=\"ed7bab2cec06cfb26e80f8f0409ae5af\", element=\"7d85d091-dd69-4f3c-b183-a72545458243\")>,\n",
       " <selenium.webdriver.remote.webelement.WebElement (session=\"ed7bab2cec06cfb26e80f8f0409ae5af\", element=\"60379a97-017f-4754-8ddf-00cdb8052439\")>,\n",
       " <selenium.webdriver.remote.webelement.WebElement (session=\"ed7bab2cec06cfb26e80f8f0409ae5af\", element=\"064911a5-bb5a-426d-bb84-1c2428d97b16\")>,\n",
       " <selenium.webdriver.remote.webelement.WebElement (session=\"ed7bab2cec06cfb26e80f8f0409ae5af\", element=\"366d903b-53f7-456d-b178-affec5ead941\")>,\n",
       " <selenium.webdriver.remote.webelement.WebElement (session=\"ed7bab2cec06cfb26e80f8f0409ae5af\", element=\"5900a334-248f-44dc-8630-0ae38210aebd\")>,\n",
       " <selenium.webdriver.remote.webelement.WebElement (session=\"ed7bab2cec06cfb26e80f8f0409ae5af\", element=\"4c1acd6d-a14b-4c4d-8c1e-8dcb4a6e787a\")>,\n",
       " <selenium.webdriver.remote.webelement.WebElement (session=\"ed7bab2cec06cfb26e80f8f0409ae5af\", element=\"3d2e0037-98be-4c10-a89a-1dd656f4531f\")>,\n",
       " <selenium.webdriver.remote.webelement.WebElement (session=\"ed7bab2cec06cfb26e80f8f0409ae5af\", element=\"bce25514-9776-4858-b703-dd52b96bc769\")>,\n",
       " <selenium.webdriver.remote.webelement.WebElement (session=\"ed7bab2cec06cfb26e80f8f0409ae5af\", element=\"35ad3f1b-63f1-43d7-b02b-d1d761e8070d\")>,\n",
       " <selenium.webdriver.remote.webelement.WebElement (session=\"ed7bab2cec06cfb26e80f8f0409ae5af\", element=\"9b00f8b1-b1e9-4ddd-8566-b8044bf54af1\")>,\n",
       " <selenium.webdriver.remote.webelement.WebElement (session=\"ed7bab2cec06cfb26e80f8f0409ae5af\", element=\"28d4240a-497c-4e4b-ba03-1c7bae1014d4\")>,\n",
       " <selenium.webdriver.remote.webelement.WebElement (session=\"ed7bab2cec06cfb26e80f8f0409ae5af\", element=\"e9a85f6b-25ac-4a9a-adc9-ab5c4d68f97d\")>,\n",
       " <selenium.webdriver.remote.webelement.WebElement (session=\"ed7bab2cec06cfb26e80f8f0409ae5af\", element=\"09459f02-759c-48f6-9350-4cfbf5af0847\")>,\n",
       " <selenium.webdriver.remote.webelement.WebElement (session=\"ed7bab2cec06cfb26e80f8f0409ae5af\", element=\"94197ea5-53bf-46ad-b5f6-636e13855cb1\")>,\n",
       " <selenium.webdriver.remote.webelement.WebElement (session=\"ed7bab2cec06cfb26e80f8f0409ae5af\", element=\"f36e6af0-59c6-4470-aad2-b4d52017a5ec\")>,\n",
       " <selenium.webdriver.remote.webelement.WebElement (session=\"ed7bab2cec06cfb26e80f8f0409ae5af\", element=\"50671d98-09f0-43d9-b501-76cf75323048\")>,\n",
       " <selenium.webdriver.remote.webelement.WebElement (session=\"ed7bab2cec06cfb26e80f8f0409ae5af\", element=\"b0c4c75f-b9b6-421a-b116-1cf21b0b603d\")>,\n",
       " <selenium.webdriver.remote.webelement.WebElement (session=\"ed7bab2cec06cfb26e80f8f0409ae5af\", element=\"8fcd52d7-ec0c-432a-a00f-4b6788e45592\")>,\n",
       " <selenium.webdriver.remote.webelement.WebElement (session=\"ed7bab2cec06cfb26e80f8f0409ae5af\", element=\"81264028-932c-4f4e-ad3e-8008cc117ac0\")>,\n",
       " <selenium.webdriver.remote.webelement.WebElement (session=\"ed7bab2cec06cfb26e80f8f0409ae5af\", element=\"d1c2a82a-ef25-492e-b0de-7bdad3c9d693\")>,\n",
       " <selenium.webdriver.remote.webelement.WebElement (session=\"ed7bab2cec06cfb26e80f8f0409ae5af\", element=\"e841fc4d-b5f9-482a-b980-ba38aa616901\")>,\n",
       " <selenium.webdriver.remote.webelement.WebElement (session=\"ed7bab2cec06cfb26e80f8f0409ae5af\", element=\"87f4377c-7bc7-4497-a407-07d8b072c775\")>,\n",
       " <selenium.webdriver.remote.webelement.WebElement (session=\"ed7bab2cec06cfb26e80f8f0409ae5af\", element=\"6ebcafbf-9db3-4fa0-a7fc-cf2d278c24c8\")>,\n",
       " <selenium.webdriver.remote.webelement.WebElement (session=\"ed7bab2cec06cfb26e80f8f0409ae5af\", element=\"15c97f04-506f-4dd6-aad2-4f2bd900d53c\")>,\n",
       " <selenium.webdriver.remote.webelement.WebElement (session=\"ed7bab2cec06cfb26e80f8f0409ae5af\", element=\"bc139dc6-d9a5-4080-b870-5260cb3a9b49\")>,\n",
       " <selenium.webdriver.remote.webelement.WebElement (session=\"ed7bab2cec06cfb26e80f8f0409ae5af\", element=\"b801eea6-23f9-494d-aad3-0e21f0b61ff6\")>,\n",
       " <selenium.webdriver.remote.webelement.WebElement (session=\"ed7bab2cec06cfb26e80f8f0409ae5af\", element=\"fd913fdf-2785-4ba8-9df4-689e4b3a7ccc\")>,\n",
       " <selenium.webdriver.remote.webelement.WebElement (session=\"ed7bab2cec06cfb26e80f8f0409ae5af\", element=\"112a6f5d-7881-4ba7-b0e9-4d21c9f046d8\")>,\n",
       " <selenium.webdriver.remote.webelement.WebElement (session=\"ed7bab2cec06cfb26e80f8f0409ae5af\", element=\"a780e766-92ef-4695-a0e7-3309dcec9cd3\")>,\n",
       " <selenium.webdriver.remote.webelement.WebElement (session=\"ed7bab2cec06cfb26e80f8f0409ae5af\", element=\"69012af3-6f78-43d5-9bd5-f46cb75078c2\")>,\n",
       " <selenium.webdriver.remote.webelement.WebElement (session=\"ed7bab2cec06cfb26e80f8f0409ae5af\", element=\"c947243f-876b-4697-b47d-6c505460158b\")>]"
      ]
     },
     "execution_count": 14,
     "metadata": {},
     "output_type": "execute_result"
    }
   ],
   "source": [
    "price_tag=driver.find_elements_by_xpath('//div[@class=\"_30jeq3\"]')\n",
    "price_tag"
   ]
  },
  {
   "cell_type": "code",
   "execution_count": 15,
   "id": "7fff59d2",
   "metadata": {},
   "outputs": [
    {
     "data": {
      "text/plain": [
       "['₹448',\n",
       " '₹649',\n",
       " '₹341',\n",
       " '₹199',\n",
       " '₹359',\n",
       " '₹448',\n",
       " '₹259',\n",
       " '₹499',\n",
       " '₹399',\n",
       " '₹299',\n",
       " '₹259',\n",
       " '₹198',\n",
       " '₹449',\n",
       " '₹299',\n",
       " '₹449',\n",
       " '₹740',\n",
       " '₹359',\n",
       " '₹298',\n",
       " '₹259',\n",
       " '₹649',\n",
       " '₹549',\n",
       " '₹499',\n",
       " '₹499',\n",
       " '₹680',\n",
       " '₹561',\n",
       " '₹499',\n",
       " '₹499',\n",
       " '₹448',\n",
       " '₹383',\n",
       " '₹240',\n",
       " '₹379',\n",
       " '₹4,140',\n",
       " '₹699',\n",
       " '₹449',\n",
       " '₹616',\n",
       " '₹328',\n",
       " '₹299',\n",
       " '₹567',\n",
       " '₹259',\n",
       " '₹259']"
      ]
     },
     "execution_count": 15,
     "metadata": {},
     "output_type": "execute_result"
    }
   ],
   "source": [
    "Price=[]\n",
    "\n",
    "for i in price_tag:\n",
    "    Price.append(i.text)\n",
    "len(Price)\n",
    "Price"
   ]
  },
  {
   "cell_type": "markdown",
   "id": "893dc855",
   "metadata": {},
   "source": [
    "# Extracting off price"
   ]
  },
  {
   "cell_type": "code",
   "execution_count": 17,
   "id": "2665ff11",
   "metadata": {},
   "outputs": [
    {
     "data": {
      "text/plain": [
       "[<selenium.webdriver.remote.webelement.WebElement (session=\"ed7bab2cec06cfb26e80f8f0409ae5af\", element=\"66cda43c-e4ae-4921-939a-dc1536f72756\")>,\n",
       " <selenium.webdriver.remote.webelement.WebElement (session=\"ed7bab2cec06cfb26e80f8f0409ae5af\", element=\"da8a24dd-2327-4cca-9b90-902ad15868c7\")>,\n",
       " <selenium.webdriver.remote.webelement.WebElement (session=\"ed7bab2cec06cfb26e80f8f0409ae5af\", element=\"ca2bce73-d325-4b57-9664-497b6c74bf65\")>,\n",
       " <selenium.webdriver.remote.webelement.WebElement (session=\"ed7bab2cec06cfb26e80f8f0409ae5af\", element=\"e93de628-ecb0-441e-ad82-49f2886154b1\")>,\n",
       " <selenium.webdriver.remote.webelement.WebElement (session=\"ed7bab2cec06cfb26e80f8f0409ae5af\", element=\"808efd84-8d44-43b7-8966-77b53e5e1689\")>,\n",
       " <selenium.webdriver.remote.webelement.WebElement (session=\"ed7bab2cec06cfb26e80f8f0409ae5af\", element=\"8e5fbd40-0ec6-485c-ae83-62c83916cc58\")>,\n",
       " <selenium.webdriver.remote.webelement.WebElement (session=\"ed7bab2cec06cfb26e80f8f0409ae5af\", element=\"b8d07702-b271-45b8-8bb0-222693567c06\")>,\n",
       " <selenium.webdriver.remote.webelement.WebElement (session=\"ed7bab2cec06cfb26e80f8f0409ae5af\", element=\"a2653134-4134-48c7-ad5a-80ea589fc5ce\")>,\n",
       " <selenium.webdriver.remote.webelement.WebElement (session=\"ed7bab2cec06cfb26e80f8f0409ae5af\", element=\"83a828f9-a520-4367-ad58-28aa43dee802\")>,\n",
       " <selenium.webdriver.remote.webelement.WebElement (session=\"ed7bab2cec06cfb26e80f8f0409ae5af\", element=\"5a7c8c9b-8956-4fd9-b335-2a939d12e898\")>,\n",
       " <selenium.webdriver.remote.webelement.WebElement (session=\"ed7bab2cec06cfb26e80f8f0409ae5af\", element=\"4ecaa715-7371-4d3f-9e31-04e365611311\")>,\n",
       " <selenium.webdriver.remote.webelement.WebElement (session=\"ed7bab2cec06cfb26e80f8f0409ae5af\", element=\"f592a22e-5714-40b4-899a-24298b77873d\")>,\n",
       " <selenium.webdriver.remote.webelement.WebElement (session=\"ed7bab2cec06cfb26e80f8f0409ae5af\", element=\"8d7098ea-8887-4dc3-862e-9d6957452a51\")>,\n",
       " <selenium.webdriver.remote.webelement.WebElement (session=\"ed7bab2cec06cfb26e80f8f0409ae5af\", element=\"42aa9b4c-f620-4a91-a5f9-6729a3a4573c\")>,\n",
       " <selenium.webdriver.remote.webelement.WebElement (session=\"ed7bab2cec06cfb26e80f8f0409ae5af\", element=\"76eef2c5-2923-464b-bc7b-bfcb04a3f476\")>,\n",
       " <selenium.webdriver.remote.webelement.WebElement (session=\"ed7bab2cec06cfb26e80f8f0409ae5af\", element=\"098ed590-d0fc-459f-bd54-fe4845df2dba\")>,\n",
       " <selenium.webdriver.remote.webelement.WebElement (session=\"ed7bab2cec06cfb26e80f8f0409ae5af\", element=\"415007df-caca-4097-9e66-418da3103117\")>,\n",
       " <selenium.webdriver.remote.webelement.WebElement (session=\"ed7bab2cec06cfb26e80f8f0409ae5af\", element=\"16fc849f-e614-438d-9aa6-dd67dec50d22\")>,\n",
       " <selenium.webdriver.remote.webelement.WebElement (session=\"ed7bab2cec06cfb26e80f8f0409ae5af\", element=\"cf77f531-f0d2-46fb-b023-e9eb1bdb4fa9\")>,\n",
       " <selenium.webdriver.remote.webelement.WebElement (session=\"ed7bab2cec06cfb26e80f8f0409ae5af\", element=\"0251c851-58ad-4cbd-a976-bb5b0c7ce244\")>,\n",
       " <selenium.webdriver.remote.webelement.WebElement (session=\"ed7bab2cec06cfb26e80f8f0409ae5af\", element=\"33e748bb-c250-426f-a859-ca74e6e675d7\")>,\n",
       " <selenium.webdriver.remote.webelement.WebElement (session=\"ed7bab2cec06cfb26e80f8f0409ae5af\", element=\"4173ceed-daee-4b92-92b7-95769a5b0cd4\")>,\n",
       " <selenium.webdriver.remote.webelement.WebElement (session=\"ed7bab2cec06cfb26e80f8f0409ae5af\", element=\"5bb20e97-3928-441a-bbbc-23f0aca74815\")>,\n",
       " <selenium.webdriver.remote.webelement.WebElement (session=\"ed7bab2cec06cfb26e80f8f0409ae5af\", element=\"91063e1f-d223-448c-b74c-dde35f8047d9\")>,\n",
       " <selenium.webdriver.remote.webelement.WebElement (session=\"ed7bab2cec06cfb26e80f8f0409ae5af\", element=\"e9ef9185-9f9d-4039-be40-7e4aac735a24\")>,\n",
       " <selenium.webdriver.remote.webelement.WebElement (session=\"ed7bab2cec06cfb26e80f8f0409ae5af\", element=\"f8e2e6a3-679e-47b8-8fbf-13b2fb52d29b\")>,\n",
       " <selenium.webdriver.remote.webelement.WebElement (session=\"ed7bab2cec06cfb26e80f8f0409ae5af\", element=\"66882d0f-5e77-49b0-88a1-f26b155b233f\")>,\n",
       " <selenium.webdriver.remote.webelement.WebElement (session=\"ed7bab2cec06cfb26e80f8f0409ae5af\", element=\"92d6d8c7-f3ef-4c0a-b581-d2d228756ea2\")>,\n",
       " <selenium.webdriver.remote.webelement.WebElement (session=\"ed7bab2cec06cfb26e80f8f0409ae5af\", element=\"258ec33c-7311-4ccf-870c-948a1e04c000\")>,\n",
       " <selenium.webdriver.remote.webelement.WebElement (session=\"ed7bab2cec06cfb26e80f8f0409ae5af\", element=\"fcae4096-43fb-49d5-8c8a-603c27ee71b7\")>,\n",
       " <selenium.webdriver.remote.webelement.WebElement (session=\"ed7bab2cec06cfb26e80f8f0409ae5af\", element=\"ad49c77c-f8bf-4204-95af-3b24a836f241\")>,\n",
       " <selenium.webdriver.remote.webelement.WebElement (session=\"ed7bab2cec06cfb26e80f8f0409ae5af\", element=\"4b50a68d-cc39-4b36-874e-0d849393ea1f\")>,\n",
       " <selenium.webdriver.remote.webelement.WebElement (session=\"ed7bab2cec06cfb26e80f8f0409ae5af\", element=\"4c662923-a261-4c60-8950-83143adb20ad\")>,\n",
       " <selenium.webdriver.remote.webelement.WebElement (session=\"ed7bab2cec06cfb26e80f8f0409ae5af\", element=\"ff732ddd-de3e-4d9e-8d20-9f9f3810a971\")>,\n",
       " <selenium.webdriver.remote.webelement.WebElement (session=\"ed7bab2cec06cfb26e80f8f0409ae5af\", element=\"73859890-9599-4e96-a756-303e97996320\")>,\n",
       " <selenium.webdriver.remote.webelement.WebElement (session=\"ed7bab2cec06cfb26e80f8f0409ae5af\", element=\"72d4c892-d8d6-46b8-9a0d-b8096caea8ee\")>,\n",
       " <selenium.webdriver.remote.webelement.WebElement (session=\"ed7bab2cec06cfb26e80f8f0409ae5af\", element=\"49e84a51-3df5-4e42-8053-59fc7dcb059d\")>,\n",
       " <selenium.webdriver.remote.webelement.WebElement (session=\"ed7bab2cec06cfb26e80f8f0409ae5af\", element=\"befe5e5f-d78a-4b4c-94be-b45ed77dfb3e\")>,\n",
       " <selenium.webdriver.remote.webelement.WebElement (session=\"ed7bab2cec06cfb26e80f8f0409ae5af\", element=\"66bd4274-a749-4868-b6a2-e1f16c34aa1d\")>,\n",
       " <selenium.webdriver.remote.webelement.WebElement (session=\"ed7bab2cec06cfb26e80f8f0409ae5af\", element=\"5a56b9e2-101b-428b-9758-9ae18f009bb2\")>]"
      ]
     },
     "execution_count": 17,
     "metadata": {},
     "output_type": "execute_result"
    }
   ],
   "source": [
    "off_price_tag=driver.find_elements_by_xpath('//div[@class=\"_3Ay6Sb\"]')\n",
    "off_price_tag"
   ]
  },
  {
   "cell_type": "code",
   "execution_count": 18,
   "id": "58d2fabf",
   "metadata": {},
   "outputs": [
    {
     "data": {
      "text/plain": [
       "['55% off',\n",
       " '59% off',\n",
       " '65% off',\n",
       " '60% off',\n",
       " '76% off',\n",
       " '55% off',\n",
       " '80% off',\n",
       " '50% off',\n",
       " '80% off',\n",
       " '54% off',\n",
       " '48% off',\n",
       " '80% off',\n",
       " '70% off',\n",
       " '76% off',\n",
       " '65% off',\n",
       " '78% off',\n",
       " '64% off',\n",
       " '70% off',\n",
       " '74% off',\n",
       " '78% off',\n",
       " '45% off',\n",
       " '50% off',\n",
       " '50% off',\n",
       " '31% off',\n",
       " '77% off',\n",
       " '80% off',\n",
       " '50% off',\n",
       " '55% off',\n",
       " '80% off',\n",
       " '65% off',\n",
       " '62% off',\n",
       " '53% off',\n",
       " '30% off',\n",
       " '65% off',\n",
       " '58% off',\n",
       " '74% off',\n",
       " '76% off',\n",
       " '77% off',\n",
       " '48% off',\n",
       " '67% off']"
      ]
     },
     "execution_count": 18,
     "metadata": {},
     "output_type": "execute_result"
    }
   ],
   "source": [
    "off_price=[]\n",
    "\n",
    "for i in off_price_tag:\n",
    "    off_price.append(i.text)\n",
    "len(off_price)\n",
    "off_price"
   ]
  },
  {
   "cell_type": "code",
   "execution_count": 19,
   "id": "7c62ff5f",
   "metadata": {},
   "outputs": [
    {
     "data": {
      "text/plain": [
       "<selenium.webdriver.remote.webelement.WebElement (session=\"ed7bab2cec06cfb26e80f8f0409ae5af\", element=\"7831d0c7-cc86-4659-9bde-070d3754c24a\")>"
      ]
     },
     "execution_count": 19,
     "metadata": {},
     "output_type": "execute_result"
    }
   ],
   "source": [
    "# clicking using absolute xpath function\n",
    "next_btn= driver.find_element_by_xpath(\"/html/body/div[1]/div/div[3]/div[1]/div[2]/div[12]/div/div/nav/a[11]\")\n",
    "next_btn"
   ]
  },
  {
   "cell_type": "code",
   "execution_count": 20,
   "id": "042bba5a",
   "metadata": {},
   "outputs": [],
   "source": [
    "next_btn.click()"
   ]
  },
  {
   "cell_type": "markdown",
   "id": "976376b6",
   "metadata": {},
   "source": [
    "# extracting brand(41-80)"
   ]
  },
  {
   "cell_type": "code",
   "execution_count": 21,
   "id": "2b75a34b",
   "metadata": {},
   "outputs": [
    {
     "data": {
      "text/plain": [
       "[<selenium.webdriver.remote.webelement.WebElement (session=\"ed7bab2cec06cfb26e80f8f0409ae5af\", element=\"57436137-4255-40b1-a2b9-be6801ec5dbe\")>,\n",
       " <selenium.webdriver.remote.webelement.WebElement (session=\"ed7bab2cec06cfb26e80f8f0409ae5af\", element=\"773b1d14-b766-4a08-9995-9506503cf73d\")>,\n",
       " <selenium.webdriver.remote.webelement.WebElement (session=\"ed7bab2cec06cfb26e80f8f0409ae5af\", element=\"c7fa6cb4-dd76-42f0-a496-5749f4226e22\")>,\n",
       " <selenium.webdriver.remote.webelement.WebElement (session=\"ed7bab2cec06cfb26e80f8f0409ae5af\", element=\"9934d921-6ca5-4e02-8abd-f1f3d745e518\")>,\n",
       " <selenium.webdriver.remote.webelement.WebElement (session=\"ed7bab2cec06cfb26e80f8f0409ae5af\", element=\"eafd9a3e-3578-4279-bcad-089eb61d26c9\")>,\n",
       " <selenium.webdriver.remote.webelement.WebElement (session=\"ed7bab2cec06cfb26e80f8f0409ae5af\", element=\"7f098a5a-d873-49b9-bb90-b5bf17985860\")>,\n",
       " <selenium.webdriver.remote.webelement.WebElement (session=\"ed7bab2cec06cfb26e80f8f0409ae5af\", element=\"290cf3f6-8d46-4bb5-a7d6-f187a5c36c97\")>,\n",
       " <selenium.webdriver.remote.webelement.WebElement (session=\"ed7bab2cec06cfb26e80f8f0409ae5af\", element=\"87993678-92c2-46f9-8761-c9ec808df966\")>,\n",
       " <selenium.webdriver.remote.webelement.WebElement (session=\"ed7bab2cec06cfb26e80f8f0409ae5af\", element=\"8f793f8e-3f3e-4706-b331-ee97b38fc5ec\")>,\n",
       " <selenium.webdriver.remote.webelement.WebElement (session=\"ed7bab2cec06cfb26e80f8f0409ae5af\", element=\"23f69fb5-fbbd-4129-b32b-c08f2cdd85cd\")>,\n",
       " <selenium.webdriver.remote.webelement.WebElement (session=\"ed7bab2cec06cfb26e80f8f0409ae5af\", element=\"0ec4294d-9160-4c08-903b-b0f0a4e2c7a8\")>,\n",
       " <selenium.webdriver.remote.webelement.WebElement (session=\"ed7bab2cec06cfb26e80f8f0409ae5af\", element=\"92ba6677-ab53-4118-883d-86238a0a8934\")>,\n",
       " <selenium.webdriver.remote.webelement.WebElement (session=\"ed7bab2cec06cfb26e80f8f0409ae5af\", element=\"42e379c0-d2f2-42a7-bc97-46418820dfeb\")>,\n",
       " <selenium.webdriver.remote.webelement.WebElement (session=\"ed7bab2cec06cfb26e80f8f0409ae5af\", element=\"40567ce5-2d4d-4994-82a4-1f3647d46258\")>,\n",
       " <selenium.webdriver.remote.webelement.WebElement (session=\"ed7bab2cec06cfb26e80f8f0409ae5af\", element=\"61a66977-a5e2-4459-92c7-12debae240d0\")>,\n",
       " <selenium.webdriver.remote.webelement.WebElement (session=\"ed7bab2cec06cfb26e80f8f0409ae5af\", element=\"2bcf5a92-26cc-4f5f-aebf-1972aa3bb850\")>,\n",
       " <selenium.webdriver.remote.webelement.WebElement (session=\"ed7bab2cec06cfb26e80f8f0409ae5af\", element=\"91fbb563-db80-475c-874b-aec08dd7e758\")>,\n",
       " <selenium.webdriver.remote.webelement.WebElement (session=\"ed7bab2cec06cfb26e80f8f0409ae5af\", element=\"3a1ea2dd-7368-4dd6-afdd-35dea92dc2aa\")>,\n",
       " <selenium.webdriver.remote.webelement.WebElement (session=\"ed7bab2cec06cfb26e80f8f0409ae5af\", element=\"6db63910-af8f-48be-88dc-b62d39089f5e\")>,\n",
       " <selenium.webdriver.remote.webelement.WebElement (session=\"ed7bab2cec06cfb26e80f8f0409ae5af\", element=\"caa31b21-cc4b-4513-bb03-75eefc14e670\")>,\n",
       " <selenium.webdriver.remote.webelement.WebElement (session=\"ed7bab2cec06cfb26e80f8f0409ae5af\", element=\"2c4758ba-8766-4b2c-8375-54610f7ee715\")>,\n",
       " <selenium.webdriver.remote.webelement.WebElement (session=\"ed7bab2cec06cfb26e80f8f0409ae5af\", element=\"de1b9c42-b31a-4a18-831f-bc92cc05870d\")>,\n",
       " <selenium.webdriver.remote.webelement.WebElement (session=\"ed7bab2cec06cfb26e80f8f0409ae5af\", element=\"182aabfc-eafd-4dd1-b327-75e467b480ff\")>,\n",
       " <selenium.webdriver.remote.webelement.WebElement (session=\"ed7bab2cec06cfb26e80f8f0409ae5af\", element=\"25ee82f2-b257-49f5-86c7-5759cd210f78\")>,\n",
       " <selenium.webdriver.remote.webelement.WebElement (session=\"ed7bab2cec06cfb26e80f8f0409ae5af\", element=\"ccc90903-b890-4b41-870e-af7f92aa2ec3\")>,\n",
       " <selenium.webdriver.remote.webelement.WebElement (session=\"ed7bab2cec06cfb26e80f8f0409ae5af\", element=\"d8172449-9365-441a-b0b1-adabc8a99ffb\")>,\n",
       " <selenium.webdriver.remote.webelement.WebElement (session=\"ed7bab2cec06cfb26e80f8f0409ae5af\", element=\"7acf638b-a5d8-4de0-81cd-33a777d0c4ed\")>,\n",
       " <selenium.webdriver.remote.webelement.WebElement (session=\"ed7bab2cec06cfb26e80f8f0409ae5af\", element=\"7f1558e0-02fe-4830-9705-0fce07ff2644\")>,\n",
       " <selenium.webdriver.remote.webelement.WebElement (session=\"ed7bab2cec06cfb26e80f8f0409ae5af\", element=\"003dcad7-06c4-42fa-bb4e-f42588069d14\")>,\n",
       " <selenium.webdriver.remote.webelement.WebElement (session=\"ed7bab2cec06cfb26e80f8f0409ae5af\", element=\"2ef0c771-7e91-4407-972a-ca8f3332ff9b\")>,\n",
       " <selenium.webdriver.remote.webelement.WebElement (session=\"ed7bab2cec06cfb26e80f8f0409ae5af\", element=\"4784a1bd-32a0-4489-bc82-601f3f8d01df\")>,\n",
       " <selenium.webdriver.remote.webelement.WebElement (session=\"ed7bab2cec06cfb26e80f8f0409ae5af\", element=\"673ceacf-c23b-4ab5-ab64-10111ee602f2\")>,\n",
       " <selenium.webdriver.remote.webelement.WebElement (session=\"ed7bab2cec06cfb26e80f8f0409ae5af\", element=\"56706b64-e9b2-4a9b-95d0-8b3ca32bcc42\")>,\n",
       " <selenium.webdriver.remote.webelement.WebElement (session=\"ed7bab2cec06cfb26e80f8f0409ae5af\", element=\"626174fc-4cd1-4191-aea6-5bb91b9c5a73\")>,\n",
       " <selenium.webdriver.remote.webelement.WebElement (session=\"ed7bab2cec06cfb26e80f8f0409ae5af\", element=\"88e966d6-f990-486d-9025-ba99a48b99b5\")>,\n",
       " <selenium.webdriver.remote.webelement.WebElement (session=\"ed7bab2cec06cfb26e80f8f0409ae5af\", element=\"a93fb9cb-1117-4a4c-b691-e81ff844efdc\")>,\n",
       " <selenium.webdriver.remote.webelement.WebElement (session=\"ed7bab2cec06cfb26e80f8f0409ae5af\", element=\"282c8ae4-5ed8-489d-a0d9-1510650fc34a\")>,\n",
       " <selenium.webdriver.remote.webelement.WebElement (session=\"ed7bab2cec06cfb26e80f8f0409ae5af\", element=\"2b4bd466-54ee-4879-90ff-17f8d5e652ac\")>,\n",
       " <selenium.webdriver.remote.webelement.WebElement (session=\"ed7bab2cec06cfb26e80f8f0409ae5af\", element=\"b862bf61-108f-47ac-a17c-6bf77b9a88d0\")>,\n",
       " <selenium.webdriver.remote.webelement.WebElement (session=\"ed7bab2cec06cfb26e80f8f0409ae5af\", element=\"68d739ec-e632-4960-b51d-b4edaca01a87\")>]"
      ]
     },
     "execution_count": 21,
     "metadata": {},
     "output_type": "execute_result"
    }
   ],
   "source": [
    "brand_tags1 = driver.find_elements_by_xpath('//div[@class=\"_2WkVRV\"]')\n",
    "brand_tags1"
   ]
  },
  {
   "cell_type": "code",
   "execution_count": 22,
   "id": "a4d1f983",
   "metadata": {},
   "outputs": [
    {
     "data": {
      "text/plain": [
       "['Airland',\n",
       " 'Xtoon',\n",
       " 'DUNKASTON',\n",
       " 'KWIK FIT',\n",
       " 'luxury fashion',\n",
       " 'Chevit',\n",
       " 'Kraasa',\n",
       " 'luxury fashion',\n",
       " 'D-SNEAKERZ',\n",
       " 'PUMA',\n",
       " 'Vellinto',\n",
       " 'Navtrend',\n",
       " 'CAMPUS',\n",
       " 'CLYMB',\n",
       " 'Hot & Knot',\n",
       " 'Noztile',\n",
       " 'Elevarse',\n",
       " 'World Wear Footwear',\n",
       " 'Chevit',\n",
       " 'Echor',\n",
       " 'RANZAG',\n",
       " 'ASTEROID',\n",
       " 'Robbie jones',\n",
       " 'BRUTON',\n",
       " 'Ktiz',\n",
       " 'ASIAN',\n",
       " 'Bretton',\n",
       " 'HOTSTYLE',\n",
       " 'CLYMB',\n",
       " 'Zorth',\n",
       " 'Robbie jones',\n",
       " 'Echor',\n",
       " 'Stinson',\n",
       " 'Dizzler',\n",
       " 'Numenzo',\n",
       " 'Roadster',\n",
       " 'Echor',\n",
       " 'ESSENCE',\n",
       " 'LE GREEM',\n",
       " 'India hub']"
      ]
     },
     "execution_count": 22,
     "metadata": {},
     "output_type": "execute_result"
    }
   ],
   "source": [
    "brand1=[]\n",
    "\n",
    "for i in brand_tags1:\n",
    "    brand1.append(i.text)\n",
    "len(brand1)\n",
    "brand1"
   ]
  },
  {
   "cell_type": "markdown",
   "id": "5cd9a8cf",
   "metadata": {},
   "source": [
    "# Extracting Product Description(41-80)"
   ]
  },
  {
   "cell_type": "code",
   "execution_count": 25,
   "id": "5f985d50",
   "metadata": {},
   "outputs": [
    {
     "data": {
      "text/plain": [
       "[<selenium.webdriver.remote.webelement.WebElement (session=\"ed7bab2cec06cfb26e80f8f0409ae5af\", element=\"b071cea6-fcb4-460b-ad51-80cb75fc5124\")>,\n",
       " <selenium.webdriver.remote.webelement.WebElement (session=\"ed7bab2cec06cfb26e80f8f0409ae5af\", element=\"e9b97ed7-de4f-4e68-a08a-941c40fe9ab7\")>,\n",
       " <selenium.webdriver.remote.webelement.WebElement (session=\"ed7bab2cec06cfb26e80f8f0409ae5af\", element=\"9115b9c5-e292-4c79-8f90-6a8106e0d960\")>,\n",
       " <selenium.webdriver.remote.webelement.WebElement (session=\"ed7bab2cec06cfb26e80f8f0409ae5af\", element=\"eff5d2a3-82ab-49e0-bbd5-e8a17071dc03\")>,\n",
       " <selenium.webdriver.remote.webelement.WebElement (session=\"ed7bab2cec06cfb26e80f8f0409ae5af\", element=\"8ea384d0-13ca-475d-bb82-3625b78f51db\")>,\n",
       " <selenium.webdriver.remote.webelement.WebElement (session=\"ed7bab2cec06cfb26e80f8f0409ae5af\", element=\"539395ae-ce0b-4a0d-b777-baacd863a88f\")>,\n",
       " <selenium.webdriver.remote.webelement.WebElement (session=\"ed7bab2cec06cfb26e80f8f0409ae5af\", element=\"8afcc5a1-ee8a-4819-b4f7-c619c454c6ee\")>,\n",
       " <selenium.webdriver.remote.webelement.WebElement (session=\"ed7bab2cec06cfb26e80f8f0409ae5af\", element=\"640f8bcc-853a-4d80-816e-8640ece836e2\")>,\n",
       " <selenium.webdriver.remote.webelement.WebElement (session=\"ed7bab2cec06cfb26e80f8f0409ae5af\", element=\"f6b28d9f-8d18-41e0-b647-4ae866ba3fe5\")>,\n",
       " <selenium.webdriver.remote.webelement.WebElement (session=\"ed7bab2cec06cfb26e80f8f0409ae5af\", element=\"e449fce3-0b5d-4dc5-bf1a-be7ac8970fe8\")>,\n",
       " <selenium.webdriver.remote.webelement.WebElement (session=\"ed7bab2cec06cfb26e80f8f0409ae5af\", element=\"1be777ca-ce5f-4862-b703-5d8c273a68b7\")>,\n",
       " <selenium.webdriver.remote.webelement.WebElement (session=\"ed7bab2cec06cfb26e80f8f0409ae5af\", element=\"133f85c8-ba2b-4e8b-a829-679024b7ab31\")>,\n",
       " <selenium.webdriver.remote.webelement.WebElement (session=\"ed7bab2cec06cfb26e80f8f0409ae5af\", element=\"4b66c009-8862-49f2-8134-f2843b8b9b18\")>,\n",
       " <selenium.webdriver.remote.webelement.WebElement (session=\"ed7bab2cec06cfb26e80f8f0409ae5af\", element=\"60f87908-807d-4ab3-83a2-6ff0c892e35d\")>,\n",
       " <selenium.webdriver.remote.webelement.WebElement (session=\"ed7bab2cec06cfb26e80f8f0409ae5af\", element=\"c51b0811-7ba0-450c-8fe8-d67efff1a8ea\")>,\n",
       " <selenium.webdriver.remote.webelement.WebElement (session=\"ed7bab2cec06cfb26e80f8f0409ae5af\", element=\"201d4d9c-2caa-4a1c-afe9-36ef5fdb7d8b\")>,\n",
       " <selenium.webdriver.remote.webelement.WebElement (session=\"ed7bab2cec06cfb26e80f8f0409ae5af\", element=\"36efdc99-5512-49b1-ab7e-83c42102bb08\")>,\n",
       " <selenium.webdriver.remote.webelement.WebElement (session=\"ed7bab2cec06cfb26e80f8f0409ae5af\", element=\"72f1a6fe-40e1-49cc-a454-26d833a45f68\")>,\n",
       " <selenium.webdriver.remote.webelement.WebElement (session=\"ed7bab2cec06cfb26e80f8f0409ae5af\", element=\"faa8cfb2-5f89-45b4-bd65-23d6cb83a02f\")>,\n",
       " <selenium.webdriver.remote.webelement.WebElement (session=\"ed7bab2cec06cfb26e80f8f0409ae5af\", element=\"01ce25ec-935c-47db-bf64-58868d51585a\")>,\n",
       " <selenium.webdriver.remote.webelement.WebElement (session=\"ed7bab2cec06cfb26e80f8f0409ae5af\", element=\"3bb0e631-bf8c-4135-ade8-8e3e52ab2b19\")>,\n",
       " <selenium.webdriver.remote.webelement.WebElement (session=\"ed7bab2cec06cfb26e80f8f0409ae5af\", element=\"d4e1cfb0-fbec-4534-9c02-59bfa8c74ed2\")>,\n",
       " <selenium.webdriver.remote.webelement.WebElement (session=\"ed7bab2cec06cfb26e80f8f0409ae5af\", element=\"e4542af6-6167-4f18-90f7-6e8a2a84b22f\")>,\n",
       " <selenium.webdriver.remote.webelement.WebElement (session=\"ed7bab2cec06cfb26e80f8f0409ae5af\", element=\"a291366a-f8e9-433d-820a-950196b40c92\")>,\n",
       " <selenium.webdriver.remote.webelement.WebElement (session=\"ed7bab2cec06cfb26e80f8f0409ae5af\", element=\"7842f874-3c9b-4f59-b1d7-5fb6872df52e\")>,\n",
       " <selenium.webdriver.remote.webelement.WebElement (session=\"ed7bab2cec06cfb26e80f8f0409ae5af\", element=\"f2bbc086-b8e9-4d53-85bf-14df5dc6ef97\")>,\n",
       " <selenium.webdriver.remote.webelement.WebElement (session=\"ed7bab2cec06cfb26e80f8f0409ae5af\", element=\"5b06a683-8b7e-405e-b994-3aad192abf76\")>,\n",
       " <selenium.webdriver.remote.webelement.WebElement (session=\"ed7bab2cec06cfb26e80f8f0409ae5af\", element=\"92673a83-d103-44e3-9f45-9db0e061b334\")>,\n",
       " <selenium.webdriver.remote.webelement.WebElement (session=\"ed7bab2cec06cfb26e80f8f0409ae5af\", element=\"776639b6-a391-4b33-afa8-2774c89c2119\")>,\n",
       " <selenium.webdriver.remote.webelement.WebElement (session=\"ed7bab2cec06cfb26e80f8f0409ae5af\", element=\"c6125445-77c2-4bae-be73-f8421112cb42\")>,\n",
       " <selenium.webdriver.remote.webelement.WebElement (session=\"ed7bab2cec06cfb26e80f8f0409ae5af\", element=\"cb4db06e-a594-4d49-81fa-17cdbf44ac23\")>,\n",
       " <selenium.webdriver.remote.webelement.WebElement (session=\"ed7bab2cec06cfb26e80f8f0409ae5af\", element=\"0084670e-c30e-4219-ad35-112e0fb51e6b\")>,\n",
       " <selenium.webdriver.remote.webelement.WebElement (session=\"ed7bab2cec06cfb26e80f8f0409ae5af\", element=\"761eb4cd-8caa-41d0-8da1-84bf8df1b5cf\")>,\n",
       " <selenium.webdriver.remote.webelement.WebElement (session=\"ed7bab2cec06cfb26e80f8f0409ae5af\", element=\"af1be845-54c3-4047-8046-dd5a211259b8\")>,\n",
       " <selenium.webdriver.remote.webelement.WebElement (session=\"ed7bab2cec06cfb26e80f8f0409ae5af\", element=\"1c400620-7cab-4333-bd4b-4068dedfa193\")>,\n",
       " <selenium.webdriver.remote.webelement.WebElement (session=\"ed7bab2cec06cfb26e80f8f0409ae5af\", element=\"57725e1a-b5da-45ca-8fc1-d8f944aefe56\")>,\n",
       " <selenium.webdriver.remote.webelement.WebElement (session=\"ed7bab2cec06cfb26e80f8f0409ae5af\", element=\"a4f5d61b-aa79-4096-815f-ec3a64072345\")>]"
      ]
     },
     "execution_count": 25,
     "metadata": {},
     "output_type": "execute_result"
    }
   ],
   "source": [
    "description1=driver.find_elements_by_xpath('//a[@class=\"IRpwTa\"]')\n",
    "description1"
   ]
  },
  {
   "cell_type": "code",
   "execution_count": 26,
   "id": "00cf827d",
   "metadata": {},
   "outputs": [
    {
     "data": {
      "text/plain": [
       "['sneaker men red 1258 - 6 Sneakers For Men',\n",
       " \"white Casual shoes,Sneakers for men's Sneakers For Men\",\n",
       " 'Sneakers For Men',\n",
       " 'Kwik FIT casual sneaker shoes and partywear shoes Casua...',\n",
       " 'Sneakers For Men',\n",
       " 'Unique & Perfect Collection Combo Pack of 02 Shoes for ...',\n",
       " 'Casuals, Canvas, Partywear Sneakers For Men',\n",
       " 'Luxury Fashionable casual shoes Sneakers For Men',\n",
       " \"Casual , Partywear Sneakers Shoes For Men's And Boys Wh...\",\n",
       " 'RS-X WINTERIZED Sneakers For Men',\n",
       " 'Casual Sneakrs For Men Sneakers For Men',\n",
       " 'Sneakers For Men',\n",
       " \"Perfect Sports Shoes for Men's Running ,Cycling & Trekk...\",\n",
       " 'High Top Casual Party Wear Boot Stylish Sneakers For Me...',\n",
       " 'Sneakers For Men',\n",
       " 'Sneakers For Men',\n",
       " 'Men 5014 Latest Collection Stylish Casual Sports Loafer...',\n",
       " 'Perfect & Affordable Combo Pack of 02 Pairs Sneakers Ou...',\n",
       " \"Echor Men's Sneakers Fashion Lightweight Running Shoes ...\",\n",
       " 'Running Shoes Stylish Comfortable Shoes For Men Sneaker...',\n",
       " \"Original Luxury Branded Fashionable Men's Casual Walkin...\",\n",
       " 'Sneakers For Men',\n",
       " 'Combo Pack Of 4 Casual Shoes Loafer Shoes Sneakers For ...',\n",
       " 'Sneakers For Men',\n",
       " 'Skypy-31 Walking Shoes,Training Shoes,Sneakers,Loafers,...',\n",
       " 'CR-1 Sneakers For Men',\n",
       " 'Sneakers For Men',\n",
       " 'Sneakers For Men',\n",
       " 'Sneakers For Men',\n",
       " \"Men's casual shoes sports shoes black sneaker Sneakers ...\",\n",
       " 'Sneakers For Men',\n",
       " '411 Casual Sneakers For Men',\n",
       " 'Men Blue Solid Sneakers Sneakers For Men',\n",
       " \"Men's Sneakers Fashion Lightweight Running Shoes Tennis...\",\n",
       " 'Sneakers For Men',\n",
       " 'Comfortable & Ultra Light Weight Sneaker Sneakers For M...',\n",
       " 'Luxury Fashionable casual sneaker shoes Sneakers For Me...']"
      ]
     },
     "execution_count": 26,
     "metadata": {},
     "output_type": "execute_result"
    }
   ],
   "source": [
    "Description1=[]\n",
    "\n",
    "for i in description1:\n",
    "    Description1.append(i.text)\n",
    "len(Description1)\n",
    "Description1"
   ]
  },
  {
   "cell_type": "markdown",
   "id": "746ba05c",
   "metadata": {},
   "source": [
    "# Extracting price(41-80)"
   ]
  },
  {
   "cell_type": "code",
   "execution_count": 27,
   "id": "1f5260af",
   "metadata": {},
   "outputs": [
    {
     "data": {
      "text/plain": [
       "[<selenium.webdriver.remote.webelement.WebElement (session=\"ed7bab2cec06cfb26e80f8f0409ae5af\", element=\"9baade50-25d7-43fc-89b1-e7809fcb4dca\")>,\n",
       " <selenium.webdriver.remote.webelement.WebElement (session=\"ed7bab2cec06cfb26e80f8f0409ae5af\", element=\"d4eed6ef-4c21-4f5c-b5f7-04aff971a7c9\")>,\n",
       " <selenium.webdriver.remote.webelement.WebElement (session=\"ed7bab2cec06cfb26e80f8f0409ae5af\", element=\"c4638116-94b2-4b06-9763-e11e0346bc18\")>,\n",
       " <selenium.webdriver.remote.webelement.WebElement (session=\"ed7bab2cec06cfb26e80f8f0409ae5af\", element=\"213bfe15-262a-41df-a2bc-b5f2b21f7ceb\")>,\n",
       " <selenium.webdriver.remote.webelement.WebElement (session=\"ed7bab2cec06cfb26e80f8f0409ae5af\", element=\"2c994ee0-48a4-4f85-a670-9d6df45955a4\")>,\n",
       " <selenium.webdriver.remote.webelement.WebElement (session=\"ed7bab2cec06cfb26e80f8f0409ae5af\", element=\"3efc3a3c-5e27-4dcb-b03c-d5646682112c\")>,\n",
       " <selenium.webdriver.remote.webelement.WebElement (session=\"ed7bab2cec06cfb26e80f8f0409ae5af\", element=\"a0fa914d-7cd2-43c7-9880-f5f81a32db8e\")>,\n",
       " <selenium.webdriver.remote.webelement.WebElement (session=\"ed7bab2cec06cfb26e80f8f0409ae5af\", element=\"7a5aac9c-f1b0-477a-aec3-473290328f3b\")>,\n",
       " <selenium.webdriver.remote.webelement.WebElement (session=\"ed7bab2cec06cfb26e80f8f0409ae5af\", element=\"92d38e54-57b9-42d5-b731-c31599485102\")>,\n",
       " <selenium.webdriver.remote.webelement.WebElement (session=\"ed7bab2cec06cfb26e80f8f0409ae5af\", element=\"d6e7e2cb-d9ad-41a9-92e2-b9aef7a7090b\")>,\n",
       " <selenium.webdriver.remote.webelement.WebElement (session=\"ed7bab2cec06cfb26e80f8f0409ae5af\", element=\"6bde11c2-b284-4c73-b799-b593701b5013\")>,\n",
       " <selenium.webdriver.remote.webelement.WebElement (session=\"ed7bab2cec06cfb26e80f8f0409ae5af\", element=\"6fc6bbc4-870c-4516-83ba-ad2039f57d3b\")>,\n",
       " <selenium.webdriver.remote.webelement.WebElement (session=\"ed7bab2cec06cfb26e80f8f0409ae5af\", element=\"b22811dd-36bc-4ce6-a58c-e89fb81745a3\")>,\n",
       " <selenium.webdriver.remote.webelement.WebElement (session=\"ed7bab2cec06cfb26e80f8f0409ae5af\", element=\"da8eedd2-5a81-47e8-9ab9-f159bdba8753\")>,\n",
       " <selenium.webdriver.remote.webelement.WebElement (session=\"ed7bab2cec06cfb26e80f8f0409ae5af\", element=\"915f6aff-43b5-4d51-93cc-440d78afeab0\")>,\n",
       " <selenium.webdriver.remote.webelement.WebElement (session=\"ed7bab2cec06cfb26e80f8f0409ae5af\", element=\"91fbdf62-a230-43f7-9275-603cd9f2e6c2\")>,\n",
       " <selenium.webdriver.remote.webelement.WebElement (session=\"ed7bab2cec06cfb26e80f8f0409ae5af\", element=\"881f5cbd-4020-4c9b-9e5d-91a5beda3fd1\")>,\n",
       " <selenium.webdriver.remote.webelement.WebElement (session=\"ed7bab2cec06cfb26e80f8f0409ae5af\", element=\"63e351cb-5c91-472b-9c77-18fb986f5370\")>,\n",
       " <selenium.webdriver.remote.webelement.WebElement (session=\"ed7bab2cec06cfb26e80f8f0409ae5af\", element=\"1c9b3085-973b-453d-923c-6ec5c12358f6\")>,\n",
       " <selenium.webdriver.remote.webelement.WebElement (session=\"ed7bab2cec06cfb26e80f8f0409ae5af\", element=\"5b835414-583c-4538-8995-b7b587c8bc95\")>,\n",
       " <selenium.webdriver.remote.webelement.WebElement (session=\"ed7bab2cec06cfb26e80f8f0409ae5af\", element=\"bdd83f34-3642-456c-8f63-3ed7ebdd3a38\")>,\n",
       " <selenium.webdriver.remote.webelement.WebElement (session=\"ed7bab2cec06cfb26e80f8f0409ae5af\", element=\"5c23a57e-5ea6-4c91-98aa-caa8ce98da0d\")>,\n",
       " <selenium.webdriver.remote.webelement.WebElement (session=\"ed7bab2cec06cfb26e80f8f0409ae5af\", element=\"51a540a1-7bc9-4c51-8fa7-43485d0acabb\")>,\n",
       " <selenium.webdriver.remote.webelement.WebElement (session=\"ed7bab2cec06cfb26e80f8f0409ae5af\", element=\"9b6f1c7a-cefe-4ec5-879f-590f5cb578e0\")>,\n",
       " <selenium.webdriver.remote.webelement.WebElement (session=\"ed7bab2cec06cfb26e80f8f0409ae5af\", element=\"34594417-8ffe-4d4e-81d5-00f059224519\")>,\n",
       " <selenium.webdriver.remote.webelement.WebElement (session=\"ed7bab2cec06cfb26e80f8f0409ae5af\", element=\"a4cacf48-0e1c-417b-960a-3df7924740eb\")>,\n",
       " <selenium.webdriver.remote.webelement.WebElement (session=\"ed7bab2cec06cfb26e80f8f0409ae5af\", element=\"c6232427-c447-47bb-ad33-e7a4bba24044\")>,\n",
       " <selenium.webdriver.remote.webelement.WebElement (session=\"ed7bab2cec06cfb26e80f8f0409ae5af\", element=\"d93951d0-14bd-4b93-8c7f-a0eacd4875fa\")>,\n",
       " <selenium.webdriver.remote.webelement.WebElement (session=\"ed7bab2cec06cfb26e80f8f0409ae5af\", element=\"1735c841-e0ce-4e83-ba28-f428a7d3cab1\")>,\n",
       " <selenium.webdriver.remote.webelement.WebElement (session=\"ed7bab2cec06cfb26e80f8f0409ae5af\", element=\"f76acefc-b8d9-4152-a0fa-83d4d780eea6\")>,\n",
       " <selenium.webdriver.remote.webelement.WebElement (session=\"ed7bab2cec06cfb26e80f8f0409ae5af\", element=\"212bdf29-6ab6-4ac7-857f-40076ccbc2c9\")>,\n",
       " <selenium.webdriver.remote.webelement.WebElement (session=\"ed7bab2cec06cfb26e80f8f0409ae5af\", element=\"bc46b23b-bdc5-4875-91d3-d44f60580e72\")>,\n",
       " <selenium.webdriver.remote.webelement.WebElement (session=\"ed7bab2cec06cfb26e80f8f0409ae5af\", element=\"2a4a1424-828d-4611-afc5-8da6c3a439a0\")>,\n",
       " <selenium.webdriver.remote.webelement.WebElement (session=\"ed7bab2cec06cfb26e80f8f0409ae5af\", element=\"31eb2776-871c-4ed5-b2eb-975056da3e6f\")>,\n",
       " <selenium.webdriver.remote.webelement.WebElement (session=\"ed7bab2cec06cfb26e80f8f0409ae5af\", element=\"45c19f37-e16b-45bc-80c2-8f65e890a2eb\")>,\n",
       " <selenium.webdriver.remote.webelement.WebElement (session=\"ed7bab2cec06cfb26e80f8f0409ae5af\", element=\"635c27ed-875e-4d0a-97fd-ed4e64369097\")>,\n",
       " <selenium.webdriver.remote.webelement.WebElement (session=\"ed7bab2cec06cfb26e80f8f0409ae5af\", element=\"8fe2b9ee-c2c5-4e2a-a0f4-1b924310d0f9\")>,\n",
       " <selenium.webdriver.remote.webelement.WebElement (session=\"ed7bab2cec06cfb26e80f8f0409ae5af\", element=\"19420591-dbb9-422f-98b4-f09c2109991a\")>,\n",
       " <selenium.webdriver.remote.webelement.WebElement (session=\"ed7bab2cec06cfb26e80f8f0409ae5af\", element=\"f64202be-38f5-49a2-a158-62bd1fbcf16b\")>,\n",
       " <selenium.webdriver.remote.webelement.WebElement (session=\"ed7bab2cec06cfb26e80f8f0409ae5af\", element=\"10fff8af-577c-4597-9365-7afa0dd7f72b\")>]"
      ]
     },
     "execution_count": 27,
     "metadata": {},
     "output_type": "execute_result"
    }
   ],
   "source": [
    "price_tag1=driver.find_elements_by_xpath('//div[@class=\"_30jeq3\"]')\n",
    "price_tag1"
   ]
  },
  {
   "cell_type": "code",
   "execution_count": 28,
   "id": "1f5f2e2a",
   "metadata": {},
   "outputs": [
    {
     "data": {
      "text/plain": [
       "['₹198',\n",
       " '₹479',\n",
       " '₹386',\n",
       " '₹397',\n",
       " '₹489',\n",
       " '₹499',\n",
       " '₹499',\n",
       " '₹449',\n",
       " '₹384',\n",
       " '₹4,140',\n",
       " '₹674',\n",
       " '₹429',\n",
       " '₹1,234',\n",
       " '₹249',\n",
       " '₹589',\n",
       " '₹399',\n",
       " '₹399',\n",
       " '₹259',\n",
       " '₹549',\n",
       " '₹499',\n",
       " '₹395',\n",
       " '₹474',\n",
       " '₹499',\n",
       " '₹499',\n",
       " '₹490',\n",
       " '₹498',\n",
       " '₹251',\n",
       " '₹249',\n",
       " '₹616',\n",
       " '₹447',\n",
       " '₹499',\n",
       " '₹499',\n",
       " '₹259',\n",
       " '₹495',\n",
       " '₹499',\n",
       " '₹1,299',\n",
       " '₹499',\n",
       " '₹599',\n",
       " '₹426',\n",
       " '₹383']"
      ]
     },
     "execution_count": 28,
     "metadata": {},
     "output_type": "execute_result"
    }
   ],
   "source": [
    "Price1=[]\n",
    "\n",
    "for i in price_tag1:\n",
    "    Price1.append(i.text)\n",
    "len(Price1)\n",
    "Price1"
   ]
  },
  {
   "cell_type": "markdown",
   "id": "ddddac9a",
   "metadata": {},
   "source": [
    "# Extracting off price(41-80)"
   ]
  },
  {
   "cell_type": "code",
   "execution_count": 29,
   "id": "7fabe677",
   "metadata": {},
   "outputs": [
    {
     "data": {
      "text/plain": [
       "[<selenium.webdriver.remote.webelement.WebElement (session=\"ed7bab2cec06cfb26e80f8f0409ae5af\", element=\"c0c3f5bf-9121-46bb-97d4-b59e5f446129\")>,\n",
       " <selenium.webdriver.remote.webelement.WebElement (session=\"ed7bab2cec06cfb26e80f8f0409ae5af\", element=\"7d37f388-4c04-423f-a654-60959a64ef53\")>,\n",
       " <selenium.webdriver.remote.webelement.WebElement (session=\"ed7bab2cec06cfb26e80f8f0409ae5af\", element=\"b9778ab1-d282-4b46-be9c-ea9bde90f558\")>,\n",
       " <selenium.webdriver.remote.webelement.WebElement (session=\"ed7bab2cec06cfb26e80f8f0409ae5af\", element=\"61e99c5e-6433-4e24-a509-52676aed2d14\")>,\n",
       " <selenium.webdriver.remote.webelement.WebElement (session=\"ed7bab2cec06cfb26e80f8f0409ae5af\", element=\"db670460-c097-4c71-b5fb-8009ba1b6ffb\")>,\n",
       " <selenium.webdriver.remote.webelement.WebElement (session=\"ed7bab2cec06cfb26e80f8f0409ae5af\", element=\"053f0f15-6dce-4893-8438-96b41d7aa056\")>,\n",
       " <selenium.webdriver.remote.webelement.WebElement (session=\"ed7bab2cec06cfb26e80f8f0409ae5af\", element=\"74339059-aa5e-454b-abf2-d54dc4541f1b\")>,\n",
       " <selenium.webdriver.remote.webelement.WebElement (session=\"ed7bab2cec06cfb26e80f8f0409ae5af\", element=\"96e8a37f-6aa1-454a-aa30-a0a46acd8522\")>,\n",
       " <selenium.webdriver.remote.webelement.WebElement (session=\"ed7bab2cec06cfb26e80f8f0409ae5af\", element=\"0fade656-2885-412b-96e8-7d3c21165808\")>,\n",
       " <selenium.webdriver.remote.webelement.WebElement (session=\"ed7bab2cec06cfb26e80f8f0409ae5af\", element=\"e834ff14-ac0c-4e42-b0aa-98c598bc0100\")>,\n",
       " <selenium.webdriver.remote.webelement.WebElement (session=\"ed7bab2cec06cfb26e80f8f0409ae5af\", element=\"0f8b3f8a-9cd3-4395-a2e7-855f30e4f0f7\")>,\n",
       " <selenium.webdriver.remote.webelement.WebElement (session=\"ed7bab2cec06cfb26e80f8f0409ae5af\", element=\"a601f6eb-90a6-4b84-ad2c-e1d77104a934\")>,\n",
       " <selenium.webdriver.remote.webelement.WebElement (session=\"ed7bab2cec06cfb26e80f8f0409ae5af\", element=\"7f737c0d-b017-4e48-bb34-3bed1c4213a5\")>,\n",
       " <selenium.webdriver.remote.webelement.WebElement (session=\"ed7bab2cec06cfb26e80f8f0409ae5af\", element=\"54d77330-8326-4b7d-9011-2d5407dc977d\")>,\n",
       " <selenium.webdriver.remote.webelement.WebElement (session=\"ed7bab2cec06cfb26e80f8f0409ae5af\", element=\"53c40168-d8b9-4359-b454-f6c814ac3ec6\")>,\n",
       " <selenium.webdriver.remote.webelement.WebElement (session=\"ed7bab2cec06cfb26e80f8f0409ae5af\", element=\"69dbe018-5e56-4a6a-83c3-97c016038a7c\")>,\n",
       " <selenium.webdriver.remote.webelement.WebElement (session=\"ed7bab2cec06cfb26e80f8f0409ae5af\", element=\"c26f5879-3e84-471c-81ff-746a2fa49380\")>,\n",
       " <selenium.webdriver.remote.webelement.WebElement (session=\"ed7bab2cec06cfb26e80f8f0409ae5af\", element=\"993e2e2a-711a-471f-825b-dd9ec24b7827\")>,\n",
       " <selenium.webdriver.remote.webelement.WebElement (session=\"ed7bab2cec06cfb26e80f8f0409ae5af\", element=\"f716e942-7c12-4c51-87c7-005c6423f039\")>,\n",
       " <selenium.webdriver.remote.webelement.WebElement (session=\"ed7bab2cec06cfb26e80f8f0409ae5af\", element=\"a5fdda96-626f-4857-bbc7-b333a3cba0c1\")>,\n",
       " <selenium.webdriver.remote.webelement.WebElement (session=\"ed7bab2cec06cfb26e80f8f0409ae5af\", element=\"b2cc09f9-e99a-47bb-814f-9af2bb0079cb\")>,\n",
       " <selenium.webdriver.remote.webelement.WebElement (session=\"ed7bab2cec06cfb26e80f8f0409ae5af\", element=\"0993718a-3be3-4c1a-bd3e-7cd8237136f8\")>,\n",
       " <selenium.webdriver.remote.webelement.WebElement (session=\"ed7bab2cec06cfb26e80f8f0409ae5af\", element=\"734fa512-9312-44ea-ae3c-f981dfdde3b8\")>,\n",
       " <selenium.webdriver.remote.webelement.WebElement (session=\"ed7bab2cec06cfb26e80f8f0409ae5af\", element=\"25c56ceb-bef4-4a0d-b000-9008b7d5dfdb\")>,\n",
       " <selenium.webdriver.remote.webelement.WebElement (session=\"ed7bab2cec06cfb26e80f8f0409ae5af\", element=\"df183d31-a646-4a6c-9523-fb4dcf6795ce\")>,\n",
       " <selenium.webdriver.remote.webelement.WebElement (session=\"ed7bab2cec06cfb26e80f8f0409ae5af\", element=\"438bdf47-84ce-4545-b617-04f093e6bbad\")>,\n",
       " <selenium.webdriver.remote.webelement.WebElement (session=\"ed7bab2cec06cfb26e80f8f0409ae5af\", element=\"f71b0f21-8fd3-462b-af0b-a34083a701b1\")>,\n",
       " <selenium.webdriver.remote.webelement.WebElement (session=\"ed7bab2cec06cfb26e80f8f0409ae5af\", element=\"4417ddc5-6cf0-487a-a2f8-aebeb66ad6c7\")>,\n",
       " <selenium.webdriver.remote.webelement.WebElement (session=\"ed7bab2cec06cfb26e80f8f0409ae5af\", element=\"570bb32f-db26-4655-a707-4ea56ab8a204\")>,\n",
       " <selenium.webdriver.remote.webelement.WebElement (session=\"ed7bab2cec06cfb26e80f8f0409ae5af\", element=\"36d78c97-bdd5-4326-8ee2-5b4de03569cf\")>,\n",
       " <selenium.webdriver.remote.webelement.WebElement (session=\"ed7bab2cec06cfb26e80f8f0409ae5af\", element=\"0219d2fe-24fa-4d8b-a73d-6431fbc0b0c4\")>,\n",
       " <selenium.webdriver.remote.webelement.WebElement (session=\"ed7bab2cec06cfb26e80f8f0409ae5af\", element=\"8b176d08-8f39-4df5-aa55-0d77006b19f7\")>,\n",
       " <selenium.webdriver.remote.webelement.WebElement (session=\"ed7bab2cec06cfb26e80f8f0409ae5af\", element=\"e10ccd0c-cf44-49c7-9b22-c14f47f71ca8\")>,\n",
       " <selenium.webdriver.remote.webelement.WebElement (session=\"ed7bab2cec06cfb26e80f8f0409ae5af\", element=\"e2bfb43f-5c1d-40bd-85a4-44d47bdd678f\")>,\n",
       " <selenium.webdriver.remote.webelement.WebElement (session=\"ed7bab2cec06cfb26e80f8f0409ae5af\", element=\"31306af1-77a0-4710-b6d5-79457a1268cb\")>,\n",
       " <selenium.webdriver.remote.webelement.WebElement (session=\"ed7bab2cec06cfb26e80f8f0409ae5af\", element=\"bd16246f-d9ee-408c-81ed-df2dd7740228\")>,\n",
       " <selenium.webdriver.remote.webelement.WebElement (session=\"ed7bab2cec06cfb26e80f8f0409ae5af\", element=\"29352136-a3bb-4f2e-9e37-585a09fe6a43\")>,\n",
       " <selenium.webdriver.remote.webelement.WebElement (session=\"ed7bab2cec06cfb26e80f8f0409ae5af\", element=\"5aa9d14f-304a-4981-9f5f-4319df195b2d\")>,\n",
       " <selenium.webdriver.remote.webelement.WebElement (session=\"ed7bab2cec06cfb26e80f8f0409ae5af\", element=\"688b61c7-6437-45be-bb8b-3d73c1741b1c\")>,\n",
       " <selenium.webdriver.remote.webelement.WebElement (session=\"ed7bab2cec06cfb26e80f8f0409ae5af\", element=\"fd129067-ec3e-48e9-9a0f-27fec43baac1\")>]"
      ]
     },
     "execution_count": 29,
     "metadata": {},
     "output_type": "execute_result"
    }
   ],
   "source": [
    "off_price_tag1=driver.find_elements_by_xpath('//div[@class=\"_3Ay6Sb\"]')\n",
    "off_price_tag1"
   ]
  },
  {
   "cell_type": "code",
   "execution_count": 30,
   "id": "30aa03e8",
   "metadata": {},
   "outputs": [
    {
     "data": {
      "text/plain": [
       "['60% off',\n",
       " '68% off',\n",
       " '74% off',\n",
       " '80% off',\n",
       " '75% off',\n",
       " '66% off',\n",
       " '50% off',\n",
       " '65% off',\n",
       " '61% off',\n",
       " '53% off',\n",
       " '48% off',\n",
       " '78% off',\n",
       " '35% off',\n",
       " '75% off',\n",
       " '41% off',\n",
       " '80% off',\n",
       " '60% off',\n",
       " '48% off',\n",
       " '69% off',\n",
       " '66% off',\n",
       " '60% off',\n",
       " '76% off',\n",
       " '50% off',\n",
       " '85% off',\n",
       " '50% off',\n",
       " '37% off',\n",
       " '87% off',\n",
       " '50% off',\n",
       " '58% off',\n",
       " '55% off',\n",
       " '50% off',\n",
       " '66% off',\n",
       " '48% off',\n",
       " '31% off',\n",
       " '75% off',\n",
       " '53% off',\n",
       " '50% off',\n",
       " '40% off',\n",
       " '57% off',\n",
       " '80% off']"
      ]
     },
     "execution_count": 30,
     "metadata": {},
     "output_type": "execute_result"
    }
   ],
   "source": [
    "off_price1=[]\n",
    "\n",
    "for i in off_price_tag1:\n",
    "    off_price1.append(i.text)\n",
    "len(off_price1)\n",
    "off_price1"
   ]
  },
  {
   "cell_type": "markdown",
   "id": "a23b5d9a",
   "metadata": {},
   "source": [
    "# Answer_7"
   ]
  },
  {
   "cell_type": "code",
   "execution_count": 40,
   "id": "cdf66ba0",
   "metadata": {},
   "outputs": [],
   "source": [
    "driver=webdriver.Chrome('chromedriver.exe')"
   ]
  },
  {
   "cell_type": "code",
   "execution_count": 41,
   "id": "18dd2a1a",
   "metadata": {},
   "outputs": [],
   "source": [
    "url6='https://www.myntra.com/shoes'\n",
    "driver.get(url6)"
   ]
  },
  {
   "cell_type": "code",
   "execution_count": 42,
   "id": "9b9de69c",
   "metadata": {},
   "outputs": [],
   "source": [
    "color_check = driver.find_element_by_xpath('/html/body/div[2]/div/div[1]/main/div[3]/div[1]/section/div/div[5]/ul/li[1]/label/div')"
   ]
  },
  {
   "cell_type": "code",
   "execution_count": 43,
   "id": "784c1ace",
   "metadata": {},
   "outputs": [],
   "source": [
    "color_check.click()"
   ]
  },
  {
   "cell_type": "code",
   "execution_count": 44,
   "id": "a829b8a2",
   "metadata": {},
   "outputs": [],
   "source": [
    "price_check = driver.find_element_by_xpath('/html/body/div[2]/div/div[1]/main/div[3]/div[1]/section/div/div[5]/ul/li[2]/label/div')"
   ]
  },
  {
   "cell_type": "code",
   "execution_count": 45,
   "id": "1769ffd2",
   "metadata": {},
   "outputs": [],
   "source": [
    "price_check.click()"
   ]
  },
  {
   "cell_type": "markdown",
   "id": "2589d62b",
   "metadata": {},
   "source": [
    "# Extracting Brand Name "
   ]
  },
  {
   "cell_type": "code",
   "execution_count": 57,
   "id": "8cec0057",
   "metadata": {},
   "outputs": [
    {
     "data": {
      "text/plain": [
       "[<selenium.webdriver.remote.webelement.WebElement (session=\"3f52f1e9b1ca5d914e1ee0b7cf5799b5\", element=\"f4b4daf3-08ce-40e7-b7f5-5385a9cefb41\")>,\n",
       " <selenium.webdriver.remote.webelement.WebElement (session=\"3f52f1e9b1ca5d914e1ee0b7cf5799b5\", element=\"0f71c161-d8a6-4116-ace0-f7911b612412\")>,\n",
       " <selenium.webdriver.remote.webelement.WebElement (session=\"3f52f1e9b1ca5d914e1ee0b7cf5799b5\", element=\"66e24153-f1a0-4aa1-84f5-6bff957cc2a1\")>,\n",
       " <selenium.webdriver.remote.webelement.WebElement (session=\"3f52f1e9b1ca5d914e1ee0b7cf5799b5\", element=\"0330a916-c569-4475-9a74-e16267c2566c\")>,\n",
       " <selenium.webdriver.remote.webelement.WebElement (session=\"3f52f1e9b1ca5d914e1ee0b7cf5799b5\", element=\"55621b8f-3741-40de-9309-ac38b41ecdce\")>,\n",
       " <selenium.webdriver.remote.webelement.WebElement (session=\"3f52f1e9b1ca5d914e1ee0b7cf5799b5\", element=\"39305d17-daa4-4d9c-81f5-c3877777391c\")>,\n",
       " <selenium.webdriver.remote.webelement.WebElement (session=\"3f52f1e9b1ca5d914e1ee0b7cf5799b5\", element=\"84f0ff59-7026-4336-982d-1d999d3bc683\")>,\n",
       " <selenium.webdriver.remote.webelement.WebElement (session=\"3f52f1e9b1ca5d914e1ee0b7cf5799b5\", element=\"ad3d7016-b856-4800-ab26-521e3771c7da\")>,\n",
       " <selenium.webdriver.remote.webelement.WebElement (session=\"3f52f1e9b1ca5d914e1ee0b7cf5799b5\", element=\"71091c0d-36eb-4dea-9eab-2f246af4c861\")>,\n",
       " <selenium.webdriver.remote.webelement.WebElement (session=\"3f52f1e9b1ca5d914e1ee0b7cf5799b5\", element=\"7ae57564-5843-4dc3-9e85-2d58850813ea\")>,\n",
       " <selenium.webdriver.remote.webelement.WebElement (session=\"3f52f1e9b1ca5d914e1ee0b7cf5799b5\", element=\"d132e435-a7db-4573-8065-b8d1c9e86772\")>,\n",
       " <selenium.webdriver.remote.webelement.WebElement (session=\"3f52f1e9b1ca5d914e1ee0b7cf5799b5\", element=\"79b734b7-7e26-4e79-a3e4-e937f865f729\")>,\n",
       " <selenium.webdriver.remote.webelement.WebElement (session=\"3f52f1e9b1ca5d914e1ee0b7cf5799b5\", element=\"98193d7f-e6f3-4a86-a05c-e538a2728a32\")>,\n",
       " <selenium.webdriver.remote.webelement.WebElement (session=\"3f52f1e9b1ca5d914e1ee0b7cf5799b5\", element=\"bcb1b4b1-05fe-4bf8-8be6-0a58ba70bb4c\")>,\n",
       " <selenium.webdriver.remote.webelement.WebElement (session=\"3f52f1e9b1ca5d914e1ee0b7cf5799b5\", element=\"a4ce507f-b1c4-45ea-ab7d-9b072f681f28\")>,\n",
       " <selenium.webdriver.remote.webelement.WebElement (session=\"3f52f1e9b1ca5d914e1ee0b7cf5799b5\", element=\"4d78a8a9-50f8-4760-baa0-a58a171e6ad6\")>,\n",
       " <selenium.webdriver.remote.webelement.WebElement (session=\"3f52f1e9b1ca5d914e1ee0b7cf5799b5\", element=\"55c3b18c-4cc5-43fe-a0bd-80bbc4596ffa\")>,\n",
       " <selenium.webdriver.remote.webelement.WebElement (session=\"3f52f1e9b1ca5d914e1ee0b7cf5799b5\", element=\"e10a6d4b-b966-4afe-b0d5-817bf15dea73\")>,\n",
       " <selenium.webdriver.remote.webelement.WebElement (session=\"3f52f1e9b1ca5d914e1ee0b7cf5799b5\", element=\"b949fe6e-1540-4009-8850-18a39cf68ae8\")>,\n",
       " <selenium.webdriver.remote.webelement.WebElement (session=\"3f52f1e9b1ca5d914e1ee0b7cf5799b5\", element=\"748bf0f5-5bf8-47e3-8192-26e9a7a98613\")>,\n",
       " <selenium.webdriver.remote.webelement.WebElement (session=\"3f52f1e9b1ca5d914e1ee0b7cf5799b5\", element=\"9b4b8f01-1e4f-4b66-9fbb-55c0a78c7442\")>,\n",
       " <selenium.webdriver.remote.webelement.WebElement (session=\"3f52f1e9b1ca5d914e1ee0b7cf5799b5\", element=\"50f5df00-92f6-45a0-8eed-6141a49390cb\")>,\n",
       " <selenium.webdriver.remote.webelement.WebElement (session=\"3f52f1e9b1ca5d914e1ee0b7cf5799b5\", element=\"7eaaa744-4018-457e-bb07-c10cde0b938d\")>,\n",
       " <selenium.webdriver.remote.webelement.WebElement (session=\"3f52f1e9b1ca5d914e1ee0b7cf5799b5\", element=\"cff2b18f-0db1-487c-994d-b54f0f8deec4\")>,\n",
       " <selenium.webdriver.remote.webelement.WebElement (session=\"3f52f1e9b1ca5d914e1ee0b7cf5799b5\", element=\"30b09a92-9e12-49c9-8fe1-2ab27944e863\")>,\n",
       " <selenium.webdriver.remote.webelement.WebElement (session=\"3f52f1e9b1ca5d914e1ee0b7cf5799b5\", element=\"a3777ce9-64c5-40ff-b3c8-beda19862a0e\")>,\n",
       " <selenium.webdriver.remote.webelement.WebElement (session=\"3f52f1e9b1ca5d914e1ee0b7cf5799b5\", element=\"028d2099-0a0c-4bac-b5a5-5bf47bac3ea2\")>,\n",
       " <selenium.webdriver.remote.webelement.WebElement (session=\"3f52f1e9b1ca5d914e1ee0b7cf5799b5\", element=\"0fa80681-66c2-4066-a5d6-cd43245d0e36\")>,\n",
       " <selenium.webdriver.remote.webelement.WebElement (session=\"3f52f1e9b1ca5d914e1ee0b7cf5799b5\", element=\"21db67c1-c508-4c3c-9211-284967405238\")>,\n",
       " <selenium.webdriver.remote.webelement.WebElement (session=\"3f52f1e9b1ca5d914e1ee0b7cf5799b5\", element=\"9e7a7b23-9777-4d56-ad84-de0f48855509\")>,\n",
       " <selenium.webdriver.remote.webelement.WebElement (session=\"3f52f1e9b1ca5d914e1ee0b7cf5799b5\", element=\"647223fc-d165-44b2-a5e1-a74f8db104e3\")>,\n",
       " <selenium.webdriver.remote.webelement.WebElement (session=\"3f52f1e9b1ca5d914e1ee0b7cf5799b5\", element=\"9f521a84-e167-4b87-9d3b-9b7c0ead8f47\")>,\n",
       " <selenium.webdriver.remote.webelement.WebElement (session=\"3f52f1e9b1ca5d914e1ee0b7cf5799b5\", element=\"60b9f929-c10f-4d2a-8ff7-2ae263eb1c31\")>,\n",
       " <selenium.webdriver.remote.webelement.WebElement (session=\"3f52f1e9b1ca5d914e1ee0b7cf5799b5\", element=\"7709f215-5e5c-46e8-bc4a-2bfb48f832a4\")>,\n",
       " <selenium.webdriver.remote.webelement.WebElement (session=\"3f52f1e9b1ca5d914e1ee0b7cf5799b5\", element=\"c2efa79e-aef6-40f5-803e-c5824a4984db\")>,\n",
       " <selenium.webdriver.remote.webelement.WebElement (session=\"3f52f1e9b1ca5d914e1ee0b7cf5799b5\", element=\"786bc434-6629-47f3-8899-a659dddd2208\")>,\n",
       " <selenium.webdriver.remote.webelement.WebElement (session=\"3f52f1e9b1ca5d914e1ee0b7cf5799b5\", element=\"15c4a3d4-952e-4496-bbe7-8f9535baf5a2\")>,\n",
       " <selenium.webdriver.remote.webelement.WebElement (session=\"3f52f1e9b1ca5d914e1ee0b7cf5799b5\", element=\"04aa6b2c-8bd1-4004-a6da-dbce79f2dae5\")>,\n",
       " <selenium.webdriver.remote.webelement.WebElement (session=\"3f52f1e9b1ca5d914e1ee0b7cf5799b5\", element=\"edc4c249-1a08-4e20-b2a6-08b09d7268a2\")>,\n",
       " <selenium.webdriver.remote.webelement.WebElement (session=\"3f52f1e9b1ca5d914e1ee0b7cf5799b5\", element=\"a6763588-45aa-466d-91bb-b01dcd45b597\")>,\n",
       " <selenium.webdriver.remote.webelement.WebElement (session=\"3f52f1e9b1ca5d914e1ee0b7cf5799b5\", element=\"746bbbb3-f416-4b82-bfe9-94c21dc60570\")>,\n",
       " <selenium.webdriver.remote.webelement.WebElement (session=\"3f52f1e9b1ca5d914e1ee0b7cf5799b5\", element=\"3ad350bb-8deb-4de5-abb6-4e86470aaca8\")>,\n",
       " <selenium.webdriver.remote.webelement.WebElement (session=\"3f52f1e9b1ca5d914e1ee0b7cf5799b5\", element=\"fee96837-8411-484e-b548-67dd91cbccfa\")>,\n",
       " <selenium.webdriver.remote.webelement.WebElement (session=\"3f52f1e9b1ca5d914e1ee0b7cf5799b5\", element=\"21aa7bba-ac7f-4729-b21c-9102c4b4f3f6\")>,\n",
       " <selenium.webdriver.remote.webelement.WebElement (session=\"3f52f1e9b1ca5d914e1ee0b7cf5799b5\", element=\"061cfe21-ee86-4da9-a354-3d05db419201\")>,\n",
       " <selenium.webdriver.remote.webelement.WebElement (session=\"3f52f1e9b1ca5d914e1ee0b7cf5799b5\", element=\"103e1f8b-d57b-4534-ac94-f89a8ae697c4\")>,\n",
       " <selenium.webdriver.remote.webelement.WebElement (session=\"3f52f1e9b1ca5d914e1ee0b7cf5799b5\", element=\"8ab05012-7b2b-4475-934b-e8aac84c065f\")>,\n",
       " <selenium.webdriver.remote.webelement.WebElement (session=\"3f52f1e9b1ca5d914e1ee0b7cf5799b5\", element=\"8228e4b7-d042-4b20-9070-6387f04a47f9\")>,\n",
       " <selenium.webdriver.remote.webelement.WebElement (session=\"3f52f1e9b1ca5d914e1ee0b7cf5799b5\", element=\"57360808-a627-4af3-a101-a82079dbba1e\")>,\n",
       " <selenium.webdriver.remote.webelement.WebElement (session=\"3f52f1e9b1ca5d914e1ee0b7cf5799b5\", element=\"dac542da-f71a-4dd1-aeee-2aae2c97bf41\")>]"
      ]
     },
     "execution_count": 57,
     "metadata": {},
     "output_type": "execute_result"
    }
   ],
   "source": [
    "price_tags = driver.find_elements_by_xpath('//div[@class=\"product-price\"]')\n",
    "price_tags"
   ]
  },
  {
   "cell_type": "code",
   "execution_count": 58,
   "id": "e9baa1dc",
   "metadata": {},
   "outputs": [
    {
     "data": {
      "text/plain": [
       "['Rs. 9099Rs. 12999(30% OFF)',\n",
       " 'Rs. 7995',\n",
       " 'Rs. 12999',\n",
       " 'Rs. 9999',\n",
       " 'Rs. 13999',\n",
       " 'Rs. 12999',\n",
       " 'Rs. 12999',\n",
       " 'Rs. 7649Rs. 8999(15% OFF)',\n",
       " 'Rs. 7999',\n",
       " 'Rs. 9099Rs. 12999(30% OFF)',\n",
       " 'Rs. 8249Rs. 10999(25% OFF)',\n",
       " 'Rs. 10995',\n",
       " 'Rs. 8499Rs. 9999(15% OFF)',\n",
       " 'Rs. 7999',\n",
       " 'Rs. 7224Rs. 8499(15% OFF)',\n",
       " 'Rs. 8490',\n",
       " 'Rs. 8499Rs. 9999(15% OFF)',\n",
       " 'Rs. 8499Rs. 9999(15% OFF)',\n",
       " 'Rs. 8990',\n",
       " 'Rs. 7739Rs. 8599(10% OFF)',\n",
       " 'Rs. 9500',\n",
       " 'Rs. 11599',\n",
       " 'Rs. 7599',\n",
       " 'Rs. 10500Rs. 10900(Rs. 400 OFF)',\n",
       " 'Rs. 8499Rs. 9999(15% OFF)',\n",
       " 'Rs. 8399Rs. 11999(30% OFF)',\n",
       " 'Rs. 9999',\n",
       " 'Rs. 7739Rs. 8599(10% OFF)',\n",
       " 'Rs. 12990',\n",
       " 'Rs. 7999',\n",
       " 'Rs. 8579Rs. 10999(22% OFF)',\n",
       " 'Rs. 7499',\n",
       " 'Rs. 9499',\n",
       " 'Rs. 8990',\n",
       " 'Rs. 7999',\n",
       " 'Rs. 7499',\n",
       " 'Rs. 8490',\n",
       " 'Rs. 7990',\n",
       " 'Rs. 7299',\n",
       " 'Rs. 8990',\n",
       " 'Rs. 8999',\n",
       " 'Rs. 7990',\n",
       " 'Rs. 8415Rs. 9900(15% OFF)',\n",
       " 'Rs. 8399Rs. 11999(30% OFF)',\n",
       " 'Rs. 7380Rs. 8200(10% OFF)',\n",
       " 'Rs. 7999',\n",
       " 'Rs. 8499',\n",
       " 'Rs. 7399',\n",
       " 'Rs. 7990',\n",
       " 'Rs. 7900']"
      ]
     },
     "execution_count": 58,
     "metadata": {},
     "output_type": "execute_result"
    }
   ],
   "source": [
    "Price=[]\n",
    "\n",
    "for i in price_tags:\n",
    "    Price.append(i.text)\n",
    "len(Price)\n",
    "Price"
   ]
  },
  {
   "cell_type": "code",
   "execution_count": 51,
   "id": "87266ff0",
   "metadata": {},
   "outputs": [
    {
     "data": {
      "text/plain": [
       "[<selenium.webdriver.remote.webelement.WebElement (session=\"3f52f1e9b1ca5d914e1ee0b7cf5799b5\", element=\"0ed71c33-36c5-4e78-b44e-1c50d47ae9c3\")>,\n",
       " <selenium.webdriver.remote.webelement.WebElement (session=\"3f52f1e9b1ca5d914e1ee0b7cf5799b5\", element=\"1591b7f8-41d1-4335-912c-fe11ec41edbe\")>,\n",
       " <selenium.webdriver.remote.webelement.WebElement (session=\"3f52f1e9b1ca5d914e1ee0b7cf5799b5\", element=\"5dec5199-dd3d-4058-b8c0-9cc3a60c062e\")>,\n",
       " <selenium.webdriver.remote.webelement.WebElement (session=\"3f52f1e9b1ca5d914e1ee0b7cf5799b5\", element=\"b9a7166f-2e90-4595-86af-d9d5abad3da6\")>,\n",
       " <selenium.webdriver.remote.webelement.WebElement (session=\"3f52f1e9b1ca5d914e1ee0b7cf5799b5\", element=\"6f266d7e-078f-4d7c-9dfb-3ce1893716ce\")>,\n",
       " <selenium.webdriver.remote.webelement.WebElement (session=\"3f52f1e9b1ca5d914e1ee0b7cf5799b5\", element=\"bd8d757b-95e1-48d8-b6ee-3085e4733f63\")>,\n",
       " <selenium.webdriver.remote.webelement.WebElement (session=\"3f52f1e9b1ca5d914e1ee0b7cf5799b5\", element=\"feecffe4-ddf5-4362-8342-d34abf070187\")>,\n",
       " <selenium.webdriver.remote.webelement.WebElement (session=\"3f52f1e9b1ca5d914e1ee0b7cf5799b5\", element=\"7e64091e-c5d8-4fb8-a06b-1531a16f8724\")>,\n",
       " <selenium.webdriver.remote.webelement.WebElement (session=\"3f52f1e9b1ca5d914e1ee0b7cf5799b5\", element=\"b32ed684-18d3-457c-bff9-784543fd9ead\")>,\n",
       " <selenium.webdriver.remote.webelement.WebElement (session=\"3f52f1e9b1ca5d914e1ee0b7cf5799b5\", element=\"412223d0-82ec-437e-bc41-5b0c44fea187\")>,\n",
       " <selenium.webdriver.remote.webelement.WebElement (session=\"3f52f1e9b1ca5d914e1ee0b7cf5799b5\", element=\"7a511e6a-e823-4916-81c9-72926ee1eed9\")>,\n",
       " <selenium.webdriver.remote.webelement.WebElement (session=\"3f52f1e9b1ca5d914e1ee0b7cf5799b5\", element=\"ffeffcfa-f239-417a-a111-a810d2f59fbf\")>,\n",
       " <selenium.webdriver.remote.webelement.WebElement (session=\"3f52f1e9b1ca5d914e1ee0b7cf5799b5\", element=\"75b8d991-2a3d-463a-a3a8-6bc2ec837376\")>,\n",
       " <selenium.webdriver.remote.webelement.WebElement (session=\"3f52f1e9b1ca5d914e1ee0b7cf5799b5\", element=\"907ae8e6-dcd7-4912-b0c0-7d0424ea9778\")>,\n",
       " <selenium.webdriver.remote.webelement.WebElement (session=\"3f52f1e9b1ca5d914e1ee0b7cf5799b5\", element=\"4502078d-d9a5-46bf-a20b-c49600e6954b\")>,\n",
       " <selenium.webdriver.remote.webelement.WebElement (session=\"3f52f1e9b1ca5d914e1ee0b7cf5799b5\", element=\"5f9ee90c-9026-4483-a7fb-ebc2e489e607\")>,\n",
       " <selenium.webdriver.remote.webelement.WebElement (session=\"3f52f1e9b1ca5d914e1ee0b7cf5799b5\", element=\"a56a3697-113a-432c-b15b-9fd181b0d198\")>,\n",
       " <selenium.webdriver.remote.webelement.WebElement (session=\"3f52f1e9b1ca5d914e1ee0b7cf5799b5\", element=\"0deb405e-3f0a-48bc-b094-60df5f2cb867\")>,\n",
       " <selenium.webdriver.remote.webelement.WebElement (session=\"3f52f1e9b1ca5d914e1ee0b7cf5799b5\", element=\"b4ae3684-1cf5-495c-b6e3-98673a84a7bd\")>,\n",
       " <selenium.webdriver.remote.webelement.WebElement (session=\"3f52f1e9b1ca5d914e1ee0b7cf5799b5\", element=\"126f64b9-b46d-4eef-bcff-897cf94de884\")>,\n",
       " <selenium.webdriver.remote.webelement.WebElement (session=\"3f52f1e9b1ca5d914e1ee0b7cf5799b5\", element=\"91160513-ed97-4a49-82fa-01f2d4a9bff2\")>,\n",
       " <selenium.webdriver.remote.webelement.WebElement (session=\"3f52f1e9b1ca5d914e1ee0b7cf5799b5\", element=\"ee0cee57-14f0-4661-bbc3-fa4ea8d26061\")>,\n",
       " <selenium.webdriver.remote.webelement.WebElement (session=\"3f52f1e9b1ca5d914e1ee0b7cf5799b5\", element=\"ddd6c743-0a68-4af8-9bb6-2f48b28a0d8d\")>,\n",
       " <selenium.webdriver.remote.webelement.WebElement (session=\"3f52f1e9b1ca5d914e1ee0b7cf5799b5\", element=\"cce4ed0b-949d-4888-b8ec-6c9569cb2522\")>,\n",
       " <selenium.webdriver.remote.webelement.WebElement (session=\"3f52f1e9b1ca5d914e1ee0b7cf5799b5\", element=\"f46bd2cc-edc9-4f72-ba0a-bea830064e44\")>,\n",
       " <selenium.webdriver.remote.webelement.WebElement (session=\"3f52f1e9b1ca5d914e1ee0b7cf5799b5\", element=\"84a9f667-4095-4e6d-b945-c74b3a64ae5a\")>,\n",
       " <selenium.webdriver.remote.webelement.WebElement (session=\"3f52f1e9b1ca5d914e1ee0b7cf5799b5\", element=\"94849926-8172-4c0e-9d84-5fe5752ece3e\")>,\n",
       " <selenium.webdriver.remote.webelement.WebElement (session=\"3f52f1e9b1ca5d914e1ee0b7cf5799b5\", element=\"f4c2a33b-b7d5-443b-89b7-22f29ecff4be\")>,\n",
       " <selenium.webdriver.remote.webelement.WebElement (session=\"3f52f1e9b1ca5d914e1ee0b7cf5799b5\", element=\"7546c4e1-a3f0-4c4d-9220-3855315c57ea\")>,\n",
       " <selenium.webdriver.remote.webelement.WebElement (session=\"3f52f1e9b1ca5d914e1ee0b7cf5799b5\", element=\"c3d91ad7-37e3-4f29-8b29-6246b6908936\")>,\n",
       " <selenium.webdriver.remote.webelement.WebElement (session=\"3f52f1e9b1ca5d914e1ee0b7cf5799b5\", element=\"63c3a0ab-3823-4601-aac4-403638f326d9\")>,\n",
       " <selenium.webdriver.remote.webelement.WebElement (session=\"3f52f1e9b1ca5d914e1ee0b7cf5799b5\", element=\"8a8d204c-681d-4283-b8f5-68d189432eb6\")>,\n",
       " <selenium.webdriver.remote.webelement.WebElement (session=\"3f52f1e9b1ca5d914e1ee0b7cf5799b5\", element=\"ed818855-3633-425d-b4c6-1da668bed685\")>,\n",
       " <selenium.webdriver.remote.webelement.WebElement (session=\"3f52f1e9b1ca5d914e1ee0b7cf5799b5\", element=\"69fb1d7c-1c9f-43c1-9a29-c7236f32736d\")>,\n",
       " <selenium.webdriver.remote.webelement.WebElement (session=\"3f52f1e9b1ca5d914e1ee0b7cf5799b5\", element=\"f7d27c33-a307-4158-9e51-65bb36719fd3\")>,\n",
       " <selenium.webdriver.remote.webelement.WebElement (session=\"3f52f1e9b1ca5d914e1ee0b7cf5799b5\", element=\"3ddb2a24-0e42-4a16-975c-9b78678884fd\")>,\n",
       " <selenium.webdriver.remote.webelement.WebElement (session=\"3f52f1e9b1ca5d914e1ee0b7cf5799b5\", element=\"0e0f8839-b0a4-4188-8df7-d167a43bd60f\")>,\n",
       " <selenium.webdriver.remote.webelement.WebElement (session=\"3f52f1e9b1ca5d914e1ee0b7cf5799b5\", element=\"21585113-efa5-41ce-b07c-89c0c0c7db60\")>,\n",
       " <selenium.webdriver.remote.webelement.WebElement (session=\"3f52f1e9b1ca5d914e1ee0b7cf5799b5\", element=\"6ba8797e-358d-4c67-a0ec-eae7a4ca38d7\")>,\n",
       " <selenium.webdriver.remote.webelement.WebElement (session=\"3f52f1e9b1ca5d914e1ee0b7cf5799b5\", element=\"297580f2-5d31-4b51-8b1c-4e45c9548df7\")>,\n",
       " <selenium.webdriver.remote.webelement.WebElement (session=\"3f52f1e9b1ca5d914e1ee0b7cf5799b5\", element=\"bb30f7cf-3fcd-4490-a886-c3a4d9ca8b7d\")>,\n",
       " <selenium.webdriver.remote.webelement.WebElement (session=\"3f52f1e9b1ca5d914e1ee0b7cf5799b5\", element=\"667ad6b8-7234-452c-87b0-f4e27255de49\")>,\n",
       " <selenium.webdriver.remote.webelement.WebElement (session=\"3f52f1e9b1ca5d914e1ee0b7cf5799b5\", element=\"02c64b50-5e27-4ae4-8dc3-3ba890615159\")>,\n",
       " <selenium.webdriver.remote.webelement.WebElement (session=\"3f52f1e9b1ca5d914e1ee0b7cf5799b5\", element=\"197275b6-87a4-4d14-9a19-f881f72655a0\")>,\n",
       " <selenium.webdriver.remote.webelement.WebElement (session=\"3f52f1e9b1ca5d914e1ee0b7cf5799b5\", element=\"6b3e3bd6-d981-48c5-8cbc-543d2865e1cf\")>,\n",
       " <selenium.webdriver.remote.webelement.WebElement (session=\"3f52f1e9b1ca5d914e1ee0b7cf5799b5\", element=\"32829d8c-3bb5-49d3-bd3e-064917d919cf\")>,\n",
       " <selenium.webdriver.remote.webelement.WebElement (session=\"3f52f1e9b1ca5d914e1ee0b7cf5799b5\", element=\"8348fc50-9f90-40dd-8641-72a006143fd3\")>,\n",
       " <selenium.webdriver.remote.webelement.WebElement (session=\"3f52f1e9b1ca5d914e1ee0b7cf5799b5\", element=\"8273378f-797f-4537-b982-2fb4a3bc3fd3\")>,\n",
       " <selenium.webdriver.remote.webelement.WebElement (session=\"3f52f1e9b1ca5d914e1ee0b7cf5799b5\", element=\"6b29eb7c-5787-404f-8a8e-9a63ea52677a\")>,\n",
       " <selenium.webdriver.remote.webelement.WebElement (session=\"3f52f1e9b1ca5d914e1ee0b7cf5799b5\", element=\"0a58de00-c4b8-4162-b0cb-a33df397607b\")>]"
      ]
     },
     "execution_count": 51,
     "metadata": {},
     "output_type": "execute_result"
    }
   ],
   "source": [
    "description=driver.find_elements_by_xpath('//h4[@class=\"product-product\"]')\n",
    "description"
   ]
  },
  {
   "cell_type": "code",
   "execution_count": 52,
   "id": "88d92455",
   "metadata": {},
   "outputs": [
    {
     "data": {
      "text/plain": [
       "['Men Printed Sneakers',\n",
       " 'Men Winflo 7 Running Shoes',\n",
       " 'Men Leather Driving Shoes',\n",
       " 'Electrify Nitro Running Shoes',\n",
       " 'Men Woven Design Sneakers',\n",
       " 'Eternity Nitro Running Shoes',\n",
       " 'Men Jamming 2.0 Running Shoes',\n",
       " 'Men Solid Leather Formal Slip-Ons',\n",
       " 'Men Training or Gym Shoes',\n",
       " 'Women Eternity NITRO Shoes',\n",
       " 'Women Velocity NITRO Runners',\n",
       " 'Men Air Max Dawn Sneakers',\n",
       " 'Men Formal Derbys',\n",
       " 'Men FUSE Training Shoes',\n",
       " 'Men Go Run Hyper Burst Running',\n",
       " 'Men Black Leather Loafers',\n",
       " 'Men Solid Leather Formal Slip-Ons',\n",
       " 'Men Solid Formal Slip-Ons',\n",
       " 'Women Solid Sneakers',\n",
       " 'Women CLEAT Textured Sneakers',\n",
       " 'Women Leather Block Heels',\n",
       " 'Men Printed Trekking Shoes',\n",
       " 'Leather Sandals',\n",
       " 'Men Mid-Top Chelsea Boots',\n",
       " 'Men Solid Leather Formal Derbys',\n",
       " 'Men Textured Leather High-Top Flat Boots',\n",
       " 'Men Solid Formal Leather Derbys',\n",
       " 'Men Cleated Leather Sneakers',\n",
       " 'Men Suede Loafers',\n",
       " 'Women Running Shoes',\n",
       " 'Unisex Training or Gym Shoes',\n",
       " 'Men Leather Derbys',\n",
       " 'Men Leather Driving Shoes',\n",
       " 'Men Solid Loafers',\n",
       " 'Wedge Sandals',\n",
       " 'PU Block Pumps with Buckles',\n",
       " 'Men Textured Leather Loafers',\n",
       " 'Men Textured Leather Loafers',\n",
       " 'Party Stiletto Heeled Boots',\n",
       " 'Men Textured Formal Leather Loafers',\n",
       " 'Women Leather Pumps',\n",
       " 'Men Formal Leather Derby',\n",
       " 'Striped Suede Flatform Heeled Boots',\n",
       " 'Leather Slim Heels',\n",
       " 'Leather Party Block Mules',\n",
       " 'Wedge Sandals',\n",
       " 'Women Leather Sneakers',\n",
       " 'Suede Block Heeled Boots',\n",
       " 'Women Heeled Leather Loafers',\n",
       " 'High-Top Block Heeled Boots']"
      ]
     },
     "execution_count": 52,
     "metadata": {},
     "output_type": "execute_result"
    }
   ],
   "source": [
    "Description=[]\n",
    "\n",
    "for i in description:\n",
    "    Description.append(i.text)\n",
    "len(Description)\n",
    "Description"
   ]
  },
  {
   "cell_type": "markdown",
   "id": "d9ec8a64",
   "metadata": {},
   "source": [
    "# Extracting Brand"
   ]
  },
  {
   "cell_type": "code",
   "execution_count": 53,
   "id": "6c024934",
   "metadata": {},
   "outputs": [
    {
     "data": {
      "text/plain": [
       "[<selenium.webdriver.remote.webelement.WebElement (session=\"3f52f1e9b1ca5d914e1ee0b7cf5799b5\", element=\"b8fef439-59c1-45f3-a559-9c29ee592a45\")>,\n",
       " <selenium.webdriver.remote.webelement.WebElement (session=\"3f52f1e9b1ca5d914e1ee0b7cf5799b5\", element=\"47e7e082-7390-4bc7-bd54-f4c373ae498a\")>,\n",
       " <selenium.webdriver.remote.webelement.WebElement (session=\"3f52f1e9b1ca5d914e1ee0b7cf5799b5\", element=\"c5d95ea6-7113-43f6-844f-0d3f9d641835\")>,\n",
       " <selenium.webdriver.remote.webelement.WebElement (session=\"3f52f1e9b1ca5d914e1ee0b7cf5799b5\", element=\"ca1a1705-3d17-4ab4-96c4-bebc2ee0e264\")>,\n",
       " <selenium.webdriver.remote.webelement.WebElement (session=\"3f52f1e9b1ca5d914e1ee0b7cf5799b5\", element=\"a1419ce4-d4e9-44df-ad6c-7bcc1e4a1462\")>,\n",
       " <selenium.webdriver.remote.webelement.WebElement (session=\"3f52f1e9b1ca5d914e1ee0b7cf5799b5\", element=\"23c42a0d-83c3-4dc1-ae4d-4409b54c8951\")>,\n",
       " <selenium.webdriver.remote.webelement.WebElement (session=\"3f52f1e9b1ca5d914e1ee0b7cf5799b5\", element=\"1e6b6a5b-dbc5-41ef-b7d8-ad6119c03b8a\")>,\n",
       " <selenium.webdriver.remote.webelement.WebElement (session=\"3f52f1e9b1ca5d914e1ee0b7cf5799b5\", element=\"71146b0e-3b7f-45b5-b688-90da71a68062\")>,\n",
       " <selenium.webdriver.remote.webelement.WebElement (session=\"3f52f1e9b1ca5d914e1ee0b7cf5799b5\", element=\"adfff53a-dbbd-46ed-aa20-9e0f6a9610b3\")>,\n",
       " <selenium.webdriver.remote.webelement.WebElement (session=\"3f52f1e9b1ca5d914e1ee0b7cf5799b5\", element=\"d8c1691d-cf3c-4c66-84a7-32091d25a8dd\")>,\n",
       " <selenium.webdriver.remote.webelement.WebElement (session=\"3f52f1e9b1ca5d914e1ee0b7cf5799b5\", element=\"90156cc0-4cb5-4e48-86d0-95130896a662\")>,\n",
       " <selenium.webdriver.remote.webelement.WebElement (session=\"3f52f1e9b1ca5d914e1ee0b7cf5799b5\", element=\"664dd4b3-07dc-4998-ae5d-e9a514fed5f3\")>,\n",
       " <selenium.webdriver.remote.webelement.WebElement (session=\"3f52f1e9b1ca5d914e1ee0b7cf5799b5\", element=\"a4a4891e-7864-4d7c-bfce-77526a1eeb6e\")>,\n",
       " <selenium.webdriver.remote.webelement.WebElement (session=\"3f52f1e9b1ca5d914e1ee0b7cf5799b5\", element=\"1391d62b-b9f2-4314-89de-16846bedbf94\")>,\n",
       " <selenium.webdriver.remote.webelement.WebElement (session=\"3f52f1e9b1ca5d914e1ee0b7cf5799b5\", element=\"ed7e88f8-a99f-41bb-ae48-af973fdf0679\")>,\n",
       " <selenium.webdriver.remote.webelement.WebElement (session=\"3f52f1e9b1ca5d914e1ee0b7cf5799b5\", element=\"1c648b38-ee14-4c9a-9cca-34a261562ea1\")>,\n",
       " <selenium.webdriver.remote.webelement.WebElement (session=\"3f52f1e9b1ca5d914e1ee0b7cf5799b5\", element=\"c6ff06a1-190b-4b6f-a3cb-c4e0713dc1d7\")>,\n",
       " <selenium.webdriver.remote.webelement.WebElement (session=\"3f52f1e9b1ca5d914e1ee0b7cf5799b5\", element=\"6a9bf2b4-f3b3-4cce-a2fc-309fbc11e4a5\")>,\n",
       " <selenium.webdriver.remote.webelement.WebElement (session=\"3f52f1e9b1ca5d914e1ee0b7cf5799b5\", element=\"fbabab0f-3072-4ce0-a974-decd1d2ed9f4\")>,\n",
       " <selenium.webdriver.remote.webelement.WebElement (session=\"3f52f1e9b1ca5d914e1ee0b7cf5799b5\", element=\"09d15bc2-f1a8-4429-92aa-199edf5dd31c\")>,\n",
       " <selenium.webdriver.remote.webelement.WebElement (session=\"3f52f1e9b1ca5d914e1ee0b7cf5799b5\", element=\"b106cad6-5446-4992-92ef-c95787923e32\")>,\n",
       " <selenium.webdriver.remote.webelement.WebElement (session=\"3f52f1e9b1ca5d914e1ee0b7cf5799b5\", element=\"ed5d38f8-d632-4ed0-876b-295e08b0ab36\")>,\n",
       " <selenium.webdriver.remote.webelement.WebElement (session=\"3f52f1e9b1ca5d914e1ee0b7cf5799b5\", element=\"c90fdb3e-e10e-4f57-b2a8-ca9954b96036\")>,\n",
       " <selenium.webdriver.remote.webelement.WebElement (session=\"3f52f1e9b1ca5d914e1ee0b7cf5799b5\", element=\"fa670cfc-21cb-4dee-8038-3e94dbd0a36d\")>,\n",
       " <selenium.webdriver.remote.webelement.WebElement (session=\"3f52f1e9b1ca5d914e1ee0b7cf5799b5\", element=\"f66fe0f7-6d18-465e-86cd-480f772717ea\")>,\n",
       " <selenium.webdriver.remote.webelement.WebElement (session=\"3f52f1e9b1ca5d914e1ee0b7cf5799b5\", element=\"52ac0f71-6b7a-41b1-916d-a67b7cbb3f11\")>,\n",
       " <selenium.webdriver.remote.webelement.WebElement (session=\"3f52f1e9b1ca5d914e1ee0b7cf5799b5\", element=\"23fa4e15-82a4-4c62-9288-d700ce0d146f\")>,\n",
       " <selenium.webdriver.remote.webelement.WebElement (session=\"3f52f1e9b1ca5d914e1ee0b7cf5799b5\", element=\"5ca38a85-8fe7-48aa-a1eb-895b3ab229e0\")>,\n",
       " <selenium.webdriver.remote.webelement.WebElement (session=\"3f52f1e9b1ca5d914e1ee0b7cf5799b5\", element=\"cc206a60-36c5-4fad-9646-71878e632ca7\")>,\n",
       " <selenium.webdriver.remote.webelement.WebElement (session=\"3f52f1e9b1ca5d914e1ee0b7cf5799b5\", element=\"8061af91-1f6a-4114-ab4e-056eb8c3e783\")>,\n",
       " <selenium.webdriver.remote.webelement.WebElement (session=\"3f52f1e9b1ca5d914e1ee0b7cf5799b5\", element=\"eead73f5-713b-4a34-81f5-57b5e4aa97fd\")>,\n",
       " <selenium.webdriver.remote.webelement.WebElement (session=\"3f52f1e9b1ca5d914e1ee0b7cf5799b5\", element=\"859429e7-b960-413a-a8a4-4ea9f362d832\")>,\n",
       " <selenium.webdriver.remote.webelement.WebElement (session=\"3f52f1e9b1ca5d914e1ee0b7cf5799b5\", element=\"c20da000-abf3-4dd0-bda6-8cec8d18d9d0\")>,\n",
       " <selenium.webdriver.remote.webelement.WebElement (session=\"3f52f1e9b1ca5d914e1ee0b7cf5799b5\", element=\"391d7bb4-d70d-4e90-8475-d083d5108543\")>,\n",
       " <selenium.webdriver.remote.webelement.WebElement (session=\"3f52f1e9b1ca5d914e1ee0b7cf5799b5\", element=\"38b3881b-6bc0-46b1-9adc-e58f9ca55c13\")>,\n",
       " <selenium.webdriver.remote.webelement.WebElement (session=\"3f52f1e9b1ca5d914e1ee0b7cf5799b5\", element=\"54a83af2-9513-44d9-91a9-f7eb4f45dc12\")>,\n",
       " <selenium.webdriver.remote.webelement.WebElement (session=\"3f52f1e9b1ca5d914e1ee0b7cf5799b5\", element=\"6160206f-77ae-433c-97a5-317fa84d3eed\")>,\n",
       " <selenium.webdriver.remote.webelement.WebElement (session=\"3f52f1e9b1ca5d914e1ee0b7cf5799b5\", element=\"89453acf-9498-4206-b6ce-93369132a45e\")>,\n",
       " <selenium.webdriver.remote.webelement.WebElement (session=\"3f52f1e9b1ca5d914e1ee0b7cf5799b5\", element=\"1df141fc-a612-4261-a892-78cfb19dbd3c\")>,\n",
       " <selenium.webdriver.remote.webelement.WebElement (session=\"3f52f1e9b1ca5d914e1ee0b7cf5799b5\", element=\"9ec92ae6-59a3-4290-9baa-3616fa322900\")>,\n",
       " <selenium.webdriver.remote.webelement.WebElement (session=\"3f52f1e9b1ca5d914e1ee0b7cf5799b5\", element=\"275ca108-bd20-4fda-849d-721f0d4f785f\")>,\n",
       " <selenium.webdriver.remote.webelement.WebElement (session=\"3f52f1e9b1ca5d914e1ee0b7cf5799b5\", element=\"ae568ab4-701c-4e4d-ba33-f2611a1fbdfd\")>,\n",
       " <selenium.webdriver.remote.webelement.WebElement (session=\"3f52f1e9b1ca5d914e1ee0b7cf5799b5\", element=\"9003c931-068c-4e81-83ee-2819c9b9d284\")>,\n",
       " <selenium.webdriver.remote.webelement.WebElement (session=\"3f52f1e9b1ca5d914e1ee0b7cf5799b5\", element=\"6344e832-dc3e-4632-b5bc-0f1eb3afccbd\")>,\n",
       " <selenium.webdriver.remote.webelement.WebElement (session=\"3f52f1e9b1ca5d914e1ee0b7cf5799b5\", element=\"4af1fd0c-052c-42b4-b7c2-0ef068aafaf1\")>,\n",
       " <selenium.webdriver.remote.webelement.WebElement (session=\"3f52f1e9b1ca5d914e1ee0b7cf5799b5\", element=\"873831cc-ac17-44e0-b4c8-e0d83e457626\")>,\n",
       " <selenium.webdriver.remote.webelement.WebElement (session=\"3f52f1e9b1ca5d914e1ee0b7cf5799b5\", element=\"f36f3669-1927-462b-a5aa-3f0abdc20eb8\")>,\n",
       " <selenium.webdriver.remote.webelement.WebElement (session=\"3f52f1e9b1ca5d914e1ee0b7cf5799b5\", element=\"7a180152-e1f0-4fc9-b83c-f1f1ed6d23f1\")>,\n",
       " <selenium.webdriver.remote.webelement.WebElement (session=\"3f52f1e9b1ca5d914e1ee0b7cf5799b5\", element=\"66f73a38-d5ed-4157-8549-18b285327cc6\")>,\n",
       " <selenium.webdriver.remote.webelement.WebElement (session=\"3f52f1e9b1ca5d914e1ee0b7cf5799b5\", element=\"d3ce276d-5459-42c4-98ca-5e95044cfe56\")>]"
      ]
     },
     "execution_count": 53,
     "metadata": {},
     "output_type": "execute_result"
    }
   ],
   "source": [
    "brand_tags = driver.find_elements_by_xpath('//h3[@class=\"product-brand\"]')\n",
    "brand_tags"
   ]
  },
  {
   "cell_type": "code",
   "execution_count": 54,
   "id": "8dd447d9",
   "metadata": {},
   "outputs": [
    {
     "data": {
      "text/plain": [
       "['ALDO',\n",
       " 'Nike',\n",
       " 'ALDO',\n",
       " 'Puma',\n",
       " 'ALDO',\n",
       " 'Puma',\n",
       " 'Puma',\n",
       " 'Hush Puppies',\n",
       " 'Puma',\n",
       " 'Puma',\n",
       " 'Puma',\n",
       " 'Nike',\n",
       " 'Hush Puppies',\n",
       " 'Puma',\n",
       " 'Skechers',\n",
       " 'J.FONTINI',\n",
       " 'Hush Puppies',\n",
       " 'Hush Puppies',\n",
       " 'MANGO',\n",
       " 'Tommy Hilfiger',\n",
       " 'Saint G',\n",
       " 'FILA',\n",
       " 'Tommy Hilfiger',\n",
       " 'Saint G',\n",
       " 'Hush Puppies',\n",
       " 'Bugatti',\n",
       " 'Clarks',\n",
       " 'Tommy Hilfiger',\n",
       " 'Heel & Buckle London',\n",
       " 'ASICS',\n",
       " 'TRIBAN By Decathlon',\n",
       " 'Clarks',\n",
       " 'Geox',\n",
       " 'J.FONTINI',\n",
       " 'ALDO',\n",
       " 'ROSSO BRUNELLO',\n",
       " 'J.FONTINI',\n",
       " 'J.FONTINI',\n",
       " 'London Rag',\n",
       " 'DAVINCHI',\n",
       " 'Geox',\n",
       " 'Heel & Buckle London',\n",
       " 'Saint G',\n",
       " 'ALDO',\n",
       " 'Saint G',\n",
       " 'ALDO',\n",
       " 'FILA',\n",
       " 'London Rag',\n",
       " 'MANGO',\n",
       " 'Sole To Soul']"
      ]
     },
     "execution_count": 54,
     "metadata": {},
     "output_type": "execute_result"
    }
   ],
   "source": [
    "brand=[]\n",
    "\n",
    "for i in brand_tags:\n",
    "    brand.append(i.text)\n",
    "len(brand)\n",
    "brand"
   ]
  },
  {
   "cell_type": "code",
   "execution_count": 59,
   "id": "39c56529",
   "metadata": {},
   "outputs": [
    {
     "data": {
      "text/plain": [
       "(50, 50, 50)"
      ]
     },
     "execution_count": 59,
     "metadata": {},
     "output_type": "execute_result"
    }
   ],
   "source": [
    "len(brand),len(Description),len(Price)"
   ]
  },
  {
   "cell_type": "code",
   "execution_count": 60,
   "id": "e961866e",
   "metadata": {},
   "outputs": [
    {
     "data": {
      "text/html": [
       "<div>\n",
       "<style scoped>\n",
       "    .dataframe tbody tr th:only-of-type {\n",
       "        vertical-align: middle;\n",
       "    }\n",
       "\n",
       "    .dataframe tbody tr th {\n",
       "        vertical-align: top;\n",
       "    }\n",
       "\n",
       "    .dataframe thead th {\n",
       "        text-align: right;\n",
       "    }\n",
       "</style>\n",
       "<table border=\"1\" class=\"dataframe\">\n",
       "  <thead>\n",
       "    <tr style=\"text-align: right;\">\n",
       "      <th></th>\n",
       "      <th>Brand</th>\n",
       "      <th>description</th>\n",
       "      <th>price</th>\n",
       "    </tr>\n",
       "  </thead>\n",
       "  <tbody>\n",
       "    <tr>\n",
       "      <th>0</th>\n",
       "      <td>ALDO</td>\n",
       "      <td>Men Printed Sneakers</td>\n",
       "      <td>Rs. 9099Rs. 12999(30% OFF)</td>\n",
       "    </tr>\n",
       "    <tr>\n",
       "      <th>1</th>\n",
       "      <td>Nike</td>\n",
       "      <td>Men Winflo 7 Running Shoes</td>\n",
       "      <td>Rs. 7995</td>\n",
       "    </tr>\n",
       "    <tr>\n",
       "      <th>2</th>\n",
       "      <td>ALDO</td>\n",
       "      <td>Men Leather Driving Shoes</td>\n",
       "      <td>Rs. 12999</td>\n",
       "    </tr>\n",
       "    <tr>\n",
       "      <th>3</th>\n",
       "      <td>Puma</td>\n",
       "      <td>Electrify Nitro Running Shoes</td>\n",
       "      <td>Rs. 9999</td>\n",
       "    </tr>\n",
       "    <tr>\n",
       "      <th>4</th>\n",
       "      <td>ALDO</td>\n",
       "      <td>Men Woven Design Sneakers</td>\n",
       "      <td>Rs. 13999</td>\n",
       "    </tr>\n",
       "    <tr>\n",
       "      <th>5</th>\n",
       "      <td>Puma</td>\n",
       "      <td>Eternity Nitro Running Shoes</td>\n",
       "      <td>Rs. 12999</td>\n",
       "    </tr>\n",
       "    <tr>\n",
       "      <th>6</th>\n",
       "      <td>Puma</td>\n",
       "      <td>Men Jamming 2.0 Running Shoes</td>\n",
       "      <td>Rs. 12999</td>\n",
       "    </tr>\n",
       "    <tr>\n",
       "      <th>7</th>\n",
       "      <td>Hush Puppies</td>\n",
       "      <td>Men Solid Leather Formal Slip-Ons</td>\n",
       "      <td>Rs. 7649Rs. 8999(15% OFF)</td>\n",
       "    </tr>\n",
       "    <tr>\n",
       "      <th>8</th>\n",
       "      <td>Puma</td>\n",
       "      <td>Men Training or Gym Shoes</td>\n",
       "      <td>Rs. 7999</td>\n",
       "    </tr>\n",
       "    <tr>\n",
       "      <th>9</th>\n",
       "      <td>Puma</td>\n",
       "      <td>Women Eternity NITRO Shoes</td>\n",
       "      <td>Rs. 9099Rs. 12999(30% OFF)</td>\n",
       "    </tr>\n",
       "    <tr>\n",
       "      <th>10</th>\n",
       "      <td>Puma</td>\n",
       "      <td>Women Velocity NITRO Runners</td>\n",
       "      <td>Rs. 8249Rs. 10999(25% OFF)</td>\n",
       "    </tr>\n",
       "    <tr>\n",
       "      <th>11</th>\n",
       "      <td>Nike</td>\n",
       "      <td>Men Air Max Dawn Sneakers</td>\n",
       "      <td>Rs. 10995</td>\n",
       "    </tr>\n",
       "    <tr>\n",
       "      <th>12</th>\n",
       "      <td>Hush Puppies</td>\n",
       "      <td>Men Formal Derbys</td>\n",
       "      <td>Rs. 8499Rs. 9999(15% OFF)</td>\n",
       "    </tr>\n",
       "    <tr>\n",
       "      <th>13</th>\n",
       "      <td>Puma</td>\n",
       "      <td>Men FUSE Training Shoes</td>\n",
       "      <td>Rs. 7999</td>\n",
       "    </tr>\n",
       "    <tr>\n",
       "      <th>14</th>\n",
       "      <td>Skechers</td>\n",
       "      <td>Men Go Run Hyper Burst Running</td>\n",
       "      <td>Rs. 7224Rs. 8499(15% OFF)</td>\n",
       "    </tr>\n",
       "    <tr>\n",
       "      <th>15</th>\n",
       "      <td>J.FONTINI</td>\n",
       "      <td>Men Black Leather Loafers</td>\n",
       "      <td>Rs. 8490</td>\n",
       "    </tr>\n",
       "    <tr>\n",
       "      <th>16</th>\n",
       "      <td>Hush Puppies</td>\n",
       "      <td>Men Solid Leather Formal Slip-Ons</td>\n",
       "      <td>Rs. 8499Rs. 9999(15% OFF)</td>\n",
       "    </tr>\n",
       "    <tr>\n",
       "      <th>17</th>\n",
       "      <td>Hush Puppies</td>\n",
       "      <td>Men Solid Formal Slip-Ons</td>\n",
       "      <td>Rs. 8499Rs. 9999(15% OFF)</td>\n",
       "    </tr>\n",
       "    <tr>\n",
       "      <th>18</th>\n",
       "      <td>MANGO</td>\n",
       "      <td>Women Solid Sneakers</td>\n",
       "      <td>Rs. 8990</td>\n",
       "    </tr>\n",
       "    <tr>\n",
       "      <th>19</th>\n",
       "      <td>Tommy Hilfiger</td>\n",
       "      <td>Women CLEAT Textured Sneakers</td>\n",
       "      <td>Rs. 7739Rs. 8599(10% OFF)</td>\n",
       "    </tr>\n",
       "    <tr>\n",
       "      <th>20</th>\n",
       "      <td>Saint G</td>\n",
       "      <td>Women Leather Block Heels</td>\n",
       "      <td>Rs. 9500</td>\n",
       "    </tr>\n",
       "    <tr>\n",
       "      <th>21</th>\n",
       "      <td>FILA</td>\n",
       "      <td>Men Printed Trekking Shoes</td>\n",
       "      <td>Rs. 11599</td>\n",
       "    </tr>\n",
       "    <tr>\n",
       "      <th>22</th>\n",
       "      <td>Tommy Hilfiger</td>\n",
       "      <td>Leather Sandals</td>\n",
       "      <td>Rs. 7599</td>\n",
       "    </tr>\n",
       "    <tr>\n",
       "      <th>23</th>\n",
       "      <td>Saint G</td>\n",
       "      <td>Men Mid-Top Chelsea Boots</td>\n",
       "      <td>Rs. 10500Rs. 10900(Rs. 400 OFF)</td>\n",
       "    </tr>\n",
       "    <tr>\n",
       "      <th>24</th>\n",
       "      <td>Hush Puppies</td>\n",
       "      <td>Men Solid Leather Formal Derbys</td>\n",
       "      <td>Rs. 8499Rs. 9999(15% OFF)</td>\n",
       "    </tr>\n",
       "    <tr>\n",
       "      <th>25</th>\n",
       "      <td>Bugatti</td>\n",
       "      <td>Men Textured Leather High-Top Flat Boots</td>\n",
       "      <td>Rs. 8399Rs. 11999(30% OFF)</td>\n",
       "    </tr>\n",
       "    <tr>\n",
       "      <th>26</th>\n",
       "      <td>Clarks</td>\n",
       "      <td>Men Solid Formal Leather Derbys</td>\n",
       "      <td>Rs. 9999</td>\n",
       "    </tr>\n",
       "    <tr>\n",
       "      <th>27</th>\n",
       "      <td>Tommy Hilfiger</td>\n",
       "      <td>Men Cleated Leather Sneakers</td>\n",
       "      <td>Rs. 7739Rs. 8599(10% OFF)</td>\n",
       "    </tr>\n",
       "    <tr>\n",
       "      <th>28</th>\n",
       "      <td>Heel &amp; Buckle London</td>\n",
       "      <td>Men Suede Loafers</td>\n",
       "      <td>Rs. 12990</td>\n",
       "    </tr>\n",
       "    <tr>\n",
       "      <th>29</th>\n",
       "      <td>ASICS</td>\n",
       "      <td>Women Running Shoes</td>\n",
       "      <td>Rs. 7999</td>\n",
       "    </tr>\n",
       "    <tr>\n",
       "      <th>30</th>\n",
       "      <td>TRIBAN By Decathlon</td>\n",
       "      <td>Unisex Training or Gym Shoes</td>\n",
       "      <td>Rs. 8579Rs. 10999(22% OFF)</td>\n",
       "    </tr>\n",
       "    <tr>\n",
       "      <th>31</th>\n",
       "      <td>Clarks</td>\n",
       "      <td>Men Leather Derbys</td>\n",
       "      <td>Rs. 7499</td>\n",
       "    </tr>\n",
       "    <tr>\n",
       "      <th>32</th>\n",
       "      <td>Geox</td>\n",
       "      <td>Men Leather Driving Shoes</td>\n",
       "      <td>Rs. 9499</td>\n",
       "    </tr>\n",
       "    <tr>\n",
       "      <th>33</th>\n",
       "      <td>J.FONTINI</td>\n",
       "      <td>Men Solid Loafers</td>\n",
       "      <td>Rs. 8990</td>\n",
       "    </tr>\n",
       "    <tr>\n",
       "      <th>34</th>\n",
       "      <td>ALDO</td>\n",
       "      <td>Wedge Sandals</td>\n",
       "      <td>Rs. 7999</td>\n",
       "    </tr>\n",
       "    <tr>\n",
       "      <th>35</th>\n",
       "      <td>ROSSO BRUNELLO</td>\n",
       "      <td>PU Block Pumps with Buckles</td>\n",
       "      <td>Rs. 7499</td>\n",
       "    </tr>\n",
       "    <tr>\n",
       "      <th>36</th>\n",
       "      <td>J.FONTINI</td>\n",
       "      <td>Men Textured Leather Loafers</td>\n",
       "      <td>Rs. 8490</td>\n",
       "    </tr>\n",
       "    <tr>\n",
       "      <th>37</th>\n",
       "      <td>J.FONTINI</td>\n",
       "      <td>Men Textured Leather Loafers</td>\n",
       "      <td>Rs. 7990</td>\n",
       "    </tr>\n",
       "    <tr>\n",
       "      <th>38</th>\n",
       "      <td>London Rag</td>\n",
       "      <td>Party Stiletto Heeled Boots</td>\n",
       "      <td>Rs. 7299</td>\n",
       "    </tr>\n",
       "    <tr>\n",
       "      <th>39</th>\n",
       "      <td>DAVINCHI</td>\n",
       "      <td>Men Textured Formal Leather Loafers</td>\n",
       "      <td>Rs. 8990</td>\n",
       "    </tr>\n",
       "    <tr>\n",
       "      <th>40</th>\n",
       "      <td>Geox</td>\n",
       "      <td>Women Leather Pumps</td>\n",
       "      <td>Rs. 8999</td>\n",
       "    </tr>\n",
       "    <tr>\n",
       "      <th>41</th>\n",
       "      <td>Heel &amp; Buckle London</td>\n",
       "      <td>Men Formal Leather Derby</td>\n",
       "      <td>Rs. 7990</td>\n",
       "    </tr>\n",
       "    <tr>\n",
       "      <th>42</th>\n",
       "      <td>Saint G</td>\n",
       "      <td>Striped Suede Flatform Heeled Boots</td>\n",
       "      <td>Rs. 8415Rs. 9900(15% OFF)</td>\n",
       "    </tr>\n",
       "    <tr>\n",
       "      <th>43</th>\n",
       "      <td>ALDO</td>\n",
       "      <td>Leather Slim Heels</td>\n",
       "      <td>Rs. 8399Rs. 11999(30% OFF)</td>\n",
       "    </tr>\n",
       "    <tr>\n",
       "      <th>44</th>\n",
       "      <td>Saint G</td>\n",
       "      <td>Leather Party Block Mules</td>\n",
       "      <td>Rs. 7380Rs. 8200(10% OFF)</td>\n",
       "    </tr>\n",
       "    <tr>\n",
       "      <th>45</th>\n",
       "      <td>ALDO</td>\n",
       "      <td>Wedge Sandals</td>\n",
       "      <td>Rs. 7999</td>\n",
       "    </tr>\n",
       "    <tr>\n",
       "      <th>46</th>\n",
       "      <td>FILA</td>\n",
       "      <td>Women Leather Sneakers</td>\n",
       "      <td>Rs. 8499</td>\n",
       "    </tr>\n",
       "    <tr>\n",
       "      <th>47</th>\n",
       "      <td>London Rag</td>\n",
       "      <td>Suede Block Heeled Boots</td>\n",
       "      <td>Rs. 7399</td>\n",
       "    </tr>\n",
       "    <tr>\n",
       "      <th>48</th>\n",
       "      <td>MANGO</td>\n",
       "      <td>Women Heeled Leather Loafers</td>\n",
       "      <td>Rs. 7990</td>\n",
       "    </tr>\n",
       "    <tr>\n",
       "      <th>49</th>\n",
       "      <td>Sole To Soul</td>\n",
       "      <td>High-Top Block Heeled Boots</td>\n",
       "      <td>Rs. 7900</td>\n",
       "    </tr>\n",
       "  </tbody>\n",
       "</table>\n",
       "</div>"
      ],
      "text/plain": [
       "                   Brand                               description  \\\n",
       "0                   ALDO                      Men Printed Sneakers   \n",
       "1                   Nike                Men Winflo 7 Running Shoes   \n",
       "2                   ALDO                 Men Leather Driving Shoes   \n",
       "3                   Puma             Electrify Nitro Running Shoes   \n",
       "4                   ALDO                 Men Woven Design Sneakers   \n",
       "5                   Puma              Eternity Nitro Running Shoes   \n",
       "6                   Puma             Men Jamming 2.0 Running Shoes   \n",
       "7           Hush Puppies         Men Solid Leather Formal Slip-Ons   \n",
       "8                   Puma                 Men Training or Gym Shoes   \n",
       "9                   Puma                Women Eternity NITRO Shoes   \n",
       "10                  Puma              Women Velocity NITRO Runners   \n",
       "11                  Nike                 Men Air Max Dawn Sneakers   \n",
       "12          Hush Puppies                         Men Formal Derbys   \n",
       "13                  Puma                   Men FUSE Training Shoes   \n",
       "14              Skechers            Men Go Run Hyper Burst Running   \n",
       "15             J.FONTINI                 Men Black Leather Loafers   \n",
       "16          Hush Puppies         Men Solid Leather Formal Slip-Ons   \n",
       "17          Hush Puppies                 Men Solid Formal Slip-Ons   \n",
       "18                 MANGO                      Women Solid Sneakers   \n",
       "19        Tommy Hilfiger             Women CLEAT Textured Sneakers   \n",
       "20               Saint G                 Women Leather Block Heels   \n",
       "21                  FILA                Men Printed Trekking Shoes   \n",
       "22        Tommy Hilfiger                           Leather Sandals   \n",
       "23               Saint G                 Men Mid-Top Chelsea Boots   \n",
       "24          Hush Puppies           Men Solid Leather Formal Derbys   \n",
       "25               Bugatti  Men Textured Leather High-Top Flat Boots   \n",
       "26                Clarks           Men Solid Formal Leather Derbys   \n",
       "27        Tommy Hilfiger              Men Cleated Leather Sneakers   \n",
       "28  Heel & Buckle London                         Men Suede Loafers   \n",
       "29                 ASICS                       Women Running Shoes   \n",
       "30   TRIBAN By Decathlon              Unisex Training or Gym Shoes   \n",
       "31                Clarks                        Men Leather Derbys   \n",
       "32                  Geox                 Men Leather Driving Shoes   \n",
       "33             J.FONTINI                         Men Solid Loafers   \n",
       "34                  ALDO                             Wedge Sandals   \n",
       "35        ROSSO BRUNELLO               PU Block Pumps with Buckles   \n",
       "36             J.FONTINI              Men Textured Leather Loafers   \n",
       "37             J.FONTINI              Men Textured Leather Loafers   \n",
       "38            London Rag               Party Stiletto Heeled Boots   \n",
       "39              DAVINCHI       Men Textured Formal Leather Loafers   \n",
       "40                  Geox                       Women Leather Pumps   \n",
       "41  Heel & Buckle London                  Men Formal Leather Derby   \n",
       "42               Saint G       Striped Suede Flatform Heeled Boots   \n",
       "43                  ALDO                        Leather Slim Heels   \n",
       "44               Saint G                 Leather Party Block Mules   \n",
       "45                  ALDO                             Wedge Sandals   \n",
       "46                  FILA                    Women Leather Sneakers   \n",
       "47            London Rag                  Suede Block Heeled Boots   \n",
       "48                 MANGO              Women Heeled Leather Loafers   \n",
       "49          Sole To Soul               High-Top Block Heeled Boots   \n",
       "\n",
       "                              price  \n",
       "0        Rs. 9099Rs. 12999(30% OFF)  \n",
       "1                          Rs. 7995  \n",
       "2                         Rs. 12999  \n",
       "3                          Rs. 9999  \n",
       "4                         Rs. 13999  \n",
       "5                         Rs. 12999  \n",
       "6                         Rs. 12999  \n",
       "7         Rs. 7649Rs. 8999(15% OFF)  \n",
       "8                          Rs. 7999  \n",
       "9        Rs. 9099Rs. 12999(30% OFF)  \n",
       "10       Rs. 8249Rs. 10999(25% OFF)  \n",
       "11                        Rs. 10995  \n",
       "12        Rs. 8499Rs. 9999(15% OFF)  \n",
       "13                         Rs. 7999  \n",
       "14        Rs. 7224Rs. 8499(15% OFF)  \n",
       "15                         Rs. 8490  \n",
       "16        Rs. 8499Rs. 9999(15% OFF)  \n",
       "17        Rs. 8499Rs. 9999(15% OFF)  \n",
       "18                         Rs. 8990  \n",
       "19        Rs. 7739Rs. 8599(10% OFF)  \n",
       "20                         Rs. 9500  \n",
       "21                        Rs. 11599  \n",
       "22                         Rs. 7599  \n",
       "23  Rs. 10500Rs. 10900(Rs. 400 OFF)  \n",
       "24        Rs. 8499Rs. 9999(15% OFF)  \n",
       "25       Rs. 8399Rs. 11999(30% OFF)  \n",
       "26                         Rs. 9999  \n",
       "27        Rs. 7739Rs. 8599(10% OFF)  \n",
       "28                        Rs. 12990  \n",
       "29                         Rs. 7999  \n",
       "30       Rs. 8579Rs. 10999(22% OFF)  \n",
       "31                         Rs. 7499  \n",
       "32                         Rs. 9499  \n",
       "33                         Rs. 8990  \n",
       "34                         Rs. 7999  \n",
       "35                         Rs. 7499  \n",
       "36                         Rs. 8490  \n",
       "37                         Rs. 7990  \n",
       "38                         Rs. 7299  \n",
       "39                         Rs. 8990  \n",
       "40                         Rs. 8999  \n",
       "41                         Rs. 7990  \n",
       "42        Rs. 8415Rs. 9900(15% OFF)  \n",
       "43       Rs. 8399Rs. 11999(30% OFF)  \n",
       "44        Rs. 7380Rs. 8200(10% OFF)  \n",
       "45                         Rs. 7999  \n",
       "46                         Rs. 8499  \n",
       "47                         Rs. 7399  \n",
       "48                         Rs. 7990  \n",
       "49                         Rs. 7900  "
      ]
     },
     "execution_count": 60,
     "metadata": {},
     "output_type": "execute_result"
    }
   ],
   "source": [
    "myntra=pd.DataFrame()\n",
    "myntra['Brand']= brand\n",
    "myntra['description']= Description\n",
    "myntra['price']= Price\n",
    "myntra"
   ]
  },
  {
   "cell_type": "markdown",
   "id": "11ecc06e",
   "metadata": {},
   "source": [
    "# Answer_8"
   ]
  },
  {
   "cell_type": "code",
   "execution_count": 77,
   "id": "963b5aed",
   "metadata": {},
   "outputs": [],
   "source": [
    "driver=webdriver.Chrome('chromedriver.exe')"
   ]
  },
  {
   "cell_type": "code",
   "execution_count": 78,
   "id": "6c228026",
   "metadata": {},
   "outputs": [],
   "source": [
    "url7='https://www.amazon.in/'\n",
    "driver.get(url7)"
   ]
  },
  {
   "cell_type": "code",
   "execution_count": 79,
   "id": "13aa2ca6",
   "metadata": {},
   "outputs": [
    {
     "data": {
      "text/plain": [
       "<selenium.webdriver.remote.webelement.WebElement (session=\"114af7d818e925f4de7b4da039f0ff61\", element=\"3d91f673-98a4-4dc5-936f-d9bcf0be1d41\")>"
      ]
     },
     "execution_count": 79,
     "metadata": {},
     "output_type": "execute_result"
    }
   ],
   "source": [
    "# clicking using absolute xpath function\n",
    "search_bar= driver.find_element_by_xpath(\"/html/body/div[1]/header/div/div[1]/div[2]/div/form/div[2]/div[1]/input\")\n",
    "search_bar"
   ]
  },
  {
   "cell_type": "code",
   "execution_count": 80,
   "id": "441a0350",
   "metadata": {},
   "outputs": [],
   "source": [
    "# write a search \n",
    "search_bar.send_keys(\"Laptop\")"
   ]
  },
  {
   "cell_type": "code",
   "execution_count": 81,
   "id": "90277e4b",
   "metadata": {},
   "outputs": [
    {
     "data": {
      "text/plain": [
       "<selenium.webdriver.remote.webelement.WebElement (session=\"114af7d818e925f4de7b4da039f0ff61\", element=\"b9cb6f31-adda-45ef-bed6-7ddb67133cb6\")>"
      ]
     },
     "execution_count": 81,
     "metadata": {},
     "output_type": "execute_result"
    }
   ],
   "source": [
    "# clicking using absolute xpath function\n",
    "search_btn= driver.find_element_by_xpath(\"/html/body/div[1]/header/div/div[1]/div[2]/div/form/div[3]/div/span/input\")\n",
    "search_btn"
   ]
  },
  {
   "cell_type": "code",
   "execution_count": 82,
   "id": "a1f2e091",
   "metadata": {},
   "outputs": [],
   "source": [
    "search_btn.click()"
   ]
  },
  {
   "cell_type": "code",
   "execution_count": 83,
   "id": "2c725df6",
   "metadata": {},
   "outputs": [],
   "source": [
    "i7_check = driver.find_element_by_xpath('/html/body/div[1]/div[2]/div[1]/div[2]/div/div[3]/span/div[1]/div/div/div[6]/ul[4]/li[13]/span/a/div/label/i')"
   ]
  },
  {
   "cell_type": "code",
   "execution_count": 84,
   "id": "dfa14649",
   "metadata": {},
   "outputs": [],
   "source": [
    "i7_check.click()"
   ]
  },
  {
   "cell_type": "markdown",
   "id": "2fef0be9",
   "metadata": {},
   "source": [
    "# Extracting Title"
   ]
  },
  {
   "cell_type": "code",
   "execution_count": 86,
   "id": "17fe9627",
   "metadata": {},
   "outputs": [
    {
     "data": {
      "text/plain": [
       "[<selenium.webdriver.remote.webelement.WebElement (session=\"114af7d818e925f4de7b4da039f0ff61\", element=\"45f8e3d1-7fdf-48c3-a573-6e14d076c452\")>,\n",
       " <selenium.webdriver.remote.webelement.WebElement (session=\"114af7d818e925f4de7b4da039f0ff61\", element=\"c1d910cd-ff7f-45ec-addf-faa9976a8367\")>,\n",
       " <selenium.webdriver.remote.webelement.WebElement (session=\"114af7d818e925f4de7b4da039f0ff61\", element=\"1427a89f-0717-4e66-82ae-be9be51ed3d7\")>,\n",
       " <selenium.webdriver.remote.webelement.WebElement (session=\"114af7d818e925f4de7b4da039f0ff61\", element=\"de4670f5-6785-4e5a-94f9-e49d7beb113e\")>,\n",
       " <selenium.webdriver.remote.webelement.WebElement (session=\"114af7d818e925f4de7b4da039f0ff61\", element=\"ca1bcfbf-3d35-4d1a-b9c6-2d2fb3b35c65\")>,\n",
       " <selenium.webdriver.remote.webelement.WebElement (session=\"114af7d818e925f4de7b4da039f0ff61\", element=\"76e9498a-d9b9-4831-ab8e-5880f800bb50\")>,\n",
       " <selenium.webdriver.remote.webelement.WebElement (session=\"114af7d818e925f4de7b4da039f0ff61\", element=\"8ca8b1a5-dd60-44cf-99ce-bb5eab08972f\")>,\n",
       " <selenium.webdriver.remote.webelement.WebElement (session=\"114af7d818e925f4de7b4da039f0ff61\", element=\"0664f31a-bcea-4552-963d-944c0a972420\")>,\n",
       " <selenium.webdriver.remote.webelement.WebElement (session=\"114af7d818e925f4de7b4da039f0ff61\", element=\"cf0adbd6-fd83-4f0b-b87a-351cb87dbe66\")>,\n",
       " <selenium.webdriver.remote.webelement.WebElement (session=\"114af7d818e925f4de7b4da039f0ff61\", element=\"c275e19b-bc48-443a-b56c-01aef0580635\")>]"
      ]
     },
     "execution_count": 86,
     "metadata": {},
     "output_type": "execute_result"
    }
   ],
   "source": [
    "title_tags = driver.find_elements_by_xpath('//span[@class=\"a-size-medium a-color-base a-text-normal\"]')\n",
    "title_tags[0:10]"
   ]
  },
  {
   "cell_type": "code",
   "execution_count": 87,
   "id": "f7936dce",
   "metadata": {},
   "outputs": [
    {
     "data": {
      "text/plain": [
       "['Fujitsu UH-X 11th Gen Intel Core i7 13.3” FHD IPS 400Nits Thin & Light Laptop(16GB/512GB SSD/Windows 11/Office 2021/Iris Xe Graphics/Backlit Kb/Fingerprint Reader/2Yr Warranty/Black/878gms),4ZR1F38024',\n",
       " 'LG Gram Intel Evo 11th Gen Core i7 17 inches Ultra-Light Laptop (16 GB RAM, 512 GB SSD, New Windows 11 Home Preload, Iris Xe Graphics, USC -C x 2 (with Power), 1.35 kg, 17Z90P-G.AH85A2, Black)',\n",
       " 'ASUS VivoBook 14 (2021), 14-inch (35.56 cms) FHD, Intel Core i7-1065G7 10th Gen, Thin and Light Laptop (16GB/512GB SSD/Integrated Graphics/Office 2021/Windows 11/Silver/1.6 Kg), X415JA-EK701WS',\n",
       " 'Mi Notebook Ultra 3.2K Resolution Display Intel Core i7-11370H 11th Gen 15.6-inch(39.62 cm) Thin and Light Laptop (16GB/512GB SSD/Iris Xe Graphic/Win 10/MS Office/Backlit KB/Fingerprint Sensor/1.7Kg)',\n",
       " 'LG Gram Intel Evo 11th Gen Core i7 17 inches Ultra-Light Laptop (16 GB RAM, 512 GB SSD, New Windows 11 Home Preload, Iris Xe Graphics, USC -C x 2 (with Power), 1.35 kg, 17Z90P-G.AH85A2, Black)',\n",
       " 'LG Gram 16 inches Intel Evo 11th Gen Core i7 Ultra-Light Laptop (16 GB RAM, 512 GB SSD, New Windows 11 Home Preload, Iris Xe Graphics, USC -C x 2 (with Power), 1.19 kg, 16Z90P-G.AH85A2, Black)',\n",
       " 'ASUS TUF Gaming F15 (2021), 15.6\" (39.62 cms) FHD 144Hz, Intel Core i7-11600H 11th Gen, 4GB RTX 3050 Graphics, Gaming Laptop (16GB/512GB SSD/Windows 10/Office 2019/Gray/2.3 Kg), FX566HCB-HN299TS',\n",
       " 'ASUS ZenBook 13 OLED (2021) Intel Core i7-1165G7 11th Gen 13.3\" (33.78 cms) FHD Thin and Light Laptop (16GB/512GB SSD/Windows 10/Office 2019/Intel Iris Xᵉ Graphics/Pine Grey/1.14 kg), UX325EA-KG722TS',\n",
       " 'Lenovo ThinkBook 13s Intel 11th Gen Core i7 13.3\"(33.78 cm) WQXGA IPS 300 nits 100% sRGB Dolby Vision Thin and Light Laptop (16GB/512GB SSD/Windows 10/MS Office/FPR/Mineral Grey/1.26 Kg), 20V9A05FIH',\n",
       " 'Lenovo ThinkBook Yoga 14s Intel Core i7 11th Gen 14\"(35.56cm) FHD IPS 300 nits 100% sRGB Dolby Vision 2-in-1 Touchscreen Laptop (16GB RAM/512GB SSD/Windows 10/MS Office/Active Pen/1.50 kg) 20WEA01EIH',\n",
       " 'Lenovo IdeaPad Flex 5 11th Gen Intel Core i7 14\" FHD 2-in-1 Convertible Laptop (16 GB/512GB SDD/Windows 11/MS Office 2021/Backlit Keyboard /Graphite Grey/1.5Kg), 82HS018XIN',\n",
       " 'Lenovo ThinkBook 15 Intel 11th Gen Core i7 15.6\"(39.62 cm)FHD Thin and Light Laptop (16GB/512GB SSD/Windows 11 Home/MS Office H&S 2021/Iris® Xe Graphics/Backlit/Mineral Grey/1.7 Kg) 20VE00W4IH',\n",
       " 'HP Pavilion 11th Gen Intel Core i7 15.6 inches FHD Gaming Laptop (16GB RAM/512GB SSD/144Hz/4GB NVIDIA GeForce GTX 1650 Graphics/Windows 10 Home/MS Office/Shadow Black/2.28 Kg), 15-dk2075tx',\n",
       " 'MSI GF75 Thin Gaming, Intel Core i7-10750H, 44cm IPS-Level 144Hz Panel Laptop (8GB/512GB NVMe SSD/Windows 10 Home/Nvidia GeForce GTX 1650/GDDR6 4GB/Black/2.2kg) 10SCXR-654IN',\n",
       " 'Acer Predator Helios 300 11th Gen Intel Core i9-11900H 15.6 inches FHD IPS Gaming Laptop (32GB/1TB SSD/Windows 11 Home/8GB Graphics/NVIDIA GeForce RTX 3070/300 Hz, Black, 2.3Kg) PH315-54',\n",
       " 'ASUS TUF Gaming F15 (2021), 15.6\" (39.62 cms) FHD 144Hz, Intel Core i7-11600H 11th Gen, 4GB RTX 3050 Graphics, Gaming Laptop (16GB/512GB SSD/Windows 10/Office 2019/Gray/2.3 Kg), FX566HCB-HN299TS',\n",
       " 'HP Pavilion x360 11th Gen Intel Core i7 14 inches FHD, IPS, Convertible Laptop (16 GB RAM/512GB SSD, B&O/Win 11 Home/Backlit keyboard/FPR/ Alexa-Built in/MS Office/Natural Silver/1.52 Kg) -14-dy1013TU',\n",
       " '(Renewed) Acer Nitro 5 11th Gen Intel Core i5-11400H 15.6\" (39.62cms) FHD 144Hz Gaming Laptop (8 GB/512GB SSD/Win 10/4 GB Graphics/NVIDIA GeForce GTX 1650/Shale Black, 2.2 kg/RGB Backlit Keyboard) AN515-57',\n",
       " 'Dell 15 (2021) i7-11390H, 16GB, 1TB SSD, Win 11 + MS Office\\'21, NVIDIA MX450 2GB, 15.6\" (39.62 cms) FHD Display, Silver Color, FPR + Backlit KB (Inspiron 5518, D560636WIN9S)',\n",
       " 'Dell 14 (2021) i7-1195G7 2in1 Touch Screen Laptop, 16GB, 512Gb SSD, Win 11 + MSO\\'21, 14\" (35.56 cms) FHD, Platinum Silver Color, FPR + Backlit KB & Active Pen (Inspiron 5410, D560629WIN9S)',\n",
       " '(Renewed) HP Elitebook 840 G4 Notebook PC Intel i7-7500U, 8GB RAM, 256GB SSD, Win10 Pro-64, 14-inch Touch screen Full HD.',\n",
       " 'MSI Katana GF66 Gaming, Intel i7-11800H, 15.6\" FHD IPS-Level 144Hz Panel Laptop (16GB/512GB NVMe SSD/Windows 10 Home/Nvidia RTX3050Ti 4GB GDDR6/Black/2.25Kg), 11UD-476IN',\n",
       " 'HP Pavilion 14, 11th Gen Intel Core i7-16GB RAM/1TB SSD 14 inch(35.6 cm) Laptop/Intel Iris Xe Graphics/Backlit Keyboard/Alexa/B&O Audio/Fast Charge/FPR/Win 11/MS Office, 14-dv1029TU',\n",
       " '(Renewed) Lenovo Intel 5th Gen Core i7 14 Inch(35.56 cms) 1366 x 768 HD Laptop (16GB RAM /1TB SSD/Windows 10 Pro/MS Office/ Intel HD graphics,Black,2.0kg) Lenovo ThinkPad T450',\n",
       " 'Samsung Galaxy Book2 Pro 360 Intel 12th Gen i7 EvoTM  13.3 inch Touchscreen 2-in-1 AMOLED Thin & Light Laptop (16 GB/512 GB SSD/Windows 11/MS Office /Silver/1.04Kg), NP930QED-KB2IN',\n",
       " '(Renewed) Dell Intel Core i7 4th Gen 14 Inch(35.56 cms) 1366x768 HD Laptop (8GB RAM/500GB HDD/Windows 10 Pro/MS Office 2019/Intel Integrated HD Graphics 4600/2.1Kg,Silver) Latitude E6440',\n",
       " '(Renewed) HP 840g3 Elitebook 14 Inch Screen Laptop (6th Gen Intel Core i7 - 6600u /4 GB/180 GB SSD/Windows 10 Pro), Black',\n",
       " '(Renewed) Life Digital Laptop 15.6-inch (39.62 cms) (Intel Core i7, 8GB RAM, 512GB SSD, Windows 10), ZED AIR CX7',\n",
       " 'LG Gram 16 inches Intel Evo 11th Gen Core i7 Ultra-Light Laptop (16 GB RAM, 512 GB SSD, New Windows 11 Home Preload, Iris Xe Graphics, USC -C x 2 (with Power), 1.19 kg, 16Z90P-G.AH85A2, Black)',\n",
       " 'Dell G15 5511 Intel i7-11800H Gaming Laptop,16GB DDR4,512GB SSD, Win 11+MSO\\'21, NVIDIA RTX 3060 6GB GDDR6,15.6\" (39.62cm) FHD AG 300 nits 165Hz, Backlit KB RGB, Black (D560670WIN9B), 2.6kg']"
      ]
     },
     "execution_count": 87,
     "metadata": {},
     "output_type": "execute_result"
    }
   ],
   "source": [
    "titles=[]\n",
    "\n",
    "for i in title_tags:\n",
    "    titles.append(i.text)\n",
    "titles"
   ]
  },
  {
   "cell_type": "markdown",
   "id": "d4e69c41",
   "metadata": {},
   "source": [
    "# Extracting Ratings "
   ]
  },
  {
   "cell_type": "code",
   "execution_count": 93,
   "id": "604afb6d",
   "metadata": {},
   "outputs": [
    {
     "data": {
      "text/plain": [
       "[<selenium.webdriver.remote.webelement.WebElement (session=\"114af7d818e925f4de7b4da039f0ff61\", element=\"da112964-8a89-4073-af68-c02db1580200\")>,\n",
       " <selenium.webdriver.remote.webelement.WebElement (session=\"114af7d818e925f4de7b4da039f0ff61\", element=\"afa3989f-d641-4e81-830a-86425aecbbba\")>,\n",
       " <selenium.webdriver.remote.webelement.WebElement (session=\"114af7d818e925f4de7b4da039f0ff61\", element=\"1094ad86-8e06-4701-909d-933329891d23\")>,\n",
       " <selenium.webdriver.remote.webelement.WebElement (session=\"114af7d818e925f4de7b4da039f0ff61\", element=\"35184c85-3bb5-4229-bfcb-69cfc8705555\")>,\n",
       " <selenium.webdriver.remote.webelement.WebElement (session=\"114af7d818e925f4de7b4da039f0ff61\", element=\"94462fac-3a88-415d-8b00-92ecded84358\")>,\n",
       " <selenium.webdriver.remote.webelement.WebElement (session=\"114af7d818e925f4de7b4da039f0ff61\", element=\"afaf10af-d43c-4f51-b796-e99a13264d52\")>,\n",
       " <selenium.webdriver.remote.webelement.WebElement (session=\"114af7d818e925f4de7b4da039f0ff61\", element=\"0f710856-3df7-4747-9e47-3250e30c6c12\")>,\n",
       " <selenium.webdriver.remote.webelement.WebElement (session=\"114af7d818e925f4de7b4da039f0ff61\", element=\"c35fdde4-1438-4043-86ab-dc5bcec20e1f\")>,\n",
       " <selenium.webdriver.remote.webelement.WebElement (session=\"114af7d818e925f4de7b4da039f0ff61\", element=\"07e93c25-773d-48a1-b70b-0755607a5d89\")>,\n",
       " <selenium.webdriver.remote.webelement.WebElement (session=\"114af7d818e925f4de7b4da039f0ff61\", element=\"8de94bb9-1c3c-416f-beb1-b92b0a5d6ad9\")>]"
      ]
     },
     "execution_count": 93,
     "metadata": {},
     "output_type": "execute_result"
    }
   ],
   "source": [
    "ratings = driver.find_elements_by_xpath('//span[@class=\"a-size-base s-underline-text\"]')\n",
    "ratings[0:10]"
   ]
  },
  {
   "cell_type": "code",
   "execution_count": 94,
   "id": "f7d67e08",
   "metadata": {},
   "outputs": [
    {
     "data": {
      "text/plain": [
       "['39', '140', '23', '909', '140', '85', '3', '24', '49', '9']"
      ]
     },
     "execution_count": 94,
     "metadata": {},
     "output_type": "execute_result"
    }
   ],
   "source": [
    "Ratings=[]\n",
    "\n",
    "for i in ratings:\n",
    "    Ratings.append(i.text)\n",
    "Ratings[0:10]"
   ]
  },
  {
   "cell_type": "markdown",
   "id": "e111af21",
   "metadata": {},
   "source": [
    "# Extracting Price"
   ]
  },
  {
   "cell_type": "code",
   "execution_count": 96,
   "id": "0590fd74",
   "metadata": {},
   "outputs": [
    {
     "data": {
      "text/plain": [
       "[<selenium.webdriver.remote.webelement.WebElement (session=\"114af7d818e925f4de7b4da039f0ff61\", element=\"d01ff4b9-75ac-4bcd-a5ef-bd620aaaaced\")>,\n",
       " <selenium.webdriver.remote.webelement.WebElement (session=\"114af7d818e925f4de7b4da039f0ff61\", element=\"0152c920-5e32-4d32-912a-c23ce5fc6cf5\")>,\n",
       " <selenium.webdriver.remote.webelement.WebElement (session=\"114af7d818e925f4de7b4da039f0ff61\", element=\"2559d549-0c25-4578-ab75-a93b39763622\")>,\n",
       " <selenium.webdriver.remote.webelement.WebElement (session=\"114af7d818e925f4de7b4da039f0ff61\", element=\"ce1e6286-07c5-407b-ab90-1dd510158fd1\")>,\n",
       " <selenium.webdriver.remote.webelement.WebElement (session=\"114af7d818e925f4de7b4da039f0ff61\", element=\"6f88dc80-a3ac-44d2-9933-a2b6fea95ef3\")>,\n",
       " <selenium.webdriver.remote.webelement.WebElement (session=\"114af7d818e925f4de7b4da039f0ff61\", element=\"cbb569e2-c799-4856-82c3-d5950baa1318\")>,\n",
       " <selenium.webdriver.remote.webelement.WebElement (session=\"114af7d818e925f4de7b4da039f0ff61\", element=\"cb3e31fb-1e5b-4245-a098-0787bce525b9\")>,\n",
       " <selenium.webdriver.remote.webelement.WebElement (session=\"114af7d818e925f4de7b4da039f0ff61\", element=\"b840c8e2-66df-435a-837b-a88e09ca0763\")>,\n",
       " <selenium.webdriver.remote.webelement.WebElement (session=\"114af7d818e925f4de7b4da039f0ff61\", element=\"45568bba-295c-4c73-a40b-e354c26eb894\")>,\n",
       " <selenium.webdriver.remote.webelement.WebElement (session=\"114af7d818e925f4de7b4da039f0ff61\", element=\"61bcd386-6780-4693-be4b-21f34090ce06\")>]"
      ]
     },
     "execution_count": 96,
     "metadata": {},
     "output_type": "execute_result"
    }
   ],
   "source": [
    "price_tags = driver.find_elements_by_xpath('//span[@class=\"a-price-whole\"]')\n",
    "price_tags[0:10]"
   ]
  },
  {
   "cell_type": "code",
   "execution_count": 98,
   "id": "ad8ae4f5",
   "metadata": {},
   "outputs": [
    {
     "data": {
      "text/plain": [
       "['83,990',\n",
       " '96,999',\n",
       " '57,490',\n",
       " '77,499',\n",
       " '96,999',\n",
       " '89,999',\n",
       " '89,990',\n",
       " '92,990',\n",
       " '89,990',\n",
       " '87,990']"
      ]
     },
     "execution_count": 98,
     "metadata": {},
     "output_type": "execute_result"
    }
   ],
   "source": [
    "Price=[]\n",
    "\n",
    "for i in price_tags:\n",
    "    Price.append(i.text)\n",
    "Price[0:10]"
   ]
  },
  {
   "cell_type": "code",
   "execution_count": 100,
   "id": "b4e20aca",
   "metadata": {},
   "outputs": [
    {
     "data": {
      "text/plain": [
       "(30, 25, 30)"
      ]
     },
     "execution_count": 100,
     "metadata": {},
     "output_type": "execute_result"
    }
   ],
   "source": [
    "len(titles),len(Ratings),len(Price)"
   ]
  },
  {
   "cell_type": "code",
   "execution_count": 101,
   "id": "3d403bf1",
   "metadata": {},
   "outputs": [
    {
     "data": {
      "text/html": [
       "<div>\n",
       "<style scoped>\n",
       "    .dataframe tbody tr th:only-of-type {\n",
       "        vertical-align: middle;\n",
       "    }\n",
       "\n",
       "    .dataframe tbody tr th {\n",
       "        vertical-align: top;\n",
       "    }\n",
       "\n",
       "    .dataframe thead th {\n",
       "        text-align: right;\n",
       "    }\n",
       "</style>\n",
       "<table border=\"1\" class=\"dataframe\">\n",
       "  <thead>\n",
       "    <tr style=\"text-align: right;\">\n",
       "      <th></th>\n",
       "      <th>Laptop_titles</th>\n",
       "      <th>price</th>\n",
       "    </tr>\n",
       "  </thead>\n",
       "  <tbody>\n",
       "    <tr>\n",
       "      <th>0</th>\n",
       "      <td>Fujitsu UH-X 11th Gen Intel Core i7 13.3” FHD ...</td>\n",
       "      <td>83,990</td>\n",
       "    </tr>\n",
       "    <tr>\n",
       "      <th>1</th>\n",
       "      <td>LG Gram Intel Evo 11th Gen Core i7 17 inches U...</td>\n",
       "      <td>96,999</td>\n",
       "    </tr>\n",
       "    <tr>\n",
       "      <th>2</th>\n",
       "      <td>ASUS VivoBook 14 (2021), 14-inch (35.56 cms) F...</td>\n",
       "      <td>57,490</td>\n",
       "    </tr>\n",
       "    <tr>\n",
       "      <th>3</th>\n",
       "      <td>Mi Notebook Ultra 3.2K Resolution Display Inte...</td>\n",
       "      <td>77,499</td>\n",
       "    </tr>\n",
       "    <tr>\n",
       "      <th>4</th>\n",
       "      <td>LG Gram Intel Evo 11th Gen Core i7 17 inches U...</td>\n",
       "      <td>96,999</td>\n",
       "    </tr>\n",
       "    <tr>\n",
       "      <th>5</th>\n",
       "      <td>LG Gram 16 inches Intel Evo 11th Gen Core i7 U...</td>\n",
       "      <td>89,999</td>\n",
       "    </tr>\n",
       "    <tr>\n",
       "      <th>6</th>\n",
       "      <td>ASUS TUF Gaming F15 (2021), 15.6\" (39.62 cms) ...</td>\n",
       "      <td>89,990</td>\n",
       "    </tr>\n",
       "    <tr>\n",
       "      <th>7</th>\n",
       "      <td>ASUS ZenBook 13 OLED (2021) Intel Core i7-1165...</td>\n",
       "      <td>92,990</td>\n",
       "    </tr>\n",
       "    <tr>\n",
       "      <th>8</th>\n",
       "      <td>Lenovo ThinkBook 13s Intel 11th Gen Core i7 13...</td>\n",
       "      <td>89,990</td>\n",
       "    </tr>\n",
       "    <tr>\n",
       "      <th>9</th>\n",
       "      <td>Lenovo ThinkBook Yoga 14s Intel Core i7 11th G...</td>\n",
       "      <td>87,990</td>\n",
       "    </tr>\n",
       "    <tr>\n",
       "      <th>10</th>\n",
       "      <td>Lenovo IdeaPad Flex 5 11th Gen Intel Core i7 1...</td>\n",
       "      <td>85,990</td>\n",
       "    </tr>\n",
       "    <tr>\n",
       "      <th>11</th>\n",
       "      <td>Lenovo ThinkBook 15 Intel 11th Gen Core i7 15....</td>\n",
       "      <td>90,990</td>\n",
       "    </tr>\n",
       "    <tr>\n",
       "      <th>12</th>\n",
       "      <td>HP Pavilion 11th Gen Intel Core i7 15.6 inches...</td>\n",
       "      <td>87,990</td>\n",
       "    </tr>\n",
       "    <tr>\n",
       "      <th>13</th>\n",
       "      <td>MSI GF75 Thin Gaming, Intel Core i7-10750H, 44...</td>\n",
       "      <td>70,000</td>\n",
       "    </tr>\n",
       "    <tr>\n",
       "      <th>14</th>\n",
       "      <td>Acer Predator Helios 300 11th Gen Intel Core i...</td>\n",
       "      <td>1,69,990</td>\n",
       "    </tr>\n",
       "    <tr>\n",
       "      <th>15</th>\n",
       "      <td>ASUS TUF Gaming F15 (2021), 15.6\" (39.62 cms) ...</td>\n",
       "      <td>89,990</td>\n",
       "    </tr>\n",
       "    <tr>\n",
       "      <th>16</th>\n",
       "      <td>HP Pavilion x360 11th Gen Intel Core i7 14 inc...</td>\n",
       "      <td>91,800</td>\n",
       "    </tr>\n",
       "    <tr>\n",
       "      <th>17</th>\n",
       "      <td>(Renewed) Acer Nitro 5 11th Gen Intel Core i5-...</td>\n",
       "      <td>62,990</td>\n",
       "    </tr>\n",
       "    <tr>\n",
       "      <th>18</th>\n",
       "      <td>Dell 15 (2021) i7-11390H, 16GB, 1TB SSD, Win 1...</td>\n",
       "      <td>99,700</td>\n",
       "    </tr>\n",
       "    <tr>\n",
       "      <th>19</th>\n",
       "      <td>Dell 14 (2021) i7-1195G7 2in1 Touch Screen Lap...</td>\n",
       "      <td>95,000</td>\n",
       "    </tr>\n",
       "    <tr>\n",
       "      <th>20</th>\n",
       "      <td>(Renewed) HP Elitebook 840 G4 Notebook PC Inte...</td>\n",
       "      <td>39,990</td>\n",
       "    </tr>\n",
       "    <tr>\n",
       "      <th>21</th>\n",
       "      <td>MSI Katana GF66 Gaming, Intel i7-11800H, 15.6\"...</td>\n",
       "      <td>99,999</td>\n",
       "    </tr>\n",
       "    <tr>\n",
       "      <th>22</th>\n",
       "      <td>HP Pavilion 14, 11th Gen Intel Core i7-16GB RA...</td>\n",
       "      <td>93,500</td>\n",
       "    </tr>\n",
       "    <tr>\n",
       "      <th>23</th>\n",
       "      <td>(Renewed) Lenovo Intel 5th Gen Core i7 14 Inch...</td>\n",
       "      <td>47,299</td>\n",
       "    </tr>\n",
       "    <tr>\n",
       "      <th>24</th>\n",
       "      <td>Samsung Galaxy Book2 Pro 360 Intel 12th Gen i7...</td>\n",
       "      <td>1,20,990</td>\n",
       "    </tr>\n",
       "    <tr>\n",
       "      <th>25</th>\n",
       "      <td>(Renewed) Dell Intel Core i7 4th Gen 14 Inch(3...</td>\n",
       "      <td>35,199</td>\n",
       "    </tr>\n",
       "    <tr>\n",
       "      <th>26</th>\n",
       "      <td>(Renewed) HP 840g3 Elitebook 14 Inch Screen La...</td>\n",
       "      <td>38,290</td>\n",
       "    </tr>\n",
       "    <tr>\n",
       "      <th>27</th>\n",
       "      <td>(Renewed) Life Digital Laptop 15.6-inch (39.62...</td>\n",
       "      <td>30,990</td>\n",
       "    </tr>\n",
       "    <tr>\n",
       "      <th>28</th>\n",
       "      <td>LG Gram 16 inches Intel Evo 11th Gen Core i7 U...</td>\n",
       "      <td>89,999</td>\n",
       "    </tr>\n",
       "    <tr>\n",
       "      <th>29</th>\n",
       "      <td>Dell G15 5511 Intel i7-11800H Gaming Laptop,16...</td>\n",
       "      <td>1,25,510</td>\n",
       "    </tr>\n",
       "  </tbody>\n",
       "</table>\n",
       "</div>"
      ],
      "text/plain": [
       "                                        Laptop_titles     price\n",
       "0   Fujitsu UH-X 11th Gen Intel Core i7 13.3” FHD ...    83,990\n",
       "1   LG Gram Intel Evo 11th Gen Core i7 17 inches U...    96,999\n",
       "2   ASUS VivoBook 14 (2021), 14-inch (35.56 cms) F...    57,490\n",
       "3   Mi Notebook Ultra 3.2K Resolution Display Inte...    77,499\n",
       "4   LG Gram Intel Evo 11th Gen Core i7 17 inches U...    96,999\n",
       "5   LG Gram 16 inches Intel Evo 11th Gen Core i7 U...    89,999\n",
       "6   ASUS TUF Gaming F15 (2021), 15.6\" (39.62 cms) ...    89,990\n",
       "7   ASUS ZenBook 13 OLED (2021) Intel Core i7-1165...    92,990\n",
       "8   Lenovo ThinkBook 13s Intel 11th Gen Core i7 13...    89,990\n",
       "9   Lenovo ThinkBook Yoga 14s Intel Core i7 11th G...    87,990\n",
       "10  Lenovo IdeaPad Flex 5 11th Gen Intel Core i7 1...    85,990\n",
       "11  Lenovo ThinkBook 15 Intel 11th Gen Core i7 15....    90,990\n",
       "12  HP Pavilion 11th Gen Intel Core i7 15.6 inches...    87,990\n",
       "13  MSI GF75 Thin Gaming, Intel Core i7-10750H, 44...    70,000\n",
       "14  Acer Predator Helios 300 11th Gen Intel Core i...  1,69,990\n",
       "15  ASUS TUF Gaming F15 (2021), 15.6\" (39.62 cms) ...    89,990\n",
       "16  HP Pavilion x360 11th Gen Intel Core i7 14 inc...    91,800\n",
       "17  (Renewed) Acer Nitro 5 11th Gen Intel Core i5-...    62,990\n",
       "18  Dell 15 (2021) i7-11390H, 16GB, 1TB SSD, Win 1...    99,700\n",
       "19  Dell 14 (2021) i7-1195G7 2in1 Touch Screen Lap...    95,000\n",
       "20  (Renewed) HP Elitebook 840 G4 Notebook PC Inte...    39,990\n",
       "21  MSI Katana GF66 Gaming, Intel i7-11800H, 15.6\"...    99,999\n",
       "22  HP Pavilion 14, 11th Gen Intel Core i7-16GB RA...    93,500\n",
       "23  (Renewed) Lenovo Intel 5th Gen Core i7 14 Inch...    47,299\n",
       "24  Samsung Galaxy Book2 Pro 360 Intel 12th Gen i7...  1,20,990\n",
       "25  (Renewed) Dell Intel Core i7 4th Gen 14 Inch(3...    35,199\n",
       "26  (Renewed) HP 840g3 Elitebook 14 Inch Screen La...    38,290\n",
       "27  (Renewed) Life Digital Laptop 15.6-inch (39.62...    30,990\n",
       "28  LG Gram 16 inches Intel Evo 11th Gen Core i7 U...    89,999\n",
       "29  Dell G15 5511 Intel i7-11800H Gaming Laptop,16...  1,25,510"
      ]
     },
     "execution_count": 101,
     "metadata": {},
     "output_type": "execute_result"
    }
   ],
   "source": [
    "Laptop_i7=pd.DataFrame()\n",
    "Laptop_i7['Laptop_titles']= titles\n",
    "#Laptop_i7['ratings']= Ratings\n",
    "Laptop_i7['price']= Price\n",
    "Laptop_i7"
   ]
  },
  {
   "cell_type": "markdown",
   "id": "9c7edde2",
   "metadata": {},
   "source": [
    "# Answer_9"
   ]
  },
  {
   "cell_type": "code",
   "execution_count": 79,
   "id": "661af590",
   "metadata": {},
   "outputs": [],
   "source": [
    "driver=webdriver.Chrome('chromedriver.exe')"
   ]
  },
  {
   "cell_type": "code",
   "execution_count": 80,
   "id": "2ec7b7bc",
   "metadata": {},
   "outputs": [],
   "source": [
    "url8='https://www.ambitionbox.com/'\n",
    "driver.get(url8)"
   ]
  },
  {
   "cell_type": "code",
   "execution_count": 81,
   "id": "121305ab",
   "metadata": {},
   "outputs": [
    {
     "data": {
      "text/plain": [
       "<selenium.webdriver.remote.webelement.WebElement (session=\"8f864f63eb9de90e14adebc73b25c9f7\", element=\"1b0050d3-d3b2-47f3-8a1f-53f862cfe880\")>"
      ]
     },
     "execution_count": 81,
     "metadata": {},
     "output_type": "execute_result"
    }
   ],
   "source": [
    "# clicking using absolute xpath function\n",
    "job_btn= driver.find_element_by_xpath(\"/html/body/div[1]/nav/nav/a[6]\")\n",
    "job_btn"
   ]
  },
  {
   "cell_type": "code",
   "execution_count": 82,
   "id": "0a7782dd",
   "metadata": {},
   "outputs": [],
   "source": [
    "job_btn.click()"
   ]
  },
  {
   "cell_type": "code",
   "execution_count": 88,
   "id": "93602a17",
   "metadata": {},
   "outputs": [
    {
     "data": {
      "text/plain": [
       "<selenium.webdriver.remote.webelement.WebElement (session=\"8f864f63eb9de90e14adebc73b25c9f7\", element=\"02e5f531-4748-4996-b01c-46352abd2243\")>"
      ]
     },
     "execution_count": 88,
     "metadata": {},
     "output_type": "execute_result"
    }
   ],
   "source": [
    "# finding web element for search job bar using id\n",
    "search_job = driver.find_element_by_xpath(\"/html/body/div/div/div/div[2]/div[1]/div/div/div/div/span/input\")\n",
    "search_job"
   ]
  },
  {
   "cell_type": "code",
   "execution_count": 89,
   "id": "8ca4f8b0",
   "metadata": {},
   "outputs": [],
   "source": [
    "# write a search bar\n",
    "search_job.send_keys(\"Data Scientist\")"
   ]
  },
  {
   "cell_type": "code",
   "execution_count": 90,
   "id": "44eafdcb",
   "metadata": {},
   "outputs": [
    {
     "data": {
      "text/plain": [
       "<selenium.webdriver.remote.webelement.WebElement (session=\"8f864f63eb9de90e14adebc73b25c9f7\", element=\"a5736037-e7cf-4dd4-92ac-2e55044df037\")>"
      ]
     },
     "execution_count": 90,
     "metadata": {},
     "output_type": "execute_result"
    }
   ],
   "source": [
    "# clicking using absolute xpath function\n",
    "search_btn= driver.find_element_by_xpath(\"/html/body/div/div/div/div[2]/div[1]/div/div/div/button/span\")\n",
    "search_btn"
   ]
  },
  {
   "cell_type": "code",
   "execution_count": 91,
   "id": "32d36a1a",
   "metadata": {},
   "outputs": [],
   "source": [
    "search_btn.click()"
   ]
  },
  {
   "cell_type": "code",
   "execution_count": 92,
   "id": "589b127b",
   "metadata": {},
   "outputs": [
    {
     "data": {
      "text/plain": [
       "<selenium.webdriver.remote.webelement.WebElement (session=\"8f864f63eb9de90e14adebc73b25c9f7\", element=\"ac08df83-d1b0-447b-b09e-3119e389326d\")>"
      ]
     },
     "execution_count": 92,
     "metadata": {},
     "output_type": "execute_result"
    }
   ],
   "source": [
    "# clicking using absolute xpath function\n",
    "location_btn= driver.find_element_by_xpath(\"/html/body/div/div/div/div[2]/div[2]/div[1]/div/div/div/div[2]/div[1]/p\")\n",
    "location_btn"
   ]
  },
  {
   "cell_type": "code",
   "execution_count": 93,
   "id": "aa3df960",
   "metadata": {},
   "outputs": [],
   "source": [
    "location_btn.click()"
   ]
  },
  {
   "cell_type": "code",
   "execution_count": 94,
   "id": "d2bfd4cc",
   "metadata": {},
   "outputs": [
    {
     "data": {
      "text/plain": [
       "<selenium.webdriver.remote.webelement.WebElement (session=\"8f864f63eb9de90e14adebc73b25c9f7\", element=\"4f499603-d4df-4ceb-9dc2-056870eaa989\")>"
      ]
     },
     "execution_count": 94,
     "metadata": {},
     "output_type": "execute_result"
    }
   ],
   "source": [
    "search_location = driver.find_element_by_xpath(\"/html/body/div/div/div/div[2]/div[2]/div[1]/div/div/div/div[2]/div[2]/div/div[2]/input\")\n",
    "search_location"
   ]
  },
  {
   "cell_type": "code",
   "execution_count": 95,
   "id": "36f599ed",
   "metadata": {},
   "outputs": [],
   "source": [
    "search_location.send_keys(\"Noida\")"
   ]
  },
  {
   "cell_type": "code",
   "execution_count": 96,
   "id": "7b214781",
   "metadata": {},
   "outputs": [],
   "source": [
    "location_click= driver.find_element_by_xpath(\"/html/body/div/div/div/div[2]/div[2]/div[1]/div/div/div/div[2]/div[2]/div/div[3]/div[1]/div[1]/div/label\")"
   ]
  },
  {
   "cell_type": "code",
   "execution_count": 97,
   "id": "77e81a26",
   "metadata": {},
   "outputs": [],
   "source": [
    "location_click.click()"
   ]
  },
  {
   "cell_type": "markdown",
   "id": "35fee6e4",
   "metadata": {},
   "source": [
    "# Extracting Company Name"
   ]
  },
  {
   "cell_type": "code",
   "execution_count": 98,
   "id": "98a643c0",
   "metadata": {},
   "outputs": [
    {
     "data": {
      "text/plain": [
       "[<selenium.webdriver.remote.webelement.WebElement (session=\"8f864f63eb9de90e14adebc73b25c9f7\", element=\"51bf208a-126e-441b-95af-4208e662ee91\")>,\n",
       " <selenium.webdriver.remote.webelement.WebElement (session=\"8f864f63eb9de90e14adebc73b25c9f7\", element=\"5e56f26f-aa0f-4eb8-be87-7caa91d503ae\")>,\n",
       " <selenium.webdriver.remote.webelement.WebElement (session=\"8f864f63eb9de90e14adebc73b25c9f7\", element=\"5ad787d5-d944-46e8-abba-8cde4787e880\")>,\n",
       " <selenium.webdriver.remote.webelement.WebElement (session=\"8f864f63eb9de90e14adebc73b25c9f7\", element=\"d1fe3917-66ef-4cee-b603-0ddedf96734a\")>,\n",
       " <selenium.webdriver.remote.webelement.WebElement (session=\"8f864f63eb9de90e14adebc73b25c9f7\", element=\"2929c27e-3689-4c2b-823c-61c03a830ecf\")>,\n",
       " <selenium.webdriver.remote.webelement.WebElement (session=\"8f864f63eb9de90e14adebc73b25c9f7\", element=\"a0e96f60-1bbe-4b56-8fc5-2cd717f5c378\")>,\n",
       " <selenium.webdriver.remote.webelement.WebElement (session=\"8f864f63eb9de90e14adebc73b25c9f7\", element=\"c34aec3d-39c1-40b9-8c07-5ae5f77bea47\")>,\n",
       " <selenium.webdriver.remote.webelement.WebElement (session=\"8f864f63eb9de90e14adebc73b25c9f7\", element=\"1ef64480-1c8b-4882-867a-c7777212de80\")>,\n",
       " <selenium.webdriver.remote.webelement.WebElement (session=\"8f864f63eb9de90e14adebc73b25c9f7\", element=\"00d7b0f6-6470-4755-b084-aa6133a98a27\")>,\n",
       " <selenium.webdriver.remote.webelement.WebElement (session=\"8f864f63eb9de90e14adebc73b25c9f7\", element=\"fb6a3588-d5f7-4380-a477-ac31f3c234f6\")>]"
      ]
     },
     "execution_count": 98,
     "metadata": {},
     "output_type": "execute_result"
    }
   ],
   "source": [
    "company_names=driver.find_elements_by_xpath('//p[@class=\"company body-medium\"]')\n",
    "company_names"
   ]
  },
  {
   "cell_type": "code",
   "execution_count": 99,
   "id": "f5f74828",
   "metadata": {},
   "outputs": [
    {
     "data": {
      "text/plain": [
       "['NTT DATA GLOBAL DELIVERY SERVICES PRIVATE LIMITED',\n",
       " 'HCL Technologies Limited',\n",
       " 'Optum Global Solutions (India) Private Limited',\n",
       " 'WSP CONSULTANTS INDIA PRIVATE LIMITED',\n",
       " 'Microsoft India (R and D) Pvt Ltd',\n",
       " 'HCL Technologies Ltd',\n",
       " 'Jubilant Foodworks Limited',\n",
       " 'HCL Technologies',\n",
       " 'RATEGAIN TRAVEL TECHNOLOGIES LIMITED',\n",
       " 'Hanu Software Solutions Pvt Ltd']"
      ]
     },
     "execution_count": 99,
     "metadata": {},
     "output_type": "execute_result"
    }
   ],
   "source": [
    "Company_names=[]\n",
    "\n",
    "for i in company_names:\n",
    "    Company_names.append(i.text)\n",
    "Company_names"
   ]
  },
  {
   "cell_type": "markdown",
   "id": "d1ce5a5b",
   "metadata": {},
   "source": [
    "# Extracting No. of days ago when job was posted"
   ]
  },
  {
   "cell_type": "code",
   "execution_count": 116,
   "id": "301889bc",
   "metadata": {},
   "outputs": [
    {
     "data": {
      "text/plain": [
       "[<selenium.webdriver.remote.webelement.WebElement (session=\"8f864f63eb9de90e14adebc73b25c9f7\", element=\"2001c60f-b9d2-4a15-9b8d-4018d2790ec4\")>,\n",
       " <selenium.webdriver.remote.webelement.WebElement (session=\"8f864f63eb9de90e14adebc73b25c9f7\", element=\"64bafa7c-db54-4a91-8917-7c2640f40520\")>,\n",
       " <selenium.webdriver.remote.webelement.WebElement (session=\"8f864f63eb9de90e14adebc73b25c9f7\", element=\"386776b3-209b-4b2e-9568-3d174d6c257b\")>,\n",
       " <selenium.webdriver.remote.webelement.WebElement (session=\"8f864f63eb9de90e14adebc73b25c9f7\", element=\"04dda3b4-24f8-422b-bf9e-29e3ac23c0e0\")>,\n",
       " <selenium.webdriver.remote.webelement.WebElement (session=\"8f864f63eb9de90e14adebc73b25c9f7\", element=\"b94643f3-dc82-4fe0-a4ce-e78f47c91d6c\")>,\n",
       " <selenium.webdriver.remote.webelement.WebElement (session=\"8f864f63eb9de90e14adebc73b25c9f7\", element=\"2db77263-4a64-4c04-94f0-a4d9e0337e44\")>,\n",
       " <selenium.webdriver.remote.webelement.WebElement (session=\"8f864f63eb9de90e14adebc73b25c9f7\", element=\"c45ec614-f248-4798-bf62-88c56b5d9d7c\")>,\n",
       " <selenium.webdriver.remote.webelement.WebElement (session=\"8f864f63eb9de90e14adebc73b25c9f7\", element=\"9481f4db-4931-4f79-b296-2099036ed869\")>,\n",
       " <selenium.webdriver.remote.webelement.WebElement (session=\"8f864f63eb9de90e14adebc73b25c9f7\", element=\"a0b3687b-b9f0-4793-aef6-c1d6805e3d01\")>,\n",
       " <selenium.webdriver.remote.webelement.WebElement (session=\"8f864f63eb9de90e14adebc73b25c9f7\", element=\"a2464f18-9b72-4a79-a89f-eebcd6283f68\")>,\n",
       " <selenium.webdriver.remote.webelement.WebElement (session=\"8f864f63eb9de90e14adebc73b25c9f7\", element=\"70ee4074-5ed5-4a61-a2ae-647b3a0e26e2\")>,\n",
       " <selenium.webdriver.remote.webelement.WebElement (session=\"8f864f63eb9de90e14adebc73b25c9f7\", element=\"0711fabe-a225-4270-9344-7e62ad6c5bed\")>,\n",
       " <selenium.webdriver.remote.webelement.WebElement (session=\"8f864f63eb9de90e14adebc73b25c9f7\", element=\"7fdb2632-6338-4758-81ee-630fbf0f8d21\")>,\n",
       " <selenium.webdriver.remote.webelement.WebElement (session=\"8f864f63eb9de90e14adebc73b25c9f7\", element=\"b6be1401-00e6-4d1b-98d2-4ee04d48d99d\")>,\n",
       " <selenium.webdriver.remote.webelement.WebElement (session=\"8f864f63eb9de90e14adebc73b25c9f7\", element=\"3f8b4182-ea6b-4d50-95ac-343418ce6cd5\")>,\n",
       " <selenium.webdriver.remote.webelement.WebElement (session=\"8f864f63eb9de90e14adebc73b25c9f7\", element=\"8c34d536-b4dc-4947-aecc-ba3c6ccb40f9\")>,\n",
       " <selenium.webdriver.remote.webelement.WebElement (session=\"8f864f63eb9de90e14adebc73b25c9f7\", element=\"2c2ab369-a6c3-49da-b2d0-ebe8cf7c9470\")>,\n",
       " <selenium.webdriver.remote.webelement.WebElement (session=\"8f864f63eb9de90e14adebc73b25c9f7\", element=\"44dc06ec-9c1f-4ab1-a527-bda68bdcdf87\")>,\n",
       " <selenium.webdriver.remote.webelement.WebElement (session=\"8f864f63eb9de90e14adebc73b25c9f7\", element=\"bbc7a57e-b75a-4574-99c9-7dc7081534dc\")>,\n",
       " <selenium.webdriver.remote.webelement.WebElement (session=\"8f864f63eb9de90e14adebc73b25c9f7\", element=\"25fe4c88-8567-435b-b4a5-763079758978\")>]"
      ]
     },
     "execution_count": 116,
     "metadata": {},
     "output_type": "execute_result"
    }
   ],
   "source": [
    "job_posted=driver.find_elements_by_xpath('//span[@class=\"body-small-l\"]')\n",
    "job_posted"
   ]
  },
  {
   "cell_type": "code",
   "execution_count": 120,
   "id": "0405c70a",
   "metadata": {},
   "outputs": [
    {
     "data": {
      "text/plain": [
       "['8d ago',\n",
       " '9d ago',\n",
       " '19d ago',\n",
       " '9d ago',\n",
       " '20d ago',\n",
       " '17d ago',\n",
       " '7d ago',\n",
       " '24d ago',\n",
       " '2d ago',\n",
       " '9d ago']"
      ]
     },
     "execution_count": 120,
     "metadata": {},
     "output_type": "execute_result"
    }
   ],
   "source": [
    "no_of_days=[]\n",
    "\n",
    "for i in job_posted:\n",
    "    no_of_days.append(i.text)\n",
    "no_of_days[0::2]"
   ]
  },
  {
   "cell_type": "markdown",
   "id": "38efcb5b",
   "metadata": {},
   "source": [
    "# Extracting ratings"
   ]
  },
  {
   "cell_type": "code",
   "execution_count": 112,
   "id": "9808cb4d",
   "metadata": {},
   "outputs": [
    {
     "data": {
      "text/plain": [
       "[<selenium.webdriver.remote.webelement.WebElement (session=\"8f864f63eb9de90e14adebc73b25c9f7\", element=\"8b5560c0-4634-41e3-89ba-89d33a247572\")>,\n",
       " <selenium.webdriver.remote.webelement.WebElement (session=\"8f864f63eb9de90e14adebc73b25c9f7\", element=\"a1657667-0681-492e-a524-413368fe5ce0\")>,\n",
       " <selenium.webdriver.remote.webelement.WebElement (session=\"8f864f63eb9de90e14adebc73b25c9f7\", element=\"bc0085d0-2bb6-4bc1-92c1-60e11ce6fa20\")>,\n",
       " <selenium.webdriver.remote.webelement.WebElement (session=\"8f864f63eb9de90e14adebc73b25c9f7\", element=\"9a885ff3-f5a7-43e9-9711-df3985885ef7\")>,\n",
       " <selenium.webdriver.remote.webelement.WebElement (session=\"8f864f63eb9de90e14adebc73b25c9f7\", element=\"d9ccfbcc-6f91-43f0-80e0-0900ec096764\")>,\n",
       " <selenium.webdriver.remote.webelement.WebElement (session=\"8f864f63eb9de90e14adebc73b25c9f7\", element=\"e4a4bf71-4872-45e7-84e9-434de2aa86cb\")>,\n",
       " <selenium.webdriver.remote.webelement.WebElement (session=\"8f864f63eb9de90e14adebc73b25c9f7\", element=\"97413ae7-bc92-4ff1-a5da-ca2ca209786a\")>,\n",
       " <selenium.webdriver.remote.webelement.WebElement (session=\"8f864f63eb9de90e14adebc73b25c9f7\", element=\"7869ddee-8c51-4b72-9d6b-3f7a93af33ce\")>,\n",
       " <selenium.webdriver.remote.webelement.WebElement (session=\"8f864f63eb9de90e14adebc73b25c9f7\", element=\"bd7d3f3a-b6c7-43d6-b15c-8ba3b841e588\")>,\n",
       " <selenium.webdriver.remote.webelement.WebElement (session=\"8f864f63eb9de90e14adebc73b25c9f7\", element=\"cb58056c-e335-41c3-bd7e-e3eadb0b31a8\")>]"
      ]
     },
     "execution_count": 112,
     "metadata": {},
     "output_type": "execute_result"
    }
   ],
   "source": [
    "ratings=driver.find_elements_by_xpath('//span[@class=\"body-small\"]')\n",
    "ratings"
   ]
  },
  {
   "cell_type": "code",
   "execution_count": 113,
   "id": "592132a9",
   "metadata": {},
   "outputs": [
    {
     "data": {
      "text/plain": [
       "['3.9', '3.8', '4.1', '4.2', '4.2', '3.8', '3.9', '3.8', '3.8', '3.7']"
      ]
     },
     "execution_count": 113,
     "metadata": {},
     "output_type": "execute_result"
    }
   ],
   "source": [
    "Ratings=[]\n",
    "\n",
    "for i in ratings:\n",
    "    Ratings.append(i.text)\n",
    "Ratings"
   ]
  },
  {
   "cell_type": "code",
   "execution_count": 121,
   "id": "3d99f9c9",
   "metadata": {},
   "outputs": [
    {
     "data": {
      "text/html": [
       "<div>\n",
       "<style scoped>\n",
       "    .dataframe tbody tr th:only-of-type {\n",
       "        vertical-align: middle;\n",
       "    }\n",
       "\n",
       "    .dataframe tbody tr th {\n",
       "        vertical-align: top;\n",
       "    }\n",
       "\n",
       "    .dataframe thead th {\n",
       "        text-align: right;\n",
       "    }\n",
       "</style>\n",
       "<table border=\"1\" class=\"dataframe\">\n",
       "  <thead>\n",
       "    <tr style=\"text-align: right;\">\n",
       "      <th></th>\n",
       "      <th>company_names</th>\n",
       "      <th>No of days ago when job was posted</th>\n",
       "      <th>rxperience</th>\n",
       "    </tr>\n",
       "  </thead>\n",
       "  <tbody>\n",
       "    <tr>\n",
       "      <th>0</th>\n",
       "      <td>NTT DATA GLOBAL DELIVERY SERVICES PRIVATE LIMITED</td>\n",
       "      <td>8d ago</td>\n",
       "      <td>3.9</td>\n",
       "    </tr>\n",
       "    <tr>\n",
       "      <th>1</th>\n",
       "      <td>HCL Technologies Limited</td>\n",
       "      <td>9d ago</td>\n",
       "      <td>3.8</td>\n",
       "    </tr>\n",
       "    <tr>\n",
       "      <th>2</th>\n",
       "      <td>Optum Global Solutions (India) Private Limited</td>\n",
       "      <td>19d ago</td>\n",
       "      <td>4.1</td>\n",
       "    </tr>\n",
       "    <tr>\n",
       "      <th>3</th>\n",
       "      <td>WSP CONSULTANTS INDIA PRIVATE LIMITED</td>\n",
       "      <td>9d ago</td>\n",
       "      <td>4.2</td>\n",
       "    </tr>\n",
       "    <tr>\n",
       "      <th>4</th>\n",
       "      <td>Microsoft India (R and D) Pvt Ltd</td>\n",
       "      <td>20d ago</td>\n",
       "      <td>4.2</td>\n",
       "    </tr>\n",
       "    <tr>\n",
       "      <th>5</th>\n",
       "      <td>HCL Technologies Ltd</td>\n",
       "      <td>17d ago</td>\n",
       "      <td>3.8</td>\n",
       "    </tr>\n",
       "    <tr>\n",
       "      <th>6</th>\n",
       "      <td>Jubilant Foodworks Limited</td>\n",
       "      <td>7d ago</td>\n",
       "      <td>3.9</td>\n",
       "    </tr>\n",
       "    <tr>\n",
       "      <th>7</th>\n",
       "      <td>HCL Technologies</td>\n",
       "      <td>24d ago</td>\n",
       "      <td>3.8</td>\n",
       "    </tr>\n",
       "    <tr>\n",
       "      <th>8</th>\n",
       "      <td>RATEGAIN TRAVEL TECHNOLOGIES LIMITED</td>\n",
       "      <td>2d ago</td>\n",
       "      <td>3.8</td>\n",
       "    </tr>\n",
       "    <tr>\n",
       "      <th>9</th>\n",
       "      <td>Hanu Software Solutions Pvt Ltd</td>\n",
       "      <td>9d ago</td>\n",
       "      <td>3.7</td>\n",
       "    </tr>\n",
       "  </tbody>\n",
       "</table>\n",
       "</div>"
      ],
      "text/plain": [
       "                                       company_names  \\\n",
       "0  NTT DATA GLOBAL DELIVERY SERVICES PRIVATE LIMITED   \n",
       "1                           HCL Technologies Limited   \n",
       "2     Optum Global Solutions (India) Private Limited   \n",
       "3              WSP CONSULTANTS INDIA PRIVATE LIMITED   \n",
       "4                  Microsoft India (R and D) Pvt Ltd   \n",
       "5                               HCL Technologies Ltd   \n",
       "6                         Jubilant Foodworks Limited   \n",
       "7                                   HCL Technologies   \n",
       "8               RATEGAIN TRAVEL TECHNOLOGIES LIMITED   \n",
       "9                    Hanu Software Solutions Pvt Ltd   \n",
       "\n",
       "  No of days ago when job was posted rxperience  \n",
       "0                             8d ago        3.9  \n",
       "1                             9d ago        3.8  \n",
       "2                            19d ago        4.1  \n",
       "3                             9d ago        4.2  \n",
       "4                            20d ago        4.2  \n",
       "5                            17d ago        3.8  \n",
       "6                             7d ago        3.9  \n",
       "7                            24d ago        3.8  \n",
       "8                             2d ago        3.8  \n",
       "9                             9d ago        3.7  "
      ]
     },
     "execution_count": 121,
     "metadata": {},
     "output_type": "execute_result"
    }
   ],
   "source": [
    "job=pd.DataFrame()\n",
    "job['company_names']= Company_names\n",
    "job['No of days ago when job was posted']= no_of_days[0::2]\n",
    "job['rxperience']= Ratings\n",
    "job"
   ]
  },
  {
   "cell_type": "markdown",
   "id": "1de78602",
   "metadata": {},
   "source": [
    "# Answer_10"
   ]
  },
  {
   "cell_type": "code",
   "execution_count": 10,
   "id": "5c8200eb",
   "metadata": {},
   "outputs": [],
   "source": [
    "driver=webdriver.Chrome('chromedriver.exe')"
   ]
  },
  {
   "cell_type": "code",
   "execution_count": 11,
   "id": "8978d1ea",
   "metadata": {},
   "outputs": [],
   "source": [
    "url9='https://www.ambitionbox.com/'\n",
    "driver.get(url9)"
   ]
  },
  {
   "cell_type": "code",
   "execution_count": 12,
   "id": "75106afc",
   "metadata": {},
   "outputs": [
    {
     "data": {
      "text/plain": [
       "<selenium.webdriver.remote.webelement.WebElement (session=\"48dd3e9e7f27f9cd97a82efbfc4d24a0\", element=\"a3c03923-235b-4bfd-9748-c3fd3c44c7eb\")>"
      ]
     },
     "execution_count": 12,
     "metadata": {},
     "output_type": "execute_result"
    }
   ],
   "source": [
    "# clicking using absolute xpath function\n",
    "salary_btn= driver.find_element_by_xpath(\"/html/body/div[1]/nav/nav/a[4]\")\n",
    "salary_btn"
   ]
  },
  {
   "cell_type": "code",
   "execution_count": 13,
   "id": "f6a52174",
   "metadata": {},
   "outputs": [],
   "source": [
    "salary_btn.click()"
   ]
  },
  {
   "cell_type": "code",
   "execution_count": 14,
   "id": "cd9f8780",
   "metadata": {},
   "outputs": [
    {
     "data": {
      "text/plain": [
       "<selenium.webdriver.remote.webelement.WebElement (session=\"48dd3e9e7f27f9cd97a82efbfc4d24a0\", element=\"bfa6b49e-2f89-40aa-8702-e5b530b0f659\")>"
      ]
     },
     "execution_count": 14,
     "metadata": {},
     "output_type": "execute_result"
    }
   ],
   "source": [
    "# finding web element for search job bar using id\n",
    "search_job = driver.find_element_by_xpath(\"/html/body/div/div/div/main/section[1]/div[2]/div[1]/span/input\")\n",
    "search_job"
   ]
  },
  {
   "cell_type": "code",
   "execution_count": 15,
   "id": "381cc8ac",
   "metadata": {},
   "outputs": [],
   "source": [
    "search_job.send_keys(\"Data Scientist\")"
   ]
  },
  {
   "cell_type": "markdown",
   "id": "6259a59f",
   "metadata": {},
   "source": [
    "# Scraping Company names"
   ]
  },
  {
   "cell_type": "code",
   "execution_count": 17,
   "id": "85994b84",
   "metadata": {},
   "outputs": [
    {
     "data": {
      "text/plain": [
       "[<selenium.webdriver.remote.webelement.WebElement (session=\"48dd3e9e7f27f9cd97a82efbfc4d24a0\", element=\"d7557aaa-31de-4c52-9df1-c814dbb0ef58\")>,\n",
       " <selenium.webdriver.remote.webelement.WebElement (session=\"48dd3e9e7f27f9cd97a82efbfc4d24a0\", element=\"9b8544cf-8de2-41d9-8aee-42ae783db089\")>,\n",
       " <selenium.webdriver.remote.webelement.WebElement (session=\"48dd3e9e7f27f9cd97a82efbfc4d24a0\", element=\"324af70f-62db-4153-b861-2722136ff740\")>,\n",
       " <selenium.webdriver.remote.webelement.WebElement (session=\"48dd3e9e7f27f9cd97a82efbfc4d24a0\", element=\"b55f9da1-f382-465f-99cf-e670810044fd\")>,\n",
       " <selenium.webdriver.remote.webelement.WebElement (session=\"48dd3e9e7f27f9cd97a82efbfc4d24a0\", element=\"51e3d7e3-4426-4efe-9a06-6a6d5ce44d3c\")>,\n",
       " <selenium.webdriver.remote.webelement.WebElement (session=\"48dd3e9e7f27f9cd97a82efbfc4d24a0\", element=\"b0ac1eaf-4420-4a22-bf6d-d1d6e548a4fb\")>,\n",
       " <selenium.webdriver.remote.webelement.WebElement (session=\"48dd3e9e7f27f9cd97a82efbfc4d24a0\", element=\"0508292d-dd1f-402b-8b92-cf3ec8865669\")>,\n",
       " <selenium.webdriver.remote.webelement.WebElement (session=\"48dd3e9e7f27f9cd97a82efbfc4d24a0\", element=\"19ecfa4a-ca89-45f7-9aab-5438f92d133a\")>,\n",
       " <selenium.webdriver.remote.webelement.WebElement (session=\"48dd3e9e7f27f9cd97a82efbfc4d24a0\", element=\"9547e4d5-f375-4cee-82b0-46e541fc8dc6\")>,\n",
       " <selenium.webdriver.remote.webelement.WebElement (session=\"48dd3e9e7f27f9cd97a82efbfc4d24a0\", element=\"f791746b-f64b-4392-83ad-1d4ecf5e4803\")>]"
      ]
     },
     "execution_count": 17,
     "metadata": {},
     "output_type": "execute_result"
    }
   ],
   "source": [
    "company_name=driver.find_elements_by_xpath('//div[@class=\"name\"]')\n",
    "company_name[:10]"
   ]
  },
  {
   "cell_type": "code",
   "execution_count": 22,
   "id": "966950a3",
   "metadata": {},
   "outputs": [
    {
     "data": {
      "text/plain": [
       "['Ab Inbev\\nbased on 28 salaries',\n",
       " 'ZS\\nbased on 15 salaries',\n",
       " 'Optum\\nbased on 25 salaries',\n",
       " 'Fractal Analytics\\nbased on 77 salaries',\n",
       " 'Tiger Analytics\\nbased on 33 salaries',\n",
       " 'UnitedHealth\\nbased on 52 salaries',\n",
       " 'Verizon\\nbased on 14 salaries',\n",
       " 'Ganit Business Solutions\\nbased on 13 salaries',\n",
       " 'Ericsson\\nbased on 43 salaries',\n",
       " 'Deloitte\\nbased on 57 salaries']"
      ]
     },
     "execution_count": 22,
     "metadata": {},
     "output_type": "execute_result"
    }
   ],
   "source": [
    "Company_name=[]\n",
    "\n",
    "for i in company_name:\n",
    "    Company_name.append(i.text)\n",
    "Company_name"
   ]
  },
  {
   "cell_type": "code",
   "execution_count": 37,
   "id": "2268a5f6",
   "metadata": {},
   "outputs": [
    {
     "data": {
      "text/plain": [
       "[<selenium.webdriver.remote.webelement.WebElement (session=\"48dd3e9e7f27f9cd97a82efbfc4d24a0\", element=\"d5d23f53-9429-4ff6-b20f-3f54c193c37a\")>,\n",
       " <selenium.webdriver.remote.webelement.WebElement (session=\"48dd3e9e7f27f9cd97a82efbfc4d24a0\", element=\"36fc924b-4b47-4d67-b940-2bcd0dd00739\")>,\n",
       " <selenium.webdriver.remote.webelement.WebElement (session=\"48dd3e9e7f27f9cd97a82efbfc4d24a0\", element=\"53f52885-9d9e-4e53-82b9-0397346d2c51\")>,\n",
       " <selenium.webdriver.remote.webelement.WebElement (session=\"48dd3e9e7f27f9cd97a82efbfc4d24a0\", element=\"fca0bfc8-0791-4ca3-8a53-058c61555431\")>,\n",
       " <selenium.webdriver.remote.webelement.WebElement (session=\"48dd3e9e7f27f9cd97a82efbfc4d24a0\", element=\"b4a9258a-8e64-4b74-81bc-7c78ddeb10b5\")>,\n",
       " <selenium.webdriver.remote.webelement.WebElement (session=\"48dd3e9e7f27f9cd97a82efbfc4d24a0\", element=\"5649e17f-426b-47fb-b344-dd69884a24d4\")>,\n",
       " <selenium.webdriver.remote.webelement.WebElement (session=\"48dd3e9e7f27f9cd97a82efbfc4d24a0\", element=\"2ef16f37-577f-42db-af1a-31d527378f09\")>,\n",
       " <selenium.webdriver.remote.webelement.WebElement (session=\"48dd3e9e7f27f9cd97a82efbfc4d24a0\", element=\"5a8b9d58-5dc0-42e8-a3f0-67e022155cdb\")>,\n",
       " <selenium.webdriver.remote.webelement.WebElement (session=\"48dd3e9e7f27f9cd97a82efbfc4d24a0\", element=\"fae5a1ca-fa5e-4de1-acac-1adfaf5e3087\")>,\n",
       " <selenium.webdriver.remote.webelement.WebElement (session=\"48dd3e9e7f27f9cd97a82efbfc4d24a0\", element=\"2ba3878f-a4ea-474a-ace2-24af2996d80b\")>]"
      ]
     },
     "execution_count": 37,
     "metadata": {},
     "output_type": "execute_result"
    }
   ],
   "source": [
    "experience=driver.find_elements_by_xpath('//div[@class=\"salaries sbold-list-header\"]')\n",
    "experience[:10]"
   ]
  },
  {
   "cell_type": "code",
   "execution_count": 65,
   "id": "41dc17bb",
   "metadata": {},
   "outputs": [
    {
     "name": "stdout",
     "output_type": "stream",
     "text": [
      "['Data Scientist\\n . \\n3-4 yrs exp', 'Data Scientist\\n . \\n2 yrs exp', 'Data Scientist\\n . \\n3-4 yrs exp', 'Data Scientist\\n . \\n2-4 yrs exp', 'Data Scientist\\n . \\n3-4 yrs exp', 'Data Scientist\\n . \\n2-4 yrs exp', 'Data Scientist\\n . \\n4 yrs exp', 'Data Scientist\\n . \\n4 yrs exp', 'Data Scientist\\n . \\n3-4 yrs exp', 'Data Scientist\\n . \\n2-4 yrs exp']\n",
      "3-4 yrs exp\n",
      "2 yrs exp\n",
      "3-4 yrs exp\n",
      "2-4 yrs exp\n",
      "3-4 yrs exp\n",
      "2-4 yrs exp\n",
      "4 yrs exp\n",
      "4 yrs exp\n",
      "3-4 yrs exp\n",
      "2-4 yrs exp\n"
     ]
    }
   ],
   "source": [
    "Experience=[]\n",
    "\n",
    "for i in experience:\n",
    "    Experience.append(i.text)\n",
    "print(Experience[:10])\n",
    "print(Experience[0][19:])\n",
    "print(Experience[1][19:])\n",
    "print(Experience[2][19:])\n",
    "print(Experience[3][19:])\n",
    "print(Experience[4][19:])\n",
    "print(Experience[5][19:])\n",
    "print(Experience[6][19:])\n",
    "print(Experience[7][19:])\n",
    "print(Experience[8][19:])\n",
    "print(Experience[9][19:])"
   ]
  },
  {
   "cell_type": "markdown",
   "id": "d90441c8",
   "metadata": {},
   "source": [
    "# Extracting minimum salary"
   ]
  },
  {
   "cell_type": "code",
   "execution_count": 23,
   "id": "38c034d4",
   "metadata": {},
   "outputs": [
    {
     "data": {
      "text/plain": [
       "[<selenium.webdriver.remote.webelement.WebElement (session=\"48dd3e9e7f27f9cd97a82efbfc4d24a0\", element=\"2c54b2ac-4669-49f2-9eb9-0293f7759deb\")>,\n",
       " <selenium.webdriver.remote.webelement.WebElement (session=\"48dd3e9e7f27f9cd97a82efbfc4d24a0\", element=\"fa47760a-712e-4488-82da-d633980484fe\")>,\n",
       " <selenium.webdriver.remote.webelement.WebElement (session=\"48dd3e9e7f27f9cd97a82efbfc4d24a0\", element=\"519dc612-f88b-4969-869c-54cb08394ef8\")>,\n",
       " <selenium.webdriver.remote.webelement.WebElement (session=\"48dd3e9e7f27f9cd97a82efbfc4d24a0\", element=\"0837ab7b-9990-4c9b-aaeb-d8380fe34468\")>,\n",
       " <selenium.webdriver.remote.webelement.WebElement (session=\"48dd3e9e7f27f9cd97a82efbfc4d24a0\", element=\"78e59718-0b4f-4585-8450-c368239bc79a\")>,\n",
       " <selenium.webdriver.remote.webelement.WebElement (session=\"48dd3e9e7f27f9cd97a82efbfc4d24a0\", element=\"742469c9-e932-478c-92c3-0bae164406d6\")>,\n",
       " <selenium.webdriver.remote.webelement.WebElement (session=\"48dd3e9e7f27f9cd97a82efbfc4d24a0\", element=\"ba3a54de-2cca-4fae-9e1e-f0706f201c36\")>,\n",
       " <selenium.webdriver.remote.webelement.WebElement (session=\"48dd3e9e7f27f9cd97a82efbfc4d24a0\", element=\"e29cbb64-6879-406a-8101-83d90b635f7c\")>,\n",
       " <selenium.webdriver.remote.webelement.WebElement (session=\"48dd3e9e7f27f9cd97a82efbfc4d24a0\", element=\"b4a92cd5-c293-46da-881a-2109ac554e63\")>,\n",
       " <selenium.webdriver.remote.webelement.WebElement (session=\"48dd3e9e7f27f9cd97a82efbfc4d24a0\", element=\"c578d089-2dae-4d03-aa9a-55f7168f83a8\")>]"
      ]
     },
     "execution_count": 23,
     "metadata": {},
     "output_type": "execute_result"
    }
   ],
   "source": [
    "min_sal=driver.find_elements_by_xpath('//div[@class=\"value body-medium\"]')\n",
    "min_sal[:10]"
   ]
  },
  {
   "cell_type": "code",
   "execution_count": 25,
   "id": "c41c2ecd",
   "metadata": {},
   "outputs": [
    {
     "data": {
      "text/plain": [
       "['₹ 15.0L',\n",
       " '₹ 9.5L',\n",
       " '₹ 11.0L',\n",
       " '₹ 9.5L',\n",
       " '₹ 8.3L',\n",
       " '₹ 8.3L',\n",
       " '₹ 10.0L',\n",
       " '₹ 8.5L',\n",
       " '₹ 5.8L',\n",
       " '₹ 6.9L']"
      ]
     },
     "execution_count": 25,
     "metadata": {},
     "output_type": "execute_result"
    }
   ],
   "source": [
    "Min_sal=[]\n",
    "\n",
    "for i in min_sal:\n",
    "    Min_sal.append(i.text)\n",
    "Min_sal[::2]"
   ]
  },
  {
   "cell_type": "markdown",
   "id": "c9cfa4db",
   "metadata": {},
   "source": [
    "# Extracting Average salary"
   ]
  },
  {
   "cell_type": "code",
   "execution_count": 26,
   "id": "2cd41201",
   "metadata": {},
   "outputs": [
    {
     "data": {
      "text/plain": [
       "[<selenium.webdriver.remote.webelement.WebElement (session=\"48dd3e9e7f27f9cd97a82efbfc4d24a0\", element=\"47e6966d-dc09-4ad1-acab-ae46dcbf7005\")>,\n",
       " <selenium.webdriver.remote.webelement.WebElement (session=\"48dd3e9e7f27f9cd97a82efbfc4d24a0\", element=\"9821ef12-bf62-4ac3-96e6-57482017e32f\")>,\n",
       " <selenium.webdriver.remote.webelement.WebElement (session=\"48dd3e9e7f27f9cd97a82efbfc4d24a0\", element=\"fd76e4c8-0b32-489f-96f3-13b5d54d7e99\")>,\n",
       " <selenium.webdriver.remote.webelement.WebElement (session=\"48dd3e9e7f27f9cd97a82efbfc4d24a0\", element=\"5fbe99d1-98bb-4ac6-bfcc-5e3e54ea997a\")>,\n",
       " <selenium.webdriver.remote.webelement.WebElement (session=\"48dd3e9e7f27f9cd97a82efbfc4d24a0\", element=\"705ca00a-f009-45fa-bdc0-a01070dc35f4\")>,\n",
       " <selenium.webdriver.remote.webelement.WebElement (session=\"48dd3e9e7f27f9cd97a82efbfc4d24a0\", element=\"3f111095-d49c-4821-bb19-248e93ceb325\")>,\n",
       " <selenium.webdriver.remote.webelement.WebElement (session=\"48dd3e9e7f27f9cd97a82efbfc4d24a0\", element=\"fb9284b8-f957-48e4-8315-6752593f60c8\")>,\n",
       " <selenium.webdriver.remote.webelement.WebElement (session=\"48dd3e9e7f27f9cd97a82efbfc4d24a0\", element=\"386b5507-53c6-4f81-97ff-bb203367a659\")>,\n",
       " <selenium.webdriver.remote.webelement.WebElement (session=\"48dd3e9e7f27f9cd97a82efbfc4d24a0\", element=\"a8060ee8-1de0-445b-bc41-bd01052dc6c5\")>,\n",
       " <selenium.webdriver.remote.webelement.WebElement (session=\"48dd3e9e7f27f9cd97a82efbfc4d24a0\", element=\"a1e40c3e-0cbd-492b-aebc-d6736c181751\")>]"
      ]
     },
     "execution_count": 26,
     "metadata": {},
     "output_type": "execute_result"
    }
   ],
   "source": [
    "mid_sal=driver.find_elements_by_xpath('//p[@class=\"averageCtc\"]')\n",
    "mid_sal[:10]"
   ]
  },
  {
   "cell_type": "code",
   "execution_count": 27,
   "id": "765ad13a",
   "metadata": {},
   "outputs": [
    {
     "data": {
      "text/plain": [
       "['₹ 20.3L',\n",
       " '₹ 15.3L',\n",
       " '₹ 15.1L',\n",
       " '₹ 15.1L',\n",
       " '₹ 14.4L',\n",
       " '₹ 13.9L',\n",
       " '₹ 12.7L',\n",
       " '₹ 12.4L',\n",
       " '₹ 11.9L',\n",
       " '₹ 11.7L']"
      ]
     },
     "execution_count": 27,
     "metadata": {},
     "output_type": "execute_result"
    }
   ],
   "source": [
    "Mid_sal=[]\n",
    "\n",
    "for i in mid_sal:\n",
    "    Mid_sal.append(i.text)\n",
    "Mid_sal"
   ]
  },
  {
   "cell_type": "markdown",
   "id": "a6479f95",
   "metadata": {},
   "source": [
    "# Extracting Max Salary"
   ]
  },
  {
   "cell_type": "code",
   "execution_count": 28,
   "id": "be7add82",
   "metadata": {},
   "outputs": [
    {
     "data": {
      "text/plain": [
       "[<selenium.webdriver.remote.webelement.WebElement (session=\"48dd3e9e7f27f9cd97a82efbfc4d24a0\", element=\"2c54b2ac-4669-49f2-9eb9-0293f7759deb\")>,\n",
       " <selenium.webdriver.remote.webelement.WebElement (session=\"48dd3e9e7f27f9cd97a82efbfc4d24a0\", element=\"fa47760a-712e-4488-82da-d633980484fe\")>,\n",
       " <selenium.webdriver.remote.webelement.WebElement (session=\"48dd3e9e7f27f9cd97a82efbfc4d24a0\", element=\"519dc612-f88b-4969-869c-54cb08394ef8\")>,\n",
       " <selenium.webdriver.remote.webelement.WebElement (session=\"48dd3e9e7f27f9cd97a82efbfc4d24a0\", element=\"0837ab7b-9990-4c9b-aaeb-d8380fe34468\")>,\n",
       " <selenium.webdriver.remote.webelement.WebElement (session=\"48dd3e9e7f27f9cd97a82efbfc4d24a0\", element=\"78e59718-0b4f-4585-8450-c368239bc79a\")>,\n",
       " <selenium.webdriver.remote.webelement.WebElement (session=\"48dd3e9e7f27f9cd97a82efbfc4d24a0\", element=\"742469c9-e932-478c-92c3-0bae164406d6\")>,\n",
       " <selenium.webdriver.remote.webelement.WebElement (session=\"48dd3e9e7f27f9cd97a82efbfc4d24a0\", element=\"ba3a54de-2cca-4fae-9e1e-f0706f201c36\")>,\n",
       " <selenium.webdriver.remote.webelement.WebElement (session=\"48dd3e9e7f27f9cd97a82efbfc4d24a0\", element=\"e29cbb64-6879-406a-8101-83d90b635f7c\")>,\n",
       " <selenium.webdriver.remote.webelement.WebElement (session=\"48dd3e9e7f27f9cd97a82efbfc4d24a0\", element=\"b4a92cd5-c293-46da-881a-2109ac554e63\")>,\n",
       " <selenium.webdriver.remote.webelement.WebElement (session=\"48dd3e9e7f27f9cd97a82efbfc4d24a0\", element=\"c578d089-2dae-4d03-aa9a-55f7168f83a8\")>]"
      ]
     },
     "execution_count": 28,
     "metadata": {},
     "output_type": "execute_result"
    }
   ],
   "source": [
    "max_sal=driver.find_elements_by_xpath('//div[@class=\"value body-medium\"]')\n",
    "max_sal[:10]"
   ]
  },
  {
   "cell_type": "code",
   "execution_count": 35,
   "id": "544a1b1c",
   "metadata": {},
   "outputs": [
    {
     "data": {
      "text/plain": [
       "['₹ 25.5L',\n",
       " '₹ 20.0L',\n",
       " '₹ 21.3L',\n",
       " '₹ 22.0L',\n",
       " '₹ 20.0L',\n",
       " '₹ 20.5L',\n",
       " '₹ 21.0L',\n",
       " '₹ 15.0L',\n",
       " '₹ 24.0L',\n",
       " '₹ 23.4L']"
      ]
     },
     "execution_count": 35,
     "metadata": {},
     "output_type": "execute_result"
    }
   ],
   "source": [
    "Max_sal=[]\n",
    "\n",
    "for i in max_sal:\n",
    "    Max_sal.append(i.text)\n",
    "Max_sal[1::2]"
   ]
  },
  {
   "cell_type": "code",
   "execution_count": null,
   "id": "7f108dfd",
   "metadata": {},
   "outputs": [],
   "source": []
  }
 ],
 "metadata": {
  "kernelspec": {
   "display_name": "Python 3",
   "language": "python",
   "name": "python3"
  },
  "language_info": {
   "codemirror_mode": {
    "name": "ipython",
    "version": 3
   },
   "file_extension": ".py",
   "mimetype": "text/x-python",
   "name": "python",
   "nbconvert_exporter": "python",
   "pygments_lexer": "ipython3",
   "version": "3.8.8"
  }
 },
 "nbformat": 4,
 "nbformat_minor": 5
}
