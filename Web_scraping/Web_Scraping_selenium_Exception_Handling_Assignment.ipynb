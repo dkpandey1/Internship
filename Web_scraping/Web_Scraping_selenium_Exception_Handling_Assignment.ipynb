{
 "cells": [
  {
   "cell_type": "code",
   "execution_count": 1,
   "id": "5dd72bc0",
   "metadata": {},
   "outputs": [],
   "source": [
    "# Importing Libraries\n",
    "import selenium\n",
    "import pandas as pd\n",
    "import numpy as np\n",
    "import time\n",
    "from bs4 import BeautifulSoup\n",
    "\n",
    "# Importing selenium webdriver \n",
    "from selenium import webdriver\n",
    "\n",
    "# Importing required Exceptions which needs to handled\n",
    "from selenium.common.exceptions import StaleElementReferenceException, NoSuchElementException, ElementNotVisibleException\n",
    "from selenium.common.exceptions import ElementNotInteractableException, SessionNotCreatedException, TimeoutException\n",
    "\n",
    "#Importing requests\n",
    "import requests\n",
    "\n",
    "# importing regex\n",
    "import re\n",
    "\n",
    "from selenium import webdriver\n",
    "import warnings\n",
    "warnings.filterwarnings('ignore')"
   ]
  },
  {
   "cell_type": "markdown",
   "id": "22f0f9e2",
   "metadata": {},
   "source": [
    "# Answer_1"
   ]
  },
  {
   "cell_type": "code",
   "execution_count": 8,
   "id": "324a1a0f",
   "metadata": {},
   "outputs": [],
   "source": [
    "PATH = 'chromedriver.exe' #extracting path of the webdriver\n",
    "driver = webdriver.Chrome(PATH)"
   ]
  },
  {
   "cell_type": "code",
   "execution_count": 9,
   "id": "7cfaa2cd",
   "metadata": {},
   "outputs": [],
   "source": [
    "url = \"https://www.amazon.in/\"\n",
    "driver.get(url)"
   ]
  },
  {
   "cell_type": "code",
   "execution_count": 10,
   "id": "16361077",
   "metadata": {},
   "outputs": [
    {
     "data": {
      "text/plain": [
       "<selenium.webdriver.remote.webelement.WebElement (session=\"7f8549acf1f42bf16fbd7cdaa9f7998f\", element=\"9aea36b2-0de5-4095-abf4-535f8198ed15\")>"
      ]
     },
     "execution_count": 10,
     "metadata": {},
     "output_type": "execute_result"
    }
   ],
   "source": [
    "search_bar= driver.find_element_by_xpath(\"/html/body/div[1]/header/div/div[1]/div[2]/div/form/div[2]/div[1]/input\")\n",
    "search_bar"
   ]
  },
  {
   "cell_type": "code",
   "execution_count": 11,
   "id": "740940ec",
   "metadata": {},
   "outputs": [],
   "source": [
    "# write in search \n",
    "search_bar.send_keys(\"guitar\")"
   ]
  },
  {
   "cell_type": "code",
   "execution_count": 12,
   "id": "bb1d16cb",
   "metadata": {},
   "outputs": [
    {
     "data": {
      "text/plain": [
       "<selenium.webdriver.remote.webelement.WebElement (session=\"7f8549acf1f42bf16fbd7cdaa9f7998f\", element=\"ad2db6ae-871e-495f-8dd1-fcd15fa5ef21\")>"
      ]
     },
     "execution_count": 12,
     "metadata": {},
     "output_type": "execute_result"
    }
   ],
   "source": [
    "# clicking using absolute xpath function\n",
    "search_btn= driver.find_element_by_xpath(\"/html/body/div[1]/header/div/div[1]/div[2]/div/form/div[3]/div/span/input\")\n",
    "search_btn"
   ]
  },
  {
   "cell_type": "code",
   "execution_count": 13,
   "id": "a897ec85",
   "metadata": {},
   "outputs": [],
   "source": [
    "search_btn.click()"
   ]
  },
  {
   "cell_type": "markdown",
   "id": "0e845534",
   "metadata": {},
   "source": [
    "# Answer_2"
   ]
  },
  {
   "cell_type": "code",
   "execution_count": 18,
   "id": "d33259b6",
   "metadata": {},
   "outputs": [
    {
     "data": {
      "text/html": [
       "<div>\n",
       "<style scoped>\n",
       "    .dataframe tbody tr th:only-of-type {\n",
       "        vertical-align: middle;\n",
       "    }\n",
       "\n",
       "    .dataframe tbody tr th {\n",
       "        vertical-align: top;\n",
       "    }\n",
       "\n",
       "    .dataframe thead th {\n",
       "        text-align: right;\n",
       "    }\n",
       "</style>\n",
       "<table border=\"1\" class=\"dataframe\">\n",
       "  <thead>\n",
       "    <tr style=\"text-align: right;\">\n",
       "      <th></th>\n",
       "      <th>Brand Name</th>\n",
       "      <th>price</th>\n",
       "    </tr>\n",
       "  </thead>\n",
       "  <tbody>\n",
       "    <tr>\n",
       "      <th>0</th>\n",
       "      <td>Kadence Frontier guitar with Online Guitar lea...</td>\n",
       "      <td>7,499</td>\n",
       "    </tr>\n",
       "    <tr>\n",
       "      <th>1</th>\n",
       "      <td>Kadence Frontier Jumbo Semi Acoustic Guitar Wi...</td>\n",
       "      <td>7,499</td>\n",
       "    </tr>\n",
       "    <tr>\n",
       "      <th>2</th>\n",
       "      <td>Vault Traveller 34 Inch Acoustic Guitar With B...</td>\n",
       "      <td></td>\n",
       "    </tr>\n",
       "    <tr>\n",
       "      <th>3</th>\n",
       "      <td>Blueberry 38C IN Acoustic Guitar Kit with Bag,...</td>\n",
       "      <td>5,299</td>\n",
       "    </tr>\n",
       "    <tr>\n",
       "      <th>4</th>\n",
       "      <td>Juarez Acoustic Guitar, 38 Inch Curved Body Cu...</td>\n",
       "      <td>7,348</td>\n",
       "    </tr>\n",
       "    <tr>\n",
       "      <th>...</th>\n",
       "      <td>...</td>\n",
       "      <td>...</td>\n",
       "    </tr>\n",
       "    <tr>\n",
       "      <th>58</th>\n",
       "      <td>Yamaha FS100C Acoustic Guitar, Natural</td>\n",
       "      <td>20,999</td>\n",
       "    </tr>\n",
       "    <tr>\n",
       "      <th>59</th>\n",
       "      <td>Yamaha F310 Acoustic Guitar, Tobacco Brown Sun...</td>\n",
       "      <td>7,599</td>\n",
       "    </tr>\n",
       "    <tr>\n",
       "      <th>60</th>\n",
       "      <td>Vault ST1 Premium Electric Guitar - Metallic Blue</td>\n",
       "      <td>4,980</td>\n",
       "    </tr>\n",
       "    <tr>\n",
       "      <th>61</th>\n",
       "      <td>Acoustic Guitar, 39 Inch Cutaway, 039C with Ba...</td>\n",
       "      <td>3,990</td>\n",
       "    </tr>\n",
       "    <tr>\n",
       "      <th>62</th>\n",
       "      <td>Blueberry B-40, 40\" Acoustic Guitar Kit with B...</td>\n",
       "      <td>2,695</td>\n",
       "    </tr>\n",
       "  </tbody>\n",
       "</table>\n",
       "<p>63 rows × 2 columns</p>\n",
       "</div>"
      ],
      "text/plain": [
       "                                           Brand Name   price\n",
       "0   Kadence Frontier guitar with Online Guitar lea...   7,499\n",
       "1   Kadence Frontier Jumbo Semi Acoustic Guitar Wi...   7,499\n",
       "2   Vault Traveller 34 Inch Acoustic Guitar With B...        \n",
       "3   Blueberry 38C IN Acoustic Guitar Kit with Bag,...   5,299\n",
       "4   Juarez Acoustic Guitar, 38 Inch Curved Body Cu...   7,348\n",
       "..                                                ...     ...\n",
       "58             Yamaha FS100C Acoustic Guitar, Natural  20,999\n",
       "59  Yamaha F310 Acoustic Guitar, Tobacco Brown Sun...   7,599\n",
       "60  Vault ST1 Premium Electric Guitar - Metallic Blue   4,980\n",
       "61  Acoustic Guitar, 39 Inch Cutaway, 039C with Ba...   3,990\n",
       "62  Blueberry B-40, 40\" Acoustic Guitar Kit with B...   2,695\n",
       "\n",
       "[63 rows x 2 columns]"
      ]
     },
     "execution_count": 18,
     "metadata": {},
     "output_type": "execute_result"
    }
   ],
   "source": [
    "# creating empty lists for scraping data\n",
    "Brand_Name=[]\n",
    "Price=[]\n",
    "\n",
    "#scraping the brand name\n",
    "brand=driver.find_elements_by_xpath(\"//span[@class='a-size-base-plus a-color-base a-text-normal']\")\n",
    "for i in brand:\n",
    "    if i.text is None :\n",
    "        Brand_Name.append(\"--\") \n",
    "    else:\n",
    "        Brand_Name.append(i.text)\n",
    "\n",
    "time.sleep(4)\n",
    "#scraping the price\n",
    "Price_tag=driver.find_elements_by_xpath(\"//span[@class='a-price-whole']\")\n",
    "for i in Price_tag:\n",
    "    if i.text is None :\n",
    "        Price.append(\"--\") \n",
    "    else:\n",
    "        Price.append(i.text)\n",
    "        \n",
    "time.sleep(4)\n",
    "# creating the dataframe from the scraped data\n",
    "df=pd.DataFrame({\"Brand Name\":Brand_Name[0:63],\"price\":Price[0:63]})\n",
    "df"
   ]
  },
  {
   "cell_type": "markdown",
   "id": "b4ad98a9",
   "metadata": {},
   "source": [
    "# Answer_3"
   ]
  },
  {
   "cell_type": "code",
   "execution_count": 25,
   "id": "4206f457",
   "metadata": {},
   "outputs": [],
   "source": [
    "PATH = 'chromedriver.exe'\n",
    "driver = webdriver.Chrome(PATH)\n",
    "url = 'https://images.google.com/'\n",
    "driver.get(url)"
   ]
  },
  {
   "cell_type": "code",
   "execution_count": 26,
   "id": "f7cc9c50",
   "metadata": {},
   "outputs": [
    {
     "data": {
      "text/plain": [
       "<selenium.webdriver.remote.webelement.WebElement (session=\"00fa0e0b5af9aac6ec6cf8daee884b17\", element=\"e44be9b2-3a92-4922-9930-3a328d06bce4\")>"
      ]
     },
     "execution_count": 26,
     "metadata": {},
     "output_type": "execute_result"
    }
   ],
   "source": [
    "search_bar= driver.find_element_by_xpath(\"/html/body/div[1]/div[3]/form/div[1]/div[1]/div[1]/div/div[2]/input\")\n",
    "search_bar"
   ]
  },
  {
   "cell_type": "code",
   "execution_count": 29,
   "id": "efe767a5",
   "metadata": {},
   "outputs": [
    {
     "data": {
      "text/plain": [
       "<selenium.webdriver.remote.webelement.WebElement (session=\"00fa0e0b5af9aac6ec6cf8daee884b17\", element=\"833551c5-2491-4531-a702-f19f6e01b792\")>"
      ]
     },
     "execution_count": 29,
     "metadata": {},
     "output_type": "execute_result"
    }
   ],
   "source": [
    "# write in search \n",
    "search_bar.send_keys(\"fruit\")\n",
    "\n",
    "# clicking using absolute xpath function\n",
    "search_btn= driver.find_element_by_xpath(\"/html/body/div[1]/div[3]/form/div[1]/div[1]/div[1]/button/div/span\")\n",
    "search_btn\n"
   ]
  },
  {
   "cell_type": "code",
   "execution_count": 30,
   "id": "aa411d81",
   "metadata": {},
   "outputs": [],
   "source": [
    "search_btn.click()"
   ]
  },
  {
   "cell_type": "markdown",
   "id": "89a230e1",
   "metadata": {},
   "source": [
    "# Answer_4"
   ]
  },
  {
   "cell_type": "code",
   "execution_count": 42,
   "id": "a14013c2",
   "metadata": {},
   "outputs": [],
   "source": [
    "PATH = 'chromedriver.exe'\n",
    "driver = webdriver.Chrome(PATH)\n",
    "url = 'https://www.flipkart.com/'\n",
    "driver.get(url)"
   ]
  },
  {
   "cell_type": "code",
   "execution_count": 43,
   "id": "3381d579",
   "metadata": {},
   "outputs": [
    {
     "data": {
      "text/plain": [
       "<selenium.webdriver.remote.webelement.WebElement (session=\"482544ed27ae51e354e17f860f102ab5\", element=\"7f831795-7c6a-42a5-a91c-13b351f7834d\")>"
      ]
     },
     "execution_count": 43,
     "metadata": {},
     "output_type": "execute_result"
    }
   ],
   "source": [
    "time.sleep(4)\n",
    "search_bar= driver.find_element_by_xpath(\"/html/body/div[1]/div/div[1]/div[1]/div[2]/div[2]/form/div/div/input\")\n",
    "search_bar"
   ]
  },
  {
   "cell_type": "code",
   "execution_count": 44,
   "id": "d7059c9c",
   "metadata": {},
   "outputs": [],
   "source": [
    "time.sleep(3)\n",
    "# write in search \n",
    "search_bar.send_keys(\"pixel 4a\")"
   ]
  },
  {
   "cell_type": "code",
   "execution_count": 45,
   "id": "d46f4fc8",
   "metadata": {},
   "outputs": [
    {
     "data": {
      "text/plain": [
       "<selenium.webdriver.remote.webelement.WebElement (session=\"482544ed27ae51e354e17f860f102ab5\", element=\"d5016c10-03c1-425b-9fb8-870fa3130864\")>"
      ]
     },
     "execution_count": 45,
     "metadata": {},
     "output_type": "execute_result"
    }
   ],
   "source": [
    "time.sleep(3)\n",
    "# clicking using absolute xpath function\n",
    "search_btn= driver.find_element_by_xpath(\"/html/body/div[1]/div/div[1]/div[1]/div[2]/div[2]/form/div/button\")\n",
    "search_btn"
   ]
  },
  {
   "cell_type": "code",
   "execution_count": 46,
   "id": "0761b713",
   "metadata": {},
   "outputs": [],
   "source": [
    "search_btn.click()"
   ]
  },
  {
   "cell_type": "code",
   "execution_count": 47,
   "id": "2ff504d3",
   "metadata": {},
   "outputs": [],
   "source": [
    "# creating empty lists for scraping data\n",
    "Brand_Name=[]\n",
    "#Colour=[]\n",
    "RAM_AND_ROM=[]\n",
    "Primary_Camera_Secondary_Camera=[]\n",
    "Display_Size=[]\n",
    "Battery_Capacity=[]\n",
    "Price=[]\n",
    "\n",
    "\n",
    "time.sleep(3)\n",
    "\n",
    "brands=driver.find_elements_by_xpath(\"//div[@class='_4rR01T']\")\n",
    "for i in brands:\n",
    "    if i.text is None :\n",
    "        Brand_Name.append(\"--\") \n",
    "    else:\n",
    "        Brand_Name.append(i.text)\n",
    "        \n",
    "\n",
    "time.sleep(3)\n",
    "\n",
    "ram_and_rom=driver.find_elements_by_xpath(\"//li[@class='rgWa7D']\")\n",
    "for i in ram_and_rom:\n",
    "    if i.text is None :\n",
    "        RAM_AND_ROM.append(\"--\") \n",
    "    else:\n",
    "        RAM_AND_ROM.append(i.text)\n",
    "        \n",
    "\n",
    "time.sleep(3)\n",
    "\n",
    "camera=driver.find_elements_by_xpath(\"//li[@class='rgWa7D']\")\n",
    "for i in camera:\n",
    "    if i.text is None :\n",
    "        Primary_Camera_Secondary_Camera.append(\"--\") \n",
    "    else:\n",
    "        Primary_Camera_Secondary_Camera.append(i.text)\n",
    "        \n",
    "\n",
    "time.sleep(3)\n",
    "\n",
    "display=driver.find_elements_by_xpath(\"//li[@class='rgWa7D']\")\n",
    "for i in display:\n",
    "    if i.text is None :\n",
    "            Display_Size.append(\"--\") \n",
    "    else:\n",
    "            Display_Size.append(i.text)\n",
    "            \n",
    "            \n",
    "time.sleep(3)\n",
    "\n",
    "battery=driver.find_elements_by_xpath(\"//li[@class='rgWa7D']\")\n",
    "for i in battery:\n",
    "    if i.text is None :\n",
    "            Battery_Capacity.append(\"--\") \n",
    "    else:\n",
    "            Battery_Capacity.append(i.text)\n",
    "            \n",
    "time.sleep(3)\n",
    "\n",
    "price=driver.find_elements_by_xpath(\"//li[@class='_30jeq3 _1_WHN1']\")\n",
    "for i in price:\n",
    "    if i.text is None :\n",
    "        Price.append(\"--\") \n",
    "    else:\n",
    "        Price.append(i.text)\n",
    "            "
   ]
  },
  {
   "cell_type": "code",
   "execution_count": 48,
   "id": "9e9e3e2f",
   "metadata": {},
   "outputs": [
    {
     "data": {
      "text/plain": [
       "(10, 11, 31, 12, 16, 5)"
      ]
     },
     "execution_count": 48,
     "metadata": {},
     "output_type": "execute_result"
    }
   ],
   "source": [
    "len('Brand_Name'),len('RAM_AND_ROM'),len('Primary_Camera_Secondary_Camera'),len('Display_Size'),len('Battery_Capacity'),len('Price')"
   ]
  },
  {
   "cell_type": "code",
   "execution_count": 50,
   "id": "773b55e2",
   "metadata": {},
   "outputs": [
    {
     "ename": "ValueError",
     "evalue": "arrays must all be same length",
     "output_type": "error",
     "traceback": [
      "\u001b[1;31m---------------------------------------------------------------------------\u001b[0m",
      "\u001b[1;31mValueError\u001b[0m                                Traceback (most recent call last)",
      "\u001b[1;32m<ipython-input-50-a2795ff2d934>\u001b[0m in \u001b[0;36m<module>\u001b[1;34m\u001b[0m\n\u001b[0;32m      1\u001b[0m \u001b[0mtime\u001b[0m\u001b[1;33m.\u001b[0m\u001b[0msleep\u001b[0m\u001b[1;33m(\u001b[0m\u001b[1;36m3\u001b[0m\u001b[1;33m)\u001b[0m\u001b[1;33m\u001b[0m\u001b[1;33m\u001b[0m\u001b[0m\n\u001b[0;32m      2\u001b[0m  \u001b[1;31m# creating the dataframe from the scraped data\u001b[0m\u001b[1;33m\u001b[0m\u001b[1;33m\u001b[0m\u001b[1;33m\u001b[0m\u001b[0m\n\u001b[1;32m----> 3\u001b[1;33m df=pd.DataFrame({\"Brand Name\":Brand_Name[0:4],\"ram and rom\":RAM_AND_ROM[0:4],\"camera\":Primary_Camera_Secondary_Camera[0:4],\n\u001b[0m\u001b[0;32m      4\u001b[0m                  \"display\":Display_Size[0:4],\"battery\":Battery_Capacity[0:4],\"price\":Price[0:4]})\n\u001b[0;32m      5\u001b[0m \u001b[0mdf\u001b[0m\u001b[1;33m\u001b[0m\u001b[1;33m\u001b[0m\u001b[0m\n",
      "\u001b[1;32mC:\\ProgramData\\Anaconda3\\lib\\site-packages\\pandas\\core\\frame.py\u001b[0m in \u001b[0;36m__init__\u001b[1;34m(self, data, index, columns, dtype, copy)\u001b[0m\n\u001b[0;32m    527\u001b[0m \u001b[1;33m\u001b[0m\u001b[0m\n\u001b[0;32m    528\u001b[0m         \u001b[1;32melif\u001b[0m \u001b[0misinstance\u001b[0m\u001b[1;33m(\u001b[0m\u001b[0mdata\u001b[0m\u001b[1;33m,\u001b[0m \u001b[0mdict\u001b[0m\u001b[1;33m)\u001b[0m\u001b[1;33m:\u001b[0m\u001b[1;33m\u001b[0m\u001b[1;33m\u001b[0m\u001b[0m\n\u001b[1;32m--> 529\u001b[1;33m             \u001b[0mmgr\u001b[0m \u001b[1;33m=\u001b[0m \u001b[0minit_dict\u001b[0m\u001b[1;33m(\u001b[0m\u001b[0mdata\u001b[0m\u001b[1;33m,\u001b[0m \u001b[0mindex\u001b[0m\u001b[1;33m,\u001b[0m \u001b[0mcolumns\u001b[0m\u001b[1;33m,\u001b[0m \u001b[0mdtype\u001b[0m\u001b[1;33m=\u001b[0m\u001b[0mdtype\u001b[0m\u001b[1;33m)\u001b[0m\u001b[1;33m\u001b[0m\u001b[1;33m\u001b[0m\u001b[0m\n\u001b[0m\u001b[0;32m    530\u001b[0m         \u001b[1;32melif\u001b[0m \u001b[0misinstance\u001b[0m\u001b[1;33m(\u001b[0m\u001b[0mdata\u001b[0m\u001b[1;33m,\u001b[0m \u001b[0mma\u001b[0m\u001b[1;33m.\u001b[0m\u001b[0mMaskedArray\u001b[0m\u001b[1;33m)\u001b[0m\u001b[1;33m:\u001b[0m\u001b[1;33m\u001b[0m\u001b[1;33m\u001b[0m\u001b[0m\n\u001b[0;32m    531\u001b[0m             \u001b[1;32mimport\u001b[0m \u001b[0mnumpy\u001b[0m\u001b[1;33m.\u001b[0m\u001b[0mma\u001b[0m\u001b[1;33m.\u001b[0m\u001b[0mmrecords\u001b[0m \u001b[1;32mas\u001b[0m \u001b[0mmrecords\u001b[0m\u001b[1;33m\u001b[0m\u001b[1;33m\u001b[0m\u001b[0m\n",
      "\u001b[1;32mC:\\ProgramData\\Anaconda3\\lib\\site-packages\\pandas\\core\\internals\\construction.py\u001b[0m in \u001b[0;36minit_dict\u001b[1;34m(data, index, columns, dtype)\u001b[0m\n\u001b[0;32m    285\u001b[0m             \u001b[0marr\u001b[0m \u001b[1;32mif\u001b[0m \u001b[1;32mnot\u001b[0m \u001b[0mis_datetime64tz_dtype\u001b[0m\u001b[1;33m(\u001b[0m\u001b[0marr\u001b[0m\u001b[1;33m)\u001b[0m \u001b[1;32melse\u001b[0m \u001b[0marr\u001b[0m\u001b[1;33m.\u001b[0m\u001b[0mcopy\u001b[0m\u001b[1;33m(\u001b[0m\u001b[1;33m)\u001b[0m \u001b[1;32mfor\u001b[0m \u001b[0marr\u001b[0m \u001b[1;32min\u001b[0m \u001b[0marrays\u001b[0m\u001b[1;33m\u001b[0m\u001b[1;33m\u001b[0m\u001b[0m\n\u001b[0;32m    286\u001b[0m         ]\n\u001b[1;32m--> 287\u001b[1;33m     \u001b[1;32mreturn\u001b[0m \u001b[0marrays_to_mgr\u001b[0m\u001b[1;33m(\u001b[0m\u001b[0marrays\u001b[0m\u001b[1;33m,\u001b[0m \u001b[0mdata_names\u001b[0m\u001b[1;33m,\u001b[0m \u001b[0mindex\u001b[0m\u001b[1;33m,\u001b[0m \u001b[0mcolumns\u001b[0m\u001b[1;33m,\u001b[0m \u001b[0mdtype\u001b[0m\u001b[1;33m=\u001b[0m\u001b[0mdtype\u001b[0m\u001b[1;33m)\u001b[0m\u001b[1;33m\u001b[0m\u001b[1;33m\u001b[0m\u001b[0m\n\u001b[0m\u001b[0;32m    288\u001b[0m \u001b[1;33m\u001b[0m\u001b[0m\n\u001b[0;32m    289\u001b[0m \u001b[1;33m\u001b[0m\u001b[0m\n",
      "\u001b[1;32mC:\\ProgramData\\Anaconda3\\lib\\site-packages\\pandas\\core\\internals\\construction.py\u001b[0m in \u001b[0;36marrays_to_mgr\u001b[1;34m(arrays, arr_names, index, columns, dtype, verify_integrity)\u001b[0m\n\u001b[0;32m     78\u001b[0m         \u001b[1;31m# figure out the index, if necessary\u001b[0m\u001b[1;33m\u001b[0m\u001b[1;33m\u001b[0m\u001b[1;33m\u001b[0m\u001b[0m\n\u001b[0;32m     79\u001b[0m         \u001b[1;32mif\u001b[0m \u001b[0mindex\u001b[0m \u001b[1;32mis\u001b[0m \u001b[1;32mNone\u001b[0m\u001b[1;33m:\u001b[0m\u001b[1;33m\u001b[0m\u001b[1;33m\u001b[0m\u001b[0m\n\u001b[1;32m---> 80\u001b[1;33m             \u001b[0mindex\u001b[0m \u001b[1;33m=\u001b[0m \u001b[0mextract_index\u001b[0m\u001b[1;33m(\u001b[0m\u001b[0marrays\u001b[0m\u001b[1;33m)\u001b[0m\u001b[1;33m\u001b[0m\u001b[1;33m\u001b[0m\u001b[0m\n\u001b[0m\u001b[0;32m     81\u001b[0m         \u001b[1;32melse\u001b[0m\u001b[1;33m:\u001b[0m\u001b[1;33m\u001b[0m\u001b[1;33m\u001b[0m\u001b[0m\n\u001b[0;32m     82\u001b[0m             \u001b[0mindex\u001b[0m \u001b[1;33m=\u001b[0m \u001b[0mensure_index\u001b[0m\u001b[1;33m(\u001b[0m\u001b[0mindex\u001b[0m\u001b[1;33m)\u001b[0m\u001b[1;33m\u001b[0m\u001b[1;33m\u001b[0m\u001b[0m\n",
      "\u001b[1;32mC:\\ProgramData\\Anaconda3\\lib\\site-packages\\pandas\\core\\internals\\construction.py\u001b[0m in \u001b[0;36mextract_index\u001b[1;34m(data)\u001b[0m\n\u001b[0;32m    399\u001b[0m             \u001b[0mlengths\u001b[0m \u001b[1;33m=\u001b[0m \u001b[0mlist\u001b[0m\u001b[1;33m(\u001b[0m\u001b[0mset\u001b[0m\u001b[1;33m(\u001b[0m\u001b[0mraw_lengths\u001b[0m\u001b[1;33m)\u001b[0m\u001b[1;33m)\u001b[0m\u001b[1;33m\u001b[0m\u001b[1;33m\u001b[0m\u001b[0m\n\u001b[0;32m    400\u001b[0m             \u001b[1;32mif\u001b[0m \u001b[0mlen\u001b[0m\u001b[1;33m(\u001b[0m\u001b[0mlengths\u001b[0m\u001b[1;33m)\u001b[0m \u001b[1;33m>\u001b[0m \u001b[1;36m1\u001b[0m\u001b[1;33m:\u001b[0m\u001b[1;33m\u001b[0m\u001b[1;33m\u001b[0m\u001b[0m\n\u001b[1;32m--> 401\u001b[1;33m                 \u001b[1;32mraise\u001b[0m \u001b[0mValueError\u001b[0m\u001b[1;33m(\u001b[0m\u001b[1;34m\"arrays must all be same length\"\u001b[0m\u001b[1;33m)\u001b[0m\u001b[1;33m\u001b[0m\u001b[1;33m\u001b[0m\u001b[0m\n\u001b[0m\u001b[0;32m    402\u001b[0m \u001b[1;33m\u001b[0m\u001b[0m\n\u001b[0;32m    403\u001b[0m             \u001b[1;32mif\u001b[0m \u001b[0mhave_dicts\u001b[0m\u001b[1;33m:\u001b[0m\u001b[1;33m\u001b[0m\u001b[1;33m\u001b[0m\u001b[0m\n",
      "\u001b[1;31mValueError\u001b[0m: arrays must all be same length"
     ]
    }
   ],
   "source": [
    "time.sleep(3)            \n",
    " # creating the dataframe from the scraped data\n",
    "df=pd.DataFrame({\"Brand Name\":Brand_Name[0:4],\"ram and rom\":RAM_AND_ROM[0:4],\"camera\":Primary_Camera_Secondary_Camera[0:4],\n",
    "                 \"display\":Display_Size[0:4],\"battery\":Battery_Capacity[0:4],\"price\":Price[0:4]})\n",
    "df"
   ]
  },
  {
   "cell_type": "markdown",
   "id": "3b568085",
   "metadata": {},
   "source": [
    "# Answer_5"
   ]
  },
  {
   "cell_type": "code",
   "execution_count": 51,
   "id": "00e1096a",
   "metadata": {},
   "outputs": [
    {
     "name": "stdout",
     "output_type": "stream",
     "text": [
      "Note: you may need to restart the kernel to use updated packages.Collecting folium\n",
      "  Downloading folium-0.12.1.post1-py2.py3-none-any.whl (95 kB)\n",
      "Requirement already satisfied: requests in c:\\programdata\\anaconda3\\lib\\site-packages (from folium) (2.25.1)\n",
      "Requirement already satisfied: jinja2>=2.9 in c:\\programdata\\anaconda3\\lib\\site-packages (from folium) (2.11.3)\n",
      "Requirement already satisfied: numpy in c:\\programdata\\anaconda3\\lib\\site-packages (from folium) (1.20.1)\n",
      "Collecting branca>=0.3.0\n",
      "  Downloading branca-0.4.2-py3-none-any.whl (24 kB)\n",
      "Requirement already satisfied: MarkupSafe>=0.23 in c:\\programdata\\anaconda3\\lib\\site-packages (from jinja2>=2.9->folium) (1.1.1)\n",
      "\n",
      "Requirement already satisfied: urllib3<1.27,>=1.21.1 in c:\\programdata\\anaconda3\\lib\\site-packages (from requests->folium) (1.26.4)\n",
      "Requirement already satisfied: certifi>=2017.4.17 in c:\\programdata\\anaconda3\\lib\\site-packages (from requests->folium) (2020.12.5)\n",
      "Requirement already satisfied: idna<3,>=2.5 in c:\\programdata\\anaconda3\\lib\\site-packages (from requests->folium) (2.10)\n",
      "Requirement already satisfied: chardet<5,>=3.0.2 in c:\\programdata\\anaconda3\\lib\\site-packages (from requests->folium) (4.0.0)\n",
      "Installing collected packages: branca, folium\n",
      "Successfully installed branca-0.4.2 folium-0.12.1.post1\n"
     ]
    }
   ],
   "source": [
    "pip install folium"
   ]
  },
  {
   "cell_type": "code",
   "execution_count": 58,
   "id": "26e9fe43",
   "metadata": {},
   "outputs": [],
   "source": [
    "from selenium.webdriver.support.ui import WebDriverWait\n",
    "from selenium.webdriver.common.by import By\n",
    "from selenium.webdriver.support import expected_conditions as EC\n",
    "from selenium.webdriver import ActionChains"
   ]
  },
  {
   "cell_type": "code",
   "execution_count": 59,
   "id": "ee685afc",
   "metadata": {},
   "outputs": [
    {
     "ename": "TimeoutException",
     "evalue": "Message: \nStacktrace:\nBacktrace:\n\tOrdinal0 [0x010A9943+2595139]\n\tOrdinal0 [0x0103C9F1+2148849]\n\tOrdinal0 [0x00F34528+1066280]\n\tOrdinal0 [0x00F60FD4+1249236]\n\tOrdinal0 [0x00F611CB+1249739]\n\tOrdinal0 [0x00F8D812+1431570]\n\tOrdinal0 [0x00F7BA34+1358388]\n\tOrdinal0 [0x00F8BAF2+1424114]\n\tOrdinal0 [0x00F7B806+1357830]\n\tOrdinal0 [0x00F56086+1204358]\n\tOrdinal0 [0x00F56F96+1208214]\n\tGetHandleVerifier [0x0124B232+1658114]\n\tGetHandleVerifier [0x0130312C+2411516]\n\tGetHandleVerifier [0x0113F261+560433]\n\tGetHandleVerifier [0x0113E366+556598]\n\tOrdinal0 [0x0104286B+2173035]\n\tOrdinal0 [0x010475F8+2192888]\n\tOrdinal0 [0x010476E5+2193125]\n\tOrdinal0 [0x010511FC+2232828]\n\tBaseThreadInitThunk [0x7735FA29+25]\n\tRtlGetAppContainerNamedObjectPath [0x77857A7E+286]\n\tRtlGetAppContainerNamedObjectPath [0x77857A4E+238]\n",
     "output_type": "error",
     "traceback": [
      "\u001b[1;31m---------------------------------------------------------------------------\u001b[0m",
      "\u001b[1;31mTimeoutException\u001b[0m                          Traceback (most recent call last)",
      "\u001b[1;32m<ipython-input-59-a85a65d5ab21>\u001b[0m in \u001b[0;36m<module>\u001b[1;34m\u001b[0m\n\u001b[0;32m     10\u001b[0m \u001b[0mtime\u001b[0m\u001b[1;33m.\u001b[0m\u001b[0msleep\u001b[0m\u001b[1;33m(\u001b[0m\u001b[1;36m5\u001b[0m\u001b[1;33m)\u001b[0m\u001b[1;33m\u001b[0m\u001b[1;33m\u001b[0m\u001b[0m\n\u001b[0;32m     11\u001b[0m \u001b[0mActionChains\u001b[0m\u001b[1;33m(\u001b[0m\u001b[0mdriver\u001b[0m\u001b[1;33m)\u001b[0m\u001b[1;33m.\u001b[0m\u001b[0mmove_to_element\u001b[0m\u001b[1;33m(\u001b[0m\u001b[0mdriver\u001b[0m\u001b[1;33m.\u001b[0m\u001b[0mfind_element_by_xpath\u001b[0m\u001b[1;33m(\u001b[0m\u001b[1;34m\"//html/body\"\u001b[0m\u001b[1;33m)\u001b[0m\u001b[1;33m)\u001b[0m\u001b[1;33m.\u001b[0m\u001b[0mcontext_click\u001b[0m\u001b[1;33m(\u001b[0m\u001b[1;33m)\u001b[0m\u001b[1;33m.\u001b[0m\u001b[0mperform\u001b[0m\u001b[1;33m(\u001b[0m\u001b[1;33m)\u001b[0m\u001b[1;33m\u001b[0m\u001b[1;33m\u001b[0m\u001b[0m\n\u001b[1;32m---> 12\u001b[1;33m \u001b[0mprint\u001b[0m\u001b[1;33m(\u001b[0m\u001b[0mwait\u001b[0m\u001b[1;33m.\u001b[0m\u001b[0muntil\u001b[0m\u001b[1;33m(\u001b[0m\u001b[0mEC\u001b[0m\u001b[1;33m.\u001b[0m\u001b[0mvisibility_of_element_located\u001b[0m\u001b[1;33m(\u001b[0m\u001b[1;33m(\u001b[0m\u001b[0mBy\u001b[0m\u001b[1;33m.\u001b[0m\u001b[0mCSS_SELECTOR\u001b[0m\u001b[1;33m,\u001b[0m \u001b[1;34m\"ul[role='menu']>li div div[class*='text']:nth-of-type(1)\"\u001b[0m\u001b[1;33m)\u001b[0m\u001b[1;33m)\u001b[0m\u001b[1;33m)\u001b[0m\u001b[1;33m.\u001b[0m\u001b[0mtext\u001b[0m\u001b[1;33m)\u001b[0m\u001b[1;33m\u001b[0m\u001b[1;33m\u001b[0m\u001b[0m\n\u001b[0m",
      "\u001b[1;32mC:\\ProgramData\\Anaconda3\\lib\\site-packages\\selenium\\webdriver\\support\\wait.py\u001b[0m in \u001b[0;36muntil\u001b[1;34m(self, method, message)\u001b[0m\n\u001b[0;32m     87\u001b[0m             \u001b[1;32mif\u001b[0m \u001b[0mtime\u001b[0m\u001b[1;33m.\u001b[0m\u001b[0mtime\u001b[0m\u001b[1;33m(\u001b[0m\u001b[1;33m)\u001b[0m \u001b[1;33m>\u001b[0m \u001b[0mend_time\u001b[0m\u001b[1;33m:\u001b[0m\u001b[1;33m\u001b[0m\u001b[1;33m\u001b[0m\u001b[0m\n\u001b[0;32m     88\u001b[0m                 \u001b[1;32mbreak\u001b[0m\u001b[1;33m\u001b[0m\u001b[1;33m\u001b[0m\u001b[0m\n\u001b[1;32m---> 89\u001b[1;33m         \u001b[1;32mraise\u001b[0m \u001b[0mTimeoutException\u001b[0m\u001b[1;33m(\u001b[0m\u001b[0mmessage\u001b[0m\u001b[1;33m,\u001b[0m \u001b[0mscreen\u001b[0m\u001b[1;33m,\u001b[0m \u001b[0mstacktrace\u001b[0m\u001b[1;33m)\u001b[0m\u001b[1;33m\u001b[0m\u001b[1;33m\u001b[0m\u001b[0m\n\u001b[0m\u001b[0;32m     90\u001b[0m \u001b[1;33m\u001b[0m\u001b[0m\n\u001b[0;32m     91\u001b[0m     \u001b[1;32mdef\u001b[0m \u001b[0muntil_not\u001b[0m\u001b[1;33m(\u001b[0m\u001b[0mself\u001b[0m\u001b[1;33m,\u001b[0m \u001b[0mmethod\u001b[0m\u001b[1;33m,\u001b[0m \u001b[0mmessage\u001b[0m\u001b[1;33m=\u001b[0m\u001b[1;34m''\u001b[0m\u001b[1;33m)\u001b[0m\u001b[1;33m:\u001b[0m\u001b[1;33m\u001b[0m\u001b[1;33m\u001b[0m\u001b[0m\n",
      "\u001b[1;31mTimeoutException\u001b[0m: Message: \nStacktrace:\nBacktrace:\n\tOrdinal0 [0x010A9943+2595139]\n\tOrdinal0 [0x0103C9F1+2148849]\n\tOrdinal0 [0x00F34528+1066280]\n\tOrdinal0 [0x00F60FD4+1249236]\n\tOrdinal0 [0x00F611CB+1249739]\n\tOrdinal0 [0x00F8D812+1431570]\n\tOrdinal0 [0x00F7BA34+1358388]\n\tOrdinal0 [0x00F8BAF2+1424114]\n\tOrdinal0 [0x00F7B806+1357830]\n\tOrdinal0 [0x00F56086+1204358]\n\tOrdinal0 [0x00F56F96+1208214]\n\tGetHandleVerifier [0x0124B232+1658114]\n\tGetHandleVerifier [0x0130312C+2411516]\n\tGetHandleVerifier [0x0113F261+560433]\n\tGetHandleVerifier [0x0113E366+556598]\n\tOrdinal0 [0x0104286B+2173035]\n\tOrdinal0 [0x010475F8+2192888]\n\tOrdinal0 [0x010476E5+2193125]\n\tOrdinal0 [0x010511FC+2232828]\n\tBaseThreadInitThunk [0x7735FA29+25]\n\tRtlGetAppContainerNamedObjectPath [0x77857A7E+286]\n\tRtlGetAppContainerNamedObjectPath [0x77857A4E+238]\n"
     ]
    }
   ],
   "source": [
    "PATH = 'chromedriver.exe'\n",
    "driver = webdriver.Chrome(PATH)\n",
    "url = 'https://www.google.com/maps'\n",
    "driver.get(url)\n",
    "\n",
    "wait = WebDriverWait(driver, 10)\n",
    "#driver.get(\"https://www.google.com/maps\")\n",
    "wait.until(EC.element_to_be_clickable((By.ID, \"searchboxinput\"))).send_keys(\"Delhi\")\n",
    "wait.until(EC.element_to_be_clickable((By.ID, \"searchbox-searchbutton\"))).click()\n",
    "time.sleep(5)\n",
    "ActionChains(driver).move_to_element(driver.find_element_by_xpath(\"//html/body\")).context_click().perform()\n",
    "print(wait.until(EC.visibility_of_element_located((By.CSS_SELECTOR, \"ul[role='menu']>li div div[class*='text']:nth-of-type(1)\"))).text)"
   ]
  },
  {
   "cell_type": "markdown",
   "id": "3bd25090",
   "metadata": {},
   "source": [
    "# Answer_8"
   ]
  },
  {
   "cell_type": "code",
   "execution_count": 62,
   "id": "6e81600b",
   "metadata": {},
   "outputs": [],
   "source": [
    "PATH = 'chromedriver.exe'\n",
    "driver = webdriver.Chrome(PATH)\n",
    "url = 'https://www.forbes.com/billionaires/'\n",
    "driver.get(url)"
   ]
  },
  {
   "cell_type": "code",
   "execution_count": 78,
   "id": "847635b2",
   "metadata": {},
   "outputs": [],
   "source": [
    "Rank=[]\n",
    "Name=[]\n",
    "Net_worth=[]\n",
    "Age=[]\n",
    "Citizenship=[]\n",
    "Source=[]\n",
    "Industry=[]\n",
    "\n",
    "#scraping the rank\n",
    "rank=driver.find_elements_by_xpath(\"//div[@class='rank']\")\n",
    "for i in rank:\n",
    "    if i.text is None :\n",
    "        Rank.append(\"--\") \n",
    "    else:\n",
    "        Rank.append(i.text)\n",
    "\n",
    "time.sleep(4)\n",
    "#scraping the Name\n",
    "name=driver.find_elements_by_xpath(\"//div[@class='personName']\")\n",
    "for i in name:\n",
    "    if i.text is None :\n",
    "        Name.append(\"--\") \n",
    "    else:\n",
    "        Name.append(i.text)\n",
    "        \n",
    "time.sleep(4)        \n",
    "#scraping the Net_worth\n",
    "worth=driver.find_elements_by_xpath(\"//div[@class='netWorth']\")\n",
    "for i in worth:\n",
    "    if i.text is None :\n",
    "        Net_worth.append(\"--\") \n",
    "    else:\n",
    "        Net_worth.append(i.text)\n",
    "\n",
    "\n",
    "time.sleep(4)\n",
    "#scraping the Age\n",
    "age=driver.find_elements_by_xpath(\"//div[@class='age']\")\n",
    "for i in age:\n",
    "    if i.text is None :\n",
    "            Age.append(\"--\") \n",
    "    else:\n",
    "            Age.append(i.text)\n",
    "\n",
    "time.sleep(4)        \n",
    "#scraping the countryOfCitizenship\n",
    "citizen=driver.find_elements_by_xpath(\"//div[@class='countryOfCitizenship']\")\n",
    "for i in citizen:\n",
    "    if i.text is None :\n",
    "        Citizenship.append(\"--\") \n",
    "    else:\n",
    "        Citizenship.append(i.text)\n",
    "\n",
    "\n",
    "time.sleep(4)\n",
    "#scraping the Source\n",
    "source=driver.find_elements_by_xpath(\"//div[@class='source']\")\n",
    "for i in source:\n",
    "    if i.text is None :\n",
    "            Source.append(\"--\") \n",
    "    else:\n",
    "            Source.append(i.text)\n",
    "        \n",
    "time.sleep(4)\n",
    "#scraping the industry\n",
    "industry=driver.find_elements_by_xpath(\"//div[@class='category']\")\n",
    "for i in industry:\n",
    "    if i.text is None :\n",
    "            Industry.append(\"--\") \n",
    "    else:\n",
    "            Industry.append(i.text)\n"
   ]
  },
  {
   "cell_type": "code",
   "execution_count": 79,
   "id": "399d0d41",
   "metadata": {},
   "outputs": [
    {
     "data": {
      "text/plain": [
       "(200, 200, 200, 200, 200, 200, 200)"
      ]
     },
     "execution_count": 79,
     "metadata": {},
     "output_type": "execute_result"
    }
   ],
   "source": [
    "len(Rank),len(Name),len(Net_worth),len(Age),len(Citizenship), len(Source),len(Industry)"
   ]
  },
  {
   "cell_type": "code",
   "execution_count": 80,
   "id": "f67a7a05",
   "metadata": {},
   "outputs": [
    {
     "data": {
      "text/html": [
       "<div>\n",
       "<style scoped>\n",
       "    .dataframe tbody tr th:only-of-type {\n",
       "        vertical-align: middle;\n",
       "    }\n",
       "\n",
       "    .dataframe tbody tr th {\n",
       "        vertical-align: top;\n",
       "    }\n",
       "\n",
       "    .dataframe thead th {\n",
       "        text-align: right;\n",
       "    }\n",
       "</style>\n",
       "<table border=\"1\" class=\"dataframe\">\n",
       "  <thead>\n",
       "    <tr style=\"text-align: right;\">\n",
       "      <th></th>\n",
       "      <th>rank</th>\n",
       "      <th>name</th>\n",
       "      <th>net worth</th>\n",
       "      <th>citizenship</th>\n",
       "      <th>source</th>\n",
       "      <th>industry</th>\n",
       "    </tr>\n",
       "  </thead>\n",
       "  <tbody>\n",
       "    <tr>\n",
       "      <th>0</th>\n",
       "      <td>1.</td>\n",
       "      <td>Jeff Bezos</td>\n",
       "      <td>$177 B</td>\n",
       "      <td>United States</td>\n",
       "      <td>Amazon</td>\n",
       "      <td>Technology</td>\n",
       "    </tr>\n",
       "    <tr>\n",
       "      <th>1</th>\n",
       "      <td>2.</td>\n",
       "      <td>Elon Musk</td>\n",
       "      <td>$151 B</td>\n",
       "      <td>United States</td>\n",
       "      <td>Tesla, SpaceX</td>\n",
       "      <td>Automotive</td>\n",
       "    </tr>\n",
       "    <tr>\n",
       "      <th>2</th>\n",
       "      <td>3.</td>\n",
       "      <td>Bernard Arnault &amp; family</td>\n",
       "      <td>$150 B</td>\n",
       "      <td>France</td>\n",
       "      <td>LVMH</td>\n",
       "      <td>Fashion &amp; Retail</td>\n",
       "    </tr>\n",
       "    <tr>\n",
       "      <th>3</th>\n",
       "      <td>4.</td>\n",
       "      <td>Bill Gates</td>\n",
       "      <td>$124 B</td>\n",
       "      <td>United States</td>\n",
       "      <td>Microsoft</td>\n",
       "      <td>Technology</td>\n",
       "    </tr>\n",
       "    <tr>\n",
       "      <th>4</th>\n",
       "      <td>5.</td>\n",
       "      <td>Mark Zuckerberg</td>\n",
       "      <td>$97 B</td>\n",
       "      <td>United States</td>\n",
       "      <td>Facebook</td>\n",
       "      <td>Technology</td>\n",
       "    </tr>\n",
       "    <tr>\n",
       "      <th>...</th>\n",
       "      <td>...</td>\n",
       "      <td>...</td>\n",
       "      <td>...</td>\n",
       "      <td>...</td>\n",
       "      <td>...</td>\n",
       "      <td>...</td>\n",
       "    </tr>\n",
       "    <tr>\n",
       "      <th>195</th>\n",
       "      <td>195.</td>\n",
       "      <td>Harry Triguboff</td>\n",
       "      <td>$11.2 B</td>\n",
       "      <td>Australia</td>\n",
       "      <td>real estate</td>\n",
       "      <td>Real Estate</td>\n",
       "    </tr>\n",
       "    <tr>\n",
       "      <th>196</th>\n",
       "      <td>197.</td>\n",
       "      <td>Leonid Fedun</td>\n",
       "      <td>$11.1 B</td>\n",
       "      <td>Russia</td>\n",
       "      <td>oil</td>\n",
       "      <td>Energy</td>\n",
       "    </tr>\n",
       "    <tr>\n",
       "      <th>197</th>\n",
       "      <td>197.</td>\n",
       "      <td>Eyal Ofer</td>\n",
       "      <td>$11.1 B</td>\n",
       "      <td>Israel</td>\n",
       "      <td>real estate, shipping</td>\n",
       "      <td>Diversified</td>\n",
       "    </tr>\n",
       "    <tr>\n",
       "      <th>198</th>\n",
       "      <td>197.</td>\n",
       "      <td>Evan Spiegel</td>\n",
       "      <td>$11.1 B</td>\n",
       "      <td>United States</td>\n",
       "      <td>Snapchat</td>\n",
       "      <td>Technology</td>\n",
       "    </tr>\n",
       "    <tr>\n",
       "      <th>199</th>\n",
       "      <td>200.</td>\n",
       "      <td>Luis Carlos Sarmiento</td>\n",
       "      <td>$11 B</td>\n",
       "      <td>Colombia</td>\n",
       "      <td>banking</td>\n",
       "      <td>Finance &amp; Investments</td>\n",
       "    </tr>\n",
       "  </tbody>\n",
       "</table>\n",
       "<p>200 rows × 6 columns</p>\n",
       "</div>"
      ],
      "text/plain": [
       "     rank                      name net worth    citizenship  \\\n",
       "0      1.                Jeff Bezos    $177 B  United States   \n",
       "1      2.                 Elon Musk    $151 B  United States   \n",
       "2      3.  Bernard Arnault & family    $150 B         France   \n",
       "3      4.                Bill Gates    $124 B  United States   \n",
       "4      5.           Mark Zuckerberg     $97 B  United States   \n",
       "..    ...                       ...       ...            ...   \n",
       "195  195.           Harry Triguboff   $11.2 B      Australia   \n",
       "196  197.              Leonid Fedun   $11.1 B         Russia   \n",
       "197  197.                 Eyal Ofer   $11.1 B         Israel   \n",
       "198  197.              Evan Spiegel   $11.1 B  United States   \n",
       "199  200.     Luis Carlos Sarmiento     $11 B       Colombia   \n",
       "\n",
       "                    source               industry  \n",
       "0                   Amazon             Technology  \n",
       "1            Tesla, SpaceX             Automotive  \n",
       "2                     LVMH       Fashion & Retail  \n",
       "3                Microsoft             Technology  \n",
       "4                 Facebook             Technology  \n",
       "..                     ...                    ...  \n",
       "195            real estate            Real Estate  \n",
       "196                    oil                 Energy  \n",
       "197  real estate, shipping            Diversified  \n",
       "198               Snapchat             Technology  \n",
       "199                banking  Finance & Investments  \n",
       "\n",
       "[200 rows x 6 columns]"
      ]
     },
     "execution_count": 80,
     "metadata": {},
     "output_type": "execute_result"
    }
   ],
   "source": [
    "time.sleep(4)\n",
    "# creating the dataframe from the scraped data \n",
    "df=pd.DataFrame({\"rank\":Rank,\"name\":Name,\"net worth\":Net_worth,\"citizenship\":Citizenship,\"source\":Source,\"industry\":Industry})\n",
    "df"
   ]
  },
  {
   "cell_type": "markdown",
   "id": "08314e1f",
   "metadata": {},
   "source": [
    "# Answer_10"
   ]
  },
  {
   "cell_type": "code",
   "execution_count": 94,
   "id": "029fa59e",
   "metadata": {},
   "outputs": [],
   "source": [
    "PATH = 'chromedriver.exe'\n",
    "driver = webdriver.Chrome(PATH)\n",
    "url = 'https://www.hostelworld.com/'\n",
    "driver.get(url)"
   ]
  },
  {
   "cell_type": "code",
   "execution_count": 95,
   "id": "194dd278",
   "metadata": {},
   "outputs": [
    {
     "ename": "NoSuchElementException",
     "evalue": "Message: no such element: Unable to locate element: {\"method\":\"css selector\",\"selector\":\".search-input\"}\n  (Session info: chrome=99.0.4844.84)\nStacktrace:\nBacktrace:\n\tOrdinal0 [0x010A9943+2595139]\n\tOrdinal0 [0x0103C9F1+2148849]\n\tOrdinal0 [0x00F34528+1066280]\n\tOrdinal0 [0x00F60FD4+1249236]\n\tOrdinal0 [0x00F611CB+1249739]\n\tOrdinal0 [0x00F8D812+1431570]\n\tOrdinal0 [0x00F7BA34+1358388]\n\tOrdinal0 [0x00F8BAF2+1424114]\n\tOrdinal0 [0x00F7B806+1357830]\n\tOrdinal0 [0x00F56086+1204358]\n\tOrdinal0 [0x00F56F96+1208214]\n\tGetHandleVerifier [0x0124B232+1658114]\n\tGetHandleVerifier [0x0130312C+2411516]\n\tGetHandleVerifier [0x0113F261+560433]\n\tGetHandleVerifier [0x0113E366+556598]\n\tOrdinal0 [0x0104286B+2173035]\n\tOrdinal0 [0x010475F8+2192888]\n\tOrdinal0 [0x010476E5+2193125]\n\tOrdinal0 [0x010511FC+2232828]\n\tBaseThreadInitThunk [0x7735FA29+25]\n\tRtlGetAppContainerNamedObjectPath [0x77857A7E+286]\n\tRtlGetAppContainerNamedObjectPath [0x77857A4E+238]\n",
     "output_type": "error",
     "traceback": [
      "\u001b[1;31m---------------------------------------------------------------------------\u001b[0m",
      "\u001b[1;31mNoSuchElementException\u001b[0m                    Traceback (most recent call last)",
      "\u001b[1;32m<ipython-input-95-82aeaf138039>\u001b[0m in \u001b[0;36m<module>\u001b[1;34m\u001b[0m\n\u001b[1;32m----> 1\u001b[1;33m \u001b[0msearch_location\u001b[0m \u001b[1;33m=\u001b[0m \u001b[0mdriver\u001b[0m\u001b[1;33m.\u001b[0m\u001b[0mfind_element_by_class_name\u001b[0m\u001b[1;33m(\u001b[0m\u001b[1;34m'search-input'\u001b[0m\u001b[1;33m)\u001b[0m\u001b[1;33m\u001b[0m\u001b[1;33m\u001b[0m\u001b[0m\n\u001b[0m\u001b[0;32m      2\u001b[0m \u001b[0msearch_location\u001b[0m\u001b[1;33m\u001b[0m\u001b[1;33m\u001b[0m\u001b[0m\n",
      "\u001b[1;32mC:\\ProgramData\\Anaconda3\\lib\\site-packages\\selenium\\webdriver\\remote\\webdriver.py\u001b[0m in \u001b[0;36mfind_element_by_class_name\u001b[1;34m(self, name)\u001b[0m\n\u001b[0;32m    759\u001b[0m             \u001b[0mstacklevel\u001b[0m\u001b[1;33m=\u001b[0m\u001b[1;36m2\u001b[0m\u001b[1;33m,\u001b[0m\u001b[1;33m\u001b[0m\u001b[1;33m\u001b[0m\u001b[0m\n\u001b[0;32m    760\u001b[0m         )\n\u001b[1;32m--> 761\u001b[1;33m         \u001b[1;32mreturn\u001b[0m \u001b[0mself\u001b[0m\u001b[1;33m.\u001b[0m\u001b[0mfind_element\u001b[0m\u001b[1;33m(\u001b[0m\u001b[0mby\u001b[0m\u001b[1;33m=\u001b[0m\u001b[0mBy\u001b[0m\u001b[1;33m.\u001b[0m\u001b[0mCLASS_NAME\u001b[0m\u001b[1;33m,\u001b[0m \u001b[0mvalue\u001b[0m\u001b[1;33m=\u001b[0m\u001b[0mname\u001b[0m\u001b[1;33m)\u001b[0m\u001b[1;33m\u001b[0m\u001b[1;33m\u001b[0m\u001b[0m\n\u001b[0m\u001b[0;32m    762\u001b[0m \u001b[1;33m\u001b[0m\u001b[0m\n\u001b[0;32m    763\u001b[0m     \u001b[1;32mdef\u001b[0m \u001b[0mfind_elements_by_class_name\u001b[0m\u001b[1;33m(\u001b[0m\u001b[0mself\u001b[0m\u001b[1;33m,\u001b[0m \u001b[0mname\u001b[0m\u001b[1;33m)\u001b[0m \u001b[1;33m->\u001b[0m \u001b[0mList\u001b[0m\u001b[1;33m[\u001b[0m\u001b[0mWebElement\u001b[0m\u001b[1;33m]\u001b[0m\u001b[1;33m:\u001b[0m\u001b[1;33m\u001b[0m\u001b[1;33m\u001b[0m\u001b[0m\n",
      "\u001b[1;32mC:\\ProgramData\\Anaconda3\\lib\\site-packages\\selenium\\webdriver\\remote\\webdriver.py\u001b[0m in \u001b[0;36mfind_element\u001b[1;34m(self, by, value)\u001b[0m\n\u001b[0;32m   1246\u001b[0m             \u001b[0mvalue\u001b[0m \u001b[1;33m=\u001b[0m \u001b[1;34m'[name=\"%s\"]'\u001b[0m \u001b[1;33m%\u001b[0m \u001b[0mvalue\u001b[0m\u001b[1;33m\u001b[0m\u001b[1;33m\u001b[0m\u001b[0m\n\u001b[0;32m   1247\u001b[0m \u001b[1;33m\u001b[0m\u001b[0m\n\u001b[1;32m-> 1248\u001b[1;33m         return self.execute(Command.FIND_ELEMENT, {\n\u001b[0m\u001b[0;32m   1249\u001b[0m             \u001b[1;34m'using'\u001b[0m\u001b[1;33m:\u001b[0m \u001b[0mby\u001b[0m\u001b[1;33m,\u001b[0m\u001b[1;33m\u001b[0m\u001b[1;33m\u001b[0m\u001b[0m\n\u001b[0;32m   1250\u001b[0m             'value': value})['value']\n",
      "\u001b[1;32mC:\\ProgramData\\Anaconda3\\lib\\site-packages\\selenium\\webdriver\\remote\\webdriver.py\u001b[0m in \u001b[0;36mexecute\u001b[1;34m(self, driver_command, params)\u001b[0m\n\u001b[0;32m    423\u001b[0m         \u001b[0mresponse\u001b[0m \u001b[1;33m=\u001b[0m \u001b[0mself\u001b[0m\u001b[1;33m.\u001b[0m\u001b[0mcommand_executor\u001b[0m\u001b[1;33m.\u001b[0m\u001b[0mexecute\u001b[0m\u001b[1;33m(\u001b[0m\u001b[0mdriver_command\u001b[0m\u001b[1;33m,\u001b[0m \u001b[0mparams\u001b[0m\u001b[1;33m)\u001b[0m\u001b[1;33m\u001b[0m\u001b[1;33m\u001b[0m\u001b[0m\n\u001b[0;32m    424\u001b[0m         \u001b[1;32mif\u001b[0m \u001b[0mresponse\u001b[0m\u001b[1;33m:\u001b[0m\u001b[1;33m\u001b[0m\u001b[1;33m\u001b[0m\u001b[0m\n\u001b[1;32m--> 425\u001b[1;33m             \u001b[0mself\u001b[0m\u001b[1;33m.\u001b[0m\u001b[0merror_handler\u001b[0m\u001b[1;33m.\u001b[0m\u001b[0mcheck_response\u001b[0m\u001b[1;33m(\u001b[0m\u001b[0mresponse\u001b[0m\u001b[1;33m)\u001b[0m\u001b[1;33m\u001b[0m\u001b[1;33m\u001b[0m\u001b[0m\n\u001b[0m\u001b[0;32m    426\u001b[0m             response['value'] = self._unwrap_value(\n\u001b[0;32m    427\u001b[0m                 response.get('value', None))\n",
      "\u001b[1;32mC:\\ProgramData\\Anaconda3\\lib\\site-packages\\selenium\\webdriver\\remote\\errorhandler.py\u001b[0m in \u001b[0;36mcheck_response\u001b[1;34m(self, response)\u001b[0m\n\u001b[0;32m    245\u001b[0m                 \u001b[0malert_text\u001b[0m \u001b[1;33m=\u001b[0m \u001b[0mvalue\u001b[0m\u001b[1;33m[\u001b[0m\u001b[1;34m'alert'\u001b[0m\u001b[1;33m]\u001b[0m\u001b[1;33m.\u001b[0m\u001b[0mget\u001b[0m\u001b[1;33m(\u001b[0m\u001b[1;34m'text'\u001b[0m\u001b[1;33m)\u001b[0m\u001b[1;33m\u001b[0m\u001b[1;33m\u001b[0m\u001b[0m\n\u001b[0;32m    246\u001b[0m             \u001b[1;32mraise\u001b[0m \u001b[0mexception_class\u001b[0m\u001b[1;33m(\u001b[0m\u001b[0mmessage\u001b[0m\u001b[1;33m,\u001b[0m \u001b[0mscreen\u001b[0m\u001b[1;33m,\u001b[0m \u001b[0mstacktrace\u001b[0m\u001b[1;33m,\u001b[0m \u001b[0malert_text\u001b[0m\u001b[1;33m)\u001b[0m  \u001b[1;31m# type: ignore[call-arg]  # mypy is not smart enough here\u001b[0m\u001b[1;33m\u001b[0m\u001b[1;33m\u001b[0m\u001b[0m\n\u001b[1;32m--> 247\u001b[1;33m         \u001b[1;32mraise\u001b[0m \u001b[0mexception_class\u001b[0m\u001b[1;33m(\u001b[0m\u001b[0mmessage\u001b[0m\u001b[1;33m,\u001b[0m \u001b[0mscreen\u001b[0m\u001b[1;33m,\u001b[0m \u001b[0mstacktrace\u001b[0m\u001b[1;33m)\u001b[0m\u001b[1;33m\u001b[0m\u001b[1;33m\u001b[0m\u001b[0m\n\u001b[0m\u001b[0;32m    248\u001b[0m \u001b[1;33m\u001b[0m\u001b[0m\n\u001b[0;32m    249\u001b[0m     \u001b[1;32mdef\u001b[0m \u001b[0m_value_or_default\u001b[0m\u001b[1;33m(\u001b[0m\u001b[0mself\u001b[0m\u001b[1;33m,\u001b[0m \u001b[0mobj\u001b[0m\u001b[1;33m:\u001b[0m \u001b[0mMapping\u001b[0m\u001b[1;33m[\u001b[0m\u001b[0m_KT\u001b[0m\u001b[1;33m,\u001b[0m \u001b[0m_VT\u001b[0m\u001b[1;33m]\u001b[0m\u001b[1;33m,\u001b[0m \u001b[0mkey\u001b[0m\u001b[1;33m:\u001b[0m \u001b[0m_KT\u001b[0m\u001b[1;33m,\u001b[0m \u001b[0mdefault\u001b[0m\u001b[1;33m:\u001b[0m \u001b[0m_VT\u001b[0m\u001b[1;33m)\u001b[0m \u001b[1;33m->\u001b[0m \u001b[0m_VT\u001b[0m\u001b[1;33m:\u001b[0m\u001b[1;33m\u001b[0m\u001b[1;33m\u001b[0m\u001b[0m\n",
      "\u001b[1;31mNoSuchElementException\u001b[0m: Message: no such element: Unable to locate element: {\"method\":\"css selector\",\"selector\":\".search-input\"}\n  (Session info: chrome=99.0.4844.84)\nStacktrace:\nBacktrace:\n\tOrdinal0 [0x010A9943+2595139]\n\tOrdinal0 [0x0103C9F1+2148849]\n\tOrdinal0 [0x00F34528+1066280]\n\tOrdinal0 [0x00F60FD4+1249236]\n\tOrdinal0 [0x00F611CB+1249739]\n\tOrdinal0 [0x00F8D812+1431570]\n\tOrdinal0 [0x00F7BA34+1358388]\n\tOrdinal0 [0x00F8BAF2+1424114]\n\tOrdinal0 [0x00F7B806+1357830]\n\tOrdinal0 [0x00F56086+1204358]\n\tOrdinal0 [0x00F56F96+1208214]\n\tGetHandleVerifier [0x0124B232+1658114]\n\tGetHandleVerifier [0x0130312C+2411516]\n\tGetHandleVerifier [0x0113F261+560433]\n\tGetHandleVerifier [0x0113E366+556598]\n\tOrdinal0 [0x0104286B+2173035]\n\tOrdinal0 [0x010475F8+2192888]\n\tOrdinal0 [0x010476E5+2193125]\n\tOrdinal0 [0x010511FC+2232828]\n\tBaseThreadInitThunk [0x7735FA29+25]\n\tRtlGetAppContainerNamedObjectPath [0x77857A7E+286]\n\tRtlGetAppContainerNamedObjectPath [0x77857A4E+238]\n"
     ]
    }
   ],
   "source": [
    "search_location = driver.find_element_by_class_name('search-input')\n",
    "search_location"
   ]
  },
  {
   "cell_type": "code",
   "execution_count": 93,
   "id": "1220a88e",
   "metadata": {},
   "outputs": [
    {
     "ename": "StaleElementReferenceException",
     "evalue": "Message: stale element reference: element is not attached to the page document\n  (Session info: chrome=99.0.4844.84)\nStacktrace:\nBacktrace:\n\tOrdinal0 [0x010A9943+2595139]\n\tOrdinal0 [0x0103C9F1+2148849]\n\tOrdinal0 [0x00F34528+1066280]\n\tOrdinal0 [0x00F36E04+1076740]\n\tOrdinal0 [0x00F36CBE+1076414]\n\tOrdinal0 [0x00F36F50+1077072]\n\tOrdinal0 [0x00F619F9+1251833]\n\tOrdinal0 [0x00F61AD4+1252052]\n\tOrdinal0 [0x00F5A197+1221015]\n\tOrdinal0 [0x00F7B9EC+1358316]\n\tOrdinal0 [0x00F57474+1209460]\n\tOrdinal0 [0x00F7BC04+1358852]\n\tOrdinal0 [0x00F8BAF2+1424114]\n\tOrdinal0 [0x00F7B806+1357830]\n\tOrdinal0 [0x00F56086+1204358]\n\tOrdinal0 [0x00F56F96+1208214]\n\tGetHandleVerifier [0x0124B232+1658114]\n\tGetHandleVerifier [0x0130312C+2411516]\n\tGetHandleVerifier [0x0113F261+560433]\n\tGetHandleVerifier [0x0113E366+556598]\n\tOrdinal0 [0x0104286B+2173035]\n\tOrdinal0 [0x010475F8+2192888]\n\tOrdinal0 [0x010476E5+2193125]\n\tOrdinal0 [0x010511FC+2232828]\n\tBaseThreadInitThunk [0x7735FA29+25]\n\tRtlGetAppContainerNamedObjectPath [0x77857A7E+286]\n\tRtlGetAppContainerNamedObjectPath [0x77857A4E+238]\n",
     "output_type": "error",
     "traceback": [
      "\u001b[1;31m---------------------------------------------------------------------------\u001b[0m",
      "\u001b[1;31mStaleElementReferenceException\u001b[0m            Traceback (most recent call last)",
      "\u001b[1;32m<ipython-input-93-f96c613037b7>\u001b[0m in \u001b[0;36m<module>\u001b[1;34m\u001b[0m\n\u001b[0;32m      1\u001b[0m \u001b[1;31m# write in search bar\u001b[0m\u001b[1;33m\u001b[0m\u001b[1;33m\u001b[0m\u001b[1;33m\u001b[0m\u001b[0m\n\u001b[1;32m----> 2\u001b[1;33m \u001b[0msearch_location\u001b[0m\u001b[1;33m.\u001b[0m\u001b[0msend_keys\u001b[0m\u001b[1;33m(\u001b[0m\u001b[1;34m\"London\"\u001b[0m\u001b[1;33m)\u001b[0m\u001b[1;33m\u001b[0m\u001b[1;33m\u001b[0m\u001b[0m\n\u001b[0m",
      "\u001b[1;32mC:\\ProgramData\\Anaconda3\\lib\\site-packages\\selenium\\webdriver\\remote\\webelement.py\u001b[0m in \u001b[0;36msend_keys\u001b[1;34m(self, *value)\u001b[0m\n\u001b[0;32m    538\u001b[0m                 \u001b[0mvalue\u001b[0m \u001b[1;33m=\u001b[0m \u001b[1;34m'\\n'\u001b[0m\u001b[1;33m.\u001b[0m\u001b[0mjoin\u001b[0m\u001b[1;33m(\u001b[0m\u001b[0mremote_files\u001b[0m\u001b[1;33m)\u001b[0m\u001b[1;33m\u001b[0m\u001b[1;33m\u001b[0m\u001b[0m\n\u001b[0;32m    539\u001b[0m \u001b[1;33m\u001b[0m\u001b[0m\n\u001b[1;32m--> 540\u001b[1;33m         self._execute(Command.SEND_KEYS_TO_ELEMENT,\n\u001b[0m\u001b[0;32m    541\u001b[0m                       {'text': \"\".join(keys_to_typing(value)),\n\u001b[0;32m    542\u001b[0m                        'value': keys_to_typing(value)})\n",
      "\u001b[1;32mC:\\ProgramData\\Anaconda3\\lib\\site-packages\\selenium\\webdriver\\remote\\webelement.py\u001b[0m in \u001b[0;36m_execute\u001b[1;34m(self, command, params)\u001b[0m\n\u001b[0;32m    708\u001b[0m             \u001b[0mparams\u001b[0m \u001b[1;33m=\u001b[0m \u001b[1;33m{\u001b[0m\u001b[1;33m}\u001b[0m\u001b[1;33m\u001b[0m\u001b[1;33m\u001b[0m\u001b[0m\n\u001b[0;32m    709\u001b[0m         \u001b[0mparams\u001b[0m\u001b[1;33m[\u001b[0m\u001b[1;34m'id'\u001b[0m\u001b[1;33m]\u001b[0m \u001b[1;33m=\u001b[0m \u001b[0mself\u001b[0m\u001b[1;33m.\u001b[0m\u001b[0m_id\u001b[0m\u001b[1;33m\u001b[0m\u001b[1;33m\u001b[0m\u001b[0m\n\u001b[1;32m--> 710\u001b[1;33m         \u001b[1;32mreturn\u001b[0m \u001b[0mself\u001b[0m\u001b[1;33m.\u001b[0m\u001b[0m_parent\u001b[0m\u001b[1;33m.\u001b[0m\u001b[0mexecute\u001b[0m\u001b[1;33m(\u001b[0m\u001b[0mcommand\u001b[0m\u001b[1;33m,\u001b[0m \u001b[0mparams\u001b[0m\u001b[1;33m)\u001b[0m\u001b[1;33m\u001b[0m\u001b[1;33m\u001b[0m\u001b[0m\n\u001b[0m\u001b[0;32m    711\u001b[0m \u001b[1;33m\u001b[0m\u001b[0m\n\u001b[0;32m    712\u001b[0m     \u001b[1;32mdef\u001b[0m \u001b[0mfind_element\u001b[0m\u001b[1;33m(\u001b[0m\u001b[0mself\u001b[0m\u001b[1;33m,\u001b[0m \u001b[0mby\u001b[0m\u001b[1;33m=\u001b[0m\u001b[0mBy\u001b[0m\u001b[1;33m.\u001b[0m\u001b[0mID\u001b[0m\u001b[1;33m,\u001b[0m \u001b[0mvalue\u001b[0m\u001b[1;33m=\u001b[0m\u001b[1;32mNone\u001b[0m\u001b[1;33m)\u001b[0m\u001b[1;33m:\u001b[0m\u001b[1;33m\u001b[0m\u001b[1;33m\u001b[0m\u001b[0m\n",
      "\u001b[1;32mC:\\ProgramData\\Anaconda3\\lib\\site-packages\\selenium\\webdriver\\remote\\webdriver.py\u001b[0m in \u001b[0;36mexecute\u001b[1;34m(self, driver_command, params)\u001b[0m\n\u001b[0;32m    423\u001b[0m         \u001b[0mresponse\u001b[0m \u001b[1;33m=\u001b[0m \u001b[0mself\u001b[0m\u001b[1;33m.\u001b[0m\u001b[0mcommand_executor\u001b[0m\u001b[1;33m.\u001b[0m\u001b[0mexecute\u001b[0m\u001b[1;33m(\u001b[0m\u001b[0mdriver_command\u001b[0m\u001b[1;33m,\u001b[0m \u001b[0mparams\u001b[0m\u001b[1;33m)\u001b[0m\u001b[1;33m\u001b[0m\u001b[1;33m\u001b[0m\u001b[0m\n\u001b[0;32m    424\u001b[0m         \u001b[1;32mif\u001b[0m \u001b[0mresponse\u001b[0m\u001b[1;33m:\u001b[0m\u001b[1;33m\u001b[0m\u001b[1;33m\u001b[0m\u001b[0m\n\u001b[1;32m--> 425\u001b[1;33m             \u001b[0mself\u001b[0m\u001b[1;33m.\u001b[0m\u001b[0merror_handler\u001b[0m\u001b[1;33m.\u001b[0m\u001b[0mcheck_response\u001b[0m\u001b[1;33m(\u001b[0m\u001b[0mresponse\u001b[0m\u001b[1;33m)\u001b[0m\u001b[1;33m\u001b[0m\u001b[1;33m\u001b[0m\u001b[0m\n\u001b[0m\u001b[0;32m    426\u001b[0m             response['value'] = self._unwrap_value(\n\u001b[0;32m    427\u001b[0m                 response.get('value', None))\n",
      "\u001b[1;32mC:\\ProgramData\\Anaconda3\\lib\\site-packages\\selenium\\webdriver\\remote\\errorhandler.py\u001b[0m in \u001b[0;36mcheck_response\u001b[1;34m(self, response)\u001b[0m\n\u001b[0;32m    245\u001b[0m                 \u001b[0malert_text\u001b[0m \u001b[1;33m=\u001b[0m \u001b[0mvalue\u001b[0m\u001b[1;33m[\u001b[0m\u001b[1;34m'alert'\u001b[0m\u001b[1;33m]\u001b[0m\u001b[1;33m.\u001b[0m\u001b[0mget\u001b[0m\u001b[1;33m(\u001b[0m\u001b[1;34m'text'\u001b[0m\u001b[1;33m)\u001b[0m\u001b[1;33m\u001b[0m\u001b[1;33m\u001b[0m\u001b[0m\n\u001b[0;32m    246\u001b[0m             \u001b[1;32mraise\u001b[0m \u001b[0mexception_class\u001b[0m\u001b[1;33m(\u001b[0m\u001b[0mmessage\u001b[0m\u001b[1;33m,\u001b[0m \u001b[0mscreen\u001b[0m\u001b[1;33m,\u001b[0m \u001b[0mstacktrace\u001b[0m\u001b[1;33m,\u001b[0m \u001b[0malert_text\u001b[0m\u001b[1;33m)\u001b[0m  \u001b[1;31m# type: ignore[call-arg]  # mypy is not smart enough here\u001b[0m\u001b[1;33m\u001b[0m\u001b[1;33m\u001b[0m\u001b[0m\n\u001b[1;32m--> 247\u001b[1;33m         \u001b[1;32mraise\u001b[0m \u001b[0mexception_class\u001b[0m\u001b[1;33m(\u001b[0m\u001b[0mmessage\u001b[0m\u001b[1;33m,\u001b[0m \u001b[0mscreen\u001b[0m\u001b[1;33m,\u001b[0m \u001b[0mstacktrace\u001b[0m\u001b[1;33m)\u001b[0m\u001b[1;33m\u001b[0m\u001b[1;33m\u001b[0m\u001b[0m\n\u001b[0m\u001b[0;32m    248\u001b[0m \u001b[1;33m\u001b[0m\u001b[0m\n\u001b[0;32m    249\u001b[0m     \u001b[1;32mdef\u001b[0m \u001b[0m_value_or_default\u001b[0m\u001b[1;33m(\u001b[0m\u001b[0mself\u001b[0m\u001b[1;33m,\u001b[0m \u001b[0mobj\u001b[0m\u001b[1;33m:\u001b[0m \u001b[0mMapping\u001b[0m\u001b[1;33m[\u001b[0m\u001b[0m_KT\u001b[0m\u001b[1;33m,\u001b[0m \u001b[0m_VT\u001b[0m\u001b[1;33m]\u001b[0m\u001b[1;33m,\u001b[0m \u001b[0mkey\u001b[0m\u001b[1;33m:\u001b[0m \u001b[0m_KT\u001b[0m\u001b[1;33m,\u001b[0m \u001b[0mdefault\u001b[0m\u001b[1;33m:\u001b[0m \u001b[0m_VT\u001b[0m\u001b[1;33m)\u001b[0m \u001b[1;33m->\u001b[0m \u001b[0m_VT\u001b[0m\u001b[1;33m:\u001b[0m\u001b[1;33m\u001b[0m\u001b[1;33m\u001b[0m\u001b[0m\n",
      "\u001b[1;31mStaleElementReferenceException\u001b[0m: Message: stale element reference: element is not attached to the page document\n  (Session info: chrome=99.0.4844.84)\nStacktrace:\nBacktrace:\n\tOrdinal0 [0x010A9943+2595139]\n\tOrdinal0 [0x0103C9F1+2148849]\n\tOrdinal0 [0x00F34528+1066280]\n\tOrdinal0 [0x00F36E04+1076740]\n\tOrdinal0 [0x00F36CBE+1076414]\n\tOrdinal0 [0x00F36F50+1077072]\n\tOrdinal0 [0x00F619F9+1251833]\n\tOrdinal0 [0x00F61AD4+1252052]\n\tOrdinal0 [0x00F5A197+1221015]\n\tOrdinal0 [0x00F7B9EC+1358316]\n\tOrdinal0 [0x00F57474+1209460]\n\tOrdinal0 [0x00F7BC04+1358852]\n\tOrdinal0 [0x00F8BAF2+1424114]\n\tOrdinal0 [0x00F7B806+1357830]\n\tOrdinal0 [0x00F56086+1204358]\n\tOrdinal0 [0x00F56F96+1208214]\n\tGetHandleVerifier [0x0124B232+1658114]\n\tGetHandleVerifier [0x0130312C+2411516]\n\tGetHandleVerifier [0x0113F261+560433]\n\tGetHandleVerifier [0x0113E366+556598]\n\tOrdinal0 [0x0104286B+2173035]\n\tOrdinal0 [0x010475F8+2192888]\n\tOrdinal0 [0x010476E5+2193125]\n\tOrdinal0 [0x010511FC+2232828]\n\tBaseThreadInitThunk [0x7735FA29+25]\n\tRtlGetAppContainerNamedObjectPath [0x77857A7E+286]\n\tRtlGetAppContainerNamedObjectPath [0x77857A4E+238]\n"
     ]
    }
   ],
   "source": [
    "# write in search bar\n",
    "search_location.send_keys(\"London\")"
   ]
  },
  {
   "cell_type": "code",
   "execution_count": 91,
   "id": "e2971be8",
   "metadata": {},
   "outputs": [
    {
     "data": {
      "text/plain": [
       "<selenium.webdriver.remote.webelement.WebElement (session=\"0c45108c9d6d8f65dcb52c30a5dadbd3\", element=\"d1c37745-4f66-46a7-aa51-79f3eda7aa74\")>"
      ]
     },
     "execution_count": 91,
     "metadata": {},
     "output_type": "execute_result"
    }
   ],
   "source": [
    "# clicking using absolute xpath function\n",
    "search_btn= driver.find_element_by_xpath(\"/html/body/div[3]/div/div/div[1]/div[1]/div/div[2]/div[3]/div/div[2]/div/div[5]/button\")\n",
    "search_btn"
   ]
  },
  {
   "cell_type": "code",
   "execution_count": 92,
   "id": "7eac23f3",
   "metadata": {},
   "outputs": [],
   "source": [
    "search_btn.click()"
   ]
  },
  {
   "cell_type": "code",
   "execution_count": 96,
   "id": "b080e460",
   "metadata": {},
   "outputs": [],
   "source": [
    "PATH = 'chromedriver.exe'\n",
    "driver = webdriver.Chrome(PATH)\n",
    "url = 'https://www.hostelworld.com/s?q=London,%20England&country=England&city=London&type=city&id=3&from=2022-04-04&to=2022-04-07&guests=2&page=1'\n",
    "driver.get(url)"
   ]
  },
  {
   "cell_type": "code",
   "execution_count": 105,
   "id": "218a07af",
   "metadata": {},
   "outputs": [],
   "source": [
    "Hostel_name=[]\n",
    "Distance_from_city_centre=[]\n",
    "Ratings=[]\n",
    "Total_reviews=[]\n",
    "Overall_reviews=[]\n",
    "Privates_from_price=[]\n",
    "Dorms_from_price=[]\n",
    "Facilities=[]\n",
    "\n",
    "#scraping the hostel name\n",
    "hostl_name=driver.find_elements_by_xpath(\"//h2[@class='title title-6']\")\n",
    "for i in hostl_name:\n",
    "    if i.text is None :\n",
    "        Hostel_name.append(\"--\") \n",
    "    else:\n",
    "        Hostel_name.append(i.text)\n",
    "\n",
    "time.sleep(4)\n",
    "#scraping the Distance_from_city_centre\n",
    "distance=driver.find_elements_by_xpath(\"//div[@class='subtitle body-3']\")\n",
    "for i in distance:\n",
    "    if i.text is None :\n",
    "        Distance_from_city_centre.append(\"--\") \n",
    "    else:\n",
    "        Distance_from_city_centre.append(i.text)\n",
    "        \n",
    "time.sleep(4)        \n",
    "#scraping the ratings\n",
    "rating=driver.find_elements_by_xpath(\"//div[@class='score orange big']\")\n",
    "for i in rating:\n",
    "    if i.text is None :\n",
    "        Ratings.append(\"--\") \n",
    "    else:\n",
    "        Ratings.append(i.text)\n",
    "\n",
    "\n",
    "time.sleep(4)\n",
    "#scraping the Total_reviews\n",
    "review=driver.find_elements_by_xpath(\"//div[@class='reviews']\")\n",
    "for i in review:\n",
    "    if i.text is None :\n",
    "            Total_reviews.append(\"--\") \n",
    "    else:\n",
    "            Total_reviews.append(i.text)\n",
    "\n",
    "time.sleep(4)      \n",
    "#scraping the overall review\n",
    "overall=driver.find_elements_by_xpath(\"//div[@class='keyword']\")\n",
    "for i in overall:\n",
    "    if i.text is None :\n",
    "        Overall_reviews.append(\"--\") \n",
    "    else:\n",
    "        Overall_reviews.append(i.text)\n",
    "\n",
    "\n",
    "time.sleep(4)\n",
    "#scraping the Privates_from_price\n",
    "privates_from_price=driver.find_elements_by_xpath(\"//div[@class='price-col']\")\n",
    "for i in privates_from_price:\n",
    "    if i.text is None :\n",
    "            Privates_from_price.append(\"--\") \n",
    "    else:\n",
    "            Privates_from_price.append(i.text)\n",
    "        \n",
    "time.sleep(4)\n",
    "#scraping the Dorms_from_price\n",
    "dorms_from_price=driver.find_elements_by_xpath(\"//div[@class='price-col']\")\n",
    "for i in dorms_from_price:\n",
    "    if i.text is None :\n",
    "            Dorms_from_price.append(\"--\") \n",
    "    else:\n",
    "            Dorms_from_price.append(i.text)\n",
    "            \n",
    "time.sleep(4)\n",
    "#scraping the Facilities\n",
    "facilities=driver.find_elements_by_xpath(\"//div[@class='has-wifi']\")\n",
    "for i in facilities:\n",
    "    if i.text is None :\n",
    "            Facilities.append(\"--\") \n",
    "    else:\n",
    "            Facilities.append(i.text)"
   ]
  },
  {
   "cell_type": "code",
   "execution_count": 106,
   "id": "b5e1c152",
   "metadata": {},
   "outputs": [
    {
     "data": {
      "text/plain": [
       "['Safestay London Elephant & Castle',\n",
       " 'Generator London',\n",
       " 'Urbany Hostel London',\n",
       " 'Astor Hyde Park',\n",
       " 'Pickwick Hall',\n",
       " 'Smart Camden Inn Hostel',\n",
       " 'No.8 Willesden Hostel London',\n",
       " 'No.8 Seven Sisters',\n",
       " 'London Backpackers',\n",
       " 'Smart Russell Square Hostel',\n",
       " 'YHA London Oxford Street',\n",
       " 'Barmy Badger Backpackers',\n",
       " 'Safestay London Kensington Holland Park',\n",
       " 'Prime Backpackers Angel',\n",
       " 'Smart Hyde Park View Hostel',\n",
       " 'Queen Elizabeth Chelsea',\n",
       " \"Wombat's City Hostel London\",\n",
       " 'Phoenix Hostel',\n",
       " 'New Cross Inn Hostel',\n",
       " 'Smart Hyde Park Inn Hostel',\n",
       " 'Strand Continental',\n",
       " \"St Christopher's Inn - Liverpool Street\",\n",
       " 'PubLove @ The White Ferry, Victoria',\n",
       " \"St Christopher's Hammersmith\",\n",
       " 'The Dictionary Hostel',\n",
       " \"St Christopher's Camden\",\n",
       " 'Clink261',\n",
       " 'YHA London Central',\n",
       " \"St Christopher's Shepherds Bush\",\n",
       " 'Hostel One Notting Hill']"
      ]
     },
     "execution_count": 106,
     "metadata": {},
     "output_type": "execute_result"
    }
   ],
   "source": [
    "Hostel_name"
   ]
  },
  {
   "cell_type": "code",
   "execution_count": 107,
   "id": "274886ae",
   "metadata": {},
   "outputs": [
    {
     "data": {
      "text/plain": [
       "['Hostel - 1.7km from city centre Show on Map',\n",
       " 'Hostel - 3km from city centre Show on Map',\n",
       " 'Hostel - 5.4km from city centre Show on Map',\n",
       " 'Hostel - 4.3km from city centre Show on Map',\n",
       " 'Hostel - 2.3km from city centre Show on Map',\n",
       " 'Hostel - 4.4km from city centre Show on Map',\n",
       " 'Hostel - 10km from city centre Show on Map',\n",
       " 'Hostel - 9km from city centre Show on Map',\n",
       " 'Hostel - 11.9km from city centre Show on Map',\n",
       " 'Hostel - 2.6km from city centre Show on Map',\n",
       " 'Hostel - 2.1km from city centre Show on Map',\n",
       " 'Hostel - 5.5km from city centre Show on Map',\n",
       " 'Hostel - 5.9km from city centre Show on Map',\n",
       " 'Hostel - 3.6km from city centre Show on Map',\n",
       " 'Hostel - 5km from city centre Show on Map',\n",
       " 'Hostel - 5.7km from city centre Show on Map',\n",
       " 'Hostel - 3.6km from city centre Show on Map',\n",
       " 'Hostel - 4.2km from city centre Show on Map',\n",
       " 'Hostel - 6.1km from city centre Show on Map',\n",
       " 'Hostel - 5km from city centre Show on Map',\n",
       " 'Hostel - 1.3km from city centre Show on Map',\n",
       " 'Hostel - 3.2km from city centre Show on Map',\n",
       " 'Hostel - 2.4km from city centre Show on Map',\n",
       " 'Hostel - 7.5km from city centre Show on Map',\n",
       " 'Hostel - 4.1km from city centre Show on Map',\n",
       " 'Hostel - 4.3km from city centre Show on Map',\n",
       " 'Hostel - 3.2km from city centre Show on Map',\n",
       " 'Hostel - 2.9km from city centre Show on Map',\n",
       " 'Hostel - 7km from city centre Show on Map',\n",
       " 'Hostel - 5.5km from city centre Show on Map']"
      ]
     },
     "execution_count": 107,
     "metadata": {},
     "output_type": "execute_result"
    }
   ],
   "source": [
    "Distance_from_city_centre"
   ]
  },
  {
   "cell_type": "code",
   "execution_count": 108,
   "id": "dc04c949",
   "metadata": {},
   "outputs": [
    {
     "data": {
      "text/plain": [
       "['7.7',\n",
       " '7.8',\n",
       " '9.6',\n",
       " '8.5',\n",
       " '9.0',\n",
       " '8.4',\n",
       " '7.4',\n",
       " '6.8',\n",
       " '8.2',\n",
       " '6.8',\n",
       " '9.7',\n",
       " '9.3',\n",
       " '7.5',\n",
       " '8.9',\n",
       " '7.9',\n",
       " '7.4',\n",
       " '8.9',\n",
       " '7.9',\n",
       " '7.1',\n",
       " '6.8',\n",
       " '7.3',\n",
       " '8.6',\n",
       " '8.5',\n",
       " '8.0',\n",
       " '7.1',\n",
       " '7.7',\n",
       " '7.4',\n",
       " '9.0',\n",
       " '7.7',\n",
       " '8.1']"
      ]
     },
     "execution_count": 108,
     "metadata": {},
     "output_type": "execute_result"
    }
   ],
   "source": [
    "\n",
    "Ratings"
   ]
  },
  {
   "cell_type": "code",
   "execution_count": 109,
   "id": "25c98367",
   "metadata": {},
   "outputs": [
    {
     "data": {
      "text/plain": [
       "['4129 Total Reviews',\n",
       " '6849 Total Reviews',\n",
       " '229 Total Reviews',\n",
       " '11420 Total Reviews',\n",
       " '2302 Total Reviews',\n",
       " '2779 Total Reviews',\n",
       " '4686 Total Reviews',\n",
       " '3723 Total Reviews',\n",
       " '4204 Total Reviews',\n",
       " '9598 Total Reviews',\n",
       " '4510 Total Reviews',\n",
       " '1712 Total Reviews',\n",
       " '1144 Total Reviews',\n",
       " '543 Total Reviews',\n",
       " '4533 Total Reviews',\n",
       " '3239 Total Reviews',\n",
       " '13475 Total Reviews',\n",
       " '3508 Total Reviews',\n",
       " '1085 Total Reviews',\n",
       " '6272 Total Reviews',\n",
       " '818 Total Reviews',\n",
       " '385 Total Reviews',\n",
       " '206 Total Reviews',\n",
       " '3989 Total Reviews',\n",
       " '36 Total Reviews',\n",
       " '3748 Total Reviews',\n",
       " '61 Total Reviews',\n",
       " '4711 Total Reviews',\n",
       " '651 Total Reviews',\n",
       " '1331 Total Reviews']"
      ]
     },
     "execution_count": 109,
     "metadata": {},
     "output_type": "execute_result"
    }
   ],
   "source": [
    "Total_reviews\n"
   ]
  },
  {
   "cell_type": "code",
   "execution_count": 110,
   "id": "8e24daf2",
   "metadata": {},
   "outputs": [
    {
     "data": {
      "text/plain": [
       "['Very Good',\n",
       " 'Very Good',\n",
       " 'Superb',\n",
       " 'Fabulous',\n",
       " 'Superb',\n",
       " 'Fabulous',\n",
       " 'Very Good',\n",
       " 'Good',\n",
       " 'Fabulous',\n",
       " 'Good',\n",
       " 'Superb',\n",
       " 'Superb',\n",
       " 'Very Good',\n",
       " 'Fabulous',\n",
       " 'Very Good',\n",
       " 'Very Good',\n",
       " 'Fabulous',\n",
       " 'Very Good',\n",
       " 'Very Good',\n",
       " 'Good',\n",
       " 'Very Good',\n",
       " 'Fabulous',\n",
       " 'Fabulous',\n",
       " 'Fabulous',\n",
       " 'Very Good',\n",
       " 'Very Good',\n",
       " 'Very Good',\n",
       " 'Superb',\n",
       " 'Very Good',\n",
       " 'Fabulous']"
      ]
     },
     "execution_count": 110,
     "metadata": {},
     "output_type": "execute_result"
    }
   ],
   "source": [
    "Overall_reviews"
   ]
  },
  {
   "cell_type": "code",
   "execution_count": 115,
   "id": "693e2110",
   "metadata": {},
   "outputs": [
    {
     "data": {
      "text/plain": [
       "['Privates From\\nRs8957',\n",
       " 'Privates From\\nRs6131',\n",
       " 'Privates From\\nRs8572',\n",
       " 'No Privates Available',\n",
       " 'Privates From\\nRs8957',\n",
       " 'No Privates Available',\n",
       " 'Privates From\\nRs2583',\n",
       " 'No Privates Available',\n",
       " 'No Privates Available',\n",
       " 'No Privates Available',\n",
       " 'Privates From\\nRs6867',\n",
       " 'Privates From\\nRs6967',\n",
       " 'No Privates Available',\n",
       " 'No Privates Available',\n",
       " 'Privates From\\nRs10536',\n",
       " 'No Privates Available',\n",
       " 'Privates From\\nRs20952.97 Rs15715',\n",
       " 'No Privates Available',\n",
       " 'Privates From\\nRs7542.55 Rs5657',\n",
       " 'Privates From\\nRs9209',\n",
       " 'Privates From\\nRs8420',\n",
       " 'No Privates Available',\n",
       " 'No Privates Available',\n",
       " 'No Privates Available',\n",
       " 'No Privates Available',\n",
       " 'No Privates Available',\n",
       " 'No Privates Available',\n",
       " 'Privates From\\nRs16821',\n",
       " 'No Privates Available',\n",
       " 'Privates From\\nRs11365.57 Rs10229']"
      ]
     },
     "execution_count": 115,
     "metadata": {},
     "output_type": "execute_result"
    }
   ],
   "source": [
    "Privates_from_price[::2]"
   ]
  },
  {
   "cell_type": "code",
   "execution_count": 114,
   "id": "09a6bddd",
   "metadata": {},
   "outputs": [
    {
     "data": {
      "text/plain": [
       "['Dorms From\\nRs1791',\n",
       " 'Dorms From\\nRs2220',\n",
       " 'Dorms From\\nRs1905',\n",
       " 'Dorms From\\nRs1626',\n",
       " 'No Dorms Available',\n",
       " 'Dorms From\\nRs1567',\n",
       " 'Dorms From\\nRs941',\n",
       " 'Dorms From\\nRs990',\n",
       " 'Dorms From\\nRs1164',\n",
       " 'Dorms From\\nRs2190',\n",
       " 'No Dorms Available',\n",
       " 'Dorms From\\nRs2389',\n",
       " 'Dorms From\\nRs1791',\n",
       " 'Dorms From\\nRs2385',\n",
       " 'Dorms From\\nRs1738',\n",
       " 'Dorms From\\nRs1227',\n",
       " 'Dorms From\\nRs3209.08 Rs2407',\n",
       " 'Dorms From\\nRs1260.63 Rs1135',\n",
       " 'Dorms From\\nRs1687.92 Rs1266',\n",
       " 'Dorms From\\nRs1490',\n",
       " 'Dorms From\\nRs2508',\n",
       " 'Dorms From\\nRs2861.11 Rs2575',\n",
       " 'Dorms From\\nRs2389',\n",
       " 'Dorms From\\nRs1388.53 Rs1250',\n",
       " 'Dorms From\\nRs1955.82 Rs1760',\n",
       " 'Dorms From\\nRs1436.46 Rs1293',\n",
       " 'Dorms From\\nRs1956.56 Rs1761',\n",
       " 'No Dorms Available',\n",
       " 'Dorms From\\nRs1399.22 Rs1259',\n",
       " 'Dorms From\\nRs2548.9 Rs2294']"
      ]
     },
     "execution_count": 114,
     "metadata": {},
     "output_type": "execute_result"
    }
   ],
   "source": [
    "Dorms_from_price[1::2]"
   ]
  },
  {
   "cell_type": "code",
   "execution_count": 113,
   "id": "df826da8",
   "metadata": {},
   "outputs": [
    {
     "data": {
      "text/plain": [
       "['Free WiFi',\n",
       " 'Free WiFi',\n",
       " 'Free WiFi',\n",
       " 'Free WiFi',\n",
       " 'Free WiFi',\n",
       " 'Free WiFi',\n",
       " 'Free WiFi',\n",
       " 'Free WiFi',\n",
       " 'Free WiFi',\n",
       " 'Free WiFi',\n",
       " 'Free WiFi',\n",
       " 'Free WiFi',\n",
       " 'Free WiFi',\n",
       " 'Free WiFi',\n",
       " 'Free WiFi',\n",
       " 'Free WiFi',\n",
       " 'Free WiFi',\n",
       " 'Free WiFi',\n",
       " 'Free WiFi',\n",
       " 'Free WiFi',\n",
       " 'Free WiFi',\n",
       " 'Free WiFi',\n",
       " 'Free WiFi',\n",
       " 'Free WiFi',\n",
       " 'Free WiFi',\n",
       " 'Free WiFi',\n",
       " 'Free WiFi',\n",
       " 'Free WiFi']"
      ]
     },
     "execution_count": 113,
     "metadata": {},
     "output_type": "execute_result"
    }
   ],
   "source": [
    "Facilities"
   ]
  },
  {
   "cell_type": "code",
   "execution_count": 117,
   "id": "d52d344e",
   "metadata": {},
   "outputs": [
    {
     "name": "stdout",
     "output_type": "stream",
     "text": [
      "30\n",
      "30\n",
      "30\n",
      "['4129 Total Reviews', '6849 Total Reviews', '229 Total Reviews', '11420 Total Reviews', '2302 Total Reviews', '2779 Total Reviews', '4686 Total Reviews', '3723 Total Reviews', '4204 Total Reviews', '9598 Total Reviews', '4510 Total Reviews', '1712 Total Reviews', '1144 Total Reviews', '543 Total Reviews', '4533 Total Reviews', '3239 Total Reviews', '13475 Total Reviews', '3508 Total Reviews', '1085 Total Reviews', '6272 Total Reviews', '818 Total Reviews', '385 Total Reviews', '206 Total Reviews', '3989 Total Reviews', '36 Total Reviews', '3748 Total Reviews', '61 Total Reviews', '4711 Total Reviews', '651 Total Reviews', '1331 Total Reviews']\n",
      "['Very Good', 'Very Good', 'Superb', 'Fabulous', 'Superb', 'Fabulous', 'Very Good', 'Good', 'Fabulous', 'Good', 'Superb', 'Superb', 'Very Good', 'Fabulous', 'Very Good', 'Very Good', 'Fabulous', 'Very Good', 'Very Good', 'Good', 'Very Good', 'Fabulous', 'Fabulous', 'Fabulous', 'Very Good', 'Very Good', 'Very Good', 'Superb', 'Very Good', 'Fabulous']\n",
      "60\n",
      "60\n",
      "28\n"
     ]
    }
   ],
   "source": [
    "print(len(Hostel_name))\n",
    "print(len(Distance_from_city_centre))\n",
    "print(len(Ratings))\n",
    "print((Total_reviews))\n",
    "print((Overall_reviews))\n",
    "print(len(Privates_from_price))\n",
    "print(len(Dorms_from_price))\n",
    "print(len(Facilities))"
   ]
  },
  {
   "cell_type": "code",
   "execution_count": null,
   "id": "e0f7f83d",
   "metadata": {},
   "outputs": [],
   "source": []
  }
 ],
 "metadata": {
  "kernelspec": {
   "display_name": "Python 3",
   "language": "python",
   "name": "python3"
  },
  "language_info": {
   "codemirror_mode": {
    "name": "ipython",
    "version": 3
   },
   "file_extension": ".py",
   "mimetype": "text/x-python",
   "name": "python",
   "nbconvert_exporter": "python",
   "pygments_lexer": "ipython3",
   "version": "3.8.8"
  }
 },
 "nbformat": 4,
 "nbformat_minor": 5
}
