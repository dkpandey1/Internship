{
 "cells": [
  {
   "cell_type": "markdown",
   "id": "f84db997",
   "metadata": {},
   "source": [
    "# Answer-11"
   ]
  },
  {
   "cell_type": "code",
   "execution_count": 8,
   "id": "86bff6f1",
   "metadata": {},
   "outputs": [
    {
     "name": "stdout",
     "output_type": "stream",
     "text": [
      "Enter a number: 0\n",
      "Factorial of 0 is 1\n"
     ]
    }
   ],
   "source": [
    "#Write a python program to find the factorial of a number.\n",
    "\n",
    "num=int(input('Enter a number: '))\n",
    "fact=1\n",
    "if num<0:\n",
    "    print(\"can't find factorial of a negative number\")\n",
    "elif num==0:\n",
    "    print('Factorial of 0 is 1')\n",
    "else:\n",
    "    for i in range(1,num+1):\n",
    "        fact=fact*i\n",
    "    print('the factorial of',num,'is',fact)"
   ]
  },
  {
   "cell_type": "code",
   "execution_count": 13,
   "id": "9bcda4b8",
   "metadata": {},
   "outputs": [
    {
     "name": "stdout",
     "output_type": "stream",
     "text": [
      "Enter the number:7\n",
      "Factorial of 7 is 5040\n"
     ]
    }
   ],
   "source": [
    "def fact(n):\n",
    "    \n",
    "    return 1 if(n==0 or n==1) else (n*fact(n-1))\n",
    "\n",
    "num=int(input(\"Enter the number:\"))  \n",
    "print(\"Factorial of\",num,\"is\",fact(num))  \n"
   ]
  },
  {
   "cell_type": "markdown",
   "id": "61e7afcb",
   "metadata": {},
   "source": [
    "# Answer-12"
   ]
  },
  {
   "cell_type": "code",
   "execution_count": 16,
   "id": "44a90767",
   "metadata": {},
   "outputs": [
    {
     "name": "stdout",
     "output_type": "stream",
     "text": [
      "Enter a number: -3\n",
      "The given number -3 is a composite number\n"
     ]
    }
   ],
   "source": [
    "#Write a python program to find whether a number is prime or composite.\n",
    "\n",
    "n=int(input('Enter a number: '))\n",
    "\n",
    "if n>1:\n",
    "    for i in range(2,n):\n",
    "        if (n%i==0):\n",
    "            print(f'The given number {n} is a composite number')\n",
    "            break\n",
    "    else:\n",
    "        print(f'The given number {n} is a prime number')\n",
    "else:\n",
    "    print(f'The given number {n} is a composite number')"
   ]
  },
  {
   "cell_type": "markdown",
   "id": "2cf513d9",
   "metadata": {},
   "source": [
    "# Answer-13"
   ]
  },
  {
   "cell_type": "code",
   "execution_count": 19,
   "id": "449d9fe1",
   "metadata": {},
   "outputs": [
    {
     "name": "stdout",
     "output_type": "stream",
     "text": [
      "Enter a string: abc\n",
      "The given input abc is a not Palindrome\n"
     ]
    }
   ],
   "source": [
    "#Write a python program to check whether a given string is palindrome or not.\n",
    "\n",
    "a=input('Enter a string: ')\n",
    "b=a[::-1]\n",
    "\n",
    "if a==b:\n",
    "    print(f'The given input {a} is a Palindrome')\n",
    "else:\n",
    "    print(f'The given input {a} is a not Palindrome')"
   ]
  },
  {
   "cell_type": "markdown",
   "id": "afcc6d3e",
   "metadata": {},
   "source": [
    "# Answer-14"
   ]
  },
  {
   "cell_type": "code",
   "execution_count": 20,
   "id": "06a72a6b",
   "metadata": {},
   "outputs": [
    {
     "name": "stdout",
     "output_type": "stream",
     "text": [
      "hypotenuse = 5.0\n",
      "base = 4.0\n",
      "perpendicular = 3.0\n",
      "Answer well known\n"
     ]
    }
   ],
   "source": [
    "# Write a Python program to get the third side of right-angled triangle from two given sides.\n",
    "\n",
    "def pythagoras(perpendicular_side,base_side,hypotenuse_side):\n",
    "    if perpendicular_side==str('x'):\n",
    "        return (\"perpendicular = \" + str(((hypotenuse_side**2) - (base_side**2))**0.5))\n",
    "    elif base_side==str('x'):\n",
    "        return (\"base = \" + str(((hypotenuse_side**2) - (perpendicular_side**2))**0.5))\n",
    "    elif hypotenuse_side==str('x'):\n",
    "        return (\"hypotenuse = \" + str(((base_side**2) + (perpendicular_side**2))**0.5))\n",
    "    else:\n",
    "        return \"Answer well known\"\n",
    "\n",
    "print(pythagoras(3,4,'x'))\n",
    "print(pythagoras(3,'x',5))\n",
    "print(pythagoras('x',4,5))\n",
    "print(pythagoras(3,4,5))"
   ]
  },
  {
   "cell_type": "markdown",
   "id": "f605eb47",
   "metadata": {},
   "source": [
    "# Answer-15"
   ]
  },
  {
   "cell_type": "code",
   "execution_count": 21,
   "id": "fc8fb3dd",
   "metadata": {},
   "outputs": [
    {
     "name": "stdout",
     "output_type": "stream",
     "text": [
      "Enter the string: google\n",
      "{'g': 2, 'o': 2, 'l': 1, 'e': 1}\n"
     ]
    }
   ],
   "source": [
    "#Write a python program to print the frequency of each of the characters present in a given string.\n",
    "\n",
    "str1 = input (\"Enter the string: \")\n",
    "d = dict()\n",
    "for i in str1:\n",
    "    if i in d:\n",
    "        d[i] = d[i] + 1\n",
    "    else:\n",
    "        d[i] = 1\n",
    "print(d)"
   ]
  },
  {
   "cell_type": "code",
   "execution_count": 22,
   "id": "e3b25a56",
   "metadata": {},
   "outputs": [
    {
     "name": "stdout",
     "output_type": "stream",
     "text": [
      "Enter the string: google.com\n",
      "{'g': 2, 'o': 3, 'l': 1, 'e': 1, '.': 1, 'c': 1, 'm': 1}\n"
     ]
    }
   ],
   "source": [
    "#using Get() method\n",
    "str1 = input (\"Enter the string: \")\n",
    "d = dict()\n",
    "for i in str1:\n",
    "    d[i] = d.get(i, 0) + 1\n",
    "print(d)"
   ]
  },
  {
   "cell_type": "code",
   "execution_count": null,
   "id": "bf47e4bd",
   "metadata": {},
   "outputs": [],
   "source": []
  }
 ],
 "metadata": {
  "kernelspec": {
   "display_name": "Python 3",
   "language": "python",
   "name": "python3"
  },
  "language_info": {
   "codemirror_mode": {
    "name": "ipython",
    "version": 3
   },
   "file_extension": ".py",
   "mimetype": "text/x-python",
   "name": "python",
   "nbconvert_exporter": "python",
   "pygments_lexer": "ipython3",
   "version": "3.8.8"
  }
 },
 "nbformat": 4,
 "nbformat_minor": 5
}
